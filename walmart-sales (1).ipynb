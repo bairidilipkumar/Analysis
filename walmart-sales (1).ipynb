{
 "cells": [
  {
   "cell_type": "code",
   "execution_count": 0,
   "metadata": {
    "application/vnd.databricks.v1+cell": {
     "cellMetadata": {
      "byteLimit": 2048000,
      "rowLimit": 10000
     },
     "inputWidgets": {},
     "nuid": "27adf431-3708-4833-8b58-1db4a20effd6",
     "showTitle": false,
     "tableResultSettingsMap": {},
     "title": ""
    }
   },
   "outputs": [
    {
     "output_type": "display_data",
     "data": {
      "text/html": [
       "\n",
       "            <div>\n",
       "                <p><b>SparkSession - hive</b></p>\n",
       "                \n",
       "        <div>\n",
       "            <p><b>SparkContext</b></p>\n",
       "\n",
       "            <p><a href=\"/?o=3219105181762441#setting/sparkui/0203-214324-9bbvfv0x/driver-8076160144239867907\">Spark UI</a></p>\n",
       "\n",
       "            <dl>\n",
       "              <dt>Version</dt>\n",
       "                <dd><code>v3.3.2</code></dd>\n",
       "              <dt>Master</dt>\n",
       "                <dd><code>local[8]</code></dd>\n",
       "              <dt>AppName</dt>\n",
       "                <dd><code>Databricks Shell</code></dd>\n",
       "            </dl>\n",
       "        </div>\n",
       "        \n",
       "            </div>\n",
       "        "
      ]
     },
     "metadata": {
      "application/vnd.databricks.v1+output": {
       "addedWidgets": {},
       "arguments": {},
       "data": "\n            <div>\n                <p><b>SparkSession - hive</b></p>\n                \n        <div>\n            <p><b>SparkContext</b></p>\n\n            <p><a href=\"/?o=3219105181762441#setting/sparkui/0203-214324-9bbvfv0x/driver-8076160144239867907\">Spark UI</a></p>\n\n            <dl>\n              <dt>Version</dt>\n                <dd><code>v3.3.2</code></dd>\n              <dt>Master</dt>\n                <dd><code>local[8]</code></dd>\n              <dt>AppName</dt>\n                <dd><code>Databricks Shell</code></dd>\n            </dl>\n        </div>\n        \n            </div>\n        ",
       "datasetInfos": [],
       "metadata": {},
       "removedWidgets": [],
       "textData": null,
       "type": "htmlSandbox"
      }
     },
     "output_type": "display_data"
    }
   ],
   "source": [
    "spark"
   ]
  },
  {
   "cell_type": "code",
   "execution_count": 0,
   "metadata": {
    "application/vnd.databricks.v1+cell": {
     "cellMetadata": {
      "byteLimit": 2048000,
      "rowLimit": 10000
     },
     "inputWidgets": {},
     "nuid": "c84a4ff6-c908-4089-b887-5c5bd188c2a3",
     "showTitle": false,
     "tableResultSettingsMap": {},
     "title": ""
    }
   },
   "outputs": [],
   "source": [
    "df=spark.read.format('csv').option('InferSchema',True).option('Header',True).load('/FileStore/tables/WalmartSalesData.csv')"
   ]
  },
  {
   "cell_type": "code",
   "execution_count": 0,
   "metadata": {
    "application/vnd.databricks.v1+cell": {
     "cellMetadata": {
      "byteLimit": 2048000,
      "rowLimit": 10000
     },
     "inputWidgets": {},
     "nuid": "24a059d2-729a-4022-aa7d-9338b7fb5083",
     "showTitle": false,
     "tableResultSettingsMap": {},
     "title": ""
    }
   },
   "outputs": [
    {
     "output_type": "display_data",
     "data": {
      "text/html": [
       "<style scoped>\n",
       "  .table-result-container {\n",
       "    max-height: 300px;\n",
       "    overflow: auto;\n",
       "  }\n",
       "  table, th, td {\n",
       "    border: 1px solid black;\n",
       "    border-collapse: collapse;\n",
       "  }\n",
       "  th, td {\n",
       "    padding: 5px;\n",
       "  }\n",
       "  th {\n",
       "    text-align: left;\n",
       "  }\n",
       "</style><div class='table-result-container'><table class='table-result'><thead style='background-color: white'><tr><th>Invoice ID</th><th>Branch</th><th>City</th><th>Customer type</th><th>Gender</th><th>Product line</th><th>Unit price</th><th>Quantity</th><th>Tax_by_5_cent</th><th>Total</th><th>Date</th><th>Time</th><th>Payment</th><th>cogs</th><th>gross margin percentage</th><th>gross income</th><th>Rating</th><th>time_of_day</th><th>Year</th><th>Month</th></tr></thead><tbody><tr><td>750-67-8428</td><td>A</td><td>Yangon</td><td>Member</td><td>Female</td><td>Health and beauty</td><td>74.69</td><td>7</td><td>26.1415</td><td>548.9715</td><td>2019-01-05</td><td>2025-02-04T13:08:00.000+0000</td><td>Ewallet</td><td>522.83</td><td>4.761904762</td><td>26.1415</td><td>9.1</td><td>Afternoon</td><td>2019</td><td>01</td></tr><tr><td>226-31-3081</td><td>C</td><td>Naypyitaw</td><td>Normal</td><td>Female</td><td>Electronic accessories</td><td>15.28</td><td>5</td><td>3.82</td><td>80.22</td><td>2019-03-08</td><td>2025-02-04T10:29:00.000+0000</td><td>Cash</td><td>76.4</td><td>4.761904762</td><td>3.82</td><td>9.6</td><td>Morning</td><td>2019</td><td>03</td></tr><tr><td>631-41-3108</td><td>A</td><td>Yangon</td><td>Normal</td><td>Male</td><td>Home and lifestyle</td><td>46.33</td><td>7</td><td>16.2155</td><td>340.5255</td><td>2019-03-03</td><td>2025-02-04T13:23:00.000+0000</td><td>Credit card</td><td>324.31</td><td>4.761904762</td><td>16.2155</td><td>7.4</td><td>Afternoon</td><td>2019</td><td>03</td></tr><tr><td>123-19-1176</td><td>A</td><td>Yangon</td><td>Member</td><td>Male</td><td>Health and beauty</td><td>58.22</td><td>8</td><td>23.288</td><td>489.048</td><td>2019-01-27</td><td>2025-02-04T20:33:00.000+0000</td><td>Ewallet</td><td>465.76</td><td>4.761904762</td><td>23.288</td><td>8.4</td><td>Evening</td><td>2019</td><td>01</td></tr><tr><td>373-73-7910</td><td>A</td><td>Yangon</td><td>Normal</td><td>Male</td><td>Sports and travel</td><td>86.31</td><td>7</td><td>30.2085</td><td>634.3785</td><td>2019-02-08</td><td>2025-02-04T10:37:00.000+0000</td><td>Ewallet</td><td>604.17</td><td>4.761904762</td><td>30.2085</td><td>5.3</td><td>Morning</td><td>2019</td><td>02</td></tr><tr><td>699-14-3026</td><td>C</td><td>Naypyitaw</td><td>Normal</td><td>Male</td><td>Electronic accessories</td><td>85.39</td><td>7</td><td>29.8865</td><td>627.6165</td><td>2019-03-25</td><td>2025-02-04T18:30:00.000+0000</td><td>Ewallet</td><td>597.73</td><td>4.761904762</td><td>29.8865</td><td>4.1</td><td>Evening</td><td>2019</td><td>03</td></tr><tr><td>355-53-5943</td><td>A</td><td>Yangon</td><td>Member</td><td>Female</td><td>Electronic accessories</td><td>68.84</td><td>6</td><td>20.652</td><td>433.692</td><td>2019-02-25</td><td>2025-02-04T14:36:00.000+0000</td><td>Ewallet</td><td>413.04</td><td>4.761904762</td><td>20.652</td><td>5.8</td><td>Afternoon</td><td>2019</td><td>02</td></tr><tr><td>315-22-5665</td><td>C</td><td>Naypyitaw</td><td>Normal</td><td>Female</td><td>Home and lifestyle</td><td>73.56</td><td>10</td><td>36.78</td><td>772.38</td><td>2019-02-24</td><td>2025-02-04T11:38:00.000+0000</td><td>Ewallet</td><td>735.6</td><td>4.761904762</td><td>36.78</td><td>8.0</td><td>Morning</td><td>2019</td><td>02</td></tr><tr><td>665-32-9167</td><td>A</td><td>Yangon</td><td>Member</td><td>Female</td><td>Health and beauty</td><td>36.26</td><td>2</td><td>3.626</td><td>76.146</td><td>2019-01-10</td><td>2025-02-04T17:15:00.000+0000</td><td>Credit card</td><td>72.52</td><td>4.761904762</td><td>3.626</td><td>7.2</td><td>Evening</td><td>2019</td><td>01</td></tr><tr><td>692-92-5582</td><td>B</td><td>Mandalay</td><td>Member</td><td>Female</td><td>Food and beverages</td><td>54.84</td><td>3</td><td>8.226</td><td>172.746</td><td>2019-02-20</td><td>2025-02-04T13:27:00.000+0000</td><td>Credit card</td><td>164.52</td><td>4.761904762</td><td>8.226</td><td>5.9</td><td>Afternoon</td><td>2019</td><td>02</td></tr></tbody></table></div>"
      ]
     },
     "metadata": {
      "application/vnd.databricks.v1+output": {
       "addedWidgets": {},
       "aggData": [],
       "aggError": "",
       "aggOverflow": false,
       "aggSchema": [],
       "aggSeriesLimitReached": false,
       "aggType": "",
       "arguments": {},
       "columnCustomDisplayInfos": {},
       "data": [
        [
         "750-67-8428",
         "A",
         "Yangon",
         "Member",
         "Female",
         "Health and beauty",
         74.69,
         7,
         26.1415,
         548.9715,
         "2019-01-05",
         "2025-02-04T13:08:00.000+0000",
         "Ewallet",
         522.83,
         4.761904762,
         26.1415,
         9.1,
         "Afternoon",
         "2019",
         "01"
        ],
        [
         "226-31-3081",
         "C",
         "Naypyitaw",
         "Normal",
         "Female",
         "Electronic accessories",
         15.28,
         5,
         3.82,
         80.22,
         "2019-03-08",
         "2025-02-04T10:29:00.000+0000",
         "Cash",
         76.4,
         4.761904762,
         3.82,
         9.6,
         "Morning",
         "2019",
         "03"
        ],
        [
         "631-41-3108",
         "A",
         "Yangon",
         "Normal",
         "Male",
         "Home and lifestyle",
         46.33,
         7,
         16.2155,
         340.5255,
         "2019-03-03",
         "2025-02-04T13:23:00.000+0000",
         "Credit card",
         324.31,
         4.761904762,
         16.2155,
         7.4,
         "Afternoon",
         "2019",
         "03"
        ],
        [
         "123-19-1176",
         "A",
         "Yangon",
         "Member",
         "Male",
         "Health and beauty",
         58.22,
         8,
         23.288,
         489.048,
         "2019-01-27",
         "2025-02-04T20:33:00.000+0000",
         "Ewallet",
         465.76,
         4.761904762,
         23.288,
         8.4,
         "Evening",
         "2019",
         "01"
        ],
        [
         "373-73-7910",
         "A",
         "Yangon",
         "Normal",
         "Male",
         "Sports and travel",
         86.31,
         7,
         30.2085,
         634.3785,
         "2019-02-08",
         "2025-02-04T10:37:00.000+0000",
         "Ewallet",
         604.17,
         4.761904762,
         30.2085,
         5.3,
         "Morning",
         "2019",
         "02"
        ],
        [
         "699-14-3026",
         "C",
         "Naypyitaw",
         "Normal",
         "Male",
         "Electronic accessories",
         85.39,
         7,
         29.8865,
         627.6165,
         "2019-03-25",
         "2025-02-04T18:30:00.000+0000",
         "Ewallet",
         597.73,
         4.761904762,
         29.8865,
         4.1,
         "Evening",
         "2019",
         "03"
        ],
        [
         "355-53-5943",
         "A",
         "Yangon",
         "Member",
         "Female",
         "Electronic accessories",
         68.84,
         6,
         20.652,
         433.692,
         "2019-02-25",
         "2025-02-04T14:36:00.000+0000",
         "Ewallet",
         413.04,
         4.761904762,
         20.652,
         5.8,
         "Afternoon",
         "2019",
         "02"
        ],
        [
         "315-22-5665",
         "C",
         "Naypyitaw",
         "Normal",
         "Female",
         "Home and lifestyle",
         73.56,
         10,
         36.78,
         772.38,
         "2019-02-24",
         "2025-02-04T11:38:00.000+0000",
         "Ewallet",
         735.6,
         4.761904762,
         36.78,
         8.0,
         "Morning",
         "2019",
         "02"
        ],
        [
         "665-32-9167",
         "A",
         "Yangon",
         "Member",
         "Female",
         "Health and beauty",
         36.26,
         2,
         3.626,
         76.146,
         "2019-01-10",
         "2025-02-04T17:15:00.000+0000",
         "Credit card",
         72.52,
         4.761904762,
         3.626,
         7.2,
         "Evening",
         "2019",
         "01"
        ],
        [
         "692-92-5582",
         "B",
         "Mandalay",
         "Member",
         "Female",
         "Food and beverages",
         54.84,
         3,
         8.226,
         172.746,
         "2019-02-20",
         "2025-02-04T13:27:00.000+0000",
         "Credit card",
         164.52,
         4.761904762,
         8.226,
         5.9,
         "Afternoon",
         "2019",
         "02"
        ]
       ],
       "datasetInfos": [],
       "dbfsResultPath": null,
       "isJsonSchema": true,
       "metadata": {},
       "overflow": false,
       "plotOptions": {
        "customPlotOptions": {},
        "displayType": "table",
        "pivotAggregation": null,
        "pivotColumns": null,
        "xColumns": null,
        "yColumns": null
       },
       "removedWidgets": [],
       "schema": [
        {
         "metadata": "{}",
         "name": "Invoice ID",
         "type": "\"string\""
        },
        {
         "metadata": "{}",
         "name": "Branch",
         "type": "\"string\""
        },
        {
         "metadata": "{}",
         "name": "City",
         "type": "\"string\""
        },
        {
         "metadata": "{}",
         "name": "Customer type",
         "type": "\"string\""
        },
        {
         "metadata": "{}",
         "name": "Gender",
         "type": "\"string\""
        },
        {
         "metadata": "{}",
         "name": "Product line",
         "type": "\"string\""
        },
        {
         "metadata": "{}",
         "name": "Unit price",
         "type": "\"double\""
        },
        {
         "metadata": "{}",
         "name": "Quantity",
         "type": "\"integer\""
        },
        {
         "metadata": "{}",
         "name": "Tax_by_5_cent",
         "type": "\"double\""
        },
        {
         "metadata": "{}",
         "name": "Total",
         "type": "\"double\""
        },
        {
         "metadata": "{\"__detected_date_formats\":\"d-M-yyyy\"}",
         "name": "Date",
         "type": "\"date\""
        },
        {
         "metadata": "{}",
         "name": "Time",
         "type": "\"timestamp\""
        },
        {
         "metadata": "{}",
         "name": "Payment",
         "type": "\"string\""
        },
        {
         "metadata": "{}",
         "name": "cogs",
         "type": "\"double\""
        },
        {
         "metadata": "{}",
         "name": "gross margin percentage",
         "type": "\"double\""
        },
        {
         "metadata": "{}",
         "name": "gross income",
         "type": "\"double\""
        },
        {
         "metadata": "{}",
         "name": "Rating",
         "type": "\"double\""
        },
        {
         "metadata": "{}",
         "name": "time_of_day",
         "type": "\"string\""
        },
        {
         "metadata": "{}",
         "name": "Year",
         "type": "\"string\""
        },
        {
         "metadata": "{}",
         "name": "Month",
         "type": "\"string\""
        }
       ],
       "type": "table"
      }
     },
     "output_type": "display_data"
    }
   ],
   "source": [
    "display(df.limit(10))"
   ]
  },
  {
   "cell_type": "code",
   "execution_count": 0,
   "metadata": {
    "application/vnd.databricks.v1+cell": {
     "cellMetadata": {
      "byteLimit": 2048000,
      "rowLimit": 10000
     },
     "inputWidgets": {},
     "nuid": "2e75bba4-6479-4f4b-8d5e-8e587feccd43",
     "showTitle": false,
     "tableResultSettingsMap": {},
     "title": ""
    }
   },
   "outputs": [],
   "source": [
    "from pyspark.sql.functions import *\n",
    "from pyspark.sql import types"
   ]
  },
  {
   "cell_type": "code",
   "execution_count": 0,
   "metadata": {
    "application/vnd.databricks.v1+cell": {
     "cellMetadata": {
      "byteLimit": 2048000,
      "rowLimit": 10000
     },
     "inputWidgets": {},
     "nuid": "2b9a5b94-6118-47ee-a6d0-0e36f0ca62c6",
     "showTitle": false,
     "tableResultSettingsMap": {},
     "title": ""
    }
   },
   "outputs": [
    {
     "output_type": "stream",
     "name": "stdout",
     "output_type": "stream",
     "text": [
      "root\n |-- Invoice ID: string (nullable = true)\n |-- Branch: string (nullable = true)\n |-- City: string (nullable = true)\n |-- Customer type: string (nullable = true)\n |-- Gender: string (nullable = true)\n |-- Product line: string (nullable = true)\n |-- Unit price: double (nullable = true)\n |-- Quantity: integer (nullable = true)\n |-- Tax 5%: double (nullable = true)\n |-- Total: double (nullable = true)\n |-- Date: date (nullable = true)\n |-- Time: timestamp (nullable = true)\n |-- Payment: string (nullable = true)\n |-- cogs: double (nullable = true)\n |-- gross margin percentage: double (nullable = true)\n |-- gross income: double (nullable = true)\n |-- Rating: double (nullable = true)\n\n"
     ]
    }
   ],
   "source": [
    "df.printSchema()"
   ]
  },
  {
   "cell_type": "code",
   "execution_count": 0,
   "metadata": {
    "application/vnd.databricks.v1+cell": {
     "cellMetadata": {
      "byteLimit": 2048000,
      "rowLimit": 10000
     },
     "inputWidgets": {},
     "nuid": "7d1920cf-9222-4801-aa98-d6466a16ac8b",
     "showTitle": false,
     "tableResultSettingsMap": {},
     "title": ""
    }
   },
   "outputs": [],
   "source": [
    "df.createOrReplaceTempView('Walmart')"
   ]
  },
  {
   "cell_type": "code",
   "execution_count": 0,
   "metadata": {
    "application/vnd.databricks.v1+cell": {
     "cellMetadata": {
      "byteLimit": 2048000,
      "rowLimit": 10000
     },
     "inputWidgets": {},
     "nuid": "6e25ecaf-95d2-4d35-9ce6-3f83f50e9507",
     "showTitle": false,
     "tableResultSettingsMap": {},
     "title": ""
    }
   },
   "outputs": [
    {
     "output_type": "display_data",
     "data": {
      "text/html": [
       "<style scoped>\n",
       "  .table-result-container {\n",
       "    max-height: 300px;\n",
       "    overflow: auto;\n",
       "  }\n",
       "  table, th, td {\n",
       "    border: 1px solid black;\n",
       "    border-collapse: collapse;\n",
       "  }\n",
       "  th, td {\n",
       "    padding: 5px;\n",
       "  }\n",
       "  th {\n",
       "    text-align: left;\n",
       "  }\n",
       "</style><div class='table-result-container'><table class='table-result'><thead style='background-color: white'><tr><th>Invoice ID</th><th>Branch</th><th>City</th><th>Customer type</th><th>Gender</th><th>Product line</th><th>Unit price</th><th>Quantity</th><th>Tax_by_5_cent</th><th>Total</th><th>Date</th><th>Time</th><th>Payment</th><th>cogs</th><th>gross margin percentage</th><th>gross income</th><th>Rating</th><th>time_of_day</th><th>Year</th><th>Month</th><th>time_of_day</th></tr></thead><tbody><tr><td>750-67-8428</td><td>A</td><td>Yangon</td><td>Member</td><td>Female</td><td>Health and beauty</td><td>74.69</td><td>7</td><td>26.1415</td><td>548.9715</td><td>2019-01-05</td><td>2025-02-04T13:08:00.000+0000</td><td>Ewallet</td><td>522.83</td><td>4.761904762</td><td>26.1415</td><td>9.1</td><td>Afternoon</td><td>2019</td><td>01</td><td>Afternoon</td></tr><tr><td>226-31-3081</td><td>C</td><td>Naypyitaw</td><td>Normal</td><td>Female</td><td>Electronic accessories</td><td>15.28</td><td>5</td><td>3.82</td><td>80.22</td><td>2019-03-08</td><td>2025-02-04T10:29:00.000+0000</td><td>Cash</td><td>76.4</td><td>4.761904762</td><td>3.82</td><td>9.6</td><td>Morning</td><td>2019</td><td>03</td><td>Morning</td></tr><tr><td>631-41-3108</td><td>A</td><td>Yangon</td><td>Normal</td><td>Male</td><td>Home and lifestyle</td><td>46.33</td><td>7</td><td>16.2155</td><td>340.5255</td><td>2019-03-03</td><td>2025-02-04T13:23:00.000+0000</td><td>Credit card</td><td>324.31</td><td>4.761904762</td><td>16.2155</td><td>7.4</td><td>Afternoon</td><td>2019</td><td>03</td><td>Afternoon</td></tr><tr><td>123-19-1176</td><td>A</td><td>Yangon</td><td>Member</td><td>Male</td><td>Health and beauty</td><td>58.22</td><td>8</td><td>23.288</td><td>489.048</td><td>2019-01-27</td><td>2025-02-04T20:33:00.000+0000</td><td>Ewallet</td><td>465.76</td><td>4.761904762</td><td>23.288</td><td>8.4</td><td>Evening</td><td>2019</td><td>01</td><td>Evening</td></tr><tr><td>373-73-7910</td><td>A</td><td>Yangon</td><td>Normal</td><td>Male</td><td>Sports and travel</td><td>86.31</td><td>7</td><td>30.2085</td><td>634.3785</td><td>2019-02-08</td><td>2025-02-04T10:37:00.000+0000</td><td>Ewallet</td><td>604.17</td><td>4.761904762</td><td>30.2085</td><td>5.3</td><td>Morning</td><td>2019</td><td>02</td><td>Morning</td></tr><tr><td>699-14-3026</td><td>C</td><td>Naypyitaw</td><td>Normal</td><td>Male</td><td>Electronic accessories</td><td>85.39</td><td>7</td><td>29.8865</td><td>627.6165</td><td>2019-03-25</td><td>2025-02-04T18:30:00.000+0000</td><td>Ewallet</td><td>597.73</td><td>4.761904762</td><td>29.8865</td><td>4.1</td><td>Evening</td><td>2019</td><td>03</td><td>Evening</td></tr><tr><td>355-53-5943</td><td>A</td><td>Yangon</td><td>Member</td><td>Female</td><td>Electronic accessories</td><td>68.84</td><td>6</td><td>20.652</td><td>433.692</td><td>2019-02-25</td><td>2025-02-04T14:36:00.000+0000</td><td>Ewallet</td><td>413.04</td><td>4.761904762</td><td>20.652</td><td>5.8</td><td>Afternoon</td><td>2019</td><td>02</td><td>Afternoon</td></tr><tr><td>315-22-5665</td><td>C</td><td>Naypyitaw</td><td>Normal</td><td>Female</td><td>Home and lifestyle</td><td>73.56</td><td>10</td><td>36.78</td><td>772.38</td><td>2019-02-24</td><td>2025-02-04T11:38:00.000+0000</td><td>Ewallet</td><td>735.6</td><td>4.761904762</td><td>36.78</td><td>8.0</td><td>Morning</td><td>2019</td><td>02</td><td>Morning</td></tr><tr><td>665-32-9167</td><td>A</td><td>Yangon</td><td>Member</td><td>Female</td><td>Health and beauty</td><td>36.26</td><td>2</td><td>3.626</td><td>76.146</td><td>2019-01-10</td><td>2025-02-04T17:15:00.000+0000</td><td>Credit card</td><td>72.52</td><td>4.761904762</td><td>3.626</td><td>7.2</td><td>Evening</td><td>2019</td><td>01</td><td>Evening</td></tr><tr><td>692-92-5582</td><td>B</td><td>Mandalay</td><td>Member</td><td>Female</td><td>Food and beverages</td><td>54.84</td><td>3</td><td>8.226</td><td>172.746</td><td>2019-02-20</td><td>2025-02-04T13:27:00.000+0000</td><td>Credit card</td><td>164.52</td><td>4.761904762</td><td>8.226</td><td>5.9</td><td>Afternoon</td><td>2019</td><td>02</td><td>Afternoon</td></tr></tbody></table></div>"
      ]
     },
     "metadata": {
      "application/vnd.databricks.v1+output": {
       "addedWidgets": {},
       "aggData": [],
       "aggError": "",
       "aggOverflow": false,
       "aggSchema": [],
       "aggSeriesLimitReached": false,
       "aggType": "",
       "arguments": {},
       "columnCustomDisplayInfos": {},
       "data": [
        [
         "750-67-8428",
         "A",
         "Yangon",
         "Member",
         "Female",
         "Health and beauty",
         74.69,
         7,
         26.1415,
         548.9715,
         "2019-01-05",
         "2025-02-04T13:08:00.000+0000",
         "Ewallet",
         522.83,
         4.761904762,
         26.1415,
         9.1,
         "Afternoon",
         "2019",
         "01",
         "Afternoon"
        ],
        [
         "226-31-3081",
         "C",
         "Naypyitaw",
         "Normal",
         "Female",
         "Electronic accessories",
         15.28,
         5,
         3.82,
         80.22,
         "2019-03-08",
         "2025-02-04T10:29:00.000+0000",
         "Cash",
         76.4,
         4.761904762,
         3.82,
         9.6,
         "Morning",
         "2019",
         "03",
         "Morning"
        ],
        [
         "631-41-3108",
         "A",
         "Yangon",
         "Normal",
         "Male",
         "Home and lifestyle",
         46.33,
         7,
         16.2155,
         340.5255,
         "2019-03-03",
         "2025-02-04T13:23:00.000+0000",
         "Credit card",
         324.31,
         4.761904762,
         16.2155,
         7.4,
         "Afternoon",
         "2019",
         "03",
         "Afternoon"
        ],
        [
         "123-19-1176",
         "A",
         "Yangon",
         "Member",
         "Male",
         "Health and beauty",
         58.22,
         8,
         23.288,
         489.048,
         "2019-01-27",
         "2025-02-04T20:33:00.000+0000",
         "Ewallet",
         465.76,
         4.761904762,
         23.288,
         8.4,
         "Evening",
         "2019",
         "01",
         "Evening"
        ],
        [
         "373-73-7910",
         "A",
         "Yangon",
         "Normal",
         "Male",
         "Sports and travel",
         86.31,
         7,
         30.2085,
         634.3785,
         "2019-02-08",
         "2025-02-04T10:37:00.000+0000",
         "Ewallet",
         604.17,
         4.761904762,
         30.2085,
         5.3,
         "Morning",
         "2019",
         "02",
         "Morning"
        ],
        [
         "699-14-3026",
         "C",
         "Naypyitaw",
         "Normal",
         "Male",
         "Electronic accessories",
         85.39,
         7,
         29.8865,
         627.6165,
         "2019-03-25",
         "2025-02-04T18:30:00.000+0000",
         "Ewallet",
         597.73,
         4.761904762,
         29.8865,
         4.1,
         "Evening",
         "2019",
         "03",
         "Evening"
        ],
        [
         "355-53-5943",
         "A",
         "Yangon",
         "Member",
         "Female",
         "Electronic accessories",
         68.84,
         6,
         20.652,
         433.692,
         "2019-02-25",
         "2025-02-04T14:36:00.000+0000",
         "Ewallet",
         413.04,
         4.761904762,
         20.652,
         5.8,
         "Afternoon",
         "2019",
         "02",
         "Afternoon"
        ],
        [
         "315-22-5665",
         "C",
         "Naypyitaw",
         "Normal",
         "Female",
         "Home and lifestyle",
         73.56,
         10,
         36.78,
         772.38,
         "2019-02-24",
         "2025-02-04T11:38:00.000+0000",
         "Ewallet",
         735.6,
         4.761904762,
         36.78,
         8.0,
         "Morning",
         "2019",
         "02",
         "Morning"
        ],
        [
         "665-32-9167",
         "A",
         "Yangon",
         "Member",
         "Female",
         "Health and beauty",
         36.26,
         2,
         3.626,
         76.146,
         "2019-01-10",
         "2025-02-04T17:15:00.000+0000",
         "Credit card",
         72.52,
         4.761904762,
         3.626,
         7.2,
         "Evening",
         "2019",
         "01",
         "Evening"
        ],
        [
         "692-92-5582",
         "B",
         "Mandalay",
         "Member",
         "Female",
         "Food and beverages",
         54.84,
         3,
         8.226,
         172.746,
         "2019-02-20",
         "2025-02-04T13:27:00.000+0000",
         "Credit card",
         164.52,
         4.761904762,
         8.226,
         5.9,
         "Afternoon",
         "2019",
         "02",
         "Afternoon"
        ]
       ],
       "datasetInfos": [],
       "dbfsResultPath": null,
       "isJsonSchema": true,
       "metadata": {},
       "overflow": false,
       "plotOptions": {
        "customPlotOptions": {},
        "displayType": "table",
        "pivotAggregation": null,
        "pivotColumns": null,
        "xColumns": null,
        "yColumns": null
       },
       "removedWidgets": [],
       "schema": [
        {
         "metadata": "{}",
         "name": "Invoice ID",
         "type": "\"string\""
        },
        {
         "metadata": "{}",
         "name": "Branch",
         "type": "\"string\""
        },
        {
         "metadata": "{}",
         "name": "City",
         "type": "\"string\""
        },
        {
         "metadata": "{}",
         "name": "Customer type",
         "type": "\"string\""
        },
        {
         "metadata": "{}",
         "name": "Gender",
         "type": "\"string\""
        },
        {
         "metadata": "{}",
         "name": "Product line",
         "type": "\"string\""
        },
        {
         "metadata": "{}",
         "name": "Unit price",
         "type": "\"double\""
        },
        {
         "metadata": "{}",
         "name": "Quantity",
         "type": "\"integer\""
        },
        {
         "metadata": "{}",
         "name": "Tax_by_5_cent",
         "type": "\"double\""
        },
        {
         "metadata": "{}",
         "name": "Total",
         "type": "\"double\""
        },
        {
         "metadata": "{\"__detected_date_formats\":\"d-M-yyyy\"}",
         "name": "Date",
         "type": "\"date\""
        },
        {
         "metadata": "{}",
         "name": "Time",
         "type": "\"timestamp\""
        },
        {
         "metadata": "{}",
         "name": "Payment",
         "type": "\"string\""
        },
        {
         "metadata": "{}",
         "name": "cogs",
         "type": "\"double\""
        },
        {
         "metadata": "{}",
         "name": "gross margin percentage",
         "type": "\"double\""
        },
        {
         "metadata": "{}",
         "name": "gross income",
         "type": "\"double\""
        },
        {
         "metadata": "{}",
         "name": "Rating",
         "type": "\"double\""
        },
        {
         "metadata": "{}",
         "name": "time_of_day",
         "type": "\"string\""
        },
        {
         "metadata": "{}",
         "name": "Year",
         "type": "\"string\""
        },
        {
         "metadata": "{}",
         "name": "Month",
         "type": "\"string\""
        },
        {
         "metadata": "{}",
         "name": "time_of_day",
         "type": "\"string\""
        }
       ],
       "type": "table"
      }
     },
     "output_type": "display_data"
    }
   ],
   "source": [
    "updated_sales = spark.sql(\"\"\"\n",
    "    SELECT *,\n",
    "        CASE \n",
    "            WHEN time BETWEEN '00:00:00' AND '12:00:00' THEN 'Morning'\n",
    "            WHEN time BETWEEN '12:00:01' AND '16:00:00' THEN 'Afternoon'\n",
    "            ELSE 'Evening'\n",
    "        END AS time_of_day\n",
    "    FROM walmart\n",
    "\"\"\")\n",
    "\n",
    "\n",
    "display(updated_sales.limit(10))"
   ]
  },
  {
   "cell_type": "code",
   "execution_count": 0,
   "metadata": {
    "application/vnd.databricks.v1+cell": {
     "cellMetadata": {
      "byteLimit": 2048000,
      "implicitDf": true,
      "rowLimit": 10000
     },
     "inputWidgets": {},
     "nuid": "e6b6c691-c981-481a-8542-9cedec44dcff",
     "showTitle": false,
     "tableResultSettingsMap": {},
     "title": ""
    }
   },
   "outputs": [
    {
     "output_type": "display_data",
     "data": {
      "text/html": [
       "<style scoped>\n",
       "  .table-result-container {\n",
       "    max-height: 300px;\n",
       "    overflow: auto;\n",
       "  }\n",
       "  table, th, td {\n",
       "    border: 1px solid black;\n",
       "    border-collapse: collapse;\n",
       "  }\n",
       "  th, td {\n",
       "    padding: 5px;\n",
       "  }\n",
       "  th {\n",
       "    text-align: left;\n",
       "  }\n",
       "</style><div class='table-result-container'><table class='table-result'><thead style='background-color: white'><tr><th>City</th></tr></thead><tbody><tr><td>Naypyitaw</td></tr><tr><td>Mandalay</td></tr><tr><td>Yangon</td></tr></tbody></table></div>"
      ]
     },
     "metadata": {
      "application/vnd.databricks.v1+output": {
       "addedWidgets": {},
       "aggData": [],
       "aggError": "",
       "aggOverflow": false,
       "aggSchema": [],
       "aggSeriesLimitReached": false,
       "aggType": "",
       "arguments": {},
       "columnCustomDisplayInfos": {},
       "data": [
        [
         "Naypyitaw"
        ],
        [
         "Mandalay"
        ],
        [
         "Yangon"
        ]
       ],
       "datasetInfos": [],
       "dbfsResultPath": null,
       "isJsonSchema": true,
       "metadata": {},
       "overflow": false,
       "plotOptions": {
        "customPlotOptions": {},
        "displayType": "table",
        "pivotAggregation": null,
        "pivotColumns": null,
        "xColumns": null,
        "yColumns": null
       },
       "removedWidgets": [],
       "schema": [
        {
         "metadata": "{}",
         "name": "City",
         "type": "\"string\""
        }
       ],
       "type": "table"
      }
     },
     "output_type": "display_data"
    }
   ],
   "source": [
    "\n",
    "# -- How many unique cities does the data have?\n",
    "unique_cities = spark.sql(\"\"\"\n",
    "    SELECT DISTINCT City FROM walmart\n",
    "\"\"\")\n",
    "unique_cities.display()\n",
    "\n"
   ]
  },
  {
   "cell_type": "code",
   "execution_count": 0,
   "metadata": {
    "application/vnd.databricks.v1+cell": {
     "cellMetadata": {
      "byteLimit": 2048000,
      "rowLimit": 10000
     },
     "inputWidgets": {},
     "nuid": "a77e2562-5bdd-4d60-ba61-747295f13d8f",
     "showTitle": false,
     "tableResultSettingsMap": {},
     "title": ""
    }
   },
   "outputs": [
    {
     "output_type": "display_data",
     "data": {
      "text/html": [
       "<style scoped>\n",
       "  .table-result-container {\n",
       "    max-height: 300px;\n",
       "    overflow: auto;\n",
       "  }\n",
       "  table, th, td {\n",
       "    border: 1px solid black;\n",
       "    border-collapse: collapse;\n",
       "  }\n",
       "  th, td {\n",
       "    padding: 5px;\n",
       "  }\n",
       "  th {\n",
       "    text-align: left;\n",
       "  }\n",
       "</style><div class='table-result-container'><table class='table-result'><thead style='background-color: white'><tr><th>Invoice ID</th><th>Branch</th><th>City</th><th>Customer type</th><th>Gender</th><th>Product line</th><th>Unit price</th><th>Quantity</th><th>Tax_by_5_cent</th><th>Total</th><th>Date</th><th>Time</th><th>Payment</th><th>cogs</th><th>gross margin percentage</th><th>gross income</th><th>Rating</th><th>time_of_day</th><th>Year</th><th>Month</th></tr></thead><tbody><tr><td>750-67-8428</td><td>A</td><td>Yangon</td><td>Member</td><td>Female</td><td>Health and beauty</td><td>74.69</td><td>7</td><td>26.1415</td><td>548.9715</td><td>2019-01-05</td><td>2025-02-04T13:08:00.000+0000</td><td>Ewallet</td><td>522.83</td><td>4.761904762</td><td>26.1415</td><td>9.1</td><td>Afternoon</td><td>2019</td><td>01</td></tr><tr><td>226-31-3081</td><td>C</td><td>Naypyitaw</td><td>Normal</td><td>Female</td><td>Electronic accessories</td><td>15.28</td><td>5</td><td>3.82</td><td>80.22</td><td>2019-03-08</td><td>2025-02-04T10:29:00.000+0000</td><td>Cash</td><td>76.4</td><td>4.761904762</td><td>3.82</td><td>9.6</td><td>Morning</td><td>2019</td><td>03</td></tr><tr><td>631-41-3108</td><td>A</td><td>Yangon</td><td>Normal</td><td>Male</td><td>Home and lifestyle</td><td>46.33</td><td>7</td><td>16.2155</td><td>340.5255</td><td>2019-03-03</td><td>2025-02-04T13:23:00.000+0000</td><td>Credit card</td><td>324.31</td><td>4.761904762</td><td>16.2155</td><td>7.4</td><td>Afternoon</td><td>2019</td><td>03</td></tr><tr><td>123-19-1176</td><td>A</td><td>Yangon</td><td>Member</td><td>Male</td><td>Health and beauty</td><td>58.22</td><td>8</td><td>23.288</td><td>489.048</td><td>2019-01-27</td><td>2025-02-04T20:33:00.000+0000</td><td>Ewallet</td><td>465.76</td><td>4.761904762</td><td>23.288</td><td>8.4</td><td>Evening</td><td>2019</td><td>01</td></tr><tr><td>373-73-7910</td><td>A</td><td>Yangon</td><td>Normal</td><td>Male</td><td>Sports and travel</td><td>86.31</td><td>7</td><td>30.2085</td><td>634.3785</td><td>2019-02-08</td><td>2025-02-04T10:37:00.000+0000</td><td>Ewallet</td><td>604.17</td><td>4.761904762</td><td>30.2085</td><td>5.3</td><td>Morning</td><td>2019</td><td>02</td></tr><tr><td>699-14-3026</td><td>C</td><td>Naypyitaw</td><td>Normal</td><td>Male</td><td>Electronic accessories</td><td>85.39</td><td>7</td><td>29.8865</td><td>627.6165</td><td>2019-03-25</td><td>2025-02-04T18:30:00.000+0000</td><td>Ewallet</td><td>597.73</td><td>4.761904762</td><td>29.8865</td><td>4.1</td><td>Evening</td><td>2019</td><td>03</td></tr><tr><td>355-53-5943</td><td>A</td><td>Yangon</td><td>Member</td><td>Female</td><td>Electronic accessories</td><td>68.84</td><td>6</td><td>20.652</td><td>433.692</td><td>2019-02-25</td><td>2025-02-04T14:36:00.000+0000</td><td>Ewallet</td><td>413.04</td><td>4.761904762</td><td>20.652</td><td>5.8</td><td>Afternoon</td><td>2019</td><td>02</td></tr><tr><td>315-22-5665</td><td>C</td><td>Naypyitaw</td><td>Normal</td><td>Female</td><td>Home and lifestyle</td><td>73.56</td><td>10</td><td>36.78</td><td>772.38</td><td>2019-02-24</td><td>2025-02-04T11:38:00.000+0000</td><td>Ewallet</td><td>735.6</td><td>4.761904762</td><td>36.78</td><td>8.0</td><td>Morning</td><td>2019</td><td>02</td></tr><tr><td>665-32-9167</td><td>A</td><td>Yangon</td><td>Member</td><td>Female</td><td>Health and beauty</td><td>36.26</td><td>2</td><td>3.626</td><td>76.146</td><td>2019-01-10</td><td>2025-02-04T17:15:00.000+0000</td><td>Credit card</td><td>72.52</td><td>4.761904762</td><td>3.626</td><td>7.2</td><td>Evening</td><td>2019</td><td>01</td></tr><tr><td>692-92-5582</td><td>B</td><td>Mandalay</td><td>Member</td><td>Female</td><td>Food and beverages</td><td>54.84</td><td>3</td><td>8.226</td><td>172.746</td><td>2019-02-20</td><td>2025-02-04T13:27:00.000+0000</td><td>Credit card</td><td>164.52</td><td>4.761904762</td><td>8.226</td><td>5.9</td><td>Afternoon</td><td>2019</td><td>02</td></tr></tbody></table></div>"
      ]
     },
     "metadata": {
      "application/vnd.databricks.v1+output": {
       "addedWidgets": {},
       "aggData": [],
       "aggError": "",
       "aggOverflow": false,
       "aggSchema": [],
       "aggSeriesLimitReached": false,
       "aggType": "",
       "arguments": {},
       "columnCustomDisplayInfos": {},
       "data": [
        [
         "750-67-8428",
         "A",
         "Yangon",
         "Member",
         "Female",
         "Health and beauty",
         74.69,
         7,
         26.1415,
         548.9715,
         "2019-01-05",
         "2025-02-04T13:08:00.000+0000",
         "Ewallet",
         522.83,
         4.761904762,
         26.1415,
         9.1,
         "Afternoon",
         "2019",
         "01"
        ],
        [
         "226-31-3081",
         "C",
         "Naypyitaw",
         "Normal",
         "Female",
         "Electronic accessories",
         15.28,
         5,
         3.82,
         80.22,
         "2019-03-08",
         "2025-02-04T10:29:00.000+0000",
         "Cash",
         76.4,
         4.761904762,
         3.82,
         9.6,
         "Morning",
         "2019",
         "03"
        ],
        [
         "631-41-3108",
         "A",
         "Yangon",
         "Normal",
         "Male",
         "Home and lifestyle",
         46.33,
         7,
         16.2155,
         340.5255,
         "2019-03-03",
         "2025-02-04T13:23:00.000+0000",
         "Credit card",
         324.31,
         4.761904762,
         16.2155,
         7.4,
         "Afternoon",
         "2019",
         "03"
        ],
        [
         "123-19-1176",
         "A",
         "Yangon",
         "Member",
         "Male",
         "Health and beauty",
         58.22,
         8,
         23.288,
         489.048,
         "2019-01-27",
         "2025-02-04T20:33:00.000+0000",
         "Ewallet",
         465.76,
         4.761904762,
         23.288,
         8.4,
         "Evening",
         "2019",
         "01"
        ],
        [
         "373-73-7910",
         "A",
         "Yangon",
         "Normal",
         "Male",
         "Sports and travel",
         86.31,
         7,
         30.2085,
         634.3785,
         "2019-02-08",
         "2025-02-04T10:37:00.000+0000",
         "Ewallet",
         604.17,
         4.761904762,
         30.2085,
         5.3,
         "Morning",
         "2019",
         "02"
        ],
        [
         "699-14-3026",
         "C",
         "Naypyitaw",
         "Normal",
         "Male",
         "Electronic accessories",
         85.39,
         7,
         29.8865,
         627.6165,
         "2019-03-25",
         "2025-02-04T18:30:00.000+0000",
         "Ewallet",
         597.73,
         4.761904762,
         29.8865,
         4.1,
         "Evening",
         "2019",
         "03"
        ],
        [
         "355-53-5943",
         "A",
         "Yangon",
         "Member",
         "Female",
         "Electronic accessories",
         68.84,
         6,
         20.652,
         433.692,
         "2019-02-25",
         "2025-02-04T14:36:00.000+0000",
         "Ewallet",
         413.04,
         4.761904762,
         20.652,
         5.8,
         "Afternoon",
         "2019",
         "02"
        ],
        [
         "315-22-5665",
         "C",
         "Naypyitaw",
         "Normal",
         "Female",
         "Home and lifestyle",
         73.56,
         10,
         36.78,
         772.38,
         "2019-02-24",
         "2025-02-04T11:38:00.000+0000",
         "Ewallet",
         735.6,
         4.761904762,
         36.78,
         8.0,
         "Morning",
         "2019",
         "02"
        ],
        [
         "665-32-9167",
         "A",
         "Yangon",
         "Member",
         "Female",
         "Health and beauty",
         36.26,
         2,
         3.626,
         76.146,
         "2019-01-10",
         "2025-02-04T17:15:00.000+0000",
         "Credit card",
         72.52,
         4.761904762,
         3.626,
         7.2,
         "Evening",
         "2019",
         "01"
        ],
        [
         "692-92-5582",
         "B",
         "Mandalay",
         "Member",
         "Female",
         "Food and beverages",
         54.84,
         3,
         8.226,
         172.746,
         "2019-02-20",
         "2025-02-04T13:27:00.000+0000",
         "Credit card",
         164.52,
         4.761904762,
         8.226,
         5.9,
         "Afternoon",
         "2019",
         "02"
        ]
       ],
       "datasetInfos": [],
       "dbfsResultPath": null,
       "isJsonSchema": true,
       "metadata": {},
       "overflow": false,
       "plotOptions": {
        "customPlotOptions": {},
        "displayType": "table",
        "pivotAggregation": null,
        "pivotColumns": null,
        "xColumns": null,
        "yColumns": null
       },
       "removedWidgets": [],
       "schema": [
        {
         "metadata": "{}",
         "name": "Invoice ID",
         "type": "\"string\""
        },
        {
         "metadata": "{}",
         "name": "Branch",
         "type": "\"string\""
        },
        {
         "metadata": "{}",
         "name": "City",
         "type": "\"string\""
        },
        {
         "metadata": "{}",
         "name": "Customer type",
         "type": "\"string\""
        },
        {
         "metadata": "{}",
         "name": "Gender",
         "type": "\"string\""
        },
        {
         "metadata": "{}",
         "name": "Product line",
         "type": "\"string\""
        },
        {
         "metadata": "{}",
         "name": "Unit price",
         "type": "\"double\""
        },
        {
         "metadata": "{}",
         "name": "Quantity",
         "type": "\"integer\""
        },
        {
         "metadata": "{}",
         "name": "Tax_by_5_cent",
         "type": "\"double\""
        },
        {
         "metadata": "{}",
         "name": "Total",
         "type": "\"double\""
        },
        {
         "metadata": "{\"__detected_date_formats\":\"d-M-yyyy\"}",
         "name": "Date",
         "type": "\"date\""
        },
        {
         "metadata": "{}",
         "name": "Time",
         "type": "\"timestamp\""
        },
        {
         "metadata": "{}",
         "name": "Payment",
         "type": "\"string\""
        },
        {
         "metadata": "{}",
         "name": "cogs",
         "type": "\"double\""
        },
        {
         "metadata": "{}",
         "name": "gross margin percentage",
         "type": "\"double\""
        },
        {
         "metadata": "{}",
         "name": "gross income",
         "type": "\"double\""
        },
        {
         "metadata": "{}",
         "name": "Rating",
         "type": "\"double\""
        },
        {
         "metadata": "{}",
         "name": "time_of_day",
         "type": "\"string\""
        },
        {
         "metadata": "{}",
         "name": "Year",
         "type": "\"string\""
        },
        {
         "metadata": "{}",
         "name": "Month",
         "type": "\"string\""
        }
       ],
       "type": "table"
      }
     },
     "output_type": "display_data"
    }
   ],
   "source": [
    "from pyspark.sql.functions import when, col\n",
    "\n",
    "df = df.withColumn('time_of_day',\n",
    "                   when(col('time').between('00:00:00', '12:00:00'), 'Morning')\n",
    "                   .when(col('time').between('12:00:01', '16:00:00'), 'Afternoon')\n",
    "                   .otherwise('Evening'))\n",
    "\n",
    "display(df.limit(10))\n",
    "\n"
   ]
  },
  {
   "cell_type": "code",
   "execution_count": 0,
   "metadata": {
    "application/vnd.databricks.v1+cell": {
     "cellMetadata": {
      "byteLimit": 2048000,
      "rowLimit": 10000
     },
     "inputWidgets": {},
     "nuid": "05374f66-6acb-485e-b040-936bb370e538",
     "showTitle": false,
     "tableResultSettingsMap": {},
     "title": ""
    }
   },
   "outputs": [],
   "source": [
    "from matplotlib import pyplot as plt\n",
    "import pandas as pd\n",
    "import seaborn as sns\n",
    "%matplotlib inline"
   ]
  },
  {
   "cell_type": "code",
   "execution_count": 0,
   "metadata": {
    "application/vnd.databricks.v1+cell": {
     "cellMetadata": {
      "byteLimit": 2048000,
      "rowLimit": 10000
     },
     "inputWidgets": {},
     "nuid": "36d7d5a3-0b20-4998-b306-879611d9d58a",
     "showTitle": false,
     "tableResultSettingsMap": {},
     "title": ""
    }
   },
   "outputs": [
    {
     "output_type": "display_data",
     "data": {
      "image/png": "[encoded data removed]"
     },
     "metadata": {
      "application/vnd.databricks.v1+output": {
       "addedWidgets": {},
       "arguments": {},
       "data": "data:image/png;base64,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\n",
       "datasetInfos": [],
       "metadata": {},
       "removedWidgets": [],
       "type": "image"
      }
     },
     "output_type": "display_data"
    }
   ],
   "source": [
    "sample_data=df.select(col('time_of_day'))\n",
    "d=sample_data.toPandas()\n",
    "sns.set(rc={'figure.figsize':(10,5)})\n",
    "x=sns.countplot(x='time_of_day',data=d)\n",
    "for bars in x.containers:\n",
    "    x.bar_label(bars)"
   ]
  },
  {
   "cell_type": "code",
   "execution_count": 0,
   "metadata": {
    "application/vnd.databricks.v1+cell": {
     "cellMetadata": {
      "byteLimit": 2048000,
      "rowLimit": 10000
     },
     "inputWidgets": {},
     "nuid": "64db77e2-4718-4b07-8d30-cb481e7b8dfc",
     "showTitle": false,
     "tableResultSettingsMap": {},
     "title": ""
    }
   },
   "outputs": [
    {
     "output_type": "display_data",
     "data": {
      "image/png": "[encoded data removed]"
     },
     "metadata": {
      "application/vnd.databricks.v1+output": {
       "addedWidgets": {},
       "arguments": {},
       "data": "data:image/png;base64,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\n",
       "datasetInfos": [],
       "metadata": {},
       "removedWidgets": [],
       "type": "image"
      }
     },
     "output_type": "display_data"
    }
   ],
   "source": [
    "sm_data=df.select(col('Payment'))\n",
    "a=sm_data.toPandas()\n",
    "sns.set(rc={'figure.figsize':(10,5)})\n",
    "x=sns.countplot(x='Payment',data=a)\n",
    "for bars in x.containers:\n",
    "    x.bar_label(bars)"
   ]
  },
  {
   "cell_type": "code",
   "execution_count": 0,
   "metadata": {
    "application/vnd.databricks.v1+cell": {
     "cellMetadata": {
      "byteLimit": 2048000,
      "rowLimit": 10000
     },
     "inputWidgets": {},
     "nuid": "8a987b93-b431-4ada-91e1-9b9db6197d9a",
     "showTitle": false,
     "tableResultSettingsMap": {},
     "title": ""
    }
   },
   "outputs": [
    {
     "output_type": "display_data",
     "data": {
      "text/html": [
       "<style scoped>\n",
       "  .table-result-container {\n",
       "    max-height: 300px;\n",
       "    overflow: auto;\n",
       "  }\n",
       "  table, th, td {\n",
       "    border: 1px solid black;\n",
       "    border-collapse: collapse;\n",
       "  }\n",
       "  th, td {\n",
       "    padding: 5px;\n",
       "  }\n",
       "  th {\n",
       "    text-align: left;\n",
       "  }\n",
       "</style><div class='table-result-container'><table class='table-result'><thead style='background-color: white'><tr><th>Product line</th></tr></thead><tbody><tr><td>Home and lifestyle</td></tr><tr><td>Fashion accessories</td></tr><tr><td>Health and beauty</td></tr><tr><td>Electronic accessories</td></tr><tr><td>Food and beverages</td></tr><tr><td>Sports and travel</td></tr></tbody></table></div>"
      ]
     },
     "metadata": {
      "application/vnd.databricks.v1+output": {
       "addedWidgets": {},
       "aggData": [],
       "aggError": "",
       "aggOverflow": false,
       "aggSchema": [],
       "aggSeriesLimitReached": false,
       "aggType": "",
       "arguments": {},
       "columnCustomDisplayInfos": {},
       "data": [
        [
         "Home and lifestyle"
        ],
        [
         "Fashion accessories"
        ],
        [
         "Health and beauty"
        ],
        [
         "Electronic accessories"
        ],
        [
         "Food and beverages"
        ],
        [
         "Sports and travel"
        ]
       ],
       "datasetInfos": [],
       "dbfsResultPath": null,
       "isJsonSchema": true,
       "metadata": {},
       "overflow": false,
       "plotOptions": {
        "customPlotOptions": {},
        "displayType": "table",
        "pivotAggregation": null,
        "pivotColumns": null,
        "xColumns": null,
        "yColumns": null
       },
       "removedWidgets": [],
       "schema": [
        {
         "metadata": "{}",
         "name": "Product line",
         "type": "\"string\""
        }
       ],
       "type": "table"
      }
     },
     "output_type": "display_data"
    }
   ],
   "source": [
    "# How many unique product lines does the data have?\n",
    "\n",
    "products_types=spark.sql(\"\"\"select distinct `Product line` from walmart\"\"\")\n",
    "\n",
    "products_types.display()"
   ]
  },
  {
   "cell_type": "code",
   "execution_count": 0,
   "metadata": {
    "application/vnd.databricks.v1+cell": {
     "cellMetadata": {
      "byteLimit": 2048000,
      "rowLimit": 10000
     },
     "inputWidgets": {},
     "nuid": "c3cfacf1-6c37-43e7-996c-beef9cf529cc",
     "showTitle": false,
     "tableResultSettingsMap": {},
     "title": ""
    }
   },
   "outputs": [
    {
     "output_type": "display_data",
     "data": {
      "image/png": "[encoded data removed]"
     },
     "metadata": {
      "application/vnd.databricks.v1+output": {
       "addedWidgets": {},
       "arguments": {},
       "data": "data:image/png;base64,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\n",
       "datasetInfos": [],
       "metadata": {},
       "removedWidgets": [],
       "type": "image"
      }
     },
     "output_type": "display_data"
    }
   ],
   "source": [
    "da = df.select(col('product line')).toPandas()\n",
    "da.rename(columns={\"product line\": \"Product_line\"}, inplace=True)\n",
    "sns.set(rc={'figure.figsize':(19,5)})\n",
    "x = sns.countplot(x=\"Product_line\", data=da)\n",
    "for bars in x.containers:\n",
    "    x.bar_label(bars)"
   ]
  },
  {
   "cell_type": "code",
   "execution_count": 0,
   "metadata": {
    "application/vnd.databricks.v1+cell": {
     "cellMetadata": {
      "byteLimit": 2048000,
      "rowLimit": 10000
     },
     "inputWidgets": {},
     "nuid": "cfb7f2cc-7f7d-4732-82d1-061d63225a62",
     "showTitle": false,
     "tableResultSettingsMap": {},
     "title": ""
    }
   },
   "outputs": [
    {
     "output_type": "display_data",
     "data": {
      "text/html": [
       "<style scoped>\n",
       "  .table-result-container {\n",
       "    max-height: 300px;\n",
       "    overflow: auto;\n",
       "  }\n",
       "  table, th, td {\n",
       "    border: 1px solid black;\n",
       "    border-collapse: collapse;\n",
       "  }\n",
       "  th, td {\n",
       "    padding: 5px;\n",
       "  }\n",
       "  th {\n",
       "    text-align: left;\n",
       "  }\n",
       "</style><div class='table-result-container'><table class='table-result'><thead style='background-color: white'><tr><th>product_sold_count</th><th>product line</th></tr></thead><tbody><tr><td>178</td><td>Fashion accessories</td></tr><tr><td>174</td><td>Food and beverages</td></tr><tr><td>170</td><td>Electronic accessories</td></tr><tr><td>166</td><td>Sports and travel</td></tr><tr><td>160</td><td>Home and lifestyle</td></tr><tr><td>152</td><td>Health and beauty</td></tr></tbody></table></div>"
      ]
     },
     "metadata": {
      "application/vnd.databricks.v1+output": {
       "addedWidgets": {},
       "aggData": [],
       "aggError": "",
       "aggOverflow": false,
       "aggSchema": [],
       "aggSeriesLimitReached": false,
       "aggType": "",
       "arguments": {},
       "columnCustomDisplayInfos": {},
       "data": [
        [
         178,
         "Fashion accessories"
        ],
        [
         174,
         "Food and beverages"
        ],
        [
         170,
         "Electronic accessories"
        ],
        [
         166,
         "Sports and travel"
        ],
        [
         160,
         "Home and lifestyle"
        ],
        [
         152,
         "Health and beauty"
        ]
       ],
       "datasetInfos": [],
       "dbfsResultPath": null,
       "isJsonSchema": true,
       "metadata": {},
       "overflow": false,
       "plotOptions": {
        "customPlotOptions": {},
        "displayType": "table",
        "pivotAggregation": null,
        "pivotColumns": null,
        "xColumns": null,
        "yColumns": null
       },
       "removedWidgets": [],
       "schema": [
        {
         "metadata": "{}",
         "name": "product_sold_count",
         "type": "\"long\""
        },
        {
         "metadata": "{}",
         "name": "product line",
         "type": "\"string\""
        }
       ],
       "type": "table"
      }
     },
     "output_type": "display_data"
    }
   ],
   "source": [
    "\n",
    "# What is the most selling product line\n",
    "\n",
    "most_selling=spark.sql(\"\"\"\n",
    "                       select count(`product line`) as product_sold_count,`product line` from walmart group by `product line` order by count(`product line`) desc\n",
    "                       \"\"\")\n",
    "most_selling.display()"
   ]
  },
  {
   "cell_type": "code",
   "execution_count": 0,
   "metadata": {
    "application/vnd.databricks.v1+cell": {
     "cellMetadata": {
      "byteLimit": 2048000,
      "rowLimit": 10000
     },
     "inputWidgets": {},
     "nuid": "2ef0cceb-ec22-4f64-ab87-ab45dd00e9d6",
     "showTitle": false,
     "tableResultSettingsMap": {},
     "title": ""
    }
   },
   "outputs": [],
   "source": [
    "#  What is the total revenue by month\n",
    "\n",
    "df = df.withColumn(\"Year\", date_format(col(\"Date\"), \"yyyy\")) \\\n",
    "       .withColumn(\"Month\", date_format(col(\"Date\"), \"MM\"))\n",
    "\n",
    "df.createOrReplaceTempView(\"walmart\")\n"
   ]
  },
  {
   "cell_type": "code",
   "execution_count": 0,
   "metadata": {
    "application/vnd.databricks.v1+cell": {
     "cellMetadata": {
      "byteLimit": 2048000,
      "rowLimit": 10000
     },
     "inputWidgets": {},
     "nuid": "40012369-a457-4d31-b5d0-b8d1d673a2ee",
     "showTitle": false,
     "tableResultSettingsMap": {},
     "title": ""
    }
   },
   "outputs": [
    {
     "output_type": "display_data",
     "data": {
      "text/html": [
       "<style scoped>\n",
       "  .table-result-container {\n",
       "    max-height: 300px;\n",
       "    overflow: auto;\n",
       "  }\n",
       "  table, th, td {\n",
       "    border: 1px solid black;\n",
       "    border-collapse: collapse;\n",
       "  }\n",
       "  th, td {\n",
       "    padding: 5px;\n",
       "  }\n",
       "  th {\n",
       "    text-align: left;\n",
       "  }\n",
       "</style><div class='table-result-container'><table class='table-result'><thead style='background-color: white'><tr><th>Month</th><th>revenue</th></tr></thead><tbody><tr><td>01</td><td>116291.87</td></tr><tr><td>03</td><td>109455.51</td></tr><tr><td>02</td><td>97219.37</td></tr></tbody></table></div>"
      ]
     },
     "metadata": {
      "application/vnd.databricks.v1+output": {
       "addedWidgets": {},
       "aggData": [],
       "aggError": "",
       "aggOverflow": false,
       "aggSchema": [],
       "aggSeriesLimitReached": false,
       "aggType": "",
       "arguments": {},
       "columnCustomDisplayInfos": {},
       "data": [
        [
         "01",
         116291.87
        ],
        [
         "03",
         109455.51
        ],
        [
         "02",
         97219.37
        ]
       ],
       "datasetInfos": [],
       "dbfsResultPath": null,
       "isJsonSchema": true,
       "metadata": {},
       "overflow": false,
       "plotOptions": {
        "customPlotOptions": {},
        "displayType": "table",
        "pivotAggregation": null,
        "pivotColumns": null,
        "xColumns": null,
        "yColumns": null
       },
       "removedWidgets": [],
       "schema": [
        {
         "metadata": "{}",
         "name": "Month",
         "type": "\"string\""
        },
        {
         "metadata": "{}",
         "name": "revenue",
         "type": "\"double\""
        }
       ],
       "type": "table"
      }
     },
     "output_type": "display_data"
    }
   ],
   "source": [
    "revenue_by_month=spark.sql(\"\"\"\n",
    "                           select Month,round(sum(total),2) as revenue from walmart group by Month\n",
    "                           \"\"\")\n",
    "\n",
    "revenue_by_month.display()"
   ]
  },
  {
   "cell_type": "code",
   "execution_count": 0,
   "metadata": {
    "application/vnd.databricks.v1+cell": {
     "cellMetadata": {
      "byteLimit": 2048000,
      "rowLimit": 10000
     },
     "inputWidgets": {},
     "nuid": "c6ed8605-72fc-422c-9825-201c0dc838c2",
     "showTitle": false,
     "tableResultSettingsMap": {},
     "title": ""
    }
   },
   "outputs": [
    {
     "output_type": "display_data",
     "data": {
      "text/html": [
       "<style scoped>\n",
       "  .table-result-container {\n",
       "    max-height: 300px;\n",
       "    overflow: auto;\n",
       "  }\n",
       "  table, th, td {\n",
       "    border: 1px solid black;\n",
       "    border-collapse: collapse;\n",
       "  }\n",
       "  th, td {\n",
       "    padding: 5px;\n",
       "  }\n",
       "  th {\n",
       "    text-align: left;\n",
       "  }\n",
       "</style><div class='table-result-container'><table class='table-result'><thead style='background-color: white'><tr><th>Month</th><th>total_cogs</th></tr></thead><tbody><tr><td>01</td><td>110754.0</td></tr><tr><td>03</td><td>104243.0</td></tr><tr><td>02</td><td>92590.0</td></tr></tbody></table></div>"
      ]
     },
     "metadata": {
      "application/vnd.databricks.v1+output": {
       "addedWidgets": {},
       "aggData": [],
       "aggError": "",
       "aggOverflow": false,
       "aggSchema": [],
       "aggSeriesLimitReached": false,
       "aggType": "",
       "arguments": {},
       "columnCustomDisplayInfos": {},
       "data": [
        [
         "01",
         110754.0
        ],
        [
         "03",
         104243.0
        ],
        [
         "02",
         92590.0
        ]
       ],
       "datasetInfos": [],
       "dbfsResultPath": null,
       "isJsonSchema": true,
       "metadata": {},
       "overflow": false,
       "plotOptions": {
        "customPlotOptions": {},
        "displayType": "table",
        "pivotAggregation": null,
        "pivotColumns": null,
        "xColumns": null,
        "yColumns": null
       },
       "removedWidgets": [],
       "schema": [
        {
         "metadata": "{}",
         "name": "Month",
         "type": "\"string\""
        },
        {
         "metadata": "{}",
         "name": "total_cogs",
         "type": "\"double\""
        }
       ],
       "type": "table"
      }
     },
     "output_type": "display_data"
    }
   ],
   "source": [
    "# What month had the largest COGS?\n",
    "\n",
    "largest_congs=spark.sql(\"\"\" \n",
    "                        select Month,round(sum(cogs)) as total_cogs from walmart group by Month order by round(sum(cogs)) desc\n",
    "                        \"\"\")\n",
    "\n",
    "largest_congs.display()"
   ]
  },
  {
   "cell_type": "code",
   "execution_count": 0,
   "metadata": {
    "application/vnd.databricks.v1+cell": {
     "cellMetadata": {
      "byteLimit": 2048000,
      "rowLimit": 10000
     },
     "inputWidgets": {},
     "nuid": "617710b4-9c55-4b56-ae66-2bb627b5dd87",
     "showTitle": false,
     "tableResultSettingsMap": {},
     "title": ""
    }
   },
   "outputs": [
    {
     "output_type": "display_data",
     "data": {
      "text/html": [
       "<style scoped>\n",
       "  .table-result-container {\n",
       "    max-height: 300px;\n",
       "    overflow: auto;\n",
       "  }\n",
       "  table, th, td {\n",
       "    border: 1px solid black;\n",
       "    border-collapse: collapse;\n",
       "  }\n",
       "  th, td {\n",
       "    padding: 5px;\n",
       "  }\n",
       "  th {\n",
       "    text-align: left;\n",
       "  }\n",
       "</style><div class='table-result-container'><table class='table-result'><thead style='background-color: white'><tr><th>product line</th><th>product_revenue</th></tr></thead><tbody><tr><td>Food and beverages</td><td>56144.84</td></tr><tr><td>Sports and travel</td><td>55122.83</td></tr><tr><td>Electronic accessories</td><td>54337.53</td></tr><tr><td>Fashion accessories</td><td>54305.9</td></tr><tr><td>Home and lifestyle</td><td>53861.91</td></tr><tr><td>Health and beauty</td><td>49193.74</td></tr></tbody></table></div>"
      ]
     },
     "metadata": {
      "application/vnd.databricks.v1+output": {
       "addedWidgets": {},
       "aggData": [],
       "aggError": "",
       "aggOverflow": false,
       "aggSchema": [],
       "aggSeriesLimitReached": false,
       "aggType": "",
       "arguments": {},
       "columnCustomDisplayInfos": {},
       "data": [
        [
         "Food and beverages",
         56144.84
        ],
        [
         "Sports and travel",
         55122.83
        ],
        [
         "Electronic accessories",
         54337.53
        ],
        [
         "Fashion accessories",
         54305.9
        ],
        [
         "Home and lifestyle",
         53861.91
        ],
        [
         "Health and beauty",
         49193.74
        ]
       ],
       "datasetInfos": [],
       "dbfsResultPath": null,
       "isJsonSchema": true,
       "metadata": {},
       "overflow": false,
       "plotOptions": {
        "customPlotOptions": {},
        "displayType": "table",
        "pivotAggregation": null,
        "pivotColumns": null,
        "xColumns": null,
        "yColumns": null
       },
       "removedWidgets": [],
       "schema": [
        {
         "metadata": "{}",
         "name": "product line",
         "type": "\"string\""
        },
        {
         "metadata": "{}",
         "name": "product_revenue",
         "type": "\"double\""
        }
       ],
       "type": "table"
      }
     },
     "output_type": "display_data"
    }
   ],
   "source": [
    "# What product line had the largest revenue?\n",
    "\n",
    "total_revenue_by_product=spark.sql(\"\"\" \n",
    "                                   select `product line`,round(sum(total),2) as product_revenue from walmart group by `product line` order by round(sum(total)) desc\n",
    "                                   \"\"\")\n",
    "\n",
    "total_revenue_by_product.display()"
   ]
  },
  {
   "cell_type": "code",
   "execution_count": 0,
   "metadata": {
    "application/vnd.databricks.v1+cell": {
     "cellMetadata": {
      "byteLimit": 2048000,
      "rowLimit": 10000
     },
     "inputWidgets": {},
     "nuid": "f1efcd55-58b8-4b89-b495-b4f282e59d8e",
     "showTitle": false,
     "tableResultSettingsMap": {},
     "title": ""
    }
   },
   "outputs": [
    {
     "output_type": "stream",
     "name": "stdout",
     "output_type": "stream",
     "text": [
      "Out[97]: Text(0.5, 1.0, 'Total Revenue by Product Line')"
     ]
    },
    {
     "output_type": "display_data",
     "data": {
      "image/png": "[encoded data removed]"
     },
     "metadata": {
      "application/vnd.databricks.v1+output": {
       "addedWidgets": {},
       "arguments": {},
       "data": "data:image/png;base64,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\n",
       "datasetInfos": [],
       "metadata": {},
       "removedWidgets": [],
       "type": "image"
      }
     },
     "output_type": "display_data"
    }
   ],
   "source": [
    "da = total_revenue_by_product.toPandas()\n",
    "da.rename(columns={\"product line\": \"Product_line\"}, inplace=True)\n",
    "plt.figure(figsize=(19, 5))\n",
    "x = sns.barplot(x=\"Product_line\", y=\"product_revenue\", data=da)\n",
    "for bars in x.containers:\n",
    "    x.bar_label(bars)\n",
    "plt.xticks(rotation=0)\n",
    "plt.xlabel(\"Product Line\")\n",
    "plt.ylabel(\"Total Revenue\")\n",
    "plt.title(\"Total Revenue by Product Line\")\n"
   ]
  },
  {
   "cell_type": "code",
   "execution_count": 0,
   "metadata": {
    "application/vnd.databricks.v1+cell": {
     "cellMetadata": {
      "byteLimit": 2048000,
      "rowLimit": 10000
     },
     "inputWidgets": {},
     "nuid": "22007770-e4cb-431f-88b9-4eb22d8f763f",
     "showTitle": false,
     "tableResultSettingsMap": {},
     "title": ""
    }
   },
   "outputs": [
    {
     "output_type": "display_data",
     "data": {
      "text/html": [
       "<style scoped>\n",
       "  .table-result-container {\n",
       "    max-height: 300px;\n",
       "    overflow: auto;\n",
       "  }\n",
       "  table, th, td {\n",
       "    border: 1px solid black;\n",
       "    border-collapse: collapse;\n",
       "  }\n",
       "  th, td {\n",
       "    padding: 5px;\n",
       "  }\n",
       "  th {\n",
       "    text-align: left;\n",
       "  }\n",
       "</style><div class='table-result-container'><table class='table-result'><thead style='background-color: white'><tr><th>city</th><th>product_revenue</th></tr></thead><tbody><tr><td>Naypyitaw</td><td>110568.71</td></tr><tr><td>Yangon</td><td>106200.37</td></tr><tr><td>Mandalay</td><td>106197.67</td></tr></tbody></table></div>"
      ]
     },
     "metadata": {
      "application/vnd.databricks.v1+output": {
       "addedWidgets": {},
       "aggData": [],
       "aggError": "",
       "aggOverflow": false,
       "aggSchema": [],
       "aggSeriesLimitReached": false,
       "aggType": "",
       "arguments": {},
       "columnCustomDisplayInfos": {},
       "data": [
        [
         "Naypyitaw",
         110568.71
        ],
        [
         "Yangon",
         106200.37
        ],
        [
         "Mandalay",
         106197.67
        ]
       ],
       "datasetInfos": [],
       "dbfsResultPath": null,
       "isJsonSchema": true,
       "metadata": {},
       "overflow": false,
       "plotOptions": {
        "customPlotOptions": {},
        "displayType": "table",
        "pivotAggregation": null,
        "pivotColumns": null,
        "xColumns": null,
        "yColumns": null
       },
       "removedWidgets": [],
       "schema": [
        {
         "metadata": "{}",
         "name": "city",
         "type": "\"string\""
        },
        {
         "metadata": "{}",
         "name": "product_revenue",
         "type": "\"double\""
        }
       ],
       "type": "table"
      }
     },
     "output_type": "display_data"
    }
   ],
   "source": [
    "# What is the city with the largest revenue?\n",
    "total_revenue_by_city=spark.sql(\"\"\" \n",
    "                                   select city,round(sum(total),2) as product_revenue from walmart group by city order by round(sum(total)) desc\n",
    "                                   \"\"\")\n",
    "\n",
    "total_revenue_by_city.display()\n"
   ]
  },
  {
   "cell_type": "code",
   "execution_count": 0,
   "metadata": {
    "application/vnd.databricks.v1+cell": {
     "cellMetadata": {
      "byteLimit": 2048000,
      "rowLimit": 10000
     },
     "inputWidgets": {},
     "nuid": "422810f5-7802-46f3-900b-0dc8a89c3e4d",
     "showTitle": false,
     "tableResultSettingsMap": {},
     "title": ""
    }
   },
   "outputs": [
    {
     "output_type": "display_data",
     "data": {
      "image/png": "[encoded data removed]"
     },
     "metadata": {
      "application/vnd.databricks.v1+output": {
       "addedWidgets": {},
       "arguments": {},
       "data": "data:image/png;base64,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\n",
       "datasetInfos": [],
       "metadata": {},
       "removedWidgets": [],
       "type": "image"
      }
     },
     "output_type": "display_data"
    }
   ],
   "source": [
    "da=total_revenue_by_city.toPandas()\n",
    "plt.figure(figsize=(10, 5))\n",
    "x=sns.barplot(x='city',y='product_revenue',data=da)\n",
    "for bars in x.containers:\n",
    "    x.bar_label(bars)\n"
   ]
  },
  {
   "cell_type": "code",
   "execution_count": 0,
   "metadata": {
    "application/vnd.databricks.v1+cell": {
     "cellMetadata": {
      "byteLimit": 2048000,
      "rowLimit": 10000
     },
     "inputWidgets": {},
     "nuid": "7ae08242-d8c0-4b48-9f2b-95f2ca86b8a2",
     "showTitle": false,
     "tableResultSettingsMap": {},
     "title": ""
    }
   },
   "outputs": [
    {
     "output_type": "display_data",
     "data": {
      "text/html": [
       "<style scoped>\n",
       "  .table-result-container {\n",
       "    max-height: 300px;\n",
       "    overflow: auto;\n",
       "  }\n",
       "  table, th, td {\n",
       "    border: 1px solid black;\n",
       "    border-collapse: collapse;\n",
       "  }\n",
       "  th, td {\n",
       "    padding: 5px;\n",
       "  }\n",
       "  th {\n",
       "    text-align: left;\n",
       "  }\n",
       "</style><div class='table-result-container'><table class='table-result'><thead style='background-color: white'><tr><th>Customer type</th><th>revenue_generated_by_type_of_customer</th></tr></thead><tbody><tr><td>Member</td><td>164223.44</td></tr><tr><td>Normal</td><td>158743.31</td></tr></tbody></table></div>"
      ]
     },
     "metadata": {
      "application/vnd.databricks.v1+output": {
       "addedWidgets": {},
       "aggData": [],
       "aggError": "",
       "aggOverflow": false,
       "aggSchema": [],
       "aggSeriesLimitReached": false,
       "aggType": "",
       "arguments": {},
       "columnCustomDisplayInfos": {},
       "data": [
        [
         "Member",
         164223.44
        ],
        [
         "Normal",
         158743.31
        ]
       ],
       "datasetInfos": [],
       "dbfsResultPath": null,
       "isJsonSchema": true,
       "metadata": {},
       "overflow": false,
       "plotOptions": {
        "customPlotOptions": {},
        "displayType": "table",
        "pivotAggregation": null,
        "pivotColumns": null,
        "xColumns": null,
        "yColumns": null
       },
       "removedWidgets": [],
       "schema": [
        {
         "metadata": "{}",
         "name": "Customer type",
         "type": "\"string\""
        },
        {
         "metadata": "{}",
         "name": "revenue_generated_by_type_of_customer",
         "type": "\"double\""
        }
       ],
       "type": "table"
      }
     },
     "output_type": "display_data"
    }
   ],
   "source": [
    "# Which of the customer types brings the most revenue?\n",
    "\n",
    "type_of_customer_revenue=spark.sql(\"\"\" \n",
    "                                   select `Customer type`,round(sum(total),2) as revenue_generated_by_type_of_customer from walmart group by \n",
    "                                   `Customer type` order by  round(sum(total),2) desc\n",
    "                                   \"\"\")\n",
    "type_of_customer_revenue.display()"
   ]
  },
  {
   "cell_type": "code",
   "execution_count": 0,
   "metadata": {
    "application/vnd.databricks.v1+cell": {
     "cellMetadata": {
      "byteLimit": 2048000,
      "rowLimit": 10000
     },
     "inputWidgets": {},
     "nuid": "5634be48-1a06-4fab-a9ac-ce5437e3a535",
     "showTitle": false,
     "tableResultSettingsMap": {},
     "title": ""
    }
   },
   "outputs": [
    {
     "output_type": "display_data",
     "data": {
      "text/html": [
       "<style scoped>\n",
       "  .table-result-container {\n",
       "    max-height: 300px;\n",
       "    overflow: auto;\n",
       "  }\n",
       "  table, th, td {\n",
       "    border: 1px solid black;\n",
       "    border-collapse: collapse;\n",
       "  }\n",
       "  th, td {\n",
       "    padding: 5px;\n",
       "  }\n",
       "  th {\n",
       "    text-align: left;\n",
       "  }\n",
       "</style><div class='table-result-container'><table class='table-result'><thead style='background-color: white'><tr><th>branch</th><th>qnt</th></tr></thead><tbody><tr><td>B</td><td>1820</td></tr><tr><td>C</td><td>1831</td></tr><tr><td>A</td><td>1859</td></tr></tbody></table></div>"
      ]
     },
     "metadata": {
      "application/vnd.databricks.v1+output": {
       "addedWidgets": {},
       "aggData": [],
       "aggError": "",
       "aggOverflow": false,
       "aggSchema": [],
       "aggSeriesLimitReached": false,
       "aggType": "",
       "arguments": {},
       "columnCustomDisplayInfos": {},
       "data": [
        [
         "B",
         1820
        ],
        [
         "C",
         1831
        ],
        [
         "A",
         1859
        ]
       ],
       "datasetInfos": [],
       "dbfsResultPath": null,
       "isJsonSchema": true,
       "metadata": {},
       "overflow": false,
       "plotOptions": {
        "customPlotOptions": {},
        "displayType": "table",
        "pivotAggregation": null,
        "pivotColumns": null,
        "xColumns": null,
        "yColumns": null
       },
       "removedWidgets": [],
       "schema": [
        {
         "metadata": "{}",
         "name": "branch",
         "type": "\"string\""
        },
        {
         "metadata": "{}",
         "name": "qnt",
         "type": "\"long\""
        }
       ],
       "type": "table"
      }
     },
     "output_type": "display_data"
    }
   ],
   "source": [
    "# Which branch sold more products than average product sold?\n",
    "\n",
    "avg_sale=spark.sql(\"\"\"\n",
    "                   select branch,sum(quantity) as qnt from walmart group by branch having sum(quantity)>(select avg(quantity) from walmart)\n",
    "                   \"\"\")\n",
    "\n",
    "avg_sale.display()"
   ]
  },
  {
   "cell_type": "code",
   "execution_count": 0,
   "metadata": {
    "application/vnd.databricks.v1+cell": {
     "cellMetadata": {
      "byteLimit": 2048000,
      "rowLimit": 10000
     },
     "inputWidgets": {},
     "nuid": "644439c0-cec7-4eda-a377-0f743ece9a6b",
     "showTitle": false,
     "tableResultSettingsMap": {},
     "title": ""
    }
   },
   "outputs": [
    {
     "output_type": "display_data",
     "data": {
      "text/html": [
       "<style scoped>\n",
       "  .table-result-container {\n",
       "    max-height: 300px;\n",
       "    overflow: auto;\n",
       "  }\n",
       "  table, th, td {\n",
       "    border: 1px solid black;\n",
       "    border-collapse: collapse;\n",
       "  }\n",
       "  th, td {\n",
       "    padding: 5px;\n",
       "  }\n",
       "  th {\n",
       "    text-align: left;\n",
       "  }\n",
       "</style><div class='table-result-container'><table class='table-result'><thead style='background-color: white'><tr><th>gender</th><th>product line</th><th>count</th></tr></thead><tbody><tr><td>Female</td><td>Fashion accessories</td><td>96</td></tr><tr><td>Female</td><td>Food and beverages</td><td>90</td></tr><tr><td>Female</td><td>Sports and travel</td><td>88</td></tr><tr><td>Male</td><td>Health and beauty</td><td>88</td></tr><tr><td>Male</td><td>Electronic accessories</td><td>86</td></tr><tr><td>Male</td><td>Food and beverages</td><td>84</td></tr><tr><td>Female</td><td>Electronic accessories</td><td>84</td></tr><tr><td>Male</td><td>Fashion accessories</td><td>82</td></tr><tr><td>Male</td><td>Home and lifestyle</td><td>81</td></tr><tr><td>Female</td><td>Home and lifestyle</td><td>79</td></tr><tr><td>Male</td><td>Sports and travel</td><td>78</td></tr><tr><td>Female</td><td>Health and beauty</td><td>64</td></tr></tbody></table></div>"
      ]
     },
     "metadata": {
      "application/vnd.databricks.v1+output": {
       "addedWidgets": {},
       "aggData": [],
       "aggError": "",
       "aggOverflow": false,
       "aggSchema": [],
       "aggSeriesLimitReached": false,
       "aggType": "",
       "arguments": {},
       "columnCustomDisplayInfos": {},
       "data": [
        [
         "Female",
         "Fashion accessories",
         96
        ],
        [
         "Female",
         "Food and beverages",
         90
        ],
        [
         "Female",
         "Sports and travel",
         88
        ],
        [
         "Male",
         "Health and beauty",
         88
        ],
        [
         "Male",
         "Electronic accessories",
         86
        ],
        [
         "Male",
         "Food and beverages",
         84
        ],
        [
         "Female",
         "Electronic accessories",
         84
        ],
        [
         "Male",
         "Fashion accessories",
         82
        ],
        [
         "Male",
         "Home and lifestyle",
         81
        ],
        [
         "Female",
         "Home and lifestyle",
         79
        ],
        [
         "Male",
         "Sports and travel",
         78
        ],
        [
         "Female",
         "Health and beauty",
         64
        ]
       ],
       "datasetInfos": [],
       "dbfsResultPath": null,
       "isJsonSchema": true,
       "metadata": {},
       "overflow": false,
       "plotOptions": {
        "customPlotOptions": {},
        "displayType": "table",
        "pivotAggregation": null,
        "pivotColumns": null,
        "xColumns": null,
        "yColumns": null
       },
       "removedWidgets": [],
       "schema": [
        {
         "metadata": "{}",
         "name": "gender",
         "type": "\"string\""
        },
        {
         "metadata": "{}",
         "name": "product line",
         "type": "\"string\""
        },
        {
         "metadata": "{}",
         "name": "count",
         "type": "\"long\""
        }
       ],
       "type": "table"
      }
     },
     "output_type": "display_data"
    }
   ],
   "source": [
    "# What is the most common product line by gender\n",
    "\n",
    "common_product=spark.sql(\"\"\"\n",
    "                         select gender, `product line`, (count(`product line`)) as count from walmart group by gender, `product line` order by count desc;\n",
    "                         \n",
    "                         \"\"\")\n",
    "\n",
    "common_product.display()\n"
   ]
  },
  {
   "cell_type": "code",
   "execution_count": 0,
   "metadata": {
    "application/vnd.databricks.v1+cell": {
     "cellMetadata": {
      "byteLimit": 2048000,
      "rowLimit": 10000
     },
     "inputWidgets": {},
     "nuid": "48957493-2722-4ada-b90d-074491191d03",
     "showTitle": false,
     "tableResultSettingsMap": {},
     "title": ""
    }
   },
   "outputs": [],
   "source": [
    "# Which city has the largest avg tax/VAT percent?\n",
    "df = df.withColumnRenamed(\"Tax 5%\", \"Tax_by_5_cent\")\n",
    "df.createOrReplaceTempView('walmart')"
   ]
  },
  {
   "cell_type": "code",
   "execution_count": 0,
   "metadata": {
    "application/vnd.databricks.v1+cell": {
     "cellMetadata": {
      "byteLimit": 2048000,
      "rowLimit": 10000
     },
     "inputWidgets": {},
     "nuid": "9cc1e16e-fffc-4f5d-a82e-d350b4ab0152",
     "showTitle": false,
     "tableResultSettingsMap": {},
     "title": ""
    }
   },
   "outputs": [
    {
     "output_type": "display_data",
     "data": {
      "text/html": [
       "<style scoped>\n",
       "  .table-result-container {\n",
       "    max-height: 300px;\n",
       "    overflow: auto;\n",
       "  }\n",
       "  table, th, td {\n",
       "    border: 1px solid black;\n",
       "    border-collapse: collapse;\n",
       "  }\n",
       "  th, td {\n",
       "    padding: 5px;\n",
       "  }\n",
       "  th {\n",
       "    text-align: left;\n",
       "  }\n",
       "</style><div class='table-result-container'><table class='table-result'><thead style='background-color: white'><tr><th>city</th><th>avg_tax_cent</th></tr></thead><tbody><tr><td>Naypyitaw</td><td>16.05</td></tr><tr><td>Mandalay</td><td>15.23</td></tr><tr><td>Yangon</td><td>14.87</td></tr></tbody></table></div>"
      ]
     },
     "metadata": {
      "application/vnd.databricks.v1+output": {
       "addedWidgets": {},
       "aggData": [],
       "aggError": "",
       "aggOverflow": false,
       "aggSchema": [],
       "aggSeriesLimitReached": false,
       "aggType": "",
       "arguments": {},
       "columnCustomDisplayInfos": {},
       "data": [
        [
         "Naypyitaw",
         16.05
        ],
        [
         "Mandalay",
         15.23
        ],
        [
         "Yangon",
         14.87
        ]
       ],
       "datasetInfos": [],
       "dbfsResultPath": null,
       "isJsonSchema": true,
       "metadata": {},
       "overflow": false,
       "plotOptions": {
        "customPlotOptions": {},
        "displayType": "table",
        "pivotAggregation": null,
        "pivotColumns": null,
        "xColumns": null,
        "yColumns": null
       },
       "removedWidgets": [],
       "schema": [
        {
         "metadata": "{}",
         "name": "city",
         "type": "\"string\""
        },
        {
         "metadata": "{}",
         "name": "avg_tax_cent",
         "type": "\"double\""
        }
       ],
       "type": "table"
      }
     },
     "output_type": "display_data"
    }
   ],
   "source": [
    "tax_avg=spark.sql(\"\"\"\n",
    "              SELECT\n",
    "\tcity,\n",
    "    ROUND(AVG(Tax_by_5_cent), 2) AS avg_tax_cent FROM walmart GROUP BY city ORDER BY avg_tax_cent DESC;\n",
    "              \"\"\")\n",
    "\n",
    "tax_avg.display()"
   ]
  },
  {
   "cell_type": "code",
   "execution_count": 0,
   "metadata": {
    "application/vnd.databricks.v1+cell": {
     "cellMetadata": {
      "byteLimit": 2048000,
      "rowLimit": 10000
     },
     "inputWidgets": {},
     "nuid": "9e0e0b2e-4a73-4064-aef3-d97a84319785",
     "showTitle": false,
     "tableResultSettingsMap": {},
     "title": ""
    }
   },
   "outputs": [
    {
     "output_type": "display_data",
     "data": {
      "text/html": [
       "<style scoped>\n",
       "  .table-result-container {\n",
       "    max-height: 300px;\n",
       "    overflow: auto;\n",
       "  }\n",
       "  table, th, td {\n",
       "    border: 1px solid black;\n",
       "    border-collapse: collapse;\n",
       "  }\n",
       "  th, td {\n",
       "    padding: 5px;\n",
       "  }\n",
       "  th {\n",
       "    text-align: left;\n",
       "  }\n",
       "</style><div class='table-result-container'><table class='table-result'><thead style='background-color: white'><tr><th>customer type</th><th>total_tax</th></tr></thead><tbody><tr><td>Normal</td><td>15.15</td></tr><tr><td>Member</td><td>15.61</td></tr></tbody></table></div>"
      ]
     },
     "metadata": {
      "application/vnd.databricks.v1+output": {
       "addedWidgets": {},
       "aggData": [],
       "aggError": "",
       "aggOverflow": false,
       "aggSchema": [],
       "aggSeriesLimitReached": false,
       "aggType": "",
       "arguments": {},
       "columnCustomDisplayInfos": {},
       "data": [
        [
         "Normal",
         15.15
        ],
        [
         "Member",
         15.61
        ]
       ],
       "datasetInfos": [],
       "dbfsResultPath": null,
       "isJsonSchema": true,
       "metadata": {},
       "overflow": false,
       "plotOptions": {
        "customPlotOptions": {},
        "displayType": "table",
        "pivotAggregation": null,
        "pivotColumns": null,
        "xColumns": null,
        "yColumns": null
       },
       "removedWidgets": [],
       "schema": [
        {
         "metadata": "{}",
         "name": "customer type",
         "type": "\"string\""
        },
        {
         "metadata": "{}",
         "name": "total_tax",
         "type": "\"double\""
        }
       ],
       "type": "table"
      }
     },
     "output_type": "display_data"
    }
   ],
   "source": [
    "# Which customer type pays the most in VAT?\n",
    "\n",
    "cus_type_vat=spark.sql(\"\"\"\n",
    "                       SELECT `customer type`, round(AVG(Tax_by_5_cent),2) AS total_tax FROM walmart GROUP BY `customer type`\n",
    "                       ORDER BY total_tax;\n",
    "                       \"\"\")\n",
    "\n",
    "cus_type_vat.display()"
   ]
  },
  {
   "cell_type": "code",
   "execution_count": 0,
   "metadata": {
    "application/vnd.databricks.v1+cell": {
     "cellMetadata": {},
     "inputWidgets": {},
     "nuid": "37a25f9c-a96c-4d61-be80-f36ee3d8a5d5",
     "showTitle": false,
     "tableResultSettingsMap": {},
     "title": ""
    }
   },
   "outputs": [],
   "source": []
  }
 ],
 "metadata": {
  "application/vnd.databricks.v1+notebook": {
   "computePreferences": null,
   "dashboards": [],
   "environmentMetadata": {
    "base_environment": "",
    "client": "1"
   },
   "language": "python",
   "notebookMetadata": {
    "mostRecentlyExecutedCommandWithImplicitDF": {
     "commandId": -1,
     "dataframes": [
      "_sqldf"
     ]
    },
    "pythonIndentUnit": 4
   },
   "notebookName": "walmart-sales",
   "widgets": {}
  }
 },
 "nbformat": 4,
 "nbformat_minor": 0
}
