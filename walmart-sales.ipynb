{
 "cells": [
  {
   "cell_type": "code",
   "execution_count": 0,
   "metadata": {
    "application/vnd.databricks.v1+cell": {
     "cellMetadata": {
      "byteLimit": 2048000,
      "rowLimit": 10000
     },
     "inputWidgets": {},
     "nuid": "27adf431-3708-4833-8b58-1db4a20effd6",
     "showTitle": false,
     "tableResultSettingsMap": {},
     "title": ""
    }
   },
   "outputs": [
    {
     "output_type": "display_data",
     "data": {
      "text/html": [
       "\n",
       "            <div>\n",
       "                <p><b>SparkSession - hive</b></p>\n",
       "                \n",
       "        <div>\n",
       "            <p><b>SparkContext</b></p>\n",
       "\n",
       "            <p><a href=\"/?o=3219105181762441#setting/sparkui/0204-032451-fzn5mkyo/driver-9056471141654117466\">Spark UI</a></p>\n",
       "\n",
       "            <dl>\n",
       "              <dt>Version</dt>\n",
       "                <dd><code>v3.3.2</code></dd>\n",
       "              <dt>Master</dt>\n",
       "                <dd><code>local[8]</code></dd>\n",
       "              <dt>AppName</dt>\n",
       "                <dd><code>Databricks Shell</code></dd>\n",
       "            </dl>\n",
       "        </div>\n",
       "        \n",
       "            </div>\n",
       "        "
      ]
     },
     "metadata": {
      "application/vnd.databricks.v1+output": {
       "addedWidgets": {},
       "arguments": {},
       "data": "\n            <div>\n                <p><b>SparkSession - hive</b></p>\n                \n        <div>\n            <p><b>SparkContext</b></p>\n\n            <p><a href=\"/?o=3219105181762441#setting/sparkui/0204-032451-fzn5mkyo/driver-9056471141654117466\">Spark UI</a></p>\n\n            <dl>\n              <dt>Version</dt>\n                <dd><code>v3.3.2</code></dd>\n              <dt>Master</dt>\n                <dd><code>local[8]</code></dd>\n              <dt>AppName</dt>\n                <dd><code>Databricks Shell</code></dd>\n            </dl>\n        </div>\n        \n            </div>\n        ",
       "datasetInfos": [],
       "metadata": {},
       "removedWidgets": [],
       "textData": null,
       "type": "htmlSandbox"
      }
     },
     "output_type": "display_data"
    }
   ],
   "source": [
    "spark"
   ]
  },
  {
   "cell_type": "code",
   "execution_count": 0,
   "metadata": {
    "application/vnd.databricks.v1+cell": {
     "cellMetadata": {
      "byteLimit": 2048000,
      "rowLimit": 10000
     },
     "inputWidgets": {},
     "nuid": "c84a4ff6-c908-4089-b887-5c5bd188c2a3",
     "showTitle": false,
     "tableResultSettingsMap": {},
     "title": ""
    }
   },
   "outputs": [],
   "source": [
    "df=spark.read.format('csv').option('InferSchema',True).option('Header',True).load('/FileStore/tables/WalmartSalesData.csv')"
   ]
  },
  {
   "cell_type": "code",
   "execution_count": 0,
   "metadata": {
    "application/vnd.databricks.v1+cell": {
     "cellMetadata": {
      "byteLimit": 2048000,
      "rowLimit": 10000
     },
     "inputWidgets": {},
     "nuid": "24a059d2-729a-4022-aa7d-9338b7fb5083",
     "showTitle": false,
     "tableResultSettingsMap": {},
     "title": ""
    }
   },
   "outputs": [
    {
     "output_type": "display_data",
     "data": {
      "text/html": [
       "<style scoped>\n",
       "  .table-result-container {\n",
       "    max-height: 300px;\n",
       "    overflow: auto;\n",
       "  }\n",
       "  table, th, td {\n",
       "    border: 1px solid black;\n",
       "    border-collapse: collapse;\n",
       "  }\n",
       "  th, td {\n",
       "    padding: 5px;\n",
       "  }\n",
       "  th {\n",
       "    text-align: left;\n",
       "  }\n",
       "</style><div class='table-result-container'><table class='table-result'><thead style='background-color: white'><tr><th>Invoice ID</th><th>Branch</th><th>City</th><th>Customer type</th><th>Gender</th><th>Product line</th><th>Unit price</th><th>Quantity</th><th>Tax 5%</th><th>Total</th><th>Date</th><th>Time</th><th>Payment</th><th>cogs</th><th>gross margin percentage</th><th>gross income</th><th>Rating</th></tr></thead><tbody><tr><td>750-67-8428</td><td>A</td><td>Yangon</td><td>Member</td><td>Female</td><td>Health and beauty</td><td>74.69</td><td>7</td><td>26.1415</td><td>548.9715</td><td>2019-01-05</td><td>2025-02-04T13:08:00.000+0000</td><td>Ewallet</td><td>522.83</td><td>4.761904762</td><td>26.1415</td><td>9.1</td></tr><tr><td>226-31-3081</td><td>C</td><td>Naypyitaw</td><td>Normal</td><td>Female</td><td>Electronic accessories</td><td>15.28</td><td>5</td><td>3.82</td><td>80.22</td><td>2019-03-08</td><td>2025-02-04T10:29:00.000+0000</td><td>Cash</td><td>76.4</td><td>4.761904762</td><td>3.82</td><td>9.6</td></tr><tr><td>631-41-3108</td><td>A</td><td>Yangon</td><td>Normal</td><td>Male</td><td>Home and lifestyle</td><td>46.33</td><td>7</td><td>16.2155</td><td>340.5255</td><td>2019-03-03</td><td>2025-02-04T13:23:00.000+0000</td><td>Credit card</td><td>324.31</td><td>4.761904762</td><td>16.2155</td><td>7.4</td></tr><tr><td>123-19-1176</td><td>A</td><td>Yangon</td><td>Member</td><td>Male</td><td>Health and beauty</td><td>58.22</td><td>8</td><td>23.288</td><td>489.048</td><td>2019-01-27</td><td>2025-02-04T20:33:00.000+0000</td><td>Ewallet</td><td>465.76</td><td>4.761904762</td><td>23.288</td><td>8.4</td></tr><tr><td>373-73-7910</td><td>A</td><td>Yangon</td><td>Normal</td><td>Male</td><td>Sports and travel</td><td>86.31</td><td>7</td><td>30.2085</td><td>634.3785</td><td>2019-02-08</td><td>2025-02-04T10:37:00.000+0000</td><td>Ewallet</td><td>604.17</td><td>4.761904762</td><td>30.2085</td><td>5.3</td></tr><tr><td>699-14-3026</td><td>C</td><td>Naypyitaw</td><td>Normal</td><td>Male</td><td>Electronic accessories</td><td>85.39</td><td>7</td><td>29.8865</td><td>627.6165</td><td>2019-03-25</td><td>2025-02-04T18:30:00.000+0000</td><td>Ewallet</td><td>597.73</td><td>4.761904762</td><td>29.8865</td><td>4.1</td></tr><tr><td>355-53-5943</td><td>A</td><td>Yangon</td><td>Member</td><td>Female</td><td>Electronic accessories</td><td>68.84</td><td>6</td><td>20.652</td><td>433.692</td><td>2019-02-25</td><td>2025-02-04T14:36:00.000+0000</td><td>Ewallet</td><td>413.04</td><td>4.761904762</td><td>20.652</td><td>5.8</td></tr><tr><td>315-22-5665</td><td>C</td><td>Naypyitaw</td><td>Normal</td><td>Female</td><td>Home and lifestyle</td><td>73.56</td><td>10</td><td>36.78</td><td>772.38</td><td>2019-02-24</td><td>2025-02-04T11:38:00.000+0000</td><td>Ewallet</td><td>735.6</td><td>4.761904762</td><td>36.78</td><td>8.0</td></tr><tr><td>665-32-9167</td><td>A</td><td>Yangon</td><td>Member</td><td>Female</td><td>Health and beauty</td><td>36.26</td><td>2</td><td>3.626</td><td>76.146</td><td>2019-01-10</td><td>2025-02-04T17:15:00.000+0000</td><td>Credit card</td><td>72.52</td><td>4.761904762</td><td>3.626</td><td>7.2</td></tr><tr><td>692-92-5582</td><td>B</td><td>Mandalay</td><td>Member</td><td>Female</td><td>Food and beverages</td><td>54.84</td><td>3</td><td>8.226</td><td>172.746</td><td>2019-02-20</td><td>2025-02-04T13:27:00.000+0000</td><td>Credit card</td><td>164.52</td><td>4.761904762</td><td>8.226</td><td>5.9</td></tr></tbody></table></div>"
      ]
     },
     "metadata": {
      "application/vnd.databricks.v1+output": {
       "addedWidgets": {},
       "aggData": [],
       "aggError": "",
       "aggOverflow": false,
       "aggSchema": [],
       "aggSeriesLimitReached": false,
       "aggType": "",
       "arguments": {},
       "columnCustomDisplayInfos": {},
       "data": [
        [
         "750-67-8428",
         "A",
         "Yangon",
         "Member",
         "Female",
         "Health and beauty",
         74.69,
         7,
         26.1415,
         548.9715,
         "2019-01-05",
         "2025-02-04T13:08:00.000+0000",
         "Ewallet",
         522.83,
         4.761904762,
         26.1415,
         9.1
        ],
        [
         "226-31-3081",
         "C",
         "Naypyitaw",
         "Normal",
         "Female",
         "Electronic accessories",
         15.28,
         5,
         3.82,
         80.22,
         "2019-03-08",
         "2025-02-04T10:29:00.000+0000",
         "Cash",
         76.4,
         4.761904762,
         3.82,
         9.6
        ],
        [
         "631-41-3108",
         "A",
         "Yangon",
         "Normal",
         "Male",
         "Home and lifestyle",
         46.33,
         7,
         16.2155,
         340.5255,
         "2019-03-03",
         "2025-02-04T13:23:00.000+0000",
         "Credit card",
         324.31,
         4.761904762,
         16.2155,
         7.4
        ],
        [
         "123-19-1176",
         "A",
         "Yangon",
         "Member",
         "Male",
         "Health and beauty",
         58.22,
         8,
         23.288,
         489.048,
         "2019-01-27",
         "2025-02-04T20:33:00.000+0000",
         "Ewallet",
         465.76,
         4.761904762,
         23.288,
         8.4
        ],
        [
         "373-73-7910",
         "A",
         "Yangon",
         "Normal",
         "Male",
         "Sports and travel",
         86.31,
         7,
         30.2085,
         634.3785,
         "2019-02-08",
         "2025-02-04T10:37:00.000+0000",
         "Ewallet",
         604.17,
         4.761904762,
         30.2085,
         5.3
        ],
        [
         "699-14-3026",
         "C",
         "Naypyitaw",
         "Normal",
         "Male",
         "Electronic accessories",
         85.39,
         7,
         29.8865,
         627.6165,
         "2019-03-25",
         "2025-02-04T18:30:00.000+0000",
         "Ewallet",
         597.73,
         4.761904762,
         29.8865,
         4.1
        ],
        [
         "355-53-5943",
         "A",
         "Yangon",
         "Member",
         "Female",
         "Electronic accessories",
         68.84,
         6,
         20.652,
         433.692,
         "2019-02-25",
         "2025-02-04T14:36:00.000+0000",
         "Ewallet",
         413.04,
         4.761904762,
         20.652,
         5.8
        ],
        [
         "315-22-5665",
         "C",
         "Naypyitaw",
         "Normal",
         "Female",
         "Home and lifestyle",
         73.56,
         10,
         36.78,
         772.38,
         "2019-02-24",
         "2025-02-04T11:38:00.000+0000",
         "Ewallet",
         735.6,
         4.761904762,
         36.78,
         8.0
        ],
        [
         "665-32-9167",
         "A",
         "Yangon",
         "Member",
         "Female",
         "Health and beauty",
         36.26,
         2,
         3.626,
         76.146,
         "2019-01-10",
         "2025-02-04T17:15:00.000+0000",
         "Credit card",
         72.52,
         4.761904762,
         3.626,
         7.2
        ],
        [
         "692-92-5582",
         "B",
         "Mandalay",
         "Member",
         "Female",
         "Food and beverages",
         54.84,
         3,
         8.226,
         172.746,
         "2019-02-20",
         "2025-02-04T13:27:00.000+0000",
         "Credit card",
         164.52,
         4.761904762,
         8.226,
         5.9
        ]
       ],
       "datasetInfos": [],
       "dbfsResultPath": null,
       "isJsonSchema": true,
       "metadata": {},
       "overflow": false,
       "plotOptions": {
        "customPlotOptions": {},
        "displayType": "table",
        "pivotAggregation": null,
        "pivotColumns": null,
        "xColumns": null,
        "yColumns": null
       },
       "removedWidgets": [],
       "schema": [
        {
         "metadata": "{}",
         "name": "Invoice ID",
         "type": "\"string\""
        },
        {
         "metadata": "{}",
         "name": "Branch",
         "type": "\"string\""
        },
        {
         "metadata": "{}",
         "name": "City",
         "type": "\"string\""
        },
        {
         "metadata": "{}",
         "name": "Customer type",
         "type": "\"string\""
        },
        {
         "metadata": "{}",
         "name": "Gender",
         "type": "\"string\""
        },
        {
         "metadata": "{}",
         "name": "Product line",
         "type": "\"string\""
        },
        {
         "metadata": "{}",
         "name": "Unit price",
         "type": "\"double\""
        },
        {
         "metadata": "{}",
         "name": "Quantity",
         "type": "\"integer\""
        },
        {
         "metadata": "{}",
         "name": "Tax 5%",
         "type": "\"double\""
        },
        {
         "metadata": "{}",
         "name": "Total",
         "type": "\"double\""
        },
        {
         "metadata": "{\"__detected_date_formats\":\"d-M-yyyy\"}",
         "name": "Date",
         "type": "\"date\""
        },
        {
         "metadata": "{}",
         "name": "Time",
         "type": "\"timestamp\""
        },
        {
         "metadata": "{}",
         "name": "Payment",
         "type": "\"string\""
        },
        {
         "metadata": "{}",
         "name": "cogs",
         "type": "\"double\""
        },
        {
         "metadata": "{}",
         "name": "gross margin percentage",
         "type": "\"double\""
        },
        {
         "metadata": "{}",
         "name": "gross income",
         "type": "\"double\""
        },
        {
         "metadata": "{}",
         "name": "Rating",
         "type": "\"double\""
        }
       ],
       "type": "table"
      }
     },
     "output_type": "display_data"
    }
   ],
   "source": [
    "display(df.limit(10))"
   ]
  },
  {
   "cell_type": "code",
   "execution_count": 0,
   "metadata": {
    "application/vnd.databricks.v1+cell": {
     "cellMetadata": {
      "byteLimit": 2048000,
      "rowLimit": 10000
     },
     "inputWidgets": {},
     "nuid": "2e75bba4-6479-4f4b-8d5e-8e587feccd43",
     "showTitle": false,
     "tableResultSettingsMap": {},
     "title": ""
    }
   },
   "outputs": [],
   "source": [
    "from pyspark.sql.functions import *\n",
    "from pyspark.sql import types"
   ]
  },
  {
   "cell_type": "code",
   "execution_count": 0,
   "metadata": {
    "application/vnd.databricks.v1+cell": {
     "cellMetadata": {
      "byteLimit": 2048000,
      "rowLimit": 10000
     },
     "inputWidgets": {},
     "nuid": "2b9a5b94-6118-47ee-a6d0-0e36f0ca62c6",
     "showTitle": false,
     "tableResultSettingsMap": {},
     "title": ""
    }
   },
   "outputs": [
    {
     "output_type": "stream",
     "name": "stdout",
     "output_type": "stream",
     "text": [
      "root\n |-- Invoice ID: string (nullable = true)\n |-- Branch: string (nullable = true)\n |-- City: string (nullable = true)\n |-- Customer type: string (nullable = true)\n |-- Gender: string (nullable = true)\n |-- Product line: string (nullable = true)\n |-- Unit price: double (nullable = true)\n |-- Quantity: integer (nullable = true)\n |-- Tax 5%: double (nullable = true)\n |-- Total: double (nullable = true)\n |-- Date: date (nullable = true)\n |-- Time: timestamp (nullable = true)\n |-- Payment: string (nullable = true)\n |-- cogs: double (nullable = true)\n |-- gross margin percentage: double (nullable = true)\n |-- gross income: double (nullable = true)\n |-- Rating: double (nullable = true)\n\n"
     ]
    }
   ],
   "source": [
    "df.printSchema()"
   ]
  },
  {
   "cell_type": "code",
   "execution_count": 0,
   "metadata": {
    "application/vnd.databricks.v1+cell": {
     "cellMetadata": {
      "byteLimit": 2048000,
      "rowLimit": 10000
     },
     "inputWidgets": {},
     "nuid": "7d1920cf-9222-4801-aa98-d6466a16ac8b",
     "showTitle": false,
     "tableResultSettingsMap": {},
     "title": ""
    }
   },
   "outputs": [],
   "source": [
    "df.createOrReplaceTempView('Walmart')"
   ]
  },
  {
   "cell_type": "code",
   "execution_count": 0,
   "metadata": {
    "application/vnd.databricks.v1+cell": {
     "cellMetadata": {
      "byteLimit": 2048000,
      "rowLimit": 10000
     },
     "inputWidgets": {},
     "nuid": "6e25ecaf-95d2-4d35-9ce6-3f83f50e9507",
     "showTitle": false,
     "tableResultSettingsMap": {},
     "title": ""
    }
   },
   "outputs": [
    {
     "output_type": "display_data",
     "data": {
      "text/html": [
       "<style scoped>\n",
       "  .table-result-container {\n",
       "    max-height: 300px;\n",
       "    overflow: auto;\n",
       "  }\n",
       "  table, th, td {\n",
       "    border: 1px solid black;\n",
       "    border-collapse: collapse;\n",
       "  }\n",
       "  th, td {\n",
       "    padding: 5px;\n",
       "  }\n",
       "  th {\n",
       "    text-align: left;\n",
       "  }\n",
       "</style><div class='table-result-container'><table class='table-result'><thead style='background-color: white'><tr><th>Invoice ID</th><th>Branch</th><th>City</th><th>Customer type</th><th>Gender</th><th>Product line</th><th>Unit price</th><th>Quantity</th><th>Tax 5%</th><th>Total</th><th>Date</th><th>Time</th><th>Payment</th><th>cogs</th><th>gross margin percentage</th><th>gross income</th><th>Rating</th><th>time_of_day</th></tr></thead><tbody><tr><td>750-67-8428</td><td>A</td><td>Yangon</td><td>Member</td><td>Female</td><td>Health and beauty</td><td>74.69</td><td>7</td><td>26.1415</td><td>548.9715</td><td>2019-01-05</td><td>2025-02-04T13:08:00.000+0000</td><td>Ewallet</td><td>522.83</td><td>4.761904762</td><td>26.1415</td><td>9.1</td><td>Afternoon</td></tr><tr><td>226-31-3081</td><td>C</td><td>Naypyitaw</td><td>Normal</td><td>Female</td><td>Electronic accessories</td><td>15.28</td><td>5</td><td>3.82</td><td>80.22</td><td>2019-03-08</td><td>2025-02-04T10:29:00.000+0000</td><td>Cash</td><td>76.4</td><td>4.761904762</td><td>3.82</td><td>9.6</td><td>Morning</td></tr><tr><td>631-41-3108</td><td>A</td><td>Yangon</td><td>Normal</td><td>Male</td><td>Home and lifestyle</td><td>46.33</td><td>7</td><td>16.2155</td><td>340.5255</td><td>2019-03-03</td><td>2025-02-04T13:23:00.000+0000</td><td>Credit card</td><td>324.31</td><td>4.761904762</td><td>16.2155</td><td>7.4</td><td>Afternoon</td></tr><tr><td>123-19-1176</td><td>A</td><td>Yangon</td><td>Member</td><td>Male</td><td>Health and beauty</td><td>58.22</td><td>8</td><td>23.288</td><td>489.048</td><td>2019-01-27</td><td>2025-02-04T20:33:00.000+0000</td><td>Ewallet</td><td>465.76</td><td>4.761904762</td><td>23.288</td><td>8.4</td><td>Evening</td></tr><tr><td>373-73-7910</td><td>A</td><td>Yangon</td><td>Normal</td><td>Male</td><td>Sports and travel</td><td>86.31</td><td>7</td><td>30.2085</td><td>634.3785</td><td>2019-02-08</td><td>2025-02-04T10:37:00.000+0000</td><td>Ewallet</td><td>604.17</td><td>4.761904762</td><td>30.2085</td><td>5.3</td><td>Morning</td></tr><tr><td>699-14-3026</td><td>C</td><td>Naypyitaw</td><td>Normal</td><td>Male</td><td>Electronic accessories</td><td>85.39</td><td>7</td><td>29.8865</td><td>627.6165</td><td>2019-03-25</td><td>2025-02-04T18:30:00.000+0000</td><td>Ewallet</td><td>597.73</td><td>4.761904762</td><td>29.8865</td><td>4.1</td><td>Evening</td></tr><tr><td>355-53-5943</td><td>A</td><td>Yangon</td><td>Member</td><td>Female</td><td>Electronic accessories</td><td>68.84</td><td>6</td><td>20.652</td><td>433.692</td><td>2019-02-25</td><td>2025-02-04T14:36:00.000+0000</td><td>Ewallet</td><td>413.04</td><td>4.761904762</td><td>20.652</td><td>5.8</td><td>Afternoon</td></tr><tr><td>315-22-5665</td><td>C</td><td>Naypyitaw</td><td>Normal</td><td>Female</td><td>Home and lifestyle</td><td>73.56</td><td>10</td><td>36.78</td><td>772.38</td><td>2019-02-24</td><td>2025-02-04T11:38:00.000+0000</td><td>Ewallet</td><td>735.6</td><td>4.761904762</td><td>36.78</td><td>8.0</td><td>Morning</td></tr><tr><td>665-32-9167</td><td>A</td><td>Yangon</td><td>Member</td><td>Female</td><td>Health and beauty</td><td>36.26</td><td>2</td><td>3.626</td><td>76.146</td><td>2019-01-10</td><td>2025-02-04T17:15:00.000+0000</td><td>Credit card</td><td>72.52</td><td>4.761904762</td><td>3.626</td><td>7.2</td><td>Evening</td></tr><tr><td>692-92-5582</td><td>B</td><td>Mandalay</td><td>Member</td><td>Female</td><td>Food and beverages</td><td>54.84</td><td>3</td><td>8.226</td><td>172.746</td><td>2019-02-20</td><td>2025-02-04T13:27:00.000+0000</td><td>Credit card</td><td>164.52</td><td>4.761904762</td><td>8.226</td><td>5.9</td><td>Afternoon</td></tr></tbody></table></div>"
      ]
     },
     "metadata": {
      "application/vnd.databricks.v1+output": {
       "addedWidgets": {},
       "aggData": [],
       "aggError": "",
       "aggOverflow": false,
       "aggSchema": [],
       "aggSeriesLimitReached": false,
       "aggType": "",
       "arguments": {},
       "columnCustomDisplayInfos": {},
       "data": [
        [
         "750-67-8428",
         "A",
         "Yangon",
         "Member",
         "Female",
         "Health and beauty",
         74.69,
         7,
         26.1415,
         548.9715,
         "2019-01-05",
         "2025-02-04T13:08:00.000+0000",
         "Ewallet",
         522.83,
         4.761904762,
         26.1415,
         9.1,
         "Afternoon"
        ],
        [
         "226-31-3081",
         "C",
         "Naypyitaw",
         "Normal",
         "Female",
         "Electronic accessories",
         15.28,
         5,
         3.82,
         80.22,
         "2019-03-08",
         "2025-02-04T10:29:00.000+0000",
         "Cash",
         76.4,
         4.761904762,
         3.82,
         9.6,
         "Morning"
        ],
        [
         "631-41-3108",
         "A",
         "Yangon",
         "Normal",
         "Male",
         "Home and lifestyle",
         46.33,
         7,
         16.2155,
         340.5255,
         "2019-03-03",
         "2025-02-04T13:23:00.000+0000",
         "Credit card",
         324.31,
         4.761904762,
         16.2155,
         7.4,
         "Afternoon"
        ],
        [
         "123-19-1176",
         "A",
         "Yangon",
         "Member",
         "Male",
         "Health and beauty",
         58.22,
         8,
         23.288,
         489.048,
         "2019-01-27",
         "2025-02-04T20:33:00.000+0000",
         "Ewallet",
         465.76,
         4.761904762,
         23.288,
         8.4,
         "Evening"
        ],
        [
         "373-73-7910",
         "A",
         "Yangon",
         "Normal",
         "Male",
         "Sports and travel",
         86.31,
         7,
         30.2085,
         634.3785,
         "2019-02-08",
         "2025-02-04T10:37:00.000+0000",
         "Ewallet",
         604.17,
         4.761904762,
         30.2085,
         5.3,
         "Morning"
        ],
        [
         "699-14-3026",
         "C",
         "Naypyitaw",
         "Normal",
         "Male",
         "Electronic accessories",
         85.39,
         7,
         29.8865,
         627.6165,
         "2019-03-25",
         "2025-02-04T18:30:00.000+0000",
         "Ewallet",
         597.73,
         4.761904762,
         29.8865,
         4.1,
         "Evening"
        ],
        [
         "355-53-5943",
         "A",
         "Yangon",
         "Member",
         "Female",
         "Electronic accessories",
         68.84,
         6,
         20.652,
         433.692,
         "2019-02-25",
         "2025-02-04T14:36:00.000+0000",
         "Ewallet",
         413.04,
         4.761904762,
         20.652,
         5.8,
         "Afternoon"
        ],
        [
         "315-22-5665",
         "C",
         "Naypyitaw",
         "Normal",
         "Female",
         "Home and lifestyle",
         73.56,
         10,
         36.78,
         772.38,
         "2019-02-24",
         "2025-02-04T11:38:00.000+0000",
         "Ewallet",
         735.6,
         4.761904762,
         36.78,
         8.0,
         "Morning"
        ],
        [
         "665-32-9167",
         "A",
         "Yangon",
         "Member",
         "Female",
         "Health and beauty",
         36.26,
         2,
         3.626,
         76.146,
         "2019-01-10",
         "2025-02-04T17:15:00.000+0000",
         "Credit card",
         72.52,
         4.761904762,
         3.626,
         7.2,
         "Evening"
        ],
        [
         "692-92-5582",
         "B",
         "Mandalay",
         "Member",
         "Female",
         "Food and beverages",
         54.84,
         3,
         8.226,
         172.746,
         "2019-02-20",
         "2025-02-04T13:27:00.000+0000",
         "Credit card",
         164.52,
         4.761904762,
         8.226,
         5.9,
         "Afternoon"
        ]
       ],
       "datasetInfos": [],
       "dbfsResultPath": null,
       "isJsonSchema": true,
       "metadata": {},
       "overflow": false,
       "plotOptions": {
        "customPlotOptions": {},
        "displayType": "table",
        "pivotAggregation": null,
        "pivotColumns": null,
        "xColumns": null,
        "yColumns": null
       },
       "removedWidgets": [],
       "schema": [
        {
         "metadata": "{}",
         "name": "Invoice ID",
         "type": "\"string\""
        },
        {
         "metadata": "{}",
         "name": "Branch",
         "type": "\"string\""
        },
        {
         "metadata": "{}",
         "name": "City",
         "type": "\"string\""
        },
        {
         "metadata": "{}",
         "name": "Customer type",
         "type": "\"string\""
        },
        {
         "metadata": "{}",
         "name": "Gender",
         "type": "\"string\""
        },
        {
         "metadata": "{}",
         "name": "Product line",
         "type": "\"string\""
        },
        {
         "metadata": "{}",
         "name": "Unit price",
         "type": "\"double\""
        },
        {
         "metadata": "{}",
         "name": "Quantity",
         "type": "\"integer\""
        },
        {
         "metadata": "{}",
         "name": "Tax 5%",
         "type": "\"double\""
        },
        {
         "metadata": "{}",
         "name": "Total",
         "type": "\"double\""
        },
        {
         "metadata": "{\"__detected_date_formats\":\"d-M-yyyy\"}",
         "name": "Date",
         "type": "\"date\""
        },
        {
         "metadata": "{}",
         "name": "Time",
         "type": "\"timestamp\""
        },
        {
         "metadata": "{}",
         "name": "Payment",
         "type": "\"string\""
        },
        {
         "metadata": "{}",
         "name": "cogs",
         "type": "\"double\""
        },
        {
         "metadata": "{}",
         "name": "gross margin percentage",
         "type": "\"double\""
        },
        {
         "metadata": "{}",
         "name": "gross income",
         "type": "\"double\""
        },
        {
         "metadata": "{}",
         "name": "Rating",
         "type": "\"double\""
        },
        {
         "metadata": "{}",
         "name": "time_of_day",
         "type": "\"string\""
        }
       ],
       "type": "table"
      }
     },
     "output_type": "display_data"
    }
   ],
   "source": [
    "updated_sales = spark.sql(\"\"\"\n",
    "    SELECT *,\n",
    "        CASE \n",
    "            WHEN time BETWEEN '00:00:00' AND '12:00:00' THEN 'Morning'\n",
    "            WHEN time BETWEEN '12:00:01' AND '16:00:00' THEN 'Afternoon'\n",
    "            ELSE 'Evening'\n",
    "        END AS time_of_day\n",
    "    FROM walmart\n",
    "\"\"\")\n",
    "\n",
    "\n",
    "display(updated_sales.limit(10))"
   ]
  },
  {
   "cell_type": "code",
   "execution_count": 0,
   "metadata": {
    "application/vnd.databricks.v1+cell": {
     "cellMetadata": {
      "byteLimit": 2048000,
      "implicitDf": true,
      "rowLimit": 10000
     },
     "inputWidgets": {},
     "nuid": "e6b6c691-c981-481a-8542-9cedec44dcff",
     "showTitle": false,
     "tableResultSettingsMap": {},
     "title": ""
    }
   },
   "outputs": [
    {
     "output_type": "display_data",
     "data": {
      "text/html": [
       "<style scoped>\n",
       "  .table-result-container {\n",
       "    max-height: 300px;\n",
       "    overflow: auto;\n",
       "  }\n",
       "  table, th, td {\n",
       "    border: 1px solid black;\n",
       "    border-collapse: collapse;\n",
       "  }\n",
       "  th, td {\n",
       "    padding: 5px;\n",
       "  }\n",
       "  th {\n",
       "    text-align: left;\n",
       "  }\n",
       "</style><div class='table-result-container'><table class='table-result'><thead style='background-color: white'><tr><th>City</th></tr></thead><tbody><tr><td>Naypyitaw</td></tr><tr><td>Mandalay</td></tr><tr><td>Yangon</td></tr></tbody></table></div>"
      ]
     },
     "metadata": {
      "application/vnd.databricks.v1+output": {
       "addedWidgets": {},
       "aggData": [],
       "aggError": "",
       "aggOverflow": false,
       "aggSchema": [],
       "aggSeriesLimitReached": false,
       "aggType": "",
       "arguments": {},
       "columnCustomDisplayInfos": {},
       "data": [
        [
         "Naypyitaw"
        ],
        [
         "Mandalay"
        ],
        [
         "Yangon"
        ]
       ],
       "datasetInfos": [],
       "dbfsResultPath": null,
       "isJsonSchema": true,
       "metadata": {},
       "overflow": false,
       "plotOptions": {
        "customPlotOptions": {},
        "displayType": "table",
        "pivotAggregation": null,
        "pivotColumns": null,
        "xColumns": null,
        "yColumns": null
       },
       "removedWidgets": [],
       "schema": [
        {
         "metadata": "{}",
         "name": "City",
         "type": "\"string\""
        }
       ],
       "type": "table"
      }
     },
     "output_type": "display_data"
    }
   ],
   "source": [
    "\n",
    "# -- How many unique cities does the data have?\n",
    "unique_cities = spark.sql(\"\"\"\n",
    "    SELECT DISTINCT City FROM walmart\n",
    "\"\"\")\n",
    "unique_cities.display()\n",
    "\n"
   ]
  },
  {
   "cell_type": "code",
   "execution_count": 0,
   "metadata": {
    "application/vnd.databricks.v1+cell": {
     "cellMetadata": {
      "byteLimit": 2048000,
      "rowLimit": 10000
     },
     "inputWidgets": {},
     "nuid": "a77e2562-5bdd-4d60-ba61-747295f13d8f",
     "showTitle": false,
     "tableResultSettingsMap": {},
     "title": ""
    }
   },
   "outputs": [
    {
     "output_type": "display_data",
     "data": {
      "text/html": [
       "<style scoped>\n",
       "  .table-result-container {\n",
       "    max-height: 300px;\n",
       "    overflow: auto;\n",
       "  }\n",
       "  table, th, td {\n",
       "    border: 1px solid black;\n",
       "    border-collapse: collapse;\n",
       "  }\n",
       "  th, td {\n",
       "    padding: 5px;\n",
       "  }\n",
       "  th {\n",
       "    text-align: left;\n",
       "  }\n",
       "</style><div class='table-result-container'><table class='table-result'><thead style='background-color: white'><tr><th>Invoice ID</th><th>Branch</th><th>City</th><th>Customer type</th><th>Gender</th><th>Product line</th><th>Unit price</th><th>Quantity</th><th>Tax 5%</th><th>Total</th><th>Date</th><th>Time</th><th>Payment</th><th>cogs</th><th>gross margin percentage</th><th>gross income</th><th>Rating</th><th>time_of_day</th></tr></thead><tbody><tr><td>750-67-8428</td><td>A</td><td>Yangon</td><td>Member</td><td>Female</td><td>Health and beauty</td><td>74.69</td><td>7</td><td>26.1415</td><td>548.9715</td><td>2019-01-05</td><td>2025-02-04T13:08:00.000+0000</td><td>Ewallet</td><td>522.83</td><td>4.761904762</td><td>26.1415</td><td>9.1</td><td>Afternoon</td></tr><tr><td>226-31-3081</td><td>C</td><td>Naypyitaw</td><td>Normal</td><td>Female</td><td>Electronic accessories</td><td>15.28</td><td>5</td><td>3.82</td><td>80.22</td><td>2019-03-08</td><td>2025-02-04T10:29:00.000+0000</td><td>Cash</td><td>76.4</td><td>4.761904762</td><td>3.82</td><td>9.6</td><td>Morning</td></tr><tr><td>631-41-3108</td><td>A</td><td>Yangon</td><td>Normal</td><td>Male</td><td>Home and lifestyle</td><td>46.33</td><td>7</td><td>16.2155</td><td>340.5255</td><td>2019-03-03</td><td>2025-02-04T13:23:00.000+0000</td><td>Credit card</td><td>324.31</td><td>4.761904762</td><td>16.2155</td><td>7.4</td><td>Afternoon</td></tr><tr><td>123-19-1176</td><td>A</td><td>Yangon</td><td>Member</td><td>Male</td><td>Health and beauty</td><td>58.22</td><td>8</td><td>23.288</td><td>489.048</td><td>2019-01-27</td><td>2025-02-04T20:33:00.000+0000</td><td>Ewallet</td><td>465.76</td><td>4.761904762</td><td>23.288</td><td>8.4</td><td>Evening</td></tr><tr><td>373-73-7910</td><td>A</td><td>Yangon</td><td>Normal</td><td>Male</td><td>Sports and travel</td><td>86.31</td><td>7</td><td>30.2085</td><td>634.3785</td><td>2019-02-08</td><td>2025-02-04T10:37:00.000+0000</td><td>Ewallet</td><td>604.17</td><td>4.761904762</td><td>30.2085</td><td>5.3</td><td>Morning</td></tr><tr><td>699-14-3026</td><td>C</td><td>Naypyitaw</td><td>Normal</td><td>Male</td><td>Electronic accessories</td><td>85.39</td><td>7</td><td>29.8865</td><td>627.6165</td><td>2019-03-25</td><td>2025-02-04T18:30:00.000+0000</td><td>Ewallet</td><td>597.73</td><td>4.761904762</td><td>29.8865</td><td>4.1</td><td>Evening</td></tr><tr><td>355-53-5943</td><td>A</td><td>Yangon</td><td>Member</td><td>Female</td><td>Electronic accessories</td><td>68.84</td><td>6</td><td>20.652</td><td>433.692</td><td>2019-02-25</td><td>2025-02-04T14:36:00.000+0000</td><td>Ewallet</td><td>413.04</td><td>4.761904762</td><td>20.652</td><td>5.8</td><td>Afternoon</td></tr><tr><td>315-22-5665</td><td>C</td><td>Naypyitaw</td><td>Normal</td><td>Female</td><td>Home and lifestyle</td><td>73.56</td><td>10</td><td>36.78</td><td>772.38</td><td>2019-02-24</td><td>2025-02-04T11:38:00.000+0000</td><td>Ewallet</td><td>735.6</td><td>4.761904762</td><td>36.78</td><td>8.0</td><td>Morning</td></tr><tr><td>665-32-9167</td><td>A</td><td>Yangon</td><td>Member</td><td>Female</td><td>Health and beauty</td><td>36.26</td><td>2</td><td>3.626</td><td>76.146</td><td>2019-01-10</td><td>2025-02-04T17:15:00.000+0000</td><td>Credit card</td><td>72.52</td><td>4.761904762</td><td>3.626</td><td>7.2</td><td>Evening</td></tr><tr><td>692-92-5582</td><td>B</td><td>Mandalay</td><td>Member</td><td>Female</td><td>Food and beverages</td><td>54.84</td><td>3</td><td>8.226</td><td>172.746</td><td>2019-02-20</td><td>2025-02-04T13:27:00.000+0000</td><td>Credit card</td><td>164.52</td><td>4.761904762</td><td>8.226</td><td>5.9</td><td>Afternoon</td></tr></tbody></table></div>"
      ]
     },
     "metadata": {
      "application/vnd.databricks.v1+output": {
       "addedWidgets": {},
       "aggData": [],
       "aggError": "",
       "aggOverflow": false,
       "aggSchema": [],
       "aggSeriesLimitReached": false,
       "aggType": "",
       "arguments": {},
       "columnCustomDisplayInfos": {},
       "data": [
        [
         "750-67-8428",
         "A",
         "Yangon",
         "Member",
         "Female",
         "Health and beauty",
         74.69,
         7,
         26.1415,
         548.9715,
         "2019-01-05",
         "2025-02-04T13:08:00.000+0000",
         "Ewallet",
         522.83,
         4.761904762,
         26.1415,
         9.1,
         "Afternoon"
        ],
        [
         "226-31-3081",
         "C",
         "Naypyitaw",
         "Normal",
         "Female",
         "Electronic accessories",
         15.28,
         5,
         3.82,
         80.22,
         "2019-03-08",
         "2025-02-04T10:29:00.000+0000",
         "Cash",
         76.4,
         4.761904762,
         3.82,
         9.6,
         "Morning"
        ],
        [
         "631-41-3108",
         "A",
         "Yangon",
         "Normal",
         "Male",
         "Home and lifestyle",
         46.33,
         7,
         16.2155,
         340.5255,
         "2019-03-03",
         "2025-02-04T13:23:00.000+0000",
         "Credit card",
         324.31,
         4.761904762,
         16.2155,
         7.4,
         "Afternoon"
        ],
        [
         "123-19-1176",
         "A",
         "Yangon",
         "Member",
         "Male",
         "Health and beauty",
         58.22,
         8,
         23.288,
         489.048,
         "2019-01-27",
         "2025-02-04T20:33:00.000+0000",
         "Ewallet",
         465.76,
         4.761904762,
         23.288,
         8.4,
         "Evening"
        ],
        [
         "373-73-7910",
         "A",
         "Yangon",
         "Normal",
         "Male",
         "Sports and travel",
         86.31,
         7,
         30.2085,
         634.3785,
         "2019-02-08",
         "2025-02-04T10:37:00.000+0000",
         "Ewallet",
         604.17,
         4.761904762,
         30.2085,
         5.3,
         "Morning"
        ],
        [
         "699-14-3026",
         "C",
         "Naypyitaw",
         "Normal",
         "Male",
         "Electronic accessories",
         85.39,
         7,
         29.8865,
         627.6165,
         "2019-03-25",
         "2025-02-04T18:30:00.000+0000",
         "Ewallet",
         597.73,
         4.761904762,
         29.8865,
         4.1,
         "Evening"
        ],
        [
         "355-53-5943",
         "A",
         "Yangon",
         "Member",
         "Female",
         "Electronic accessories",
         68.84,
         6,
         20.652,
         433.692,
         "2019-02-25",
         "2025-02-04T14:36:00.000+0000",
         "Ewallet",
         413.04,
         4.761904762,
         20.652,
         5.8,
         "Afternoon"
        ],
        [
         "315-22-5665",
         "C",
         "Naypyitaw",
         "Normal",
         "Female",
         "Home and lifestyle",
         73.56,
         10,
         36.78,
         772.38,
         "2019-02-24",
         "2025-02-04T11:38:00.000+0000",
         "Ewallet",
         735.6,
         4.761904762,
         36.78,
         8.0,
         "Morning"
        ],
        [
         "665-32-9167",
         "A",
         "Yangon",
         "Member",
         "Female",
         "Health and beauty",
         36.26,
         2,
         3.626,
         76.146,
         "2019-01-10",
         "2025-02-04T17:15:00.000+0000",
         "Credit card",
         72.52,
         4.761904762,
         3.626,
         7.2,
         "Evening"
        ],
        [
         "692-92-5582",
         "B",
         "Mandalay",
         "Member",
         "Female",
         "Food and beverages",
         54.84,
         3,
         8.226,
         172.746,
         "2019-02-20",
         "2025-02-04T13:27:00.000+0000",
         "Credit card",
         164.52,
         4.761904762,
         8.226,
         5.9,
         "Afternoon"
        ]
       ],
       "datasetInfos": [],
       "dbfsResultPath": null,
       "isJsonSchema": true,
       "metadata": {},
       "overflow": false,
       "plotOptions": {
        "customPlotOptions": {},
        "displayType": "table",
        "pivotAggregation": null,
        "pivotColumns": null,
        "xColumns": null,
        "yColumns": null
       },
       "removedWidgets": [],
       "schema": [
        {
         "metadata": "{}",
         "name": "Invoice ID",
         "type": "\"string\""
        },
        {
         "metadata": "{}",
         "name": "Branch",
         "type": "\"string\""
        },
        {
         "metadata": "{}",
         "name": "City",
         "type": "\"string\""
        },
        {
         "metadata": "{}",
         "name": "Customer type",
         "type": "\"string\""
        },
        {
         "metadata": "{}",
         "name": "Gender",
         "type": "\"string\""
        },
        {
         "metadata": "{}",
         "name": "Product line",
         "type": "\"string\""
        },
        {
         "metadata": "{}",
         "name": "Unit price",
         "type": "\"double\""
        },
        {
         "metadata": "{}",
         "name": "Quantity",
         "type": "\"integer\""
        },
        {
         "metadata": "{}",
         "name": "Tax 5%",
         "type": "\"double\""
        },
        {
         "metadata": "{}",
         "name": "Total",
         "type": "\"double\""
        },
        {
         "metadata": "{\"__detected_date_formats\":\"d-M-yyyy\"}",
         "name": "Date",
         "type": "\"date\""
        },
        {
         "metadata": "{}",
         "name": "Time",
         "type": "\"timestamp\""
        },
        {
         "metadata": "{}",
         "name": "Payment",
         "type": "\"string\""
        },
        {
         "metadata": "{}",
         "name": "cogs",
         "type": "\"double\""
        },
        {
         "metadata": "{}",
         "name": "gross margin percentage",
         "type": "\"double\""
        },
        {
         "metadata": "{}",
         "name": "gross income",
         "type": "\"double\""
        },
        {
         "metadata": "{}",
         "name": "Rating",
         "type": "\"double\""
        },
        {
         "metadata": "{}",
         "name": "time_of_day",
         "type": "\"string\""
        }
       ],
       "type": "table"
      }
     },
     "output_type": "display_data"
    }
   ],
   "source": [
    "from pyspark.sql.functions import when, col\n",
    "\n",
    "df = df.withColumn('time_of_day',\n",
    "                   when(col('time').between('00:00:00', '12:00:00'), 'Morning')\n",
    "                   .when(col('time').between('12:00:01', '16:00:00'), 'Afternoon')\n",
    "                   .otherwise('Evening'))\n",
    "\n",
    "display(df.limit(10))\n",
    "\n"
   ]
  },
  {
   "cell_type": "code",
   "execution_count": 0,
   "metadata": {
    "application/vnd.databricks.v1+cell": {
     "cellMetadata": {
      "byteLimit": 2048000,
      "rowLimit": 10000
     },
     "inputWidgets": {},
     "nuid": "05374f66-6acb-485e-b040-936bb370e538",
     "showTitle": false,
     "tableResultSettingsMap": {},
     "title": ""
    }
   },
   "outputs": [
    {
     "output_type": "display_data",
     "data": {
      "application/vnd.databricks.v1+bamboolib_hint": "{\"pd.DataFrames\": [], \"version\": \"0.0.1\"}",
      "text/plain": []
     },
     "metadata": {},
     "output_type": "display_data"
    }
   ],
   "source": [
    "from matplotlib import pyplot as plt\n",
    "import pandas as pd\n",
    "import seaborn as sns\n",
    "%matplotlib inline"
   ]
  },
  {
   "cell_type": "code",
   "execution_count": 0,
   "metadata": {
    "application/vnd.databricks.v1+cell": {
     "cellMetadata": {
      "byteLimit": 2048000,
      "rowLimit": 10000
     },
     "inputWidgets": {},
     "nuid": "36d7d5a3-0b20-4998-b306-879611d9d58a",
     "showTitle": false,
     "tableResultSettingsMap": {},
     "title": ""
    }
   },
   "outputs": [
    {
     "output_type": "display_data",
     "data": {
      "image/png": "[encoded data removed]"
     },
     "metadata": {
      "application/vnd.databricks.v1+output": {
       "addedWidgets": {},
       "arguments": {},
       "data": "data:image/png;base64,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\n",
       "datasetInfos": [],
       "metadata": {},
       "removedWidgets": [],
       "type": "image"
      }
     },
     "output_type": "display_data"
    }
   ],
   "source": [
    "sample_data=df.select(col('time_of_day'))\n",
    "d=sample_data.toPandas()\n",
    "sns.set(rc={'figure.figsize':(10,5)})\n",
    "x=sns.countplot(x='time_of_day',data=d)\n",
    "for bars in x.containers:\n",
    "    x.bar_label(bars)"
   ]
  },
  {
   "cell_type": "code",
   "execution_count": 0,
   "metadata": {
    "application/vnd.databricks.v1+cell": {
     "cellMetadata": {
      "byteLimit": 2048000,
      "rowLimit": 10000
     },
     "inputWidgets": {},
     "nuid": "64db77e2-4718-4b07-8d30-cb481e7b8dfc",
     "showTitle": false,
     "tableResultSettingsMap": {},
     "title": ""
    }
   },
   "outputs": [
    {
     "output_type": "display_data",
     "data": {
      "image/png": "[encoded data removed]"
     },
     "metadata": {
      "application/vnd.databricks.v1+output": {
       "addedWidgets": {},
       "arguments": {},
       "data": "data:image/png;base64,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\n",
       "datasetInfos": [],
       "metadata": {},
       "removedWidgets": [],
       "type": "image"
      }
     },
     "output_type": "display_data"
    }
   ],
   "source": [
    "sm_data=df.select(col('Payment'))\n",
    "a=sm_data.toPandas()\n",
    "sns.set(rc={'figure.figsize':(10,5)})\n",
    "x=sns.countplot(x='Payment',data=a)\n",
    "for bars in x.containers:\n",
    "    x.bar_label(bars)"
   ]
  },
  {
   "cell_type": "code",
   "execution_count": 0,
   "metadata": {
    "application/vnd.databricks.v1+cell": {
     "cellMetadata": {
      "byteLimit": 2048000,
      "rowLimit": 10000
     },
     "inputWidgets": {},
     "nuid": "8a987b93-b431-4ada-91e1-9b9db6197d9a",
     "showTitle": false,
     "tableResultSettingsMap": {},
     "title": ""
    }
   },
   "outputs": [
    {
     "output_type": "display_data",
     "data": {
      "text/html": [
       "<style scoped>\n",
       "  .table-result-container {\n",
       "    max-height: 300px;\n",
       "    overflow: auto;\n",
       "  }\n",
       "  table, th, td {\n",
       "    border: 1px solid black;\n",
       "    border-collapse: collapse;\n",
       "  }\n",
       "  th, td {\n",
       "    padding: 5px;\n",
       "  }\n",
       "  th {\n",
       "    text-align: left;\n",
       "  }\n",
       "</style><div class='table-result-container'><table class='table-result'><thead style='background-color: white'><tr><th>Product line</th></tr></thead><tbody><tr><td>Home and lifestyle</td></tr><tr><td>Fashion accessories</td></tr><tr><td>Health and beauty</td></tr><tr><td>Electronic accessories</td></tr><tr><td>Food and beverages</td></tr><tr><td>Sports and travel</td></tr></tbody></table></div>"
      ]
     },
     "metadata": {
      "application/vnd.databricks.v1+output": {
       "addedWidgets": {},
       "aggData": [],
       "aggError": "",
       "aggOverflow": false,
       "aggSchema": [],
       "aggSeriesLimitReached": false,
       "aggType": "",
       "arguments": {},
       "columnCustomDisplayInfos": {},
       "data": [
        [
         "Home and lifestyle"
        ],
        [
         "Fashion accessories"
        ],
        [
         "Health and beauty"
        ],
        [
         "Electronic accessories"
        ],
        [
         "Food and beverages"
        ],
        [
         "Sports and travel"
        ]
       ],
       "datasetInfos": [],
       "dbfsResultPath": null,
       "isJsonSchema": true,
       "metadata": {},
       "overflow": false,
       "plotOptions": {
        "customPlotOptions": {},
        "displayType": "table",
        "pivotAggregation": null,
        "pivotColumns": null,
        "xColumns": null,
        "yColumns": null
       },
       "removedWidgets": [],
       "schema": [
        {
         "metadata": "{}",
         "name": "Product line",
         "type": "\"string\""
        }
       ],
       "type": "table"
      }
     },
     "output_type": "display_data"
    }
   ],
   "source": [
    "# How many unique product lines does the data have?\n",
    "\n",
    "products_types=spark.sql(\"\"\"select distinct `Product line` from walmart\"\"\")\n",
    "\n",
    "products_types.display()"
   ]
  },
  {
   "cell_type": "code",
   "execution_count": 0,
   "metadata": {
    "application/vnd.databricks.v1+cell": {
     "cellMetadata": {
      "byteLimit": 2048000,
      "rowLimit": 10000
     },
     "inputWidgets": {},
     "nuid": "c3cfacf1-6c37-43e7-996c-beef9cf529cc",
     "showTitle": false,
     "tableResultSettingsMap": {},
     "title": ""
    }
   },
   "outputs": [
    {
     "output_type": "display_data",
     "data": {
      "image/png": "[encoded data removed]"
     },
     "metadata": {
      "application/vnd.databricks.v1+output": {
       "addedWidgets": {},
       "arguments": {},
       "data": "data:image/png;base64,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\n",
       "datasetInfos": [],
       "metadata": {},
       "removedWidgets": [],
       "type": "image"
      }
     },
     "output_type": "display_data"
    }
   ],
   "source": [
    "da = df.select(col('product line')).toPandas()\n",
    "da.rename(columns={\"product line\": \"Product_line\"}, inplace=True)\n",
    "sns.set(rc={'figure.figsize':(19,5)})\n",
    "x = sns.countplot(x=\"Product_line\", data=da)\n",
    "for bars in x.containers:\n",
    "    x.bar_label(bars)"
   ]
  },
  {
   "cell_type": "code",
   "execution_count": 0,
   "metadata": {
    "application/vnd.databricks.v1+cell": {
     "cellMetadata": {
      "byteLimit": 2048000,
      "rowLimit": 10000
     },
     "inputWidgets": {},
     "nuid": "cfb7f2cc-7f7d-4732-82d1-061d63225a62",
     "showTitle": false,
     "tableResultSettingsMap": {},
     "title": ""
    }
   },
   "outputs": [
    {
     "output_type": "display_data",
     "data": {
      "text/html": [
       "<style scoped>\n",
       "  .table-result-container {\n",
       "    max-height: 300px;\n",
       "    overflow: auto;\n",
       "  }\n",
       "  table, th, td {\n",
       "    border: 1px solid black;\n",
       "    border-collapse: collapse;\n",
       "  }\n",
       "  th, td {\n",
       "    padding: 5px;\n",
       "  }\n",
       "  th {\n",
       "    text-align: left;\n",
       "  }\n",
       "</style><div class='table-result-container'><table class='table-result'><thead style='background-color: white'><tr><th>product_sold_count</th><th>product line</th></tr></thead><tbody><tr><td>178</td><td>Fashion accessories</td></tr><tr><td>174</td><td>Food and beverages</td></tr><tr><td>170</td><td>Electronic accessories</td></tr><tr><td>166</td><td>Sports and travel</td></tr><tr><td>160</td><td>Home and lifestyle</td></tr><tr><td>152</td><td>Health and beauty</td></tr></tbody></table></div>"
      ]
     },
     "metadata": {
      "application/vnd.databricks.v1+output": {
       "addedWidgets": {},
       "aggData": [],
       "aggError": "",
       "aggOverflow": false,
       "aggSchema": [],
       "aggSeriesLimitReached": false,
       "aggType": "",
       "arguments": {},
       "columnCustomDisplayInfos": {},
       "data": [
        [
         178,
         "Fashion accessories"
        ],
        [
         174,
         "Food and beverages"
        ],
        [
         170,
         "Electronic accessories"
        ],
        [
         166,
         "Sports and travel"
        ],
        [
         160,
         "Home and lifestyle"
        ],
        [
         152,
         "Health and beauty"
        ]
       ],
       "datasetInfos": [],
       "dbfsResultPath": null,
       "isJsonSchema": true,
       "metadata": {},
       "overflow": false,
       "plotOptions": {
        "customPlotOptions": {},
        "displayType": "table",
        "pivotAggregation": null,
        "pivotColumns": null,
        "xColumns": null,
        "yColumns": null
       },
       "removedWidgets": [],
       "schema": [
        {
         "metadata": "{}",
         "name": "product_sold_count",
         "type": "\"long\""
        },
        {
         "metadata": "{}",
         "name": "product line",
         "type": "\"string\""
        }
       ],
       "type": "table"
      }
     },
     "output_type": "display_data"
    }
   ],
   "source": [
    "\n",
    "# What is the most selling product line\n",
    "\n",
    "most_selling=spark.sql(\"\"\"\n",
    "                       select count(`product line`) as product_sold_count,`product line` from walmart group by `product line` order by count(`product line`) desc\n",
    "                       \"\"\")\n",
    "most_selling.display()"
   ]
  },
  {
   "cell_type": "code",
   "execution_count": 0,
   "metadata": {
    "application/vnd.databricks.v1+cell": {
     "cellMetadata": {
      "byteLimit": 2048000,
      "rowLimit": 10000
     },
     "inputWidgets": {},
     "nuid": "2ef0cceb-ec22-4f64-ab87-ab45dd00e9d6",
     "showTitle": false,
     "tableResultSettingsMap": {},
     "title": ""
    }
   },
   "outputs": [],
   "source": [
    "#  What is the total revenue by month\n",
    "\n",
    "df = df.withColumn(\"Year\", date_format(col(\"Date\"), \"yyyy\")) \\\n",
    "       .withColumn(\"Month\", date_format(col(\"Date\"), \"MM\"))\n",
    "\n",
    "df.createOrReplaceTempView(\"walmart\")\n"
   ]
  },
  {
   "cell_type": "code",
   "execution_count": 0,
   "metadata": {
    "application/vnd.databricks.v1+cell": {
     "cellMetadata": {
      "byteLimit": 2048000,
      "rowLimit": 10000
     },
     "inputWidgets": {},
     "nuid": "40012369-a457-4d31-b5d0-b8d1d673a2ee",
     "showTitle": false,
     "tableResultSettingsMap": {},
     "title": ""
    }
   },
   "outputs": [
    {
     "output_type": "display_data",
     "data": {
      "text/html": [
       "<style scoped>\n",
       "  .table-result-container {\n",
       "    max-height: 300px;\n",
       "    overflow: auto;\n",
       "  }\n",
       "  table, th, td {\n",
       "    border: 1px solid black;\n",
       "    border-collapse: collapse;\n",
       "  }\n",
       "  th, td {\n",
       "    padding: 5px;\n",
       "  }\n",
       "  th {\n",
       "    text-align: left;\n",
       "  }\n",
       "</style><div class='table-result-container'><table class='table-result'><thead style='background-color: white'><tr><th>Month</th><th>revenue</th></tr></thead><tbody><tr><td>01</td><td>116291.87</td></tr><tr><td>03</td><td>109455.51</td></tr><tr><td>02</td><td>97219.37</td></tr></tbody></table></div>"
      ]
     },
     "metadata": {
      "application/vnd.databricks.v1+output": {
       "addedWidgets": {},
       "aggData": [],
       "aggError": "",
       "aggOverflow": false,
       "aggSchema": [],
       "aggSeriesLimitReached": false,
       "aggType": "",
       "arguments": {},
       "columnCustomDisplayInfos": {},
       "data": [
        [
         "01",
         116291.87
        ],
        [
         "03",
         109455.51
        ],
        [
         "02",
         97219.37
        ]
       ],
       "datasetInfos": [],
       "dbfsResultPath": null,
       "isJsonSchema": true,
       "metadata": {},
       "overflow": false,
       "plotOptions": {
        "customPlotOptions": {},
        "displayType": "table",
        "pivotAggregation": null,
        "pivotColumns": null,
        "xColumns": null,
        "yColumns": null
       },
       "removedWidgets": [],
       "schema": [
        {
         "metadata": "{}",
         "name": "Month",
         "type": "\"string\""
        },
        {
         "metadata": "{}",
         "name": "revenue",
         "type": "\"double\""
        }
       ],
       "type": "table"
      }
     },
     "output_type": "display_data"
    }
   ],
   "source": [
    "revenue_by_month=spark.sql(\"\"\"\n",
    "                           select Month,round(sum(total),2) as revenue from walmart group by Month\n",
    "                           \"\"\")\n",
    "\n",
    "revenue_by_month.display()"
   ]
  },
  {
   "cell_type": "code",
   "execution_count": 0,
   "metadata": {
    "application/vnd.databricks.v1+cell": {
     "cellMetadata": {
      "byteLimit": 2048000,
      "rowLimit": 10000
     },
     "inputWidgets": {},
     "nuid": "c6ed8605-72fc-422c-9825-201c0dc838c2",
     "showTitle": false,
     "tableResultSettingsMap": {},
     "title": ""
    }
   },
   "outputs": [
    {
     "output_type": "display_data",
     "data": {
      "text/html": [
       "<style scoped>\n",
       "  .table-result-container {\n",
       "    max-height: 300px;\n",
       "    overflow: auto;\n",
       "  }\n",
       "  table, th, td {\n",
       "    border: 1px solid black;\n",
       "    border-collapse: collapse;\n",
       "  }\n",
       "  th, td {\n",
       "    padding: 5px;\n",
       "  }\n",
       "  th {\n",
       "    text-align: left;\n",
       "  }\n",
       "</style><div class='table-result-container'><table class='table-result'><thead style='background-color: white'><tr><th>Month</th><th>total_cogs</th></tr></thead><tbody><tr><td>01</td><td>110754.0</td></tr><tr><td>03</td><td>104243.0</td></tr><tr><td>02</td><td>92590.0</td></tr></tbody></table></div>"
      ]
     },
     "metadata": {
      "application/vnd.databricks.v1+output": {
       "addedWidgets": {},
       "aggData": [],
       "aggError": "",
       "aggOverflow": false,
       "aggSchema": [],
       "aggSeriesLimitReached": false,
       "aggType": "",
       "arguments": {},
       "columnCustomDisplayInfos": {},
       "data": [
        [
         "01",
         110754.0
        ],
        [
         "03",
         104243.0
        ],
        [
         "02",
         92590.0
        ]
       ],
       "datasetInfos": [],
       "dbfsResultPath": null,
       "isJsonSchema": true,
       "metadata": {},
       "overflow": false,
       "plotOptions": {
        "customPlotOptions": {},
        "displayType": "table",
        "pivotAggregation": null,
        "pivotColumns": null,
        "xColumns": null,
        "yColumns": null
       },
       "removedWidgets": [],
       "schema": [
        {
         "metadata": "{}",
         "name": "Month",
         "type": "\"string\""
        },
        {
         "metadata": "{}",
         "name": "total_cogs",
         "type": "\"double\""
        }
       ],
       "type": "table"
      }
     },
     "output_type": "display_data"
    }
   ],
   "source": [
    "# What month had the largest COGS?\n",
    "\n",
    "largest_congs=spark.sql(\"\"\" \n",
    "                        select Month,round(sum(cogs)) as total_cogs from walmart group by Month order by round(sum(cogs)) desc\n",
    "                        \"\"\")\n",
    "\n",
    "largest_congs.display()"
   ]
  },
  {
   "cell_type": "code",
   "execution_count": 0,
   "metadata": {
    "application/vnd.databricks.v1+cell": {
     "cellMetadata": {
      "byteLimit": 2048000,
      "rowLimit": 10000
     },
     "inputWidgets": {},
     "nuid": "617710b4-9c55-4b56-ae66-2bb627b5dd87",
     "showTitle": false,
     "tableResultSettingsMap": {},
     "title": ""
    }
   },
   "outputs": [
    {
     "output_type": "display_data",
     "data": {
      "text/html": [
       "<style scoped>\n",
       "  .table-result-container {\n",
       "    max-height: 300px;\n",
       "    overflow: auto;\n",
       "  }\n",
       "  table, th, td {\n",
       "    border: 1px solid black;\n",
       "    border-collapse: collapse;\n",
       "  }\n",
       "  th, td {\n",
       "    padding: 5px;\n",
       "  }\n",
       "  th {\n",
       "    text-align: left;\n",
       "  }\n",
       "</style><div class='table-result-container'><table class='table-result'><thead style='background-color: white'><tr><th>product line</th><th>product_revenue</th></tr></thead><tbody><tr><td>Food and beverages</td><td>56144.84</td></tr><tr><td>Sports and travel</td><td>55122.83</td></tr><tr><td>Electronic accessories</td><td>54337.53</td></tr><tr><td>Fashion accessories</td><td>54305.9</td></tr><tr><td>Home and lifestyle</td><td>53861.91</td></tr><tr><td>Health and beauty</td><td>49193.74</td></tr></tbody></table></div>"
      ]
     },
     "metadata": {
      "application/vnd.databricks.v1+output": {
       "addedWidgets": {},
       "aggData": [],
       "aggError": "",
       "aggOverflow": false,
       "aggSchema": [],
       "aggSeriesLimitReached": false,
       "aggType": "",
       "arguments": {},
       "columnCustomDisplayInfos": {},
       "data": [
        [
         "Food and beverages",
         56144.84
        ],
        [
         "Sports and travel",
         55122.83
        ],
        [
         "Electronic accessories",
         54337.53
        ],
        [
         "Fashion accessories",
         54305.9
        ],
        [
         "Home and lifestyle",
         53861.91
        ],
        [
         "Health and beauty",
         49193.74
        ]
       ],
       "datasetInfos": [],
       "dbfsResultPath": null,
       "isJsonSchema": true,
       "metadata": {},
       "overflow": false,
       "plotOptions": {
        "customPlotOptions": {},
        "displayType": "table",
        "pivotAggregation": null,
        "pivotColumns": null,
        "xColumns": null,
        "yColumns": null
       },
       "removedWidgets": [],
       "schema": [
        {
         "metadata": "{}",
         "name": "product line",
         "type": "\"string\""
        },
        {
         "metadata": "{}",
         "name": "product_revenue",
         "type": "\"double\""
        }
       ],
       "type": "table"
      }
     },
     "output_type": "display_data"
    }
   ],
   "source": [
    "# What product line had the largest revenue?\n",
    "\n",
    "total_revenue_by_product=spark.sql(\"\"\" \n",
    "                                   select `product line`,round(sum(total),2) as product_revenue from walmart group by `product line` order by round(sum(total)) desc\n",
    "                                   \"\"\")\n",
    "\n",
    "total_revenue_by_product.display()"
   ]
  },
  {
   "cell_type": "code",
   "execution_count": 0,
   "metadata": {
    "application/vnd.databricks.v1+cell": {
     "cellMetadata": {
      "byteLimit": 2048000,
      "rowLimit": 10000
     },
     "inputWidgets": {},
     "nuid": "f1efcd55-58b8-4b89-b495-b4f282e59d8e",
     "showTitle": false,
     "tableResultSettingsMap": {},
     "title": ""
    }
   },
   "outputs": [
    {
     "output_type": "stream",
     "name": "stdout",
     "output_type": "stream",
     "text": [
      "Out[20]: Text(0.5, 1.0, 'Total Revenue by Product Line')"
     ]
    },
    {
     "output_type": "display_data",
     "data": {
      "image/png": "[encoded data removed]"
     },
     "metadata": {
      "application/vnd.databricks.v1+output": {
       "addedWidgets": {},
       "arguments": {},
       "data": "data:image/png;base64,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\n",
       "datasetInfos": [],
       "metadata": {},
       "removedWidgets": [],
       "type": "image"
      }
     },
     "output_type": "display_data"
    }
   ],
   "source": [
    "da = total_revenue_by_product.toPandas()\n",
    "da.rename(columns={\"product line\": \"Product_line\"}, inplace=True)\n",
    "plt.figure(figsize=(19, 5))\n",
    "x = sns.barplot(x=\"Product_line\", y=\"product_revenue\", data=da)\n",
    "for bars in x.containers:\n",
    "    x.bar_label(bars)\n",
    "plt.xticks(rotation=0)\n",
    "plt.xlabel(\"Product Line\")\n",
    "plt.ylabel(\"Total Revenue\")\n",
    "plt.title(\"Total Revenue by Product Line\")\n"
   ]
  },
  {
   "cell_type": "code",
   "execution_count": 0,
   "metadata": {
    "application/vnd.databricks.v1+cell": {
     "cellMetadata": {
      "byteLimit": 2048000,
      "rowLimit": 10000
     },
     "inputWidgets": {},
     "nuid": "22007770-e4cb-431f-88b9-4eb22d8f763f",
     "showTitle": false,
     "tableResultSettingsMap": {},
     "title": ""
    }
   },
   "outputs": [
    {
     "output_type": "display_data",
     "data": {
      "text/html": [
       "<style scoped>\n",
       "  .table-result-container {\n",
       "    max-height: 300px;\n",
       "    overflow: auto;\n",
       "  }\n",
       "  table, th, td {\n",
       "    border: 1px solid black;\n",
       "    border-collapse: collapse;\n",
       "  }\n",
       "  th, td {\n",
       "    padding: 5px;\n",
       "  }\n",
       "  th {\n",
       "    text-align: left;\n",
       "  }\n",
       "</style><div class='table-result-container'><table class='table-result'><thead style='background-color: white'><tr><th>city</th><th>product_revenue</th></tr></thead><tbody><tr><td>Naypyitaw</td><td>110568.71</td></tr><tr><td>Yangon</td><td>106200.37</td></tr><tr><td>Mandalay</td><td>106197.67</td></tr></tbody></table></div>"
      ]
     },
     "metadata": {
      "application/vnd.databricks.v1+output": {
       "addedWidgets": {},
       "aggData": [],
       "aggError": "",
       "aggOverflow": false,
       "aggSchema": [],
       "aggSeriesLimitReached": false,
       "aggType": "",
       "arguments": {},
       "columnCustomDisplayInfos": {},
       "data": [
        [
         "Naypyitaw",
         110568.71
        ],
        [
         "Yangon",
         106200.37
        ],
        [
         "Mandalay",
         106197.67
        ]
       ],
       "datasetInfos": [],
       "dbfsResultPath": null,
       "isJsonSchema": true,
       "metadata": {},
       "overflow": false,
       "plotOptions": {
        "customPlotOptions": {},
        "displayType": "table",
        "pivotAggregation": null,
        "pivotColumns": null,
        "xColumns": null,
        "yColumns": null
       },
       "removedWidgets": [],
       "schema": [
        {
         "metadata": "{}",
         "name": "city",
         "type": "\"string\""
        },
        {
         "metadata": "{}",
         "name": "product_revenue",
         "type": "\"double\""
        }
       ],
       "type": "table"
      }
     },
     "output_type": "display_data"
    }
   ],
   "source": [
    "# What is the city with the largest revenue?\n",
    "total_revenue_by_city=spark.sql(\"\"\" \n",
    "                                   select city,round(sum(total),2) as product_revenue from walmart group by city order by round(sum(total)) desc\n",
    "                                   \"\"\")\n",
    "\n",
    "total_revenue_by_city.display()\n"
   ]
  },
  {
   "cell_type": "code",
   "execution_count": 0,
   "metadata": {
    "application/vnd.databricks.v1+cell": {
     "cellMetadata": {
      "byteLimit": 2048000,
      "rowLimit": 10000
     },
     "inputWidgets": {},
     "nuid": "422810f5-7802-46f3-900b-0dc8a89c3e4d",
     "showTitle": false,
     "tableResultSettingsMap": {},
     "title": ""
    }
   },
   "outputs": [
    {
     "output_type": "display_data",
     "data": {
      "image/png": "[encoded data removed]"
     },
     "metadata": {
      "application/vnd.databricks.v1+output": {
       "addedWidgets": {},
       "arguments": {},
       "data": "data:image/png;base64,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\n",
       "datasetInfos": [],
       "metadata": {},
       "removedWidgets": [],
       "type": "image"
      }
     },
     "output_type": "display_data"
    }
   ],
   "source": [
    "da=total_revenue_by_city.toPandas()\n",
    "plt.figure(figsize=(10, 5))\n",
    "x=sns.barplot(x='city',y='product_revenue',data=da)\n",
    "for bars in x.containers:\n",
    "    x.bar_label(bars)\n"
   ]
  },
  {
   "cell_type": "code",
   "execution_count": 0,
   "metadata": {
    "application/vnd.databricks.v1+cell": {
     "cellMetadata": {
      "byteLimit": 2048000,
      "rowLimit": 10000
     },
     "inputWidgets": {},
     "nuid": "7ae08242-d8c0-4b48-9f2b-95f2ca86b8a2",
     "showTitle": false,
     "tableResultSettingsMap": {},
     "title": ""
    }
   },
   "outputs": [
    {
     "output_type": "display_data",
     "data": {
      "text/html": [
       "<style scoped>\n",
       "  .table-result-container {\n",
       "    max-height: 300px;\n",
       "    overflow: auto;\n",
       "  }\n",
       "  table, th, td {\n",
       "    border: 1px solid black;\n",
       "    border-collapse: collapse;\n",
       "  }\n",
       "  th, td {\n",
       "    padding: 5px;\n",
       "  }\n",
       "  th {\n",
       "    text-align: left;\n",
       "  }\n",
       "</style><div class='table-result-container'><table class='table-result'><thead style='background-color: white'><tr><th>Customer type</th><th>revenue_generated_by_type_of_customer</th></tr></thead><tbody><tr><td>Member</td><td>164223.44</td></tr><tr><td>Normal</td><td>158743.31</td></tr></tbody></table></div>"
      ]
     },
     "metadata": {
      "application/vnd.databricks.v1+output": {
       "addedWidgets": {},
       "aggData": [],
       "aggError": "",
       "aggOverflow": false,
       "aggSchema": [],
       "aggSeriesLimitReached": false,
       "aggType": "",
       "arguments": {},
       "columnCustomDisplayInfos": {},
       "data": [
        [
         "Member",
         164223.44
        ],
        [
         "Normal",
         158743.31
        ]
       ],
       "datasetInfos": [],
       "dbfsResultPath": null,
       "isJsonSchema": true,
       "metadata": {},
       "overflow": false,
       "plotOptions": {
        "customPlotOptions": {},
        "displayType": "table",
        "pivotAggregation": null,
        "pivotColumns": null,
        "xColumns": null,
        "yColumns": null
       },
       "removedWidgets": [],
       "schema": [
        {
         "metadata": "{}",
         "name": "Customer type",
         "type": "\"string\""
        },
        {
         "metadata": "{}",
         "name": "revenue_generated_by_type_of_customer",
         "type": "\"double\""
        }
       ],
       "type": "table"
      }
     },
     "output_type": "display_data"
    }
   ],
   "source": [
    "# Which of the customer types brings the most revenue?\n",
    "\n",
    "type_of_customer_revenue=spark.sql(\"\"\" \n",
    "                                   select `Customer type`,round(sum(total),2) as revenue_generated_by_type_of_customer from walmart group by \n",
    "                                   `Customer type` order by  round(sum(total),2) desc\n",
    "                                   \"\"\")\n",
    "type_of_customer_revenue.display()"
   ]
  },
  {
   "cell_type": "code",
   "execution_count": 0,
   "metadata": {
    "application/vnd.databricks.v1+cell": {
     "cellMetadata": {
      "byteLimit": 2048000,
      "rowLimit": 10000
     },
     "inputWidgets": {},
     "nuid": "5634be48-1a06-4fab-a9ac-ce5437e3a535",
     "showTitle": false,
     "tableResultSettingsMap": {},
     "title": ""
    }
   },
   "outputs": [
    {
     "output_type": "display_data",
     "data": {
      "text/html": [
       "<style scoped>\n",
       "  .table-result-container {\n",
       "    max-height: 300px;\n",
       "    overflow: auto;\n",
       "  }\n",
       "  table, th, td {\n",
       "    border: 1px solid black;\n",
       "    border-collapse: collapse;\n",
       "  }\n",
       "  th, td {\n",
       "    padding: 5px;\n",
       "  }\n",
       "  th {\n",
       "    text-align: left;\n",
       "  }\n",
       "</style><div class='table-result-container'><table class='table-result'><thead style='background-color: white'><tr><th>branch</th><th>qnt</th></tr></thead><tbody><tr><td>B</td><td>1820</td></tr><tr><td>C</td><td>1831</td></tr><tr><td>A</td><td>1859</td></tr></tbody></table></div>"
      ]
     },
     "metadata": {
      "application/vnd.databricks.v1+output": {
       "addedWidgets": {},
       "aggData": [],
       "aggError": "",
       "aggOverflow": false,
       "aggSchema": [],
       "aggSeriesLimitReached": false,
       "aggType": "",
       "arguments": {},
       "columnCustomDisplayInfos": {},
       "data": [
        [
         "B",
         1820
        ],
        [
         "C",
         1831
        ],
        [
         "A",
         1859
        ]
       ],
       "datasetInfos": [],
       "dbfsResultPath": null,
       "isJsonSchema": true,
       "metadata": {},
       "overflow": false,
       "plotOptions": {
        "customPlotOptions": {},
        "displayType": "table",
        "pivotAggregation": null,
        "pivotColumns": null,
        "xColumns": null,
        "yColumns": null
       },
       "removedWidgets": [],
       "schema": [
        {
         "metadata": "{}",
         "name": "branch",
         "type": "\"string\""
        },
        {
         "metadata": "{}",
         "name": "qnt",
         "type": "\"long\""
        }
       ],
       "type": "table"
      }
     },
     "output_type": "display_data"
    }
   ],
   "source": [
    "# Which branch sold more products than average product sold?\n",
    "\n",
    "avg_sale=spark.sql(\"\"\"\n",
    "                   select branch,sum(quantity) as qnt from walmart group by branch having sum(quantity)>(select avg(quantity) from walmart)\n",
    "                   \"\"\")\n",
    "\n",
    "avg_sale.display()"
   ]
  },
  {
   "cell_type": "code",
   "execution_count": 0,
   "metadata": {
    "application/vnd.databricks.v1+cell": {
     "cellMetadata": {
      "byteLimit": 2048000,
      "rowLimit": 10000
     },
     "inputWidgets": {},
     "nuid": "644439c0-cec7-4eda-a377-0f743ece9a6b",
     "showTitle": false,
     "tableResultSettingsMap": {},
     "title": ""
    }
   },
   "outputs": [
    {
     "output_type": "display_data",
     "data": {
      "text/html": [
       "<style scoped>\n",
       "  .table-result-container {\n",
       "    max-height: 300px;\n",
       "    overflow: auto;\n",
       "  }\n",
       "  table, th, td {\n",
       "    border: 1px solid black;\n",
       "    border-collapse: collapse;\n",
       "  }\n",
       "  th, td {\n",
       "    padding: 5px;\n",
       "  }\n",
       "  th {\n",
       "    text-align: left;\n",
       "  }\n",
       "</style><div class='table-result-container'><table class='table-result'><thead style='background-color: white'><tr><th>gender</th><th>product line</th><th>count</th></tr></thead><tbody><tr><td>Female</td><td>Fashion accessories</td><td>96</td></tr><tr><td>Female</td><td>Food and beverages</td><td>90</td></tr><tr><td>Female</td><td>Sports and travel</td><td>88</td></tr><tr><td>Male</td><td>Health and beauty</td><td>88</td></tr><tr><td>Male</td><td>Electronic accessories</td><td>86</td></tr><tr><td>Male</td><td>Food and beverages</td><td>84</td></tr><tr><td>Female</td><td>Electronic accessories</td><td>84</td></tr><tr><td>Male</td><td>Fashion accessories</td><td>82</td></tr><tr><td>Male</td><td>Home and lifestyle</td><td>81</td></tr><tr><td>Female</td><td>Home and lifestyle</td><td>79</td></tr><tr><td>Male</td><td>Sports and travel</td><td>78</td></tr><tr><td>Female</td><td>Health and beauty</td><td>64</td></tr></tbody></table></div>"
      ]
     },
     "metadata": {
      "application/vnd.databricks.v1+output": {
       "addedWidgets": {},
       "aggData": [],
       "aggError": "",
       "aggOverflow": false,
       "aggSchema": [],
       "aggSeriesLimitReached": false,
       "aggType": "",
       "arguments": {},
       "columnCustomDisplayInfos": {},
       "data": [
        [
         "Female",
         "Fashion accessories",
         96
        ],
        [
         "Female",
         "Food and beverages",
         90
        ],
        [
         "Female",
         "Sports and travel",
         88
        ],
        [
         "Male",
         "Health and beauty",
         88
        ],
        [
         "Male",
         "Electronic accessories",
         86
        ],
        [
         "Male",
         "Food and beverages",
         84
        ],
        [
         "Female",
         "Electronic accessories",
         84
        ],
        [
         "Male",
         "Fashion accessories",
         82
        ],
        [
         "Male",
         "Home and lifestyle",
         81
        ],
        [
         "Female",
         "Home and lifestyle",
         79
        ],
        [
         "Male",
         "Sports and travel",
         78
        ],
        [
         "Female",
         "Health and beauty",
         64
        ]
       ],
       "datasetInfos": [],
       "dbfsResultPath": null,
       "isJsonSchema": true,
       "metadata": {},
       "overflow": false,
       "plotOptions": {
        "customPlotOptions": {},
        "displayType": "table",
        "pivotAggregation": null,
        "pivotColumns": null,
        "xColumns": null,
        "yColumns": null
       },
       "removedWidgets": [],
       "schema": [
        {
         "metadata": "{}",
         "name": "gender",
         "type": "\"string\""
        },
        {
         "metadata": "{}",
         "name": "product line",
         "type": "\"string\""
        },
        {
         "metadata": "{}",
         "name": "count",
         "type": "\"long\""
        }
       ],
       "type": "table"
      }
     },
     "output_type": "display_data"
    }
   ],
   "source": [
    "# What is the most common product line by gender\n",
    "\n",
    "common_product=spark.sql(\"\"\"\n",
    "                         select gender, `product line`, (count(`product line`)) as count from walmart group by gender, `product line` order by count desc;\n",
    "                         \n",
    "                         \"\"\")\n",
    "\n",
    "common_product.display()\n"
   ]
  },
  {
   "cell_type": "code",
   "execution_count": 0,
   "metadata": {
    "application/vnd.databricks.v1+cell": {
     "cellMetadata": {
      "byteLimit": 2048000,
      "rowLimit": 10000
     },
     "inputWidgets": {},
     "nuid": "48957493-2722-4ada-b90d-074491191d03",
     "showTitle": false,
     "tableResultSettingsMap": {},
     "title": ""
    }
   },
   "outputs": [],
   "source": [
    "# Which city has the largest avg tax/VAT percent?\n",
    "df = df.withColumnRenamed(\"Tax 5%\", \"Tax_by_5_cent\")\n",
    "df.createOrReplaceTempView('walmart')"
   ]
  },
  {
   "cell_type": "code",
   "execution_count": 0,
   "metadata": {
    "application/vnd.databricks.v1+cell": {
     "cellMetadata": {
      "byteLimit": 2048000,
      "rowLimit": 10000
     },
     "inputWidgets": {},
     "nuid": "9cc1e16e-fffc-4f5d-a82e-d350b4ab0152",
     "showTitle": false,
     "tableResultSettingsMap": {},
     "title": ""
    }
   },
   "outputs": [
    {
     "output_type": "display_data",
     "data": {
      "text/html": [
       "<style scoped>\n",
       "  .table-result-container {\n",
       "    max-height: 300px;\n",
       "    overflow: auto;\n",
       "  }\n",
       "  table, th, td {\n",
       "    border: 1px solid black;\n",
       "    border-collapse: collapse;\n",
       "  }\n",
       "  th, td {\n",
       "    padding: 5px;\n",
       "  }\n",
       "  th {\n",
       "    text-align: left;\n",
       "  }\n",
       "</style><div class='table-result-container'><table class='table-result'><thead style='background-color: white'><tr><th>city</th><th>avg_tax_cent</th></tr></thead><tbody><tr><td>Naypyitaw</td><td>16.05</td></tr><tr><td>Mandalay</td><td>15.23</td></tr><tr><td>Yangon</td><td>14.87</td></tr></tbody></table></div>"
      ]
     },
     "metadata": {
      "application/vnd.databricks.v1+output": {
       "addedWidgets": {},
       "aggData": [],
       "aggError": "",
       "aggOverflow": false,
       "aggSchema": [],
       "aggSeriesLimitReached": false,
       "aggType": "",
       "arguments": {},
       "columnCustomDisplayInfos": {},
       "data": [
        [
         "Naypyitaw",
         16.05
        ],
        [
         "Mandalay",
         15.23
        ],
        [
         "Yangon",
         14.87
        ]
       ],
       "datasetInfos": [],
       "dbfsResultPath": null,
       "isJsonSchema": true,
       "metadata": {},
       "overflow": false,
       "plotOptions": {
        "customPlotOptions": {},
        "displayType": "table",
        "pivotAggregation": null,
        "pivotColumns": null,
        "xColumns": null,
        "yColumns": null
       },
       "removedWidgets": [],
       "schema": [
        {
         "metadata": "{}",
         "name": "city",
         "type": "\"string\""
        },
        {
         "metadata": "{}",
         "name": "avg_tax_cent",
         "type": "\"double\""
        }
       ],
       "type": "table"
      }
     },
     "output_type": "display_data"
    }
   ],
   "source": [
    "tax_avg=spark.sql(\"\"\"\n",
    "              SELECT\n",
    "\tcity,\n",
    "    ROUND(AVG(Tax_by_5_cent), 2) AS avg_tax_cent FROM walmart GROUP BY city ORDER BY avg_tax_cent DESC;\n",
    "              \"\"\")\n",
    "\n",
    "tax_avg.display()"
   ]
  },
  {
   "cell_type": "code",
   "execution_count": 0,
   "metadata": {
    "application/vnd.databricks.v1+cell": {
     "cellMetadata": {
      "byteLimit": 2048000,
      "rowLimit": 10000
     },
     "inputWidgets": {},
     "nuid": "9e0e0b2e-4a73-4064-aef3-d97a84319785",
     "showTitle": false,
     "tableResultSettingsMap": {},
     "title": ""
    }
   },
   "outputs": [
    {
     "output_type": "display_data",
     "data": {
      "text/html": [
       "<style scoped>\n",
       "  .table-result-container {\n",
       "    max-height: 300px;\n",
       "    overflow: auto;\n",
       "  }\n",
       "  table, th, td {\n",
       "    border: 1px solid black;\n",
       "    border-collapse: collapse;\n",
       "  }\n",
       "  th, td {\n",
       "    padding: 5px;\n",
       "  }\n",
       "  th {\n",
       "    text-align: left;\n",
       "  }\n",
       "</style><div class='table-result-container'><table class='table-result'><thead style='background-color: white'><tr><th>customer type</th><th>total_tax</th></tr></thead><tbody><tr><td>Normal</td><td>15.15</td></tr><tr><td>Member</td><td>15.61</td></tr></tbody></table></div>"
      ]
     },
     "metadata": {
      "application/vnd.databricks.v1+output": {
       "addedWidgets": {},
       "aggData": [],
       "aggError": "",
       "aggOverflow": false,
       "aggSchema": [],
       "aggSeriesLimitReached": false,
       "aggType": "",
       "arguments": {},
       "columnCustomDisplayInfos": {},
       "data": [
        [
         "Normal",
         15.15
        ],
        [
         "Member",
         15.61
        ]
       ],
       "datasetInfos": [],
       "dbfsResultPath": null,
       "isJsonSchema": true,
       "metadata": {},
       "overflow": false,
       "plotOptions": {
        "customPlotOptions": {},
        "displayType": "table",
        "pivotAggregation": null,
        "pivotColumns": null,
        "xColumns": null,
        "yColumns": null
       },
       "removedWidgets": [],
       "schema": [
        {
         "metadata": "{}",
         "name": "customer type",
         "type": "\"string\""
        },
        {
         "metadata": "{}",
         "name": "total_tax",
         "type": "\"double\""
        }
       ],
       "type": "table"
      }
     },
     "output_type": "display_data"
    }
   ],
   "source": [
    "# Which customer type pays the most in VAT?\n",
    "\n",
    "cus_type_vat=spark.sql(\"\"\"\n",
    "                       SELECT `customer type`, round(AVG(Tax_by_5_cent),2) AS total_tax FROM walmart GROUP BY `customer type`\n",
    "                       ORDER BY total_tax;\n",
    "                       \"\"\")\n",
    "\n",
    "cus_type_vat.display()"
   ]
  },
  {
   "cell_type": "code",
   "execution_count": 0,
   "metadata": {
    "application/vnd.databricks.v1+cell": {
     "cellMetadata": {
      "byteLimit": 2048000,
      "rowLimit": 10000
     },
     "inputWidgets": {},
     "nuid": "37a25f9c-a96c-4d61-be80-f36ee3d8a5d5",
     "showTitle": false,
     "tableResultSettingsMap": {},
     "title": ""
    }
   },
   "outputs": [
    {
     "output_type": "display_data",
     "data": {
      "text/html": [
       "<style scoped>\n",
       "  .table-result-container {\n",
       "    max-height: 300px;\n",
       "    overflow: auto;\n",
       "  }\n",
       "  table, th, td {\n",
       "    border: 1px solid black;\n",
       "    border-collapse: collapse;\n",
       "  }\n",
       "  th, td {\n",
       "    padding: 5px;\n",
       "  }\n",
       "  th {\n",
       "    text-align: left;\n",
       "  }\n",
       "</style><div class='table-result-container'><table class='table-result'><thead style='background-color: white'><tr><th>Invoice ID</th><th>Branch</th><th>City</th><th>Customer type</th><th>Gender</th><th>Product line</th><th>Unit price</th><th>Quantity</th><th>Tax_by_5_cent</th><th>Total</th><th>Date</th><th>Time</th><th>Payment</th><th>cogs</th><th>gross margin percentage</th><th>gross income</th><th>Rating</th><th>time_of_day</th><th>Year</th><th>Month</th></tr></thead><tbody><tr><td>750-67-8428</td><td>A</td><td>Yangon</td><td>Member</td><td>Female</td><td>Health and beauty</td><td>74.69</td><td>7</td><td>26.1415</td><td>548.9715</td><td>2019-01-05</td><td>2025-02-04T13:08:00.000+0000</td><td>Ewallet</td><td>522.83</td><td>4.761904762</td><td>26.1415</td><td>9.1</td><td>Afternoon</td><td>2019</td><td>01</td></tr><tr><td>226-31-3081</td><td>C</td><td>Naypyitaw</td><td>Normal</td><td>Female</td><td>Electronic accessories</td><td>15.28</td><td>5</td><td>3.82</td><td>80.22</td><td>2019-03-08</td><td>2025-02-04T10:29:00.000+0000</td><td>Cash</td><td>76.4</td><td>4.761904762</td><td>3.82</td><td>9.6</td><td>Morning</td><td>2019</td><td>03</td></tr><tr><td>631-41-3108</td><td>A</td><td>Yangon</td><td>Normal</td><td>Male</td><td>Home and lifestyle</td><td>46.33</td><td>7</td><td>16.2155</td><td>340.5255</td><td>2019-03-03</td><td>2025-02-04T13:23:00.000+0000</td><td>Credit card</td><td>324.31</td><td>4.761904762</td><td>16.2155</td><td>7.4</td><td>Afternoon</td><td>2019</td><td>03</td></tr><tr><td>123-19-1176</td><td>A</td><td>Yangon</td><td>Member</td><td>Male</td><td>Health and beauty</td><td>58.22</td><td>8</td><td>23.288</td><td>489.048</td><td>2019-01-27</td><td>2025-02-04T20:33:00.000+0000</td><td>Ewallet</td><td>465.76</td><td>4.761904762</td><td>23.288</td><td>8.4</td><td>Evening</td><td>2019</td><td>01</td></tr><tr><td>373-73-7910</td><td>A</td><td>Yangon</td><td>Normal</td><td>Male</td><td>Sports and travel</td><td>86.31</td><td>7</td><td>30.2085</td><td>634.3785</td><td>2019-02-08</td><td>2025-02-04T10:37:00.000+0000</td><td>Ewallet</td><td>604.17</td><td>4.761904762</td><td>30.2085</td><td>5.3</td><td>Morning</td><td>2019</td><td>02</td></tr><tr><td>699-14-3026</td><td>C</td><td>Naypyitaw</td><td>Normal</td><td>Male</td><td>Electronic accessories</td><td>85.39</td><td>7</td><td>29.8865</td><td>627.6165</td><td>2019-03-25</td><td>2025-02-04T18:30:00.000+0000</td><td>Ewallet</td><td>597.73</td><td>4.761904762</td><td>29.8865</td><td>4.1</td><td>Evening</td><td>2019</td><td>03</td></tr><tr><td>355-53-5943</td><td>A</td><td>Yangon</td><td>Member</td><td>Female</td><td>Electronic accessories</td><td>68.84</td><td>6</td><td>20.652</td><td>433.692</td><td>2019-02-25</td><td>2025-02-04T14:36:00.000+0000</td><td>Ewallet</td><td>413.04</td><td>4.761904762</td><td>20.652</td><td>5.8</td><td>Afternoon</td><td>2019</td><td>02</td></tr><tr><td>315-22-5665</td><td>C</td><td>Naypyitaw</td><td>Normal</td><td>Female</td><td>Home and lifestyle</td><td>73.56</td><td>10</td><td>36.78</td><td>772.38</td><td>2019-02-24</td><td>2025-02-04T11:38:00.000+0000</td><td>Ewallet</td><td>735.6</td><td>4.761904762</td><td>36.78</td><td>8.0</td><td>Morning</td><td>2019</td><td>02</td></tr><tr><td>665-32-9167</td><td>A</td><td>Yangon</td><td>Member</td><td>Female</td><td>Health and beauty</td><td>36.26</td><td>2</td><td>3.626</td><td>76.146</td><td>2019-01-10</td><td>2025-02-04T17:15:00.000+0000</td><td>Credit card</td><td>72.52</td><td>4.761904762</td><td>3.626</td><td>7.2</td><td>Evening</td><td>2019</td><td>01</td></tr><tr><td>692-92-5582</td><td>B</td><td>Mandalay</td><td>Member</td><td>Female</td><td>Food and beverages</td><td>54.84</td><td>3</td><td>8.226</td><td>172.746</td><td>2019-02-20</td><td>2025-02-04T13:27:00.000+0000</td><td>Credit card</td><td>164.52</td><td>4.761904762</td><td>8.226</td><td>5.9</td><td>Afternoon</td><td>2019</td><td>02</td></tr></tbody></table></div>"
      ]
     },
     "metadata": {
      "application/vnd.databricks.v1+output": {
       "addedWidgets": {},
       "aggData": [],
       "aggError": "",
       "aggOverflow": false,
       "aggSchema": [],
       "aggSeriesLimitReached": false,
       "aggType": "",
       "arguments": {},
       "columnCustomDisplayInfos": {},
       "data": [
        [
         "750-67-8428",
         "A",
         "Yangon",
         "Member",
         "Female",
         "Health and beauty",
         74.69,
         7,
         26.1415,
         548.9715,
         "2019-01-05",
         "2025-02-04T13:08:00.000+0000",
         "Ewallet",
         522.83,
         4.761904762,
         26.1415,
         9.1,
         "Afternoon",
         "2019",
         "01"
        ],
        [
         "226-31-3081",
         "C",
         "Naypyitaw",
         "Normal",
         "Female",
         "Electronic accessories",
         15.28,
         5,
         3.82,
         80.22,
         "2019-03-08",
         "2025-02-04T10:29:00.000+0000",
         "Cash",
         76.4,
         4.761904762,
         3.82,
         9.6,
         "Morning",
         "2019",
         "03"
        ],
        [
         "631-41-3108",
         "A",
         "Yangon",
         "Normal",
         "Male",
         "Home and lifestyle",
         46.33,
         7,
         16.2155,
         340.5255,
         "2019-03-03",
         "2025-02-04T13:23:00.000+0000",
         "Credit card",
         324.31,
         4.761904762,
         16.2155,
         7.4,
         "Afternoon",
         "2019",
         "03"
        ],
        [
         "123-19-1176",
         "A",
         "Yangon",
         "Member",
         "Male",
         "Health and beauty",
         58.22,
         8,
         23.288,
         489.048,
         "2019-01-27",
         "2025-02-04T20:33:00.000+0000",
         "Ewallet",
         465.76,
         4.761904762,
         23.288,
         8.4,
         "Evening",
         "2019",
         "01"
        ],
        [
         "373-73-7910",
         "A",
         "Yangon",
         "Normal",
         "Male",
         "Sports and travel",
         86.31,
         7,
         30.2085,
         634.3785,
         "2019-02-08",
         "2025-02-04T10:37:00.000+0000",
         "Ewallet",
         604.17,
         4.761904762,
         30.2085,
         5.3,
         "Morning",
         "2019",
         "02"
        ],
        [
         "699-14-3026",
         "C",
         "Naypyitaw",
         "Normal",
         "Male",
         "Electronic accessories",
         85.39,
         7,
         29.8865,
         627.6165,
         "2019-03-25",
         "2025-02-04T18:30:00.000+0000",
         "Ewallet",
         597.73,
         4.761904762,
         29.8865,
         4.1,
         "Evening",
         "2019",
         "03"
        ],
        [
         "355-53-5943",
         "A",
         "Yangon",
         "Member",
         "Female",
         "Electronic accessories",
         68.84,
         6,
         20.652,
         433.692,
         "2019-02-25",
         "2025-02-04T14:36:00.000+0000",
         "Ewallet",
         413.04,
         4.761904762,
         20.652,
         5.8,
         "Afternoon",
         "2019",
         "02"
        ],
        [
         "315-22-5665",
         "C",
         "Naypyitaw",
         "Normal",
         "Female",
         "Home and lifestyle",
         73.56,
         10,
         36.78,
         772.38,
         "2019-02-24",
         "2025-02-04T11:38:00.000+0000",
         "Ewallet",
         735.6,
         4.761904762,
         36.78,
         8.0,
         "Morning",
         "2019",
         "02"
        ],
        [
         "665-32-9167",
         "A",
         "Yangon",
         "Member",
         "Female",
         "Health and beauty",
         36.26,
         2,
         3.626,
         76.146,
         "2019-01-10",
         "2025-02-04T17:15:00.000+0000",
         "Credit card",
         72.52,
         4.761904762,
         3.626,
         7.2,
         "Evening",
         "2019",
         "01"
        ],
        [
         "692-92-5582",
         "B",
         "Mandalay",
         "Member",
         "Female",
         "Food and beverages",
         54.84,
         3,
         8.226,
         172.746,
         "2019-02-20",
         "2025-02-04T13:27:00.000+0000",
         "Credit card",
         164.52,
         4.761904762,
         8.226,
         5.9,
         "Afternoon",
         "2019",
         "02"
        ]
       ],
       "datasetInfos": [],
       "dbfsResultPath": null,
       "isJsonSchema": true,
       "metadata": {},
       "overflow": false,
       "plotOptions": {
        "customPlotOptions": {},
        "displayType": "table",
        "pivotAggregation": null,
        "pivotColumns": null,
        "xColumns": null,
        "yColumns": null
       },
       "removedWidgets": [],
       "schema": [
        {
         "metadata": "{}",
         "name": "Invoice ID",
         "type": "\"string\""
        },
        {
         "metadata": "{}",
         "name": "Branch",
         "type": "\"string\""
        },
        {
         "metadata": "{}",
         "name": "City",
         "type": "\"string\""
        },
        {
         "metadata": "{}",
         "name": "Customer type",
         "type": "\"string\""
        },
        {
         "metadata": "{}",
         "name": "Gender",
         "type": "\"string\""
        },
        {
         "metadata": "{}",
         "name": "Product line",
         "type": "\"string\""
        },
        {
         "metadata": "{}",
         "name": "Unit price",
         "type": "\"double\""
        },
        {
         "metadata": "{}",
         "name": "Quantity",
         "type": "\"integer\""
        },
        {
         "metadata": "{}",
         "name": "Tax_by_5_cent",
         "type": "\"double\""
        },
        {
         "metadata": "{}",
         "name": "Total",
         "type": "\"double\""
        },
        {
         "metadata": "{\"__detected_date_formats\":\"d-M-yyyy\"}",
         "name": "Date",
         "type": "\"date\""
        },
        {
         "metadata": "{}",
         "name": "Time",
         "type": "\"timestamp\""
        },
        {
         "metadata": "{}",
         "name": "Payment",
         "type": "\"string\""
        },
        {
         "metadata": "{}",
         "name": "cogs",
         "type": "\"double\""
        },
        {
         "metadata": "{}",
         "name": "gross margin percentage",
         "type": "\"double\""
        },
        {
         "metadata": "{}",
         "name": "gross income",
         "type": "\"double\""
        },
        {
         "metadata": "{}",
         "name": "Rating",
         "type": "\"double\""
        },
        {
         "metadata": "{}",
         "name": "time_of_day",
         "type": "\"string\""
        },
        {
         "metadata": "{}",
         "name": "Year",
         "type": "\"string\""
        },
        {
         "metadata": "{}",
         "name": "Month",
         "type": "\"string\""
        }
       ],
       "type": "table"
      }
     },
     "output_type": "display_data"
    }
   ],
   "source": [
    "display(df.limit(10))"
   ]
  },
  {
   "cell_type": "code",
   "execution_count": 0,
   "metadata": {
    "application/vnd.databricks.v1+cell": {
     "cellMetadata": {
      "byteLimit": 2048000,
      "rowLimit": 10000
     },
     "inputWidgets": {},
     "nuid": "224c5eb9-259e-4abe-a24c-efe94bab802e",
     "showTitle": false,
     "tableResultSettingsMap": {},
     "title": ""
    }
   },
   "outputs": [
    {
     "output_type": "display_data",
     "data": {
      "text/html": [
       "<style scoped>\n",
       "  .table-result-container {\n",
       "    max-height: 300px;\n",
       "    overflow: auto;\n",
       "  }\n",
       "  table, th, td {\n",
       "    border: 1px solid black;\n",
       "    border-collapse: collapse;\n",
       "  }\n",
       "  th, td {\n",
       "    padding: 5px;\n",
       "  }\n",
       "  th {\n",
       "    text-align: left;\n",
       "  }\n",
       "</style><div class='table-result-container'><table class='table-result'><thead style='background-color: white'><tr><th>gender</th><th>amount_spent</th></tr></thead><tbody><tr><td>Female</td><td>167882.925</td></tr><tr><td>Male</td><td>155083.824</td></tr></tbody></table></div>"
      ]
     },
     "metadata": {
      "application/vnd.databricks.v1+output": {
       "addedWidgets": {},
       "aggData": [],
       "aggError": "",
       "aggOverflow": false,
       "aggSchema": [],
       "aggSeriesLimitReached": false,
       "aggType": "",
       "arguments": {},
       "columnCustomDisplayInfos": {},
       "data": [
        [
         "Female",
         167882.925
        ],
        [
         "Male",
         155083.824
        ]
       ],
       "datasetInfos": [],
       "dbfsResultPath": null,
       "isJsonSchema": true,
       "metadata": {},
       "overflow": false,
       "plotOptions": {
        "customPlotOptions": {},
        "displayType": "table",
        "pivotAggregation": null,
        "pivotColumns": null,
        "xColumns": null,
        "yColumns": null
       },
       "removedWidgets": [],
       "schema": [
        {
         "metadata": "{}",
         "name": "gender",
         "type": "\"string\""
        },
        {
         "metadata": "{}",
         "name": "amount_spent",
         "type": "\"double\""
        }
       ],
       "type": "table"
      }
     },
     "output_type": "display_data"
    }
   ],
   "source": [
    "gender_sales_amount=spark.sql(\"\"\"\n",
    "                               select gender,round(sum(total),3) as amount_spent from walmart group by gender order by sum(total) desc\n",
    "                               \"\"\")\n",
    "\n",
    "gender_sales_amount.display()"
   ]
  },
  {
   "cell_type": "code",
   "execution_count": 0,
   "metadata": {
    "application/vnd.databricks.v1+cell": {
     "cellMetadata": {
      "byteLimit": 2048000,
      "rowLimit": 10000
     },
     "inputWidgets": {},
     "nuid": "e43fdbe8-1202-4b8d-b904-e4117ccc73b5",
     "showTitle": false,
     "tableResultSettingsMap": {},
     "title": ""
    }
   },
   "outputs": [
    {
     "output_type": "display_data",
     "data": {
      "text/html": [
       "<style scoped>\n",
       "  .table-result-container {\n",
       "    max-height: 300px;\n",
       "    overflow: auto;\n",
       "  }\n",
       "  table, th, td {\n",
       "    border: 1px solid black;\n",
       "    border-collapse: collapse;\n",
       "  }\n",
       "  th, td {\n",
       "    padding: 5px;\n",
       "  }\n",
       "  th {\n",
       "    text-align: left;\n",
       "  }\n",
       "</style><div class='table-result-container'><table class='table-result'><thead style='background-color: white'><tr><th>amount_spent</th><th>product line</th></tr></thead><tbody><tr><td>33170.9</td><td>Food and beverages</td></tr><tr><td>30437.4</td><td>Fashion accessories</td></tr><tr><td>30036.9</td><td>Home and lifestyle</td></tr><tr><td>28574.7</td><td>Sports and travel</td></tr><tr><td>27102.0</td><td>Electronic accessories</td></tr><tr><td>18561.0</td><td>Health and beauty</td></tr></tbody></table></div>"
      ]
     },
     "metadata": {
      "application/vnd.databricks.v1+output": {
       "addedWidgets": {},
       "aggData": [],
       "aggError": "",
       "aggOverflow": false,
       "aggSchema": [],
       "aggSeriesLimitReached": false,
       "aggType": "",
       "arguments": {},
       "columnCustomDisplayInfos": {},
       "data": [
        [
         33170.9,
         "Food and beverages"
        ],
        [
         30437.4,
         "Fashion accessories"
        ],
        [
         30036.9,
         "Home and lifestyle"
        ],
        [
         28574.7,
         "Sports and travel"
        ],
        [
         27102.0,
         "Electronic accessories"
        ],
        [
         18561.0,
         "Health and beauty"
        ]
       ],
       "datasetInfos": [],
       "dbfsResultPath": null,
       "isJsonSchema": true,
       "metadata": {},
       "overflow": false,
       "plotOptions": {
        "customPlotOptions": {},
        "displayType": "table",
        "pivotAggregation": null,
        "pivotColumns": null,
        "xColumns": null,
        "yColumns": null
       },
       "removedWidgets": [],
       "schema": [
        {
         "metadata": "{}",
         "name": "amount_spent",
         "type": "\"double\""
        },
        {
         "metadata": "{}",
         "name": "product line",
         "type": "\"string\""
        }
       ],
       "type": "table"
      }
     },
     "output_type": "display_data"
    }
   ],
   "source": [
    "female_sales_amount=spark.sql(\"\"\"\n",
    "                               select round(sum(total),1) as amount_spent,`product line` from walmart where gender='Female' group by `product line`,gender order by round(sum(total),2) desc\n",
    "                               \"\"\")\n",
    "\n",
    "female_sales_amount.display()"
   ]
  },
  {
   "cell_type": "code",
   "execution_count": 0,
   "metadata": {
    "application/vnd.databricks.v1+cell": {
     "cellMetadata": {
      "byteLimit": 2048000,
      "rowLimit": 10000
     },
     "inputWidgets": {},
     "nuid": "2bdad198-5a42-4aa7-8a06-51025378b2db",
     "showTitle": false,
     "tableResultSettingsMap": {},
     "title": ""
    }
   },
   "outputs": [
    {
     "output_type": "display_data",
     "data": {
      "image/png": "[encoded data removed]"
     },
     "metadata": {
      "application/vnd.databricks.v1+output": {
       "addedWidgets": {},
       "arguments": {},
       "data": "data:image/png;base64,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\n",
       "datasetInfos": [],
       "metadata": {},
       "removedWidgets": [],
       "type": "image"
      }
     },
     "output_type": "display_data"
    }
   ],
   "source": [
    "da=female_sales_amount.toPandas()\n",
    "plt.figure(figsize=(13,5))\n",
    "x=sns.barplot(x='product line',y='amount_spent',data=da)\n",
    "for bars in x.containers:\n",
    "    x.bar_label(bars)"
   ]
  },
  {
   "cell_type": "code",
   "execution_count": 0,
   "metadata": {
    "application/vnd.databricks.v1+cell": {
     "cellMetadata": {
      "byteLimit": 2048000,
      "rowLimit": 10000
     },
     "inputWidgets": {},
     "nuid": "f27d5964-858b-472a-b719-50fbf6bbaa5c",
     "showTitle": false,
     "tableResultSettingsMap": {},
     "title": ""
    }
   },
   "outputs": [
    {
     "output_type": "display_data",
     "data": {
      "text/html": [
       "<style scoped>\n",
       "  .table-result-container {\n",
       "    max-height: 300px;\n",
       "    overflow: auto;\n",
       "  }\n",
       "  table, th, td {\n",
       "    border: 1px solid black;\n",
       "    border-collapse: collapse;\n",
       "  }\n",
       "  th, td {\n",
       "    padding: 5px;\n",
       "  }\n",
       "  th {\n",
       "    text-align: left;\n",
       "  }\n",
       "</style><div class='table-result-container'><table class='table-result'><thead style='background-color: white'><tr><th>amount_spent</th><th>product line</th></tr></thead><tbody><tr><td>30632.8</td><td>Health and beauty</td></tr><tr><td>27235.5</td><td>Electronic accessories</td></tr><tr><td>26548.1</td><td>Sports and travel</td></tr><tr><td>23868.5</td><td>Fashion accessories</td></tr><tr><td>23825.0</td><td>Home and lifestyle</td></tr><tr><td>22973.9</td><td>Food and beverages</td></tr></tbody></table></div>"
      ]
     },
     "metadata": {
      "application/vnd.databricks.v1+output": {
       "addedWidgets": {},
       "aggData": [],
       "aggError": "",
       "aggOverflow": false,
       "aggSchema": [],
       "aggSeriesLimitReached": false,
       "aggType": "",
       "arguments": {},
       "columnCustomDisplayInfos": {},
       "data": [
        [
         30632.8,
         "Health and beauty"
        ],
        [
         27235.5,
         "Electronic accessories"
        ],
        [
         26548.1,
         "Sports and travel"
        ],
        [
         23868.5,
         "Fashion accessories"
        ],
        [
         23825.0,
         "Home and lifestyle"
        ],
        [
         22973.9,
         "Food and beverages"
        ]
       ],
       "datasetInfos": [],
       "dbfsResultPath": null,
       "isJsonSchema": true,
       "metadata": {},
       "overflow": false,
       "plotOptions": {
        "customPlotOptions": {},
        "displayType": "table",
        "pivotAggregation": null,
        "pivotColumns": null,
        "xColumns": null,
        "yColumns": null
       },
       "removedWidgets": [],
       "schema": [
        {
         "metadata": "{}",
         "name": "amount_spent",
         "type": "\"double\""
        },
        {
         "metadata": "{}",
         "name": "product line",
         "type": "\"string\""
        }
       ],
       "type": "table"
      }
     },
     "output_type": "display_data"
    }
   ],
   "source": [
    "male_sales_amount=spark.sql(\"\"\"\n",
    "                               select round(sum(total),1) as amount_spent,`product line` from walmart where gender='Male' group by `product line`,gender order by round(sum(total),2) desc\n",
    "                               \"\"\")\n",
    "\n",
    "male_sales_amount.display()"
   ]
  },
  {
   "cell_type": "code",
   "execution_count": 0,
   "metadata": {
    "application/vnd.databricks.v1+cell": {
     "cellMetadata": {
      "byteLimit": 2048000,
      "rowLimit": 10000
     },
     "inputWidgets": {},
     "nuid": "c5b0f02a-7a7f-4601-90c8-edd2901ae853",
     "showTitle": false,
     "tableResultSettingsMap": {},
     "title": ""
    }
   },
   "outputs": [
    {
     "output_type": "display_data",
     "data": {
      "image/png": "[encoded data removed]"
     },
     "metadata": {
      "application/vnd.databricks.v1+output": {
       "addedWidgets": {},
       "arguments": {},
       "data": "data:image/png;base64,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\n",
       "datasetInfos": [],
       "metadata": {},
       "removedWidgets": [],
       "type": "image"
      }
     },
     "output_type": "display_data"
    }
   ],
   "source": [
    "da=male_sales_amount.toPandas()\n",
    "plt.figure(figsize=(13,5))\n",
    "x=sns.barplot(x='product line',y='amount_spent',data=da)\n",
    "for bars in x.containers:\n",
    "    x.bar_label(bars)"
   ]
  },
  {
   "cell_type": "code",
   "execution_count": 0,
   "metadata": {
    "application/vnd.databricks.v1+cell": {
     "cellMetadata": {
      "byteLimit": 2048000,
      "rowLimit": 10000
     },
     "inputWidgets": {},
     "nuid": "4d35f437-0258-4347-874f-94f7e0ce3a16",
     "showTitle": false,
     "tableResultSettingsMap": {},
     "title": ""
    }
   },
   "outputs": [
    {
     "output_type": "display_data",
     "data": {
      "text/html": [
       "<style scoped>\n",
       "  .table-result-container {\n",
       "    max-height: 300px;\n",
       "    overflow: auto;\n",
       "  }\n",
       "  table, th, td {\n",
       "    border: 1px solid black;\n",
       "    border-collapse: collapse;\n",
       "  }\n",
       "  th, td {\n",
       "    padding: 5px;\n",
       "  }\n",
       "  th {\n",
       "    text-align: left;\n",
       "  }\n",
       "</style><div class='table-result-container'><table class='table-result'><thead style='background-color: white'><tr><th>Month</th><th>monthly_sales</th></tr></thead><tbody><tr><td>01</td><td>116292.0</td></tr><tr><td>03</td><td>109456.0</td></tr><tr><td>02</td><td>97219.0</td></tr></tbody></table></div>"
      ]
     },
     "metadata": {
      "application/vnd.databricks.v1+output": {
       "addedWidgets": {},
       "aggData": [],
       "aggError": "",
       "aggOverflow": false,
       "aggSchema": [],
       "aggSeriesLimitReached": false,
       "aggType": "",
       "arguments": {},
       "columnCustomDisplayInfos": {},
       "data": [
        [
         "01",
         116292.0
        ],
        [
         "03",
         109456.0
        ],
        [
         "02",
         97219.0
        ]
       ],
       "datasetInfos": [],
       "dbfsResultPath": null,
       "isJsonSchema": true,
       "metadata": {},
       "overflow": false,
       "plotOptions": {
        "customPlotOptions": {},
        "displayType": "table",
        "pivotAggregation": null,
        "pivotColumns": null,
        "xColumns": null,
        "yColumns": null
       },
       "removedWidgets": [],
       "schema": [
        {
         "metadata": "{}",
         "name": "Month",
         "type": "\"string\""
        },
        {
         "metadata": "{}",
         "name": "monthly_sales",
         "type": "\"double\""
        }
       ],
       "type": "table"
      }
     },
     "output_type": "display_data"
    }
   ],
   "source": [
    "monthly_sales=spark.sql(\"\"\"\n",
    "                        select Month,round(sum(total)) as monthly_sales from walmart group by Month order by round(sum(total)) desc\n",
    "                        \"\"\")\n",
    "monthly_sales.display()"
   ]
  },
  {
   "cell_type": "code",
   "execution_count": 0,
   "metadata": {
    "application/vnd.databricks.v1+cell": {
     "cellMetadata": {
      "byteLimit": 2048000,
      "rowLimit": 10000
     },
     "inputWidgets": {},
     "nuid": "210f4a06-8e60-4ebe-b855-64bd3b113f3f",
     "showTitle": false,
     "tableResultSettingsMap": {},
     "title": ""
    }
   },
   "outputs": [
    {
     "output_type": "display_data",
     "data": {
      "image/png": "[encoded data removed]"
     },
     "metadata": {
      "application/vnd.databricks.v1+output": {
       "addedWidgets": {},
       "arguments": {},
       "data": "data:image/png;base64,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\n",
       "datasetInfos": [],
       "metadata": {},
       "removedWidgets": [],
       "type": "image"
      }
     },
     "output_type": "display_data"
    }
   ],
   "source": [
    "da=monthly_sales.toPandas()\n",
    "plt.figure(figsize=(13,5))\n",
    "x=sns.barplot(x='Month',y='monthly_sales',data=da)\n",
    "for bars in x.containers:\n",
    "    x.bar_label(bars)"
   ]
  }
 ],
 "metadata": {
  "application/vnd.databricks.v1+notebook": {
   "computePreferences": null,
   "dashboards": [],
   "environmentMetadata": {
    "base_environment": "",
    "client": "1"
   },
   "language": "python",
   "notebookMetadata": {
    "mostRecentlyExecutedCommandWithImplicitDF": {
     "commandId": -1,
     "dataframes": [
      "_sqldf"
     ]
    },
    "pythonIndentUnit": 4
   },
   "notebookName": "walmart-sales",
   "widgets": {}
  }
 },
 "nbformat": 4,
 "nbformat_minor": 0
}
