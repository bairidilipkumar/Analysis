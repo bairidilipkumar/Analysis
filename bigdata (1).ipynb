{
 "cells": [
  {
   "cell_type": "markdown",
   "metadata": {
    "application/vnd.databricks.v1+cell": {
     "cellMetadata": {
      "byteLimit": 2048000,
      "rowLimit": 10000
     },
     "inputWidgets": {},
     "nuid": "ae4086ac-7a76-4d9e-8bbb-ba36950fd821",
     "showTitle": false,
     "tableResultSettingsMap": {},
     "title": ""
    }
   },
   "source": [
    "### Data Loading"
   ]
  },
  {
   "cell_type": "code",
   "execution_count": 0,
   "metadata": {
    "application/vnd.databricks.v1+cell": {
     "cellMetadata": {
      "byteLimit": 2048000,
      "rowLimit": 10000
     },
     "inputWidgets": {},
     "nuid": "35d434b8-a009-4f01-8c6c-1c8a5b0c49d4",
     "showTitle": false,
     "tableResultSettingsMap": {},
     "title": ""
    }
   },
   "outputs": [],
   "source": [
    "\n",
    "df=spark.read.format('csv').option('inferschema',True).option('header',True).load('/FileStore/tables/BigMart_Sales-1.csv')"
   ]
  },
  {
   "cell_type": "code",
   "execution_count": 0,
   "metadata": {
    "application/vnd.databricks.v1+cell": {
     "cellMetadata": {
      "byteLimit": 2048000,
      "rowLimit": 10000
     },
     "inputWidgets": {},
     "nuid": "7ac5e533-9215-48ec-9f71-af8fe2d0be0f",
     "showTitle": false,
     "tableResultSettingsMap": {},
     "title": ""
    }
   },
   "outputs": [
    {
     "output_type": "display_data",
     "data": {
      "text/html": [
       "<style scoped>\n",
       "  .table-result-container {\n",
       "    max-height: 300px;\n",
       "    overflow: auto;\n",
       "  }\n",
       "  table, th, td {\n",
       "    border: 1px solid black;\n",
       "    border-collapse: collapse;\n",
       "  }\n",
       "  th, td {\n",
       "    padding: 5px;\n",
       "  }\n",
       "  th {\n",
       "    text-align: left;\n",
       "  }\n",
       "</style><div class='table-result-container'><table class='table-result'><thead style='background-color: white'><tr><th>Item_Identifier</th><th>Item_Weight</th><th>Item_Fat_Content</th><th>Item_Visibility</th><th>Item_Type</th><th>Item_MRP</th><th>Outlet_Identifier</th><th>Outlet_Establishment_Year</th><th>Outlet_Size</th><th>Outlet_Location_Type</th><th>Outlet_Type</th><th>Item_Outlet_Sales</th></tr></thead><tbody><tr><td>FDA15</td><td>9.3</td><td>Low Fat</td><td>0.016047301</td><td>Dairy</td><td>249.8092</td><td>OUT049</td><td>1999</td><td>Medium</td><td>Tier 1</td><td>Supermarket Type1</td><td>3735.138</td></tr><tr><td>DRC01</td><td>5.92</td><td>Regular</td><td>0.019278216</td><td>Soft Drinks</td><td>48.2692</td><td>OUT018</td><td>2009</td><td>Medium</td><td>Tier 3</td><td>Supermarket Type2</td><td>443.4228</td></tr><tr><td>FDN15</td><td>17.5</td><td>Low Fat</td><td>0.016760075</td><td>Meat</td><td>141.618</td><td>OUT049</td><td>1999</td><td>Medium</td><td>Tier 1</td><td>Supermarket Type1</td><td>2097.27</td></tr><tr><td>FDX07</td><td>19.2</td><td>Regular</td><td>0.0</td><td>Fruits and Vegetables</td><td>182.095</td><td>OUT010</td><td>1998</td><td>null</td><td>Tier 3</td><td>Grocery Store</td><td>732.38</td></tr><tr><td>NCD19</td><td>8.93</td><td>Low Fat</td><td>0.0</td><td>Household</td><td>53.8614</td><td>OUT013</td><td>1987</td><td>High</td><td>Tier 3</td><td>Supermarket Type1</td><td>994.7052</td></tr><tr><td>FDP36</td><td>10.395</td><td>Regular</td><td>0.0</td><td>Baking Goods</td><td>51.4008</td><td>OUT018</td><td>2009</td><td>Medium</td><td>Tier 3</td><td>Supermarket Type2</td><td>556.6088</td></tr><tr><td>FDO10</td><td>13.65</td><td>Regular</td><td>0.012741089</td><td>Snack Foods</td><td>57.6588</td><td>OUT013</td><td>1987</td><td>High</td><td>Tier 3</td><td>Supermarket Type1</td><td>343.5528</td></tr><tr><td>FDP10</td><td>null</td><td>Low Fat</td><td>0.127469857</td><td>Snack Foods</td><td>107.7622</td><td>OUT027</td><td>1985</td><td>Medium</td><td>Tier 3</td><td>Supermarket Type3</td><td>4022.7636</td></tr><tr><td>FDH17</td><td>16.2</td><td>Regular</td><td>0.016687114</td><td>Frozen Foods</td><td>96.9726</td><td>OUT045</td><td>2002</td><td>null</td><td>Tier 2</td><td>Supermarket Type1</td><td>1076.5986</td></tr><tr><td>FDU28</td><td>19.2</td><td>Regular</td><td>0.09444959</td><td>Frozen Foods</td><td>187.8214</td><td>OUT017</td><td>2007</td><td>null</td><td>Tier 2</td><td>Supermarket Type1</td><td>4710.535</td></tr></tbody></table></div>"
      ]
     },
     "metadata": {
      "application/vnd.databricks.v1+output": {
       "addedWidgets": {},
       "aggData": [],
       "aggError": "",
       "aggOverflow": false,
       "aggSchema": [],
       "aggSeriesLimitReached": false,
       "aggType": "",
       "arguments": {},
       "columnCustomDisplayInfos": {},
       "data": [
        [
         "FDA15",
         9.3,
         "Low Fat",
         0.016047301,
         "Dairy",
         249.8092,
         "OUT049",
         1999,
         "Medium",
         "Tier 1",
         "Supermarket Type1",
         3735.138
        ],
        [
         "DRC01",
         5.92,
         "Regular",
         0.019278216,
         "Soft Drinks",
         48.2692,
         "OUT018",
         2009,
         "Medium",
         "Tier 3",
         "Supermarket Type2",
         443.4228
        ],
        [
         "FDN15",
         17.5,
         "Low Fat",
         0.016760075,
         "Meat",
         141.618,
         "OUT049",
         1999,
         "Medium",
         "Tier 1",
         "Supermarket Type1",
         2097.27
        ],
        [
         "FDX07",
         19.2,
         "Regular",
         0.0,
         "Fruits and Vegetables",
         182.095,
         "OUT010",
         1998,
         null,
         "Tier 3",
         "Grocery Store",
         732.38
        ],
        [
         "NCD19",
         8.93,
         "Low Fat",
         0.0,
         "Household",
         53.8614,
         "OUT013",
         1987,
         "High",
         "Tier 3",
         "Supermarket Type1",
         994.7052
        ],
        [
         "FDP36",
         10.395,
         "Regular",
         0.0,
         "Baking Goods",
         51.4008,
         "OUT018",
         2009,
         "Medium",
         "Tier 3",
         "Supermarket Type2",
         556.6088
        ],
        [
         "FDO10",
         13.65,
         "Regular",
         0.012741089,
         "Snack Foods",
         57.6588,
         "OUT013",
         1987,
         "High",
         "Tier 3",
         "Supermarket Type1",
         343.5528
        ],
        [
         "FDP10",
         null,
         "Low Fat",
         0.127469857,
         "Snack Foods",
         107.7622,
         "OUT027",
         1985,
         "Medium",
         "Tier 3",
         "Supermarket Type3",
         4022.7636
        ],
        [
         "FDH17",
         16.2,
         "Regular",
         0.016687114,
         "Frozen Foods",
         96.9726,
         "OUT045",
         2002,
         null,
         "Tier 2",
         "Supermarket Type1",
         1076.5986
        ],
        [
         "FDU28",
         19.2,
         "Regular",
         0.09444959,
         "Frozen Foods",
         187.8214,
         "OUT017",
         2007,
         null,
         "Tier 2",
         "Supermarket Type1",
         4710.535
        ]
       ],
       "datasetInfos": [],
       "dbfsResultPath": null,
       "isJsonSchema": true,
       "metadata": {},
       "overflow": false,
       "plotOptions": {
        "customPlotOptions": {},
        "displayType": "table",
        "pivotAggregation": null,
        "pivotColumns": null,
        "xColumns": null,
        "yColumns": null
       },
       "removedWidgets": [],
       "schema": [
        {
         "metadata": "{}",
         "name": "Item_Identifier",
         "type": "\"string\""
        },
        {
         "metadata": "{}",
         "name": "Item_Weight",
         "type": "\"double\""
        },
        {
         "metadata": "{}",
         "name": "Item_Fat_Content",
         "type": "\"string\""
        },
        {
         "metadata": "{}",
         "name": "Item_Visibility",
         "type": "\"double\""
        },
        {
         "metadata": "{}",
         "name": "Item_Type",
         "type": "\"string\""
        },
        {
         "metadata": "{}",
         "name": "Item_MRP",
         "type": "\"double\""
        },
        {
         "metadata": "{}",
         "name": "Outlet_Identifier",
         "type": "\"string\""
        },
        {
         "metadata": "{}",
         "name": "Outlet_Establishment_Year",
         "type": "\"integer\""
        },
        {
         "metadata": "{}",
         "name": "Outlet_Size",
         "type": "\"string\""
        },
        {
         "metadata": "{}",
         "name": "Outlet_Location_Type",
         "type": "\"string\""
        },
        {
         "metadata": "{}",
         "name": "Outlet_Type",
         "type": "\"string\""
        },
        {
         "metadata": "{}",
         "name": "Item_Outlet_Sales",
         "type": "\"double\""
        }
       ],
       "type": "table"
      }
     },
     "output_type": "display_data"
    }
   ],
   "source": [
    "display(df.limit(10))"
   ]
  },
  {
   "cell_type": "code",
   "execution_count": 0,
   "metadata": {
    "application/vnd.databricks.v1+cell": {
     "cellMetadata": {
      "byteLimit": 2048000,
      "rowLimit": 10000
     },
     "inputWidgets": {},
     "nuid": "4f8f6c25-f34e-44ca-ba03-eddc03741003",
     "showTitle": false,
     "tableResultSettingsMap": {},
     "title": ""
    }
   },
   "outputs": [
    {
     "output_type": "stream",
     "name": "stdout",
     "output_type": "stream",
     "text": [
      "root\n |-- Item_Identifier: string (nullable = true)\n |-- Item_Weight: double (nullable = true)\n |-- Item_Fat_Content: string (nullable = true)\n |-- Item_Visibility: double (nullable = true)\n |-- Item_Type: string (nullable = true)\n |-- Item_MRP: double (nullable = true)\n |-- Outlet_Identifier: string (nullable = true)\n |-- Outlet_Establishment_Year: integer (nullable = true)\n |-- Outlet_Size: string (nullable = true)\n |-- Outlet_Location_Type: string (nullable = true)\n |-- Outlet_Type: string (nullable = true)\n |-- Item_Outlet_Sales: double (nullable = true)\n\n"
     ]
    }
   ],
   "source": [
    "df.printSchema()"
   ]
  },
  {
   "cell_type": "code",
   "execution_count": 0,
   "metadata": {
    "application/vnd.databricks.v1+cell": {
     "cellMetadata": {
      "byteLimit": 2048000,
      "rowLimit": 10000
     },
     "inputWidgets": {},
     "nuid": "de1f287f-30a9-4c95-a2ad-3d9b0729acf5",
     "showTitle": false,
     "tableResultSettingsMap": {},
     "title": ""
    }
   },
   "outputs": [],
   "source": [
    "\n",
    "from pyspark.sql.functions import *\n",
    "from pyspark.sql.types import *"
   ]
  },
  {
   "cell_type": "code",
   "execution_count": 0,
   "metadata": {
    "application/vnd.databricks.v1+cell": {
     "cellMetadata": {
      "byteLimit": 2048000,
      "rowLimit": 10000
     },
     "inputWidgets": {},
     "nuid": "96c12af4-a06b-494a-9c6f-4fc1342752ad",
     "showTitle": false,
     "tableResultSettingsMap": {},
     "title": ""
    }
   },
   "outputs": [],
   "source": [
    "data_schema=StructType([\n",
    "  StructField('Item_Identifier',StringType(),True),\n",
    "  StructField('Item_Weight',DoubleType(),True),\n",
    "  StructField('Item_Fat_Content',StringType(),True),\n",
    "  StructField('Item_Visibility',DoubleType(),True),\n",
    "  StructField('Item_Type',StringType(),True),\n",
    "  StructField('Item_MRP',DoubleType(),True),\n",
    "  StructField('Outlet_Identifier',StringType(),True),\n",
    "  StructField('Outlet_Establishment_Year',IntegerType(),True),\n",
    "  StructField('Outlet_Size',StringType(),True),\n",
    "  StructField('Outlet_Location_Type',StringType(),True),\n",
    "  StructField('Outlet_Type',StringType(),True),\n",
    "  StructField('Item_Outlet_Sales',DoubleType(),True)\n",
    "])"
   ]
  },
  {
   "cell_type": "code",
   "execution_count": 0,
   "metadata": {
    "application/vnd.databricks.v1+cell": {
     "cellMetadata": {
      "byteLimit": 2048000,
      "rowLimit": 10000
     },
     "inputWidgets": {},
     "nuid": "35e8a823-c129-4034-8a09-e7a4f1eafc4e",
     "showTitle": false,
     "tableResultSettingsMap": {},
     "title": ""
    }
   },
   "outputs": [],
   "source": [
    "df=spark.read.format('csv').option('inferschema',True).option('header',True).schema(data_schema).load('/FileStore/tables/BigMart_Sales-1.csv')"
   ]
  },
  {
   "cell_type": "code",
   "execution_count": 0,
   "metadata": {
    "application/vnd.databricks.v1+cell": {
     "cellMetadata": {
      "byteLimit": 2048000,
      "rowLimit": 10000
     },
     "inputWidgets": {},
     "nuid": "62539f81-35ba-4951-8773-7de76e10416e",
     "showTitle": false,
     "tableResultSettingsMap": {},
     "title": ""
    }
   },
   "outputs": [
    {
     "output_type": "stream",
     "name": "stdout",
     "output_type": "stream",
     "text": [
      "root\n |-- Item_Identifier: string (nullable = true)\n |-- Item_Weight: double (nullable = true)\n |-- Item_Fat_Content: string (nullable = true)\n |-- Item_Visibility: double (nullable = true)\n |-- Item_Type: string (nullable = true)\n |-- Item_MRP: double (nullable = true)\n |-- Outlet_Identifier: string (nullable = true)\n |-- Outlet_Establishment_Year: integer (nullable = true)\n |-- Outlet_Size: string (nullable = true)\n |-- Outlet_Location_Type: string (nullable = true)\n |-- Outlet_Type: string (nullable = true)\n |-- Item_Outlet_Sales: double (nullable = true)\n\n"
     ]
    }
   ],
   "source": [
    "df.printSchema()"
   ]
  },
  {
   "cell_type": "code",
   "execution_count": 0,
   "metadata": {
    "application/vnd.databricks.v1+cell": {
     "cellMetadata": {
      "byteLimit": 2048000,
      "rowLimit": 10000
     },
     "inputWidgets": {},
     "nuid": "8bc3cddf-59f9-4b3c-a35d-c964960524a7",
     "showTitle": false,
     "tableResultSettingsMap": {},
     "title": ""
    }
   },
   "outputs": [
    {
     "output_type": "display_data",
     "data": {
      "text/html": [
       "<style scoped>\n",
       "  .table-result-container {\n",
       "    max-height: 300px;\n",
       "    overflow: auto;\n",
       "  }\n",
       "  table, th, td {\n",
       "    border: 1px solid black;\n",
       "    border-collapse: collapse;\n",
       "  }\n",
       "  th, td {\n",
       "    padding: 5px;\n",
       "  }\n",
       "  th {\n",
       "    text-align: left;\n",
       "  }\n",
       "</style><div class='table-result-container'><table class='table-result'><thead style='background-color: white'><tr><th>Item_Identifier</th><th>Item_weight</th></tr></thead><tbody><tr><td>FDA15</td><td>9.3</td></tr><tr><td>DRC01</td><td>5.92</td></tr><tr><td>FDN15</td><td>17.5</td></tr><tr><td>FDX07</td><td>19.2</td></tr><tr><td>NCD19</td><td>8.93</td></tr><tr><td>FDP36</td><td>10.395</td></tr><tr><td>FDO10</td><td>13.65</td></tr><tr><td>FDP10</td><td>null</td></tr><tr><td>FDH17</td><td>16.2</td></tr><tr><td>FDU28</td><td>19.2</td></tr></tbody></table></div>"
      ]
     },
     "metadata": {
      "application/vnd.databricks.v1+output": {
       "addedWidgets": {},
       "aggData": [],
       "aggError": "",
       "aggOverflow": false,
       "aggSchema": [],
       "aggSeriesLimitReached": false,
       "aggType": "",
       "arguments": {},
       "columnCustomDisplayInfos": {},
       "data": [
        [
         "FDA15",
         9.3
        ],
        [
         "DRC01",
         5.92
        ],
        [
         "FDN15",
         17.5
        ],
        [
         "FDX07",
         19.2
        ],
        [
         "NCD19",
         8.93
        ],
        [
         "FDP36",
         10.395
        ],
        [
         "FDO10",
         13.65
        ],
        [
         "FDP10",
         null
        ],
        [
         "FDH17",
         16.2
        ],
        [
         "FDU28",
         19.2
        ]
       ],
       "datasetInfos": [],
       "dbfsResultPath": null,
       "isJsonSchema": true,
       "metadata": {},
       "overflow": false,
       "plotOptions": {
        "customPlotOptions": {},
        "displayType": "table",
        "pivotAggregation": null,
        "pivotColumns": null,
        "xColumns": null,
        "yColumns": null
       },
       "removedWidgets": [],
       "schema": [
        {
         "metadata": "{}",
         "name": "Item_Identifier",
         "type": "\"string\""
        },
        {
         "metadata": "{}",
         "name": "Item_weight",
         "type": "\"double\""
        }
       ],
       "type": "table"
      }
     },
     "output_type": "display_data"
    }
   ],
   "source": [
    "df.select(col('Item_Identifier'),col('Item_weight')).limit(10).display()"
   ]
  },
  {
   "cell_type": "code",
   "execution_count": 0,
   "metadata": {
    "application/vnd.databricks.v1+cell": {
     "cellMetadata": {
      "byteLimit": 2048000,
      "rowLimit": 10000
     },
     "inputWidgets": {},
     "nuid": "20965cd5-8d46-4e93-a836-9e2482899485",
     "showTitle": false,
     "tableResultSettingsMap": {},
     "title": ""
    }
   },
   "outputs": [
    {
     "output_type": "display_data",
     "data": {
      "text/html": [
       "<style scoped>\n",
       "  .table-result-container {\n",
       "    max-height: 300px;\n",
       "    overflow: auto;\n",
       "  }\n",
       "  table, th, td {\n",
       "    border: 1px solid black;\n",
       "    border-collapse: collapse;\n",
       "  }\n",
       "  th, td {\n",
       "    padding: 5px;\n",
       "  }\n",
       "  th {\n",
       "    text-align: left;\n",
       "  }\n",
       "</style><div class='table-result-container'><table class='table-result'><thead style='background-color: white'><tr><th>item-Number</th><th>Item_weight</th></tr></thead><tbody><tr><td>FDA15</td><td>9.3</td></tr><tr><td>DRC01</td><td>5.92</td></tr><tr><td>FDN15</td><td>17.5</td></tr><tr><td>FDX07</td><td>19.2</td></tr><tr><td>NCD19</td><td>8.93</td></tr><tr><td>FDP36</td><td>10.395</td></tr><tr><td>FDO10</td><td>13.65</td></tr><tr><td>FDP10</td><td>null</td></tr><tr><td>FDH17</td><td>16.2</td></tr><tr><td>FDU28</td><td>19.2</td></tr><tr><td>FDY07</td><td>11.8</td></tr><tr><td>FDA03</td><td>18.5</td></tr><tr><td>FDX32</td><td>15.1</td></tr><tr><td>FDS46</td><td>17.6</td></tr><tr><td>FDF32</td><td>16.35</td></tr><tr><td>FDP49</td><td>9.0</td></tr><tr><td>NCB42</td><td>11.8</td></tr><tr><td>FDP49</td><td>9.0</td></tr><tr><td>DRI11</td><td>null</td></tr><tr><td>FDU02</td><td>13.35</td></tr></tbody></table></div>"
      ]
     },
     "metadata": {
      "application/vnd.databricks.v1+output": {
       "addedWidgets": {},
       "aggData": [],
       "aggError": "",
       "aggOverflow": false,
       "aggSchema": [],
       "aggSeriesLimitReached": false,
       "aggType": "",
       "arguments": {},
       "columnCustomDisplayInfos": {},
       "data": [
        [
         "FDA15",
         9.3
        ],
        [
         "DRC01",
         5.92
        ],
        [
         "FDN15",
         17.5
        ],
        [
         "FDX07",
         19.2
        ],
        [
         "NCD19",
         8.93
        ],
        [
         "FDP36",
         10.395
        ],
        [
         "FDO10",
         13.65
        ],
        [
         "FDP10",
         null
        ],
        [
         "FDH17",
         16.2
        ],
        [
         "FDU28",
         19.2
        ],
        [
         "FDY07",
         11.8
        ],
        [
         "FDA03",
         18.5
        ],
        [
         "FDX32",
         15.1
        ],
        [
         "FDS46",
         17.6
        ],
        [
         "FDF32",
         16.35
        ],
        [
         "FDP49",
         9.0
        ],
        [
         "NCB42",
         11.8
        ],
        [
         "FDP49",
         9.0
        ],
        [
         "DRI11",
         null
        ],
        [
         "FDU02",
         13.35
        ]
       ],
       "datasetInfos": [],
       "dbfsResultPath": null,
       "isJsonSchema": true,
       "metadata": {},
       "overflow": false,
       "plotOptions": {
        "customPlotOptions": {},
        "displayType": "table",
        "pivotAggregation": null,
        "pivotColumns": null,
        "xColumns": null,
        "yColumns": null
       },
       "removedWidgets": [],
       "schema": [
        {
         "metadata": "{}",
         "name": "item-Number",
         "type": "\"string\""
        },
        {
         "metadata": "{}",
         "name": "Item_weight",
         "type": "\"double\""
        }
       ],
       "type": "table"
      }
     },
     "output_type": "display_data"
    }
   ],
   "source": [
    " df.select(col('Item_Identifier').alias('item-Number'),col('Item_weight')).limit(20).display()"
   ]
  },
  {
   "cell_type": "code",
   "execution_count": 0,
   "metadata": {
    "application/vnd.databricks.v1+cell": {
     "cellMetadata": {
      "byteLimit": 2048000,
      "rowLimit": 10000
     },
     "inputWidgets": {},
     "nuid": "0b2c4c9b-14a5-4a51-abda-5276d0b42159",
     "showTitle": false,
     "tableResultSettingsMap": {},
     "title": ""
    }
   },
   "outputs": [
    {
     "output_type": "display_data",
     "data": {
      "text/html": [
       "<style scoped>\n",
       "  .table-result-container {\n",
       "    max-height: 300px;\n",
       "    overflow: auto;\n",
       "  }\n",
       "  table, th, td {\n",
       "    border: 1px solid black;\n",
       "    border-collapse: collapse;\n",
       "  }\n",
       "  th, td {\n",
       "    padding: 5px;\n",
       "  }\n",
       "  th {\n",
       "    text-align: left;\n",
       "  }\n",
       "</style><div class='table-result-container'><table class='table-result'><thead style='background-color: white'><tr><th>Item_Identifier</th><th>Item_Weight</th><th>Item_Fat_Content</th><th>Item_Visibility</th><th>Item_Type</th><th>Item_MRP</th><th>Outlet_Identifier</th><th>Outlet_Establishment_Year</th><th>Outlet_Size</th><th>Outlet_Location_Type</th><th>Outlet_Type</th><th>Item_Outlet_Sales</th></tr></thead><tbody><tr><td>FDA15</td><td>9.3</td><td>Low Fat</td><td>0.016047301</td><td>Dairy</td><td>249.8092</td><td>OUT049</td><td>1999</td><td>Medium</td><td>Tier 1</td><td>Supermarket Type1</td><td>3735.138</td></tr><tr><td>DRC01</td><td>5.92</td><td>Regular</td><td>0.019278216</td><td>Soft Drinks</td><td>48.2692</td><td>OUT018</td><td>2009</td><td>Medium</td><td>Tier 3</td><td>Supermarket Type2</td><td>443.4228</td></tr><tr><td>FDN15</td><td>17.5</td><td>Low Fat</td><td>0.016760075</td><td>Meat</td><td>141.618</td><td>OUT049</td><td>1999</td><td>Medium</td><td>Tier 1</td><td>Supermarket Type1</td><td>2097.27</td></tr><tr><td>FDX07</td><td>19.2</td><td>Regular</td><td>0.0</td><td>Fruits and Vegetables</td><td>182.095</td><td>OUT010</td><td>1998</td><td>null</td><td>Tier 3</td><td>Grocery Store</td><td>732.38</td></tr><tr><td>NCD19</td><td>8.93</td><td>Low Fat</td><td>0.0</td><td>Household</td><td>53.8614</td><td>OUT013</td><td>1987</td><td>High</td><td>Tier 3</td><td>Supermarket Type1</td><td>994.7052</td></tr><tr><td>FDP36</td><td>10.395</td><td>Regular</td><td>0.0</td><td>Baking Goods</td><td>51.4008</td><td>OUT018</td><td>2009</td><td>Medium</td><td>Tier 3</td><td>Supermarket Type2</td><td>556.6088</td></tr><tr><td>FDO10</td><td>13.65</td><td>Regular</td><td>0.012741089</td><td>Snack Foods</td><td>57.6588</td><td>OUT013</td><td>1987</td><td>High</td><td>Tier 3</td><td>Supermarket Type1</td><td>343.5528</td></tr><tr><td>FDP10</td><td>null</td><td>Low Fat</td><td>0.127469857</td><td>Snack Foods</td><td>107.7622</td><td>OUT027</td><td>1985</td><td>Medium</td><td>Tier 3</td><td>Supermarket Type3</td><td>4022.7636</td></tr><tr><td>FDH17</td><td>16.2</td><td>Regular</td><td>0.016687114</td><td>Frozen Foods</td><td>96.9726</td><td>OUT045</td><td>2002</td><td>null</td><td>Tier 2</td><td>Supermarket Type1</td><td>1076.5986</td></tr><tr><td>FDU28</td><td>19.2</td><td>Regular</td><td>0.09444959</td><td>Frozen Foods</td><td>187.8214</td><td>OUT017</td><td>2007</td><td>null</td><td>Tier 2</td><td>Supermarket Type1</td><td>4710.535</td></tr><tr><td>FDY07</td><td>11.8</td><td>Low Fat</td><td>0.0</td><td>Fruits and Vegetables</td><td>45.5402</td><td>OUT049</td><td>1999</td><td>Medium</td><td>Tier 1</td><td>Supermarket Type1</td><td>1516.0266</td></tr><tr><td>FDA03</td><td>18.5</td><td>Regular</td><td>0.045463773</td><td>Dairy</td><td>144.1102</td><td>OUT046</td><td>1997</td><td>Small</td><td>Tier 1</td><td>Supermarket Type1</td><td>2187.153</td></tr><tr><td>FDX32</td><td>15.1</td><td>Regular</td><td>0.1000135</td><td>Fruits and Vegetables</td><td>145.4786</td><td>OUT049</td><td>1999</td><td>Medium</td><td>Tier 1</td><td>Supermarket Type1</td><td>1589.2646</td></tr><tr><td>FDS46</td><td>17.6</td><td>Regular</td><td>0.047257328</td><td>Snack Foods</td><td>119.6782</td><td>OUT046</td><td>1997</td><td>Small</td><td>Tier 1</td><td>Supermarket Type1</td><td>2145.2076</td></tr><tr><td>FDF32</td><td>16.35</td><td>Low Fat</td><td>0.0680243</td><td>Fruits and Vegetables</td><td>196.4426</td><td>OUT013</td><td>1987</td><td>High</td><td>Tier 3</td><td>Supermarket Type1</td><td>1977.426</td></tr><tr><td>FDP49</td><td>9.0</td><td>Regular</td><td>0.069088961</td><td>Breakfast</td><td>56.3614</td><td>OUT046</td><td>1997</td><td>Small</td><td>Tier 1</td><td>Supermarket Type1</td><td>1547.3192</td></tr><tr><td>NCB42</td><td>11.8</td><td>Low Fat</td><td>0.008596051</td><td>Health and Hygiene</td><td>115.3492</td><td>OUT018</td><td>2009</td><td>Medium</td><td>Tier 3</td><td>Supermarket Type2</td><td>1621.8888</td></tr><tr><td>FDP49</td><td>9.0</td><td>Regular</td><td>0.069196376</td><td>Breakfast</td><td>54.3614</td><td>OUT049</td><td>1999</td><td>Medium</td><td>Tier 1</td><td>Supermarket Type1</td><td>718.3982</td></tr><tr><td>DRI11</td><td>null</td><td>Low Fat</td><td>0.034237682</td><td>Hard Drinks</td><td>113.2834</td><td>OUT027</td><td>1985</td><td>Medium</td><td>Tier 3</td><td>Supermarket Type3</td><td>2303.668</td></tr><tr><td>FDU02</td><td>13.35</td><td>Low Fat</td><td>0.10249212</td><td>Dairy</td><td>230.5352</td><td>OUT035</td><td>2004</td><td>Small</td><td>Tier 2</td><td>Supermarket Type1</td><td>2748.4224</td></tr></tbody></table></div>"
      ]
     },
     "metadata": {
      "application/vnd.databricks.v1+output": {
       "addedWidgets": {},
       "aggData": [],
       "aggError": "",
       "aggOverflow": false,
       "aggSchema": [],
       "aggSeriesLimitReached": false,
       "aggType": "",
       "arguments": {},
       "columnCustomDisplayInfos": {},
       "data": [
        [
         "FDA15",
         9.3,
         "Low Fat",
         0.016047301,
         "Dairy",
         249.8092,
         "OUT049",
         1999,
         "Medium",
         "Tier 1",
         "Supermarket Type1",
         3735.138
        ],
        [
         "DRC01",
         5.92,
         "Regular",
         0.019278216,
         "Soft Drinks",
         48.2692,
         "OUT018",
         2009,
         "Medium",
         "Tier 3",
         "Supermarket Type2",
         443.4228
        ],
        [
         "FDN15",
         17.5,
         "Low Fat",
         0.016760075,
         "Meat",
         141.618,
         "OUT049",
         1999,
         "Medium",
         "Tier 1",
         "Supermarket Type1",
         2097.27
        ],
        [
         "FDX07",
         19.2,
         "Regular",
         0.0,
         "Fruits and Vegetables",
         182.095,
         "OUT010",
         1998,
         null,
         "Tier 3",
         "Grocery Store",
         732.38
        ],
        [
         "NCD19",
         8.93,
         "Low Fat",
         0.0,
         "Household",
         53.8614,
         "OUT013",
         1987,
         "High",
         "Tier 3",
         "Supermarket Type1",
         994.7052
        ],
        [
         "FDP36",
         10.395,
         "Regular",
         0.0,
         "Baking Goods",
         51.4008,
         "OUT018",
         2009,
         "Medium",
         "Tier 3",
         "Supermarket Type2",
         556.6088
        ],
        [
         "FDO10",
         13.65,
         "Regular",
         0.012741089,
         "Snack Foods",
         57.6588,
         "OUT013",
         1987,
         "High",
         "Tier 3",
         "Supermarket Type1",
         343.5528
        ],
        [
         "FDP10",
         null,
         "Low Fat",
         0.127469857,
         "Snack Foods",
         107.7622,
         "OUT027",
         1985,
         "Medium",
         "Tier 3",
         "Supermarket Type3",
         4022.7636
        ],
        [
         "FDH17",
         16.2,
         "Regular",
         0.016687114,
         "Frozen Foods",
         96.9726,
         "OUT045",
         2002,
         null,
         "Tier 2",
         "Supermarket Type1",
         1076.5986
        ],
        [
         "FDU28",
         19.2,
         "Regular",
         0.09444959,
         "Frozen Foods",
         187.8214,
         "OUT017",
         2007,
         null,
         "Tier 2",
         "Supermarket Type1",
         4710.535
        ],
        [
         "FDY07",
         11.8,
         "Low Fat",
         0.0,
         "Fruits and Vegetables",
         45.5402,
         "OUT049",
         1999,
         "Medium",
         "Tier 1",
         "Supermarket Type1",
         1516.0266
        ],
        [
         "FDA03",
         18.5,
         "Regular",
         0.045463773,
         "Dairy",
         144.1102,
         "OUT046",
         1997,
         "Small",
         "Tier 1",
         "Supermarket Type1",
         2187.153
        ],
        [
         "FDX32",
         15.1,
         "Regular",
         0.1000135,
         "Fruits and Vegetables",
         145.4786,
         "OUT049",
         1999,
         "Medium",
         "Tier 1",
         "Supermarket Type1",
         1589.2646
        ],
        [
         "FDS46",
         17.6,
         "Regular",
         0.047257328,
         "Snack Foods",
         119.6782,
         "OUT046",
         1997,
         "Small",
         "Tier 1",
         "Supermarket Type1",
         2145.2076
        ],
        [
         "FDF32",
         16.35,
         "Low Fat",
         0.0680243,
         "Fruits and Vegetables",
         196.4426,
         "OUT013",
         1987,
         "High",
         "Tier 3",
         "Supermarket Type1",
         1977.426
        ],
        [
         "FDP49",
         9.0,
         "Regular",
         0.069088961,
         "Breakfast",
         56.3614,
         "OUT046",
         1997,
         "Small",
         "Tier 1",
         "Supermarket Type1",
         1547.3192
        ],
        [
         "NCB42",
         11.8,
         "Low Fat",
         0.008596051,
         "Health and Hygiene",
         115.3492,
         "OUT018",
         2009,
         "Medium",
         "Tier 3",
         "Supermarket Type2",
         1621.8888
        ],
        [
         "FDP49",
         9.0,
         "Regular",
         0.069196376,
         "Breakfast",
         54.3614,
         "OUT049",
         1999,
         "Medium",
         "Tier 1",
         "Supermarket Type1",
         718.3982
        ],
        [
         "DRI11",
         null,
         "Low Fat",
         0.034237682,
         "Hard Drinks",
         113.2834,
         "OUT027",
         1985,
         "Medium",
         "Tier 3",
         "Supermarket Type3",
         2303.668
        ],
        [
         "FDU02",
         13.35,
         "Low Fat",
         0.10249212,
         "Dairy",
         230.5352,
         "OUT035",
         2004,
         "Small",
         "Tier 2",
         "Supermarket Type1",
         2748.4224
        ]
       ],
       "datasetInfos": [],
       "dbfsResultPath": null,
       "isJsonSchema": true,
       "metadata": {},
       "overflow": false,
       "plotOptions": {
        "customPlotOptions": {},
        "displayType": "table",
        "pivotAggregation": null,
        "pivotColumns": null,
        "xColumns": null,
        "yColumns": null
       },
       "removedWidgets": [],
       "schema": [
        {
         "metadata": "{}",
         "name": "Item_Identifier",
         "type": "\"string\""
        },
        {
         "metadata": "{}",
         "name": "Item_Weight",
         "type": "\"double\""
        },
        {
         "metadata": "{}",
         "name": "Item_Fat_Content",
         "type": "\"string\""
        },
        {
         "metadata": "{}",
         "name": "Item_Visibility",
         "type": "\"double\""
        },
        {
         "metadata": "{}",
         "name": "Item_Type",
         "type": "\"string\""
        },
        {
         "metadata": "{}",
         "name": "Item_MRP",
         "type": "\"double\""
        },
        {
         "metadata": "{}",
         "name": "Outlet_Identifier",
         "type": "\"string\""
        },
        {
         "metadata": "{}",
         "name": "Outlet_Establishment_Year",
         "type": "\"integer\""
        },
        {
         "metadata": "{}",
         "name": "Outlet_Size",
         "type": "\"string\""
        },
        {
         "metadata": "{}",
         "name": "Outlet_Location_Type",
         "type": "\"string\""
        },
        {
         "metadata": "{}",
         "name": "Outlet_Type",
         "type": "\"string\""
        },
        {
         "metadata": "{}",
         "name": "Item_Outlet_Sales",
         "type": "\"double\""
        }
       ],
       "type": "table"
      }
     },
     "output_type": "display_data"
    }
   ],
   "source": [
    "display(df.limit(20))"
   ]
  },
  {
   "cell_type": "code",
   "execution_count": 0,
   "metadata": {
    "application/vnd.databricks.v1+cell": {
     "cellMetadata": {
      "byteLimit": 2048000,
      "rowLimit": 10000
     },
     "inputWidgets": {},
     "nuid": "b6839d73-d009-4942-856e-3c9b14e76952",
     "showTitle": false,
     "tableResultSettingsMap": {},
     "title": ""
    }
   },
   "outputs": [
    {
     "output_type": "display_data",
     "data": {
      "text/html": [
       "<style scoped>\n",
       "  .table-result-container {\n",
       "    max-height: 300px;\n",
       "    overflow: auto;\n",
       "  }\n",
       "  table, th, td {\n",
       "    border: 1px solid black;\n",
       "    border-collapse: collapse;\n",
       "  }\n",
       "  th, td {\n",
       "    padding: 5px;\n",
       "  }\n",
       "  th {\n",
       "    text-align: left;\n",
       "  }\n",
       "</style><div class='table-result-container'><table class='table-result'><thead style='background-color: white'><tr><th>Item_Identifier</th><th>Item_Weight</th><th>Item_Fat_Content</th><th>Item_Visibility</th><th>Item_Type</th><th>Item_MRP</th><th>Outlet_Identifier</th><th>Outlet_Establishment_Year</th><th>Outlet_Size</th><th>Outlet_Location_Type</th><th>Outlet_Type</th><th>Item_Outlet_Sales</th></tr></thead><tbody><tr><td>DRC01</td><td>5.92</td><td>Regular</td><td>0.019278216</td><td>Soft Drinks</td><td>48.2692</td><td>OUT018</td><td>2009</td><td>Medium</td><td>Tier 3</td><td>Supermarket Type2</td><td>443.4228</td></tr><tr><td>FDX07</td><td>19.2</td><td>Regular</td><td>0.0</td><td>Fruits and Vegetables</td><td>182.095</td><td>OUT010</td><td>1998</td><td>null</td><td>Tier 3</td><td>Grocery Store</td><td>732.38</td></tr><tr><td>FDP36</td><td>10.395</td><td>Regular</td><td>0.0</td><td>Baking Goods</td><td>51.4008</td><td>OUT018</td><td>2009</td><td>Medium</td><td>Tier 3</td><td>Supermarket Type2</td><td>556.6088</td></tr><tr><td>FDO10</td><td>13.65</td><td>Regular</td><td>0.012741089</td><td>Snack Foods</td><td>57.6588</td><td>OUT013</td><td>1987</td><td>High</td><td>Tier 3</td><td>Supermarket Type1</td><td>343.5528</td></tr><tr><td>FDH17</td><td>16.2</td><td>Regular</td><td>0.016687114</td><td>Frozen Foods</td><td>96.9726</td><td>OUT045</td><td>2002</td><td>null</td><td>Tier 2</td><td>Supermarket Type1</td><td>1076.5986</td></tr><tr><td>FDU28</td><td>19.2</td><td>Regular</td><td>0.09444959</td><td>Frozen Foods</td><td>187.8214</td><td>OUT017</td><td>2007</td><td>null</td><td>Tier 2</td><td>Supermarket Type1</td><td>4710.535</td></tr><tr><td>FDA03</td><td>18.5</td><td>Regular</td><td>0.045463773</td><td>Dairy</td><td>144.1102</td><td>OUT046</td><td>1997</td><td>Small</td><td>Tier 1</td><td>Supermarket Type1</td><td>2187.153</td></tr><tr><td>FDX32</td><td>15.1</td><td>Regular</td><td>0.1000135</td><td>Fruits and Vegetables</td><td>145.4786</td><td>OUT049</td><td>1999</td><td>Medium</td><td>Tier 1</td><td>Supermarket Type1</td><td>1589.2646</td></tr><tr><td>FDS46</td><td>17.6</td><td>Regular</td><td>0.047257328</td><td>Snack Foods</td><td>119.6782</td><td>OUT046</td><td>1997</td><td>Small</td><td>Tier 1</td><td>Supermarket Type1</td><td>2145.2076</td></tr><tr><td>FDP49</td><td>9.0</td><td>Regular</td><td>0.069088961</td><td>Breakfast</td><td>56.3614</td><td>OUT046</td><td>1997</td><td>Small</td><td>Tier 1</td><td>Supermarket Type1</td><td>1547.3192</td></tr><tr><td>FDP49</td><td>9.0</td><td>Regular</td><td>0.069196376</td><td>Breakfast</td><td>54.3614</td><td>OUT049</td><td>1999</td><td>Medium</td><td>Tier 1</td><td>Supermarket Type1</td><td>718.3982</td></tr><tr><td>FDN22</td><td>18.85</td><td>Regular</td><td>0.138190277</td><td>Snack Foods</td><td>250.8724</td><td>OUT013</td><td>1987</td><td>High</td><td>Tier 3</td><td>Supermarket Type1</td><td>3775.086</td></tr><tr><td>FDW12</td><td>null</td><td>Regular</td><td>0.035399923</td><td>Baking Goods</td><td>144.5444</td><td>OUT027</td><td>1985</td><td>Medium</td><td>Tier 3</td><td>Supermarket Type3</td><td>4064.0432</td></tr><tr><td>FDR28</td><td>13.85</td><td>Regular</td><td>0.025896485</td><td>Frozen Foods</td><td>165.021</td><td>OUT046</td><td>1997</td><td>Small</td><td>Tier 1</td><td>Supermarket Type1</td><td>4078.025</td></tr><tr><td>FDV10</td><td>7.645</td><td>Regular</td><td>0.066693437</td><td>Snack Foods</td><td>42.3112</td><td>OUT035</td><td>2004</td><td>Small</td><td>Tier 2</td><td>Supermarket Type1</td><td>1065.28</td></tr><tr><td>FDE51</td><td>5.925</td><td>Regular</td><td>0.161466534</td><td>Dairy</td><td>45.5086</td><td>OUT010</td><td>1998</td><td>null</td><td>Tier 3</td><td>Grocery Store</td><td>178.4344</td></tr><tr><td>FDC14</td><td>null</td><td>Regular</td><td>0.072221801</td><td>Canned</td><td>43.6454</td><td>OUT019</td><td>1985</td><td>Small</td><td>Tier 1</td><td>Grocery Store</td><td>125.8362</td></tr><tr><td>FDV20</td><td>null</td><td>Regular</td><td>0.059511812</td><td>Fruits and Vegetables</td><td>128.0678</td><td>OUT027</td><td>1985</td><td>Medium</td><td>Tier 3</td><td>Supermarket Type3</td><td>2797.6916</td></tr><tr><td>DRZ11</td><td>8.85</td><td>Regular</td><td>0.113123893</td><td>Soft Drinks</td><td>122.5388</td><td>OUT018</td><td>2009</td><td>Medium</td><td>Tier 3</td><td>Supermarket Type2</td><td>1609.9044</td></tr><tr><td>FDX10</td><td>null</td><td>Regular</td><td>0.123111453</td><td>Snack Foods</td><td>36.9874</td><td>OUT027</td><td>1985</td><td>Medium</td><td>Tier 3</td><td>Supermarket Type3</td><td>388.1614</td></tr></tbody></table></div>"
      ]
     },
     "metadata": {
      "application/vnd.databricks.v1+output": {
       "addedWidgets": {},
       "aggData": [],
       "aggError": "",
       "aggOverflow": false,
       "aggSchema": [],
       "aggSeriesLimitReached": false,
       "aggType": "",
       "arguments": {},
       "columnCustomDisplayInfos": {},
       "data": [
        [
         "DRC01",
         5.92,
         "Regular",
         0.019278216,
         "Soft Drinks",
         48.2692,
         "OUT018",
         2009,
         "Medium",
         "Tier 3",
         "Supermarket Type2",
         443.4228
        ],
        [
         "FDX07",
         19.2,
         "Regular",
         0.0,
         "Fruits and Vegetables",
         182.095,
         "OUT010",
         1998,
         null,
         "Tier 3",
         "Grocery Store",
         732.38
        ],
        [
         "FDP36",
         10.395,
         "Regular",
         0.0,
         "Baking Goods",
         51.4008,
         "OUT018",
         2009,
         "Medium",
         "Tier 3",
         "Supermarket Type2",
         556.6088
        ],
        [
         "FDO10",
         13.65,
         "Regular",
         0.012741089,
         "Snack Foods",
         57.6588,
         "OUT013",
         1987,
         "High",
         "Tier 3",
         "Supermarket Type1",
         343.5528
        ],
        [
         "FDH17",
         16.2,
         "Regular",
         0.016687114,
         "Frozen Foods",
         96.9726,
         "OUT045",
         2002,
         null,
         "Tier 2",
         "Supermarket Type1",
         1076.5986
        ],
        [
         "FDU28",
         19.2,
         "Regular",
         0.09444959,
         "Frozen Foods",
         187.8214,
         "OUT017",
         2007,
         null,
         "Tier 2",
         "Supermarket Type1",
         4710.535
        ],
        [
         "FDA03",
         18.5,
         "Regular",
         0.045463773,
         "Dairy",
         144.1102,
         "OUT046",
         1997,
         "Small",
         "Tier 1",
         "Supermarket Type1",
         2187.153
        ],
        [
         "FDX32",
         15.1,
         "Regular",
         0.1000135,
         "Fruits and Vegetables",
         145.4786,
         "OUT049",
         1999,
         "Medium",
         "Tier 1",
         "Supermarket Type1",
         1589.2646
        ],
        [
         "FDS46",
         17.6,
         "Regular",
         0.047257328,
         "Snack Foods",
         119.6782,
         "OUT046",
         1997,
         "Small",
         "Tier 1",
         "Supermarket Type1",
         2145.2076
        ],
        [
         "FDP49",
         9.0,
         "Regular",
         0.069088961,
         "Breakfast",
         56.3614,
         "OUT046",
         1997,
         "Small",
         "Tier 1",
         "Supermarket Type1",
         1547.3192
        ],
        [
         "FDP49",
         9.0,
         "Regular",
         0.069196376,
         "Breakfast",
         54.3614,
         "OUT049",
         1999,
         "Medium",
         "Tier 1",
         "Supermarket Type1",
         718.3982
        ],
        [
         "FDN22",
         18.85,
         "Regular",
         0.138190277,
         "Snack Foods",
         250.8724,
         "OUT013",
         1987,
         "High",
         "Tier 3",
         "Supermarket Type1",
         3775.086
        ],
        [
         "FDW12",
         null,
         "Regular",
         0.035399923,
         "Baking Goods",
         144.5444,
         "OUT027",
         1985,
         "Medium",
         "Tier 3",
         "Supermarket Type3",
         4064.0432
        ],
        [
         "FDR28",
         13.85,
         "Regular",
         0.025896485,
         "Frozen Foods",
         165.021,
         "OUT046",
         1997,
         "Small",
         "Tier 1",
         "Supermarket Type1",
         4078.025
        ],
        [
         "FDV10",
         7.645,
         "Regular",
         0.066693437,
         "Snack Foods",
         42.3112,
         "OUT035",
         2004,
         "Small",
         "Tier 2",
         "Supermarket Type1",
         1065.28
        ],
        [
         "FDE51",
         5.925,
         "Regular",
         0.161466534,
         "Dairy",
         45.5086,
         "OUT010",
         1998,
         null,
         "Tier 3",
         "Grocery Store",
         178.4344
        ],
        [
         "FDC14",
         null,
         "Regular",
         0.072221801,
         "Canned",
         43.6454,
         "OUT019",
         1985,
         "Small",
         "Tier 1",
         "Grocery Store",
         125.8362
        ],
        [
         "FDV20",
         null,
         "Regular",
         0.059511812,
         "Fruits and Vegetables",
         128.0678,
         "OUT027",
         1985,
         "Medium",
         "Tier 3",
         "Supermarket Type3",
         2797.6916
        ],
        [
         "DRZ11",
         8.85,
         "Regular",
         0.113123893,
         "Soft Drinks",
         122.5388,
         "OUT018",
         2009,
         "Medium",
         "Tier 3",
         "Supermarket Type2",
         1609.9044
        ],
        [
         "FDX10",
         null,
         "Regular",
         0.123111453,
         "Snack Foods",
         36.9874,
         "OUT027",
         1985,
         "Medium",
         "Tier 3",
         "Supermarket Type3",
         388.1614
        ]
       ],
       "datasetInfos": [],
       "dbfsResultPath": null,
       "isJsonSchema": true,
       "metadata": {},
       "overflow": false,
       "plotOptions": {
        "customPlotOptions": {},
        "displayType": "table",
        "pivotAggregation": null,
        "pivotColumns": null,
        "xColumns": null,
        "yColumns": null
       },
       "removedWidgets": [],
       "schema": [
        {
         "metadata": "{}",
         "name": "Item_Identifier",
         "type": "\"string\""
        },
        {
         "metadata": "{}",
         "name": "Item_Weight",
         "type": "\"double\""
        },
        {
         "metadata": "{}",
         "name": "Item_Fat_Content",
         "type": "\"string\""
        },
        {
         "metadata": "{}",
         "name": "Item_Visibility",
         "type": "\"double\""
        },
        {
         "metadata": "{}",
         "name": "Item_Type",
         "type": "\"string\""
        },
        {
         "metadata": "{}",
         "name": "Item_MRP",
         "type": "\"double\""
        },
        {
         "metadata": "{}",
         "name": "Outlet_Identifier",
         "type": "\"string\""
        },
        {
         "metadata": "{}",
         "name": "Outlet_Establishment_Year",
         "type": "\"integer\""
        },
        {
         "metadata": "{}",
         "name": "Outlet_Size",
         "type": "\"string\""
        },
        {
         "metadata": "{}",
         "name": "Outlet_Location_Type",
         "type": "\"string\""
        },
        {
         "metadata": "{}",
         "name": "Outlet_Type",
         "type": "\"string\""
        },
        {
         "metadata": "{}",
         "name": "Item_Outlet_Sales",
         "type": "\"double\""
        }
       ],
       "type": "table"
      }
     },
     "output_type": "display_data"
    }
   ],
   "source": [
    "df.filter(col('Item_Fat_Content')=='Regular').limit(20).display()"
   ]
  },
  {
   "cell_type": "code",
   "execution_count": 0,
   "metadata": {
    "application/vnd.databricks.v1+cell": {
     "cellMetadata": {
      "byteLimit": 2048000,
      "rowLimit": 10000
     },
     "inputWidgets": {},
     "nuid": "521a5289-3473-4b74-8802-a36902ce1487",
     "showTitle": false,
     "tableResultSettingsMap": {},
     "title": ""
    }
   },
   "outputs": [
    {
     "output_type": "display_data",
     "data": {
      "application/vnd.databricks.v1+bamboolib_hint": "{\"pd.DataFrames\": [], \"version\": \"0.0.1\"}",
      "text/plain": []
     },
     "metadata": {},
     "output_type": "display_data"
    }
   ],
   "source": [
    "from matplotlib import pyplot as plt\n",
    "import seaborn as sns\n",
    "import pandas as pd\n",
    "%matplotlib inline"
   ]
  },
  {
   "cell_type": "code",
   "execution_count": 0,
   "metadata": {
    "application/vnd.databricks.v1+cell": {
     "cellMetadata": {
      "byteLimit": 2048000,
      "rowLimit": 10000
     },
     "inputWidgets": {},
     "nuid": "dbc804b1-0e97-4eb8-b81e-3e0966004897",
     "showTitle": false,
     "tableResultSettingsMap": {},
     "title": ""
    }
   },
   "outputs": [
    {
     "output_type": "display_data",
     "data": {
      "image/png": "[encoded data removed]"
     },
     "metadata": {
      "application/vnd.databricks.v1+output": {
       "addedWidgets": {},
       "arguments": {},
       "data": "data:image/png;base64,iVBORw0KGgoAAAANSUhEUgAAAnIAAAFCCAYAAAB1vDClAAAAOXRFWHRTb2Z0d2FyZQBNYXRwbG90bGliIHZlcnNpb24zLjUuMSwgaHR0cHM6Ly9tYXRwbG90bGliLm9yZy/YYfK9AAAACXBIWXMAAAsTAAALEwEAmpwYAAAsk0lEQVR4nO3deVyVZf7/8fc5bKKoCCLiUu5LmluEYrlbqAloajg01bhllsvX3bA0TWdG1Mq03EenxsmcTA1UtHLKNK0xNTNTUyk3BAIXcGE79+8Pf52JyeWIcA43vJ6Phw8593Wd+/5c5/Yc3l73fe7bYhiGIQAAAJiO1dUFAAAAoGAIcgAAACZFkAMAADApghwAAIBJEeQAAABMiiAHAABgUgQ5AAAAk3J3dQGudP78Zdlsxfsyei+88Ky+//47ubm5SZICAqpo9eoPJUlbt27WwoULdPHiBT34YGtNnjxVFSpUlCQlJZ3VnDl/1cGDB+Th4alOnbpo1Kixcne/vst37NiuhQsX6Ny5s6pbt75efPFl1a5dxzWDBAAAN2W1WlSpUrkbtllK8wWB09Iyi32QGz78WYWF9VB4eK98y0+cOK6hQwdo9uw31KBBI8XGzpRh2DRt2l8kSePGjVSlSn4aN+5FZWZmaPToFxQe3lv9+vXXqVMnNWjQU5o9e56aNGmq9957V/HxG7Rq1Qf2oAcAAIoHq9Uif3+fG7c5uRYUko8/TtBDD7VTixatVLZsWQ0ZMkyff/5vXblyWdL1GbnOnbvKy8tL/v6V1bp1WyUmHpckff31LjVv3kLNm7eQu7u7nnzyGaWmpmr//r2uHBIAALhDBDkTWLx4gR57rIuGDRuovXv3SJISE4+rXr369j7Vq9eQh4eHTp48KUnq1+8P+uSTrbp27ZpSU1O0e/dOtW7d1t7/txOx1382dOLEcecMCAAAFAqCXDE3bNhIrVmzQevWbVZExOOaOHGMzpw5ratXr8rHJ/80a7lyPvYZuRYtWikx8YTCwjqod+8eatToPrVv31GSFBzcWvv379XevXuUk5Ojd99doZycHGVlXXP28AAAwF0gyBVzTZo0Vdmy5eTp6anu3Xvq/vuba9euHfL29tbly5fz9b18+bLKli0nm82msWNHqEOHTvr44y+0ceMnysi4pIUL35Qk3XtvLU2e/Ipefz1WkZHddOHCBdWqVVsBAVVcMUQAAFBABDmTsVgsMgypdu26OnbsR/vyM2dOKycnW/fcc48uXbqk5ORz6tMnSp6enqpY0Vc9ekRo166d9v6dOnXVu++u0aZNn2rQoKE6dy5JjRs3ccWQAABAARHkirGMjAx99dUuZWVlKTc3V1u3bta33+5V69aheuSRbtq58wt9++0+Xb16VcuXL1aHDp1Utmw5+fr6Kiioutat+0C5ubnKyMjQ5s3xqlv3v+fUHT78g/Ly8nT+/HnFxs7UQw+117331nLdYAEAwB3j8iPF+PIj58+f1/jxo/Tzzz/Jzc2qe+6ppSFDntODD7aRJG3dmqBFi+br0qWLCg4OUUzMf68j9+OPRzRv3lwdO/aj3NysatXqQY0ePV5+fv6SpGHDBunYsR/l7u6uTp26aMSIMfL29nbZWAEAwI3d6vIjBLliHOQAAAC4jhwAAEAJxGX8HVC+QhmV8fJwdRkl2rWsHGVc4vInAADcCYKcA8p4eSh6wipXl1Gi/TP2SWWIIAcAwJ1wWpDr3LmzPD095eXlJUkaN26c2rVrp/3792vKlCnKyspS9erVNXv2bPn7Xz8hv6BtAAAApYFTz5F78803tWHDBm3YsEHt2rWTzWbT+PHjNWXKFG3ZskXBwcGaM2eOJBW4DQAAoLRw6ZcdDh48KC8vLwUHB0uS+vfvr4SEhLtqAwAAKC2ceo7cuHHjZBiGHnjgAY0ZM0ZJSUmqVq2avd3Pz082m00XLlwocJuvr6/D9dzsq7xwjYCA8q4uAQAAU3FakFu1apWCgoKUnZ2tmTNnavr06XrkkUectfkbcvQ6cgQM50hNzXB1CQAAFDvF4jpyQUFBkiRPT09FR0dr7969CgoK0tmzZ+190tPTZbVa//8tpgrWBgAAUFo4JchduXJFGRnXZ1sMw9CmTZvUuHFjNW3aVNeuXdOePXskSatXr1a3bt0kqcBtAAAApYVTDq2mpaVpxIgRysvLk81mU926dTV16lRZrVbFxsZq6tSp+S4jIqnAbQAAAKUF91p18Bw5LghctP4Z+yTnyAEAcAPF4hw5AAAAFC6CHAAAgEkR5AAAAEyKIAcAAGBSBDkAAACTIsgBAACYFEEOAADApAhyAAAAJkWQAwAAMCmCHAAAgEkR5AAAAEyKIAcAAGBSBDkAAACTIsgBAACYFEEOAADApAhyAAAAJkWQAwAAMCmCHAAAgEkR5AAAAEyKIAcAAGBSBDkAAACTIsgBAACYFEEOAADApAhyAAAAJkWQAwAAMCmCHAAAgEkR5AAAAEyKIAcAAGBSBDkAAACTIsgBAACYFEEOAADApAhyAAAAJkWQAwAAMCmCHAAAgEkR5AAAAEyKIAcAAGBSBDkAAACTIsgBAACYFEEOAADApAhyAAAAJkWQAwAAMCmCHAAAgEk5PcgtWLBADRs21NGjRyVJ+/fvV0REhMLCwjRw4EClpaXZ+xa0DQAAoDRwapD7/vvvtX//flWvXl2SZLPZNH78eE2ZMkVbtmxRcHCw5syZc1dtAAAApYXTglx2dramT5+uV155xb7s4MGD8vLyUnBwsCSpf//+SkhIuKs2AACA0sLdWRuaN2+eIiIiVKNGDfuypKQkVatWzf7Yz89PNptNFy5cKHCbr6+vwzX5+/vc3aBQqAICyru6BAAATMUpQW7fvn06ePCgxo0b54zNOSwtLVM2m3HbfgQM50hNzXB1CQAAFDtWq+Wmk09OCXL/+c9/dPz4cXXp0kWSdO7cOQ0aNEhPPfWUzp49a++Xnp4uq9UqX19fBQUFFagNAACgtHDKOXLPPvusduzYoW3btmnbtm2qWrWqli9frsGDB+vatWvas2ePJGn16tXq1q2bJKlp06YFagMAACgtnHaO3I1YrVbFxsZq6tSpysrKUvXq1TV79uy7agMAACgtLIZh3P4ksRLqTs6Ri56wygkVlV7/jH2Sc+QAALiBW50jx50dAAAATIogBwAAYFIEOQAAAJMiyAEAAJgUQQ4AAMCkCHIAAAAmRZADAAAwKYIcAACASRHkAAAATIogBwAAYFIEOQAAAJMiyAEAAJgUQQ4AAMCkCHIAAAAmRZADAAAwKYIcAACASRHkAAAATIogBwAAYFIEOQAAAJMiyAEAAJgUQQ4AAMCkCHIAAAAmRZADAAAwKYIcAACASRHkAAAATIogBwAAYFIEOQAAAJMiyAEAAJgUQQ4AAMCkCHIAAAAmRZADAAAwKYIcAACASRHkAAAATIogBwAAYFIEOQAAAJMiyAEAAJgUQQ4AAMCkCHIAAAAmRZADAAAwKXdXFwCUVNnZ2Zo796/as+drXbp0SdWr19DQoS8oNPQhSdKnn36sv/1tsVJSUhQYGKhnn31B7dt3lCQZhqGlSxdq06Y4Xb16RfXrN9SYMRNVp05dSVJqaormzv2rvv12v8qUKaNnnhmoXr36umqoAAAXYUYOKCJ5eXmqUiVQCxYs0ZYtn2nIkGGaMuVFJSWdVWpqil599WUNHz5aW7d+ruefH6Vp0ybr/Pl0SdK2bZ9o48aP9NZbS7Vp0zY1bdpMM2ZMsa97+vSXFRRUXXFxWxUb+4YWL35be/fucdVQAQAu4rQg9/zzzysiIkK9evVSdHS0fvjhB0lSYmKioqKiFBYWpqioKP3000/25xS0DSgOvL29NWjQUAUFVZPVatVDD7VTtWrVdOTID0pJSZGPT3mFhj4ki8Witm0flre3t86cOS1JSko6o2bNWqh69Rpyc3PTo492108/JUqSrly5on37vtHTTw+Uu7u76tdvoI4du2jjxg2uHC4AwAWcFuRmzZqljz76SOvXr9fAgQMVExMjSZo6daqio6O1ZcsWRUdHa8qU/846FLQNKI7S09N06tRJ1a5dV40aNVatWrW1Y8fnysvL0/btn8nDw1N169aXJHXtGqYzZ07r5MmflZubq4SEeLVuHfr/12T8z9/Xfz5x4rgzhwMAKAacFuTKly9v/zkzM1MWi0VpaWk6dOiQevbsKUnq2bOnDh06pPT09AK3AcVRbm6upk17Wd26PaZ7760lNzc3devWQ9OmvaTOndtq2rTJGj8+Rt7e3pIkf//KatashaKj+6hLl4f0739/qhEjxkiSypYtp/vvb66VK5cpKytLR44c1mefbdO1a9dcOUQAgAs49csOkydP1s6dO2UYhpYtW6akpCQFBgbKzc1NkuTm5qYqVaooKSlJhmEUqM3Pz8+ZQwJuy2az6dVXX5aHh7vGjJkoSfrPf77S22/P1/z5i9WgQSMdOfKDJk0aozlz3lT9+g21YsVSHT58SB9+uFF+fv7aunWzRo0apnffXaMyZcpo6tQZeu21WerT5zEFBVVXWFh3JSaecPFIAQDO5tQgN3PmTEnS+vXrFRsbq1GjRjlz87/j7+/j0u0jv4CA8rfvZDKGYSgmJkYZGRe1dOlSlSlTRpKUlPSzQkIeVLt2rSVJgYFt1KJFC/3ww7dq2zZYJ0+eUERETzVpUk+S9Mwz0Zo//zVduHBO999/vwICymvFiuX27YwdO1YPPNCyRL6GAICbc8nlR3r16qUpU6aoatWqSk5OVl5entzc3JSXl6eUlBQFBQXJMIwCtd2JtLRM2WzGbfvxy9E5UlMzXF1CoZs9+8/68cejeuONt5WRkaOMjBxJUs2adbV48WJ9+eUe1a/fUEePHtZ//rNHjz3WW6mpGapTp4Hi4jaqTZsO8vWtpK1bNysnJ0flyvkrNTVDP/2UqCpVqsjDw1Pbtn2sL774Qv/4xwcl8jUEgNLOarXcdPLJ4SC3fPlyDRo06HfLV6xYoQEDBtzyuZcvX9alS5fsQWvbtm2qWLGi/P391bhxY8XHxysyMlLx8fFq3Lix/fBoQduA4uDcuSRt2PChPD09FRkZZl8+fnyMHn20uwYOfFYvvTRR6enp8vWtpKeeGqCQkDaSpCeffEbnz5/XgAHRunr1mmrUqKEZM2Lt55p+/fUuvfPO33Tt2jXVr99Qc+fOV6VKlVwyTgCA61gMw7j9lJSkVq1aae/evb9bHhISoq+//vqWz/3ll1/0/PPP6+rVq7JarapYsaImTpyoJk2a6Pjx45o0aZIuXbqkChUqaNasWapTp44kFbjNUXcyIxc9YdUdrRt35p+xTzKbBADADdzVjNyuXbskXT9he/fu3fpt7jt9+rTKlSt32wIqV66sNWvW3LCtbt26+te//lWobQAAAKXBbYPc5MmTJUlZWVn2a79JksViUUBAgF566aWiqw64S5Uqesrd08vVZZR4udlZOn8x29VlAECpc9sgt23bNknShAkTFBsbW+QFAYXJ3dNL38QOdnUZJd4DE5ZJIsgBgLM5/GWH34Y4m82Wr81q5ZatAAAAzuZwkPv+++81ffp0HTlyRFlZWZKuXyPLYrHY75sKAAAA53E4yE2aNEmdOnXSn//8Z/tFTQEAAOA6Dge5M2fOaPTo0bJYLEVZDwAAABzk8MltjzzyiHbs2FGUtQAAAOAOODwjl5WVpeHDh+uBBx5Q5cqV87XxbVYAAADnczjI1atXT/Xq1SvKWgAAAHAHHA5yw4cPL8o6AAAAcIccDnK/3qrrRkJDQwulGAAAADjO4SD36626fnX+/Hnl5OQoMDBQn376aaEXBgAAgFtzOMj9equuX+Xl5WnhwoUqV65coRcFAACA2yvwvbXc3Nz03HPPadmyZYVZDwAAABx0VzdJ3blzJxcIBgAAcBGHD6126NAhX2i7evWqsrOzNXXq1CIpDAAAALfmcJCbPXt2vsfe3t6qXbu2fHx8Cr0oAAAA3J7DQS4kJESSZLPZ9Msvv6hy5cqyWu/qyCwAAADugsNJLDMzUxMmTFCzZs3Uvn17NWvWTBMnTlRGRkZR1gcAAICbcDjIzZgxQ1evXlVcXJwOHDiguLg4Xb16VTNmzCjK+gAAAHATDh9a/eKLL/TJJ5/I29tbklS7dm395S9/0SOPPFJkxQEAAODmHJ6R8/LyUnp6er5l58+fl6enZ6EXBQAAgNtzeEaub9++GjhwoP70pz+pWrVqOnv2rFauXKl+/foVZX0AAAC4CYeD3LBhwxQYGKi4uDilpKSoSpUqGjx4MEEOAADARRw+tDpz5kzVrl1bK1eu1KZNm7Ry5UrVrVtXM2fOLMr6AAAAcBMOB7n4+Hg1bdo037KmTZsqPj6+0IsCAADA7Tkc5CwWi2w2W75leXl5v1sGAAAA53A4yAUHB2vevHn24Gaz2TR//nwFBwcXWXEAAAC4OYe/7DB58mQNHTpUDz/8sKpVq6akpCQFBARo0aJFRVkfAAAAbsLhIFe1alWtW7dOBw4cUFJSkoKCgtSsWTPutwoAAOAiDgc5SbJarWrRooVatGhRROUAAADAUUynAQAAmBRBDgAAwKQIcgAAACZFkAMAADApghwAAIBJEeQAAABMiiAHAABgUgQ5AAAAkyLIAQAAmBRBDgAAwKQIcgAAACbllCB3/vx5DRkyRGFhYQoPD9fw4cOVnp4uSdq/f78iIiIUFhamgQMHKi0tzf68grYBAACUBk4JchaLRYMHD9aWLVsUFxenmjVras6cObLZbBo/frymTJmiLVu2KDg4WHPmzJGkArcBAACUFk4Jcr6+vmrdurX9cYsWLXT27FkdPHhQXl5eCg4OliT1799fCQkJklTgNgAAgNLC6efI2Ww2vffee+rcubOSkpJUrVo1e5ufn59sNpsuXLhQ4DYAAIDSwt3ZG3z11VdVtmxZ/fGPf9THH3/s7M3n4+/v49LtI7+AgPKuLgF3gf0HAM7n1CA3a9Ys/fzzz1q0aJGsVquCgoJ09uxZe3t6erqsVqt8fX0L3HYn0tIyZbMZt+3HLyjnSE3NKPR1su+cpyj2HwBAslotN518ctqh1ddee00HDx7UW2+9JU9PT0lS06ZNde3aNe3Zs0eStHr1anXr1u2u2gAAAEoLp8zI/fjjj1q8eLFq1aql/v37S5Jq1Kiht956S7GxsZo6daqysrJUvXp1zZ49W5JktVoL1AYAAFBaOCXI1a9fX0eOHLlhW6tWrRQXF1eobQAAAKUBd3YAAAAwKYIcAACASRHkAAAATIogBwAAYFIEOQAAAJMiyAEAAJgUQQ4AAMCkCHIAAAAmRZADAAAwKYIcAACASRHkAAAATIogBwAAYFIEOQAAAJMiyAEAAJgUQQ4AAMCkCHIAAAAmRZADAAAwKYIcAACASRHkAAAATIogBwAAYFIEOQAAAJMiyAEAAJgUQQ4AAMCkCHIAAAAmRZADAAAwKYIcAACASRHkAAAATIogBwAAYFIEOQAAAJMiyAEAAJgUQQ4AAMCkCHIAAAAmRZADAAAwKYIcAACASRHkAAAATIogBwAAYFIEOQAAAJMiyAEAAJgUQQ4AAMCkCHIAAAAmRZADAAAwKYIcAACASTklyM2aNUudO3dWw4YNdfToUfvyxMRERUVFKSwsTFFRUfrpp5/uug0AAKC0cEqQ69Kli1atWqXq1avnWz516lRFR0dry5Ytio6O1pQpU+66DQAAoLRwSpALDg5WUFBQvmVpaWk6dOiQevbsKUnq2bOnDh06pPT09AK3AQAAlCburtpwUlKSAgMD5ebmJklyc3NTlSpVlJSUJMMwCtTm5+d3RzX4+/sU7qBwVwICyru6BNwF9h8AOJ/LglxxkJaWKZvNuG0/fkE5R2pqRqGvk33nPEWx/wAAktVquenkk8uCXFBQkJKTk5WXlyc3Nzfl5eUpJSVFQUFBMgyjQG0AAAClicsuP+Lv76/GjRsrPj5ekhQfH6/GjRvLz8+vwG0AAAClicUwjNsfW7xLM2bM0NatW/XLL7+oUqVK8vX11caNG3X8+HFNmjRJly5dUoUKFTRr1izVqVNHkgrcdifu5NBq9IRVd7x+OO6fsU8W2aHVb2IHF/p6kd8DE5ZxaBUAisitDq06JcgVVwS54oMgZ24EOQAoOrcKctzZAQAAwKQIcgAAACZFkAMAADApghwAAIBJEeQAAABMiiAHAABgUgQ5AAAAkyLIAQAAmBRBDgAAwKQIcgAAACZFkAMAADApghwAAIBJEeQAAABMiiAHAABgUgQ5AAAAkyLIAQAAmBRBDgAAwKQIcgAAACbl7uoCAAAoatOnv6xvvvlaV69ek5+fv5588mmFh/dSTk6Opk2brMOHf9C5c0l6881FatUqON9zjxw5rDffnKujRw+rTBlvPfXUAD3xxB9cNBIgP4IcAKDE++Mf/6RJk16Wp6enfv75J40YMVT16zdU3br11KxZC/XrF60pUyb+7nkXLlzQ2LEjNHLkGHXs2EW5uTlKSUlxwQiAGyPIAQBKvDp16tp/tliu/zlz5rQaNWqsJ56IliRZrW6/e977769S69Zt9Oij3SVJnp6eqlWrtnOKBhxAkAMAlApz5vxVmzfHKSsrSw0aNFRo6EO3fc7333+nOnXq6bnnBur06VO6776mGjNmoqpWreqEioHb48sOAIBSYdy4Sdq6dbveemuZ2rfvJE9Pz9s+JyUlRQkJ8Ro1aqzWro1XtWrVNG1ajBOqBRxDkAMAlBpubm5q3ryFUlNTtG7dB7ft7+XlpfbtO6lx4yby8vLSgAFD9N13B5SZmemEaoHbI8gBAEqdvLw8nTlz+rb96tWrl++xxWIpqpKAAiHIAQBKtPPn0/XJJ1t05coV5eXl6auvdumTT7YoOPhBSVJ2draysrIkSbm5ucrKypJhGJKkHj0itH37Z/rxxyPKzc3VypXL1KxZC/n4+LhsPMBv8WUHAEAJZ9H69Ws1Z85fZLMZqlq1qkaOHKuHH+4gSYqO7qNz55IkSWPGDJck/etfHykoqJoeeOBBDR36gsaP/z9du3ZNzZq10NSpM1w2EuB/EeQAACVapUqVtGDBkpu2f/BB3C2f37t3X/Xu3bewywIKBUEOABywdu372rQpXidOHFPXrmGaPPkVSbrtnQH++c93tHlzvM6dOydfX1/17t1X0dFPu2gUgPkU9L03duxIHTiwz/44JydH99xzr955531nD6FIEeQAwAGVKwfomWcG6euvd9nPp/rVre4MYBiGXnppuurWraezZ09r9OjhqlIlUF27hjmrdJfxLe8pjzJeri6jRMu5lqULGdmuLqNIFfS9N3fum/keDx/+rB544MEirdUVCHIA4IAOHTpLkg4fPqTU1P/eosnDw+OWdwZ48sln7D/fc08ttWvXQd99922pCHIeZby06ekBri6jROvxzgqphAe5gr73fisp6awOHNhvn80rSfjWKgA4iWEY+vbbfapdu46rSwFKlYSEjWrWrIWCgqq5upRCR5ADACf529+WyGYz1KNHhKtLAUqVhISN6tEj3NVlFAkOrQKAE6xd+74SEjbqrbeWOnRrKACF49tv9ys9PU0dO3ZxdSlFgiAHAEUsPn6D/vGPv2vBgiWqUiXQ1eUApUpCQrzat++ksmXLurqUIsGhVQBwwK9X/LfZbLLZ8pSVlaXc3FxJt74zwNatm7Vkydt6/fW3VL16DZfVD5hVQd97kpSVdU3btn1cYg+rSszIAYBD/v735VqxYqn98ZYtmzVgwBANGjT0lncGWLp0oS5evKAhQ/577bhHH+2u8eNjnDsAwKQK+t6TpO3bP5OPT/l815craSzGb6NrKZOWlimb7fbDDwgor+gJq5xQUen1z9gnlZqaUejrDQgor29iBxf6epHfAxOWFcn+g7kFBJTn8iNFrMc7K3jvlQJWq0X+/je+vy+HVgEAAEyKQ6sAACCfihW85elFRChq2Vm5unjp6l2tg70EoNiqUNFLXlyqo0hlZWfr0sWs23dEqeLp5a4/T/7A1WWUeDEz+971OghyAIotL09P/WnFKFeXUaKtHDBPEkEOMCtTnyOXmJioqKgohYWFKSoqSj/99JOrSwIAAHAaUwe5qVOnKjo6Wlu2bFF0dLSmTJni6pIAAACcxrSHVtPS0nTo0CGtWLFCktSzZ0+9+uqrSk9Pl5+fn0PrsFotDm+vcqVyBaoTjruT/XEnPCv4F8l6kV9R7b/KPo69n1FwRbXvJMm7Mu+/olZU+6+ib8m8E0Jx48j+u1Uf015H7uDBg5o4caI2btxoX9ajRw/Nnj1bTZo0cWFlAAAAzmHqQ6sAAAClmWmDXFBQkJKTk5WXlydJysvLU0pKioKCglxcGQAAgHOYNsj5+/urcePGio+PlyTFx8ercePGDp8fBwAAYHamPUdOko4fP65Jkybp0qVLqlChgmbNmqU6deq4uiwAAACnMHWQAwAAKM1Me2gVAACgtCPIAQAAmBRBDgAAwKQIcgAAACZFkAMAADApglwx0blzZx09erRIt/HUU0+pS5cuioyMVGRkpP7v//7vlv0//PBDJSYmFmlNJUHnzp3VrVs3RUREqHv37vrXv/5VJNs5ffq0WrduXSTrhtSwYUNdvny50Nd7/vx59e/fX5GRkVq2bNkt+65cuVJpaWmFXgN+70afuXf6GQkUB+6uLgDO9dJLL6lTp04O9V23bp0qVaqk2rVrF3FV5vfmm2+qQYMGOnr0qB5//HG1b99egYGBri5L0vW7nri5ubm6jFJr165dqlChglavXn3bvu+8847atm0rf39uNO8qd/IZCdfJzc2VuzsRRmJGrthbv369wsPDFR4erhdeeMH+v/WoqCgdOHBAkvTKK6/osccek3T9H3fr1q115coVh9a/a9cuRUVFqVevXgoPD9fGjRslSWvXrtXBgwc1Y8YMRUZG6ssvvyyC0ZU8DRo0UIUKFZScnKwTJ05o8ODB6tOnjyIiIrR27Vp7vy1btqhbt27q1auXFi1aZJ8N+t9Zt1vNwo0dO1aPP/64/d/GxYsXJUlfffWVwsPD9eKLLyoyMlLbt28v2kGXQAcOHFBUVJTCw8Pzvdfmzp1rn1XbtGmTGjVqZH9PDhkyRDt27Mi3nt27dys2NlZ79+5VZGSk9uzZo7i4OPXr10+9evVSr169tGvXLknSwoULlZKSopEjRyoyMlLHjh1z4oiB4q9hw4aaP3+++vTpowULFigzM1OTJ09W3759FR4erhkzZthv23ns2DH169dPPXv21Lhx4/TEE0/o3//+t4tHUEQMFAudOnUyjhw5km/ZkSNHjIceeshITk42DMMwXn/9dWPUqFGGYRjGa6+9ZixevNgwDMPo2bOn0bt3byM5OdnYu3ev8Yc//OGG2/jjH/9odO7c2YiIiDAiIiKMDz74wLhw4YKRm5trGIZhpKamGu3atTMuXLhg779t27aiGG6J8tt9t2fPHqNHjx5GVlaW0bt3b+PYsWOGYRhGRkaG8eijjxrHjh0zUlNTjZCQECMxMdEwDMNYsWKF0aBBAyMzM9M4deqUERISYl/3bx//b1taWpr959dee82YPXu2YRiGsXv3bqNRo0bG3r17i3TcJc2v+yArK8vo0KGD8eWXXxqGYRg7d+40OnToYGRlZRk7d+40Bg4caBiGYbz88stGVFSUER8fb2RnZxshISHGlStXfrfetWvXGiNGjLA/Tk9PN2w2m2EYhnH8+HGjXbt29rYbfQ6gaNzotb7RZySKjwYNGth/7xmGYcTExBjr1q0zDMMw8vLyjNGjRxvvv/++YRiG0bt3b2P9+vWGYRjGgQMHjEaNGpXY32fMSxZjX331lTp06KAqVapIkv08G0kKDQ3VokWLFB4eLl9fX4WEhGjXrl06ffq02rRpc9N1/u9hg8TERMXExOjnn3+Wm5ubLl68qMTERLVo0aJIx1bSjBw5UoZh6OTJk5o3b55Onjyp48ePa8yYMfY+OTk5OnHihKxWq+677z7VqlVLktSnTx/95S9/ueNtbtiwQXFxccrJydGVK1fs65Oke++9Vy1btrzbYZVKiYmJ8vDwUGhoqCSpbdu28vDwUGJiolq1aqXRo0crOztbe/fu1YQJE7RlyxYFBgaqfv368vb2vu36T506pbFjxyo5OVnu7u765ZdflJqaqoCAgKIeGhzAodXirXfv3vaft23bpgMHDmjFihWSpGvXrikwMFCZmZk6evSowsPDJUn333+/GjZs6JJ6nYEgZ1KtWrXSoUOH9Nlnnyk0NFQhISFau3atTp8+rZEjRzq8nldeeUWdO3fWggULZLFYFBYWpqysrCKsvGT69Ry5zZs368UXX9TChQtVqVIlbdiw4Xd9P/3005uux93dXcZv7pp3s32xZ88evffee1q9erX8/PwUFxenNWvW2NvLli17F6PBzZQpU0YNGjTQxo0bFRAQoDZt2mjWrFmqWrXqLf8D9VtjxozRpEmT1LVrV9lsNjVv3pz3HOCg3362GYaht99+WzVr1szXJzMzU5JksVicWpurcI5cMda6dWt9/vnnSk1NlSStWbNGbdu2lSR5enrqvvvu09KlS9W2bVs1b95ce/fu1ZEjR9S8eXOHt5GRkaHq1avLYrFo586d+vnnn+1t5cqVU0ZGRuEOqoTr3r27HnroISUkJKhMmTJav369ve348ePKzMxU8+bNdejQIZ08eVLS9S+V/Kpy5crKycmx74f4+PgbbufSpUvy8fGRr6+vsrOz851/h7tTu3Zt5eTkaPfu3ZKun0eam5tr/9JPaGio5s+fr9DQUHl6eqpq1apat26dfQbvdjIyMlSjRg1J189Fzc7OtrfxngMc17lzZy1ZssR+Xlx6erpOnTolHx8f1a9f3/75+f333xf5VSFciRm5YmTAgAH5vl0YFxencePGaeDAgZKkmjVravr06fb20NBQfffdd7r//vvl5uame+65RzVq1JCnp6fD2xw7dqymTZum+fPn/276OSoqSn/961+1fPlyTZw40R4icWu/fglh8eLFWrJkiZYvXy6bzSZ/f3+98cYbqly5sl555RUNGTJE3t7e6tixozw8POTt7S2r1arJkydrwIAB8vPzU8eOHW+4jXbt2umjjz5SWFiYKlWqpODgYH333XfOHWgJ5enpqTfffFMzZ87UlStXVLZsWc2bN8/+vgoNDdW8efPsM3Bt2rTR3r171axZM4fW/+KLL+r5559XxYoV1a5dO/n6+trbnn76acXExKhMmTKaO3eu6tWrV+jjw3/972fub/cFir+YmBjNnj1bkZGRslgs8vDwUExMjGrWrKlZs2YpJiZGS5YsUYMGDdSgQQOVL1/e1SUXCYvx2+M4AJwiMzNTPj4+kq7PynzwwQd67733XFwVAJQMly9fVtmyZWWxWHTs2DE99dRTSkhIUMWKFV1dWqFjRg5wgXfffVcJCQnKy8tTxYoVNWPGDFeXBAAlxr59+xQbG2s/5/jVV18tkSFOYkYOAADAtPiyAwAAgEkR5AAAAEyKIAcAAGBSBDkAAACTIsgBAACYFEEOgEt17txZX375pT788EP94Q9/cPr258+fryZNmqhly5b2P0uXLr3lc+601gMHDmjIkCEKDg5WSEiI+vbtWyh34yjs12zSpEl6/fXXC219AIoe15EDUOp1795dc+bMKZJ179u3TwMHDtSwYcM0a9YsVapUSd9//72WLl2qPn36FMk2AZQezMgBcLnjx49r6tSp2r9/v1q2bKng4GBJUnZ2tmbNmqWOHTuqbdu2mjJliq5duyZJ+uqrr9S+fXstXbpUoaGhevjhh/XJJ5/o888/V1hYmEJCQrRo0aIC17RkyRJ17dpVLVu2VI8ePfTxxx/fstabiY2NVa9evfTss8/Kz89PFotFTZs21bx58+x91qxZo0ceeUQhISF67rnnlJycbG9r2LCh3nvvPT366KMKDg7WtGnTZBjGXb1mf/vb3+yv2a8zg++//77i4uK0fPlytWzZUs8991yBXzsAzkOQA+BydevW1bRp09SiRQvt27dPe/bskSTNmTNHiYmJWr9+vbZu3aqUlBS99dZb9uf98ssvysrK0vbt2zVy5Ei99NJL+uijj7R27VqtWrVKb7/9tk6dOlWgmmrWrKlVq1bpm2++0fDhwzV+/HilpKTctNYbuXr1qvbv36+wsLCb9tm1a5fmzp2rN954Qzt27FD16tU1ZsyYfH0+++wzffDBB/roo4+0efNmffHFF3f1mmVkZGj79u2aOXOmpk+frosXLyoqKkrh4eEaNGiQ9u3bd1chGIDzEOQAFEuGYWjNmjWKiYmRr6+vfHx8NHToUG3cuNHex93dXcOGDZOHh4d69Oih8+fP6+mnn5aPj4/q16+vevXq6ciRI7fdVkJCgoKDg+1/kpOT1b17dwUGBspqtapHjx669957deDAgTsaw6VLl2Sz2RQQEHDTPnFxcerTp4+aNGkiT09PjRkzRvv379fp06ftfYYMGaIKFSqoWrVqat26tQ4fPnzDdTn6mr3wwgvy8PBQhw4dVLZsWSUmJt7RuAAUH5wjB6BYSk9P19WrV/X444/blxmGIZvNZn/s6+srNzc3SVKZMmUkSf7+/vZ2Ly8vXb58+bbb6tat2+/OkVu/fr1WrFihM2fOSJKuXLmi8+fP39EYKlSoIKvVqtTUVNWtW/eGfVJSUtSkSRP743LlysnX11fJycmqUaOGJOULgt7e3jcdk6Ovmbv7fz/6vb29deXKlTsaF4DigyAHoFiwWCz5HleqVEllypTRxo0bFRgY6NRazpw5o5deekkrV65Uy5Yt5ebmpsjIyJvWejPe3t5q0aKFtm7dqjZt2tywT5UqVexhUboeGC9cuODQmAv7NXN0XACKDw6tAigW/P39lZycrOzsbEmS1WpVv3799Oc//1lpaWmSpOTkZH3xxRdFXsvVq1dlsVjk5+cnSVq7dq1+/PHHm9Z6K+PHj9e6deu0bNky+4ze4cOHNXr0aElSz5499eGHH+qHH35Qdna2XnvtNTVr1sw+G3crhf2a+fv75zukC6D4I8gBKBbatGmjevXq6eGHH1br1q0lXQ9B9957r5544gm1atVKf/rTn5xyPle9evU0cOBA9e/fX23bttXRo0fVqlWrW9Z6M61atdLf//537d69W127dlVISIhefvlldejQQZLUtm1bjRo1SiNGjNDDDz+sU6dOOXwtt8J+zfr27atjx44pODhYzz//vEPPAeBaFsMwDFcXAQAAgDvHjBwAAIBJ8WUHACXe4MGD9c033/xu+dChQwvlwrePPfaYzp49+7vl06ZNU0RExF2vHwBuhkOrAAAAJsWhVQAAAJMiyAEAAJgUQQ4AAMCkCHIAAAAm9f8AXq4GH+2dOZQAAAAASUVORK5CYII=\n",
       "datasetInfos": [],
       "metadata": {},
       "removedWidgets": [],
       "type": "image"
      }
     },
     "output_type": "display_data"
    }
   ],
   "source": [
    "da=df.select(col('Item_Fat_Content'))\n",
    "data=da.toPandas()\n",
    "sns.set(rc={'figure.figsize':(10,5)})\n",
    "s=sns.countplot(x='Item_Fat_Content',data=data,)\n",
    "for bars in s.containers:\n",
    "   s.bar_label(bars)\n"
   ]
  },
  {
   "cell_type": "code",
   "execution_count": 0,
   "metadata": {
    "application/vnd.databricks.v1+cell": {
     "cellMetadata": {
      "byteLimit": 2048000,
      "rowLimit": 10000
     },
     "inputWidgets": {},
     "nuid": "07b8fcec-796a-4c54-bbfa-488d3a036089",
     "showTitle": false,
     "tableResultSettingsMap": {},
     "title": ""
    }
   },
   "outputs": [
    {
     "output_type": "display_data",
     "data": {
      "text/html": [
       "<style scoped>\n",
       "  .table-result-container {\n",
       "    max-height: 300px;\n",
       "    overflow: auto;\n",
       "  }\n",
       "  table, th, td {\n",
       "    border: 1px solid black;\n",
       "    border-collapse: collapse;\n",
       "  }\n",
       "  th, td {\n",
       "    padding: 5px;\n",
       "  }\n",
       "  th {\n",
       "    text-align: left;\n",
       "  }\n",
       "</style><div class='table-result-container'><table class='table-result'><thead style='background-color: white'><tr><th>Item_Identifier</th><th>Item_Weight</th><th>Item_Fat_Content</th><th>Item_Visibility</th><th>Item_Type</th><th>Item_MRP</th><th>Outlet_Identifier</th><th>Outlet_Establishment_Year</th><th>Outlet_Size</th><th>Outlet_Location_Type</th><th>Outlet_Type</th><th>Item_Outlet_Sales</th></tr></thead><tbody><tr><td>DRC01</td><td>5.92</td><td>Regular</td><td>0.019278216</td><td>Soft Drinks</td><td>48.2692</td><td>OUT018</td><td>2009</td><td>Medium</td><td>Tier 3</td><td>Supermarket Type2</td><td>443.4228</td></tr><tr><td>DRZ11</td><td>8.85</td><td>Regular</td><td>0.113123893</td><td>Soft Drinks</td><td>122.5388</td><td>OUT018</td><td>2009</td><td>Medium</td><td>Tier 3</td><td>Supermarket Type2</td><td>1609.9044</td></tr><tr><td>DRF49</td><td>7.27</td><td>Low Fat</td><td>0.071077939</td><td>Soft Drinks</td><td>114.2518</td><td>OUT046</td><td>1997</td><td>Small</td><td>Tier 1</td><td>Supermarket Type1</td><td>2618.5914</td></tr><tr><td>DRK12</td><td>9.5</td><td>LF</td><td>0.041878397</td><td>Soft Drinks</td><td>32.99</td><td>OUT035</td><td>2004</td><td>Small</td><td>Tier 2</td><td>Supermarket Type1</td><td>133.16</td></tr><tr><td>DRK01</td><td>7.63</td><td>Low Fat</td><td>0.06105276</td><td>Soft Drinks</td><td>95.4436</td><td>OUT035</td><td>2004</td><td>Small</td><td>Tier 2</td><td>Supermarket Type1</td><td>1418.154</td></tr><tr><td>DRF49</td><td>7.27</td><td>Low Fat</td><td>0.071222087</td><td>Soft Drinks</td><td>113.5518</td><td>OUT045</td><td>2002</td><td>null</td><td>Tier 2</td><td>Supermarket Type1</td><td>569.259</td></tr><tr><td>DRE60</td><td>9.395</td><td>Low Fat</td><td>0.159657596</td><td>Soft Drinks</td><td>224.972</td><td>OUT045</td><td>2002</td><td>null</td><td>Tier 2</td><td>Supermarket Type1</td><td>7696.648</td></tr><tr><td>DRI01</td><td>7.97</td><td>Low Fat</td><td>0.034452949</td><td>Soft Drinks</td><td>174.0422</td><td>OUT046</td><td>1997</td><td>Small</td><td>Tier 1</td><td>Supermarket Type1</td><td>2586.633</td></tr><tr><td>DRD37</td><td>9.8</td><td>Low Fat</td><td>0.013898123</td><td>Soft Drinks</td><td>46.506</td><td>OUT018</td><td>2009</td><td>Medium</td><td>Tier 3</td><td>Supermarket Type2</td><td>372.848</td></tr><tr><td>DRH13</td><td>8.575</td><td>Low Fat</td><td>0.023983258</td><td>Soft Drinks</td><td>106.328</td><td>OUT018</td><td>2009</td><td>Medium</td><td>Tier 3</td><td>Supermarket Type2</td><td>958.752</td></tr><tr><td>DRK37</td><td>5.0</td><td>Low Fat</td><td>0.044004675</td><td>Soft Drinks</td><td>188.853</td><td>OUT046</td><td>1997</td><td>Small</td><td>Tier 1</td><td>Supermarket Type1</td><td>5502.837</td></tr><tr><td>DRF01</td><td>5.655</td><td>Low Fat</td><td>0.175352413</td><td>Soft Drinks</td><td>147.4102</td><td>OUT049</td><td>1999</td><td>Medium</td><td>Tier 1</td><td>Supermarket Type1</td><td>2478.7734</td></tr><tr><td>DRE13</td><td>6.28</td><td>Low Fat</td><td>0.027699863</td><td>Soft Drinks</td><td>87.9198</td><td>OUT035</td><td>2004</td><td>Small</td><td>Tier 2</td><td>Supermarket Type1</td><td>1221.0772</td></tr><tr><td>DRD49</td><td>9.895</td><td>Low Fat</td><td>0.167799329</td><td>Soft Drinks</td><td>239.4564</td><td>OUT035</td><td>2004</td><td>Small</td><td>Tier 2</td><td>Supermarket Type1</td><td>5243.8408</td></tr><tr><td>DRK12</td><td>9.5</td><td>Low Fat</td><td>0.0</td><td>Soft Drinks</td><td>32.89</td><td>OUT010</td><td>1998</td><td>null</td><td>Tier 3</td><td>Grocery Store</td><td>33.29</td></tr><tr><td>DRE60</td><td>9.395</td><td>Low Fat</td><td>0.159582185</td><td>Soft Drinks</td><td>224.772</td><td>OUT049</td><td>1999</td><td>Medium</td><td>Tier 1</td><td>Supermarket Type1</td><td>7017.532</td></tr><tr><td>DRE12</td><td>4.59</td><td>Low Fat</td><td>0.070890602</td><td>Soft Drinks</td><td>111.686</td><td>OUT049</td><td>1999</td><td>Medium</td><td>Tier 1</td><td>Supermarket Type1</td><td>1584.604</td></tr><tr><td>DRY23</td><td>9.395</td><td>Regular</td><td>0.109075742</td><td>Soft Drinks</td><td>42.9112</td><td>OUT035</td><td>2004</td><td>Small</td><td>Tier 2</td><td>Supermarket Type1</td><td>426.112</td></tr><tr><td>DRE13</td><td>6.28</td><td>Low Fat</td><td>0.027761289</td><td>Soft Drinks</td><td>85.8198</td><td>OUT045</td><td>2002</td><td>null</td><td>Tier 2</td><td>Supermarket Type1</td><td>872.198</td></tr><tr><td>DRZ24</td><td>7.535</td><td>Low Fat</td><td>0.082250143</td><td>Soft Drinks</td><td>118.344</td><td>OUT017</td><td>2007</td><td>null</td><td>Tier 2</td><td>Supermarket Type1</td><td>3115.944</td></tr></tbody></table></div>"
      ]
     },
     "metadata": {
      "application/vnd.databricks.v1+output": {
       "addedWidgets": {},
       "aggData": [],
       "aggError": "",
       "aggOverflow": false,
       "aggSchema": [],
       "aggSeriesLimitReached": false,
       "aggType": "",
       "arguments": {},
       "columnCustomDisplayInfos": {},
       "data": [
        [
         "DRC01",
         5.92,
         "Regular",
         0.019278216,
         "Soft Drinks",
         48.2692,
         "OUT018",
         2009,
         "Medium",
         "Tier 3",
         "Supermarket Type2",
         443.4228
        ],
        [
         "DRZ11",
         8.85,
         "Regular",
         0.113123893,
         "Soft Drinks",
         122.5388,
         "OUT018",
         2009,
         "Medium",
         "Tier 3",
         "Supermarket Type2",
         1609.9044
        ],
        [
         "DRF49",
         7.27,
         "Low Fat",
         0.071077939,
         "Soft Drinks",
         114.2518,
         "OUT046",
         1997,
         "Small",
         "Tier 1",
         "Supermarket Type1",
         2618.5914
        ],
        [
         "DRK12",
         9.5,
         "LF",
         0.041878397,
         "Soft Drinks",
         32.99,
         "OUT035",
         2004,
         "Small",
         "Tier 2",
         "Supermarket Type1",
         133.16
        ],
        [
         "DRK01",
         7.63,
         "Low Fat",
         0.06105276,
         "Soft Drinks",
         95.4436,
         "OUT035",
         2004,
         "Small",
         "Tier 2",
         "Supermarket Type1",
         1418.154
        ],
        [
         "DRF49",
         7.27,
         "Low Fat",
         0.071222087,
         "Soft Drinks",
         113.5518,
         "OUT045",
         2002,
         null,
         "Tier 2",
         "Supermarket Type1",
         569.259
        ],
        [
         "DRE60",
         9.395,
         "Low Fat",
         0.159657596,
         "Soft Drinks",
         224.972,
         "OUT045",
         2002,
         null,
         "Tier 2",
         "Supermarket Type1",
         7696.648
        ],
        [
         "DRI01",
         7.97,
         "Low Fat",
         0.034452949,
         "Soft Drinks",
         174.0422,
         "OUT046",
         1997,
         "Small",
         "Tier 1",
         "Supermarket Type1",
         2586.633
        ],
        [
         "DRD37",
         9.8,
         "Low Fat",
         0.013898123,
         "Soft Drinks",
         46.506,
         "OUT018",
         2009,
         "Medium",
         "Tier 3",
         "Supermarket Type2",
         372.848
        ],
        [
         "DRH13",
         8.575,
         "Low Fat",
         0.023983258,
         "Soft Drinks",
         106.328,
         "OUT018",
         2009,
         "Medium",
         "Tier 3",
         "Supermarket Type2",
         958.752
        ],
        [
         "DRK37",
         5.0,
         "Low Fat",
         0.044004675,
         "Soft Drinks",
         188.853,
         "OUT046",
         1997,
         "Small",
         "Tier 1",
         "Supermarket Type1",
         5502.837
        ],
        [
         "DRF01",
         5.655,
         "Low Fat",
         0.175352413,
         "Soft Drinks",
         147.4102,
         "OUT049",
         1999,
         "Medium",
         "Tier 1",
         "Supermarket Type1",
         2478.7734
        ],
        [
         "DRE13",
         6.28,
         "Low Fat",
         0.027699863,
         "Soft Drinks",
         87.9198,
         "OUT035",
         2004,
         "Small",
         "Tier 2",
         "Supermarket Type1",
         1221.0772
        ],
        [
         "DRD49",
         9.895,
         "Low Fat",
         0.167799329,
         "Soft Drinks",
         239.4564,
         "OUT035",
         2004,
         "Small",
         "Tier 2",
         "Supermarket Type1",
         5243.8408
        ],
        [
         "DRK12",
         9.5,
         "Low Fat",
         0.0,
         "Soft Drinks",
         32.89,
         "OUT010",
         1998,
         null,
         "Tier 3",
         "Grocery Store",
         33.29
        ],
        [
         "DRE60",
         9.395,
         "Low Fat",
         0.159582185,
         "Soft Drinks",
         224.772,
         "OUT049",
         1999,
         "Medium",
         "Tier 1",
         "Supermarket Type1",
         7017.532
        ],
        [
         "DRE12",
         4.59,
         "Low Fat",
         0.070890602,
         "Soft Drinks",
         111.686,
         "OUT049",
         1999,
         "Medium",
         "Tier 1",
         "Supermarket Type1",
         1584.604
        ],
        [
         "DRY23",
         9.395,
         "Regular",
         0.109075742,
         "Soft Drinks",
         42.9112,
         "OUT035",
         2004,
         "Small",
         "Tier 2",
         "Supermarket Type1",
         426.112
        ],
        [
         "DRE13",
         6.28,
         "Low Fat",
         0.027761289,
         "Soft Drinks",
         85.8198,
         "OUT045",
         2002,
         null,
         "Tier 2",
         "Supermarket Type1",
         872.198
        ],
        [
         "DRZ24",
         7.535,
         "Low Fat",
         0.082250143,
         "Soft Drinks",
         118.344,
         "OUT017",
         2007,
         null,
         "Tier 2",
         "Supermarket Type1",
         3115.944
        ]
       ],
       "datasetInfos": [],
       "dbfsResultPath": null,
       "isJsonSchema": true,
       "metadata": {},
       "overflow": false,
       "plotOptions": {
        "customPlotOptions": {},
        "displayType": "table",
        "pivotAggregation": null,
        "pivotColumns": null,
        "xColumns": null,
        "yColumns": null
       },
       "removedWidgets": [],
       "schema": [
        {
         "metadata": "{}",
         "name": "Item_Identifier",
         "type": "\"string\""
        },
        {
         "metadata": "{}",
         "name": "Item_Weight",
         "type": "\"double\""
        },
        {
         "metadata": "{}",
         "name": "Item_Fat_Content",
         "type": "\"string\""
        },
        {
         "metadata": "{}",
         "name": "Item_Visibility",
         "type": "\"double\""
        },
        {
         "metadata": "{}",
         "name": "Item_Type",
         "type": "\"string\""
        },
        {
         "metadata": "{}",
         "name": "Item_MRP",
         "type": "\"double\""
        },
        {
         "metadata": "{}",
         "name": "Outlet_Identifier",
         "type": "\"string\""
        },
        {
         "metadata": "{}",
         "name": "Outlet_Establishment_Year",
         "type": "\"integer\""
        },
        {
         "metadata": "{}",
         "name": "Outlet_Size",
         "type": "\"string\""
        },
        {
         "metadata": "{}",
         "name": "Outlet_Location_Type",
         "type": "\"string\""
        },
        {
         "metadata": "{}",
         "name": "Outlet_Type",
         "type": "\"string\""
        },
        {
         "metadata": "{}",
         "name": "Item_Outlet_Sales",
         "type": "\"double\""
        }
       ],
       "type": "table"
      }
     },
     "output_type": "display_data"
    }
   ],
   "source": [
    "df.filter( (col('Item_Type')=='Soft Drinks') & (col('Item_Weight')<10) ).limit(20).display()"
   ]
  },
  {
   "cell_type": "code",
   "execution_count": 0,
   "metadata": {
    "application/vnd.databricks.v1+cell": {
     "cellMetadata": {
      "byteLimit": 2048000,
      "rowLimit": 10000
     },
     "inputWidgets": {},
     "nuid": "e7ec9d98-d155-427d-a6f8-9ac136323f3a",
     "showTitle": false,
     "tableResultSettingsMap": {},
     "title": ""
    }
   },
   "outputs": [
    {
     "output_type": "display_data",
     "data": {
      "text/html": [
       "<style scoped>\n",
       "  .table-result-container {\n",
       "    max-height: 300px;\n",
       "    overflow: auto;\n",
       "  }\n",
       "  table, th, td {\n",
       "    border: 1px solid black;\n",
       "    border-collapse: collapse;\n",
       "  }\n",
       "  th, td {\n",
       "    padding: 5px;\n",
       "  }\n",
       "  th {\n",
       "    text-align: left;\n",
       "  }\n",
       "</style><div class='table-result-container'><table class='table-result'><thead style='background-color: white'><tr><th>Item_Identifier</th><th>Item_Weight</th><th>Item_Fat_Content</th><th>Item_Visibility</th><th>Item_Type</th><th>Item_MRP</th><th>Outlet_Identifier</th><th>Outlet_Establishment_Year</th><th>Outlet_Size</th><th>Outlet_Location_Type</th><th>Outlet_Type</th><th>Item_Outlet_Sales</th></tr></thead><tbody><tr><td>FDH17</td><td>16.2</td><td>Regular</td><td>0.016687114</td><td>Frozen Foods</td><td>96.9726</td><td>OUT045</td><td>2002</td><td>null</td><td>Tier 2</td><td>Supermarket Type1</td><td>1076.5986</td></tr><tr><td>FDU28</td><td>19.2</td><td>Regular</td><td>0.09444959</td><td>Frozen Foods</td><td>187.8214</td><td>OUT017</td><td>2007</td><td>null</td><td>Tier 2</td><td>Supermarket Type1</td><td>4710.535</td></tr><tr><td>NCD06</td><td>13.0</td><td>Low Fat</td><td>0.099887103</td><td>Household</td><td>45.906</td><td>OUT017</td><td>2007</td><td>null</td><td>Tier 2</td><td>Supermarket Type1</td><td>838.908</td></tr><tr><td>FDO23</td><td>17.85</td><td>Low Fat</td><td>0.0</td><td>Breads</td><td>93.1436</td><td>OUT045</td><td>2002</td><td>null</td><td>Tier 2</td><td>Supermarket Type1</td><td>2174.5028</td></tr><tr><td>NCP05</td><td>19.6</td><td>Low Fat</td><td>0.0</td><td>Health and Hygiene</td><td>153.3024</td><td>OUT045</td><td>2002</td><td>null</td><td>Tier 2</td><td>Supermarket Type1</td><td>2428.8384</td></tr><tr><td>FDV49</td><td>10.0</td><td>Low Fat</td><td>0.025879577</td><td>Canned</td><td>265.2226</td><td>OUT045</td><td>2002</td><td>null</td><td>Tier 2</td><td>Supermarket Type1</td><td>5815.0972</td></tr><tr><td>FDA43</td><td>10.895</td><td>Low Fat</td><td>0.065041581</td><td>Fruits and Vegetables</td><td>196.3794</td><td>OUT017</td><td>2007</td><td>null</td><td>Tier 2</td><td>Supermarket Type1</td><td>3121.2704</td></tr><tr><td>NCP18</td><td>12.15</td><td>Low Fat</td><td>0.028760013</td><td>Household</td><td>151.4708</td><td>OUT017</td><td>2007</td><td>null</td><td>Tier 2</td><td>Supermarket Type1</td><td>4815.0656</td></tr><tr><td>NCX54</td><td>9.195</td><td>Low Fat</td><td>0.048157338</td><td>Household</td><td>106.1622</td><td>OUT045</td><td>2002</td><td>null</td><td>Tier 2</td><td>Supermarket Type1</td><td>2117.244</td></tr><tr><td>FDV27</td><td>7.97</td><td>Regular</td><td>0.040071131</td><td>Meat</td><td>87.3514</td><td>OUT045</td><td>2002</td><td>null</td><td>Tier 2</td><td>Supermarket Type1</td><td>1062.6168</td></tr><tr><td>FDZ03</td><td>13.65</td><td>Regular</td><td>0.078946455</td><td>Dairy</td><td>186.024</td><td>OUT045</td><td>2002</td><td>null</td><td>Tier 2</td><td>Supermarket Type1</td><td>1118.544</td></tr><tr><td>DRH37</td><td>17.6</td><td>Low Fat</td><td>0.041700756</td><td>Soft Drinks</td><td>164.8526</td><td>OUT045</td><td>2002</td><td>null</td><td>Tier 2</td><td>Supermarket Type1</td><td>2302.3364</td></tr><tr><td>FDH35</td><td>18.25</td><td>Low Fat</td><td>0.0</td><td>Starchy Foods</td><td>164.7526</td><td>OUT045</td><td>2002</td><td>null</td><td>Tier 2</td><td>Supermarket Type1</td><td>4604.6728</td></tr><tr><td>FDG02</td><td>7.855</td><td>Low Fat</td><td>0.011324862</td><td>Canned</td><td>189.6188</td><td>OUT017</td><td>2007</td><td>null</td><td>Tier 2</td><td>Supermarket Type1</td><td>2285.0256</td></tr><tr><td>FDL04</td><td>19.0</td><td>Low Fat</td><td>0.112556507</td><td>Frozen Foods</td><td>104.9622</td><td>OUT017</td><td>2007</td><td>null</td><td>Tier 2</td><td>Supermarket Type1</td><td>1587.933</td></tr><tr><td>FDV25</td><td>5.905</td><td>Low Fat</td><td>0.0</td><td>Canned</td><td>222.5456</td><td>OUT045</td><td>2002</td><td>null</td><td>Tier 2</td><td>Supermarket Type1</td><td>5305.0944</td></tr><tr><td>FDG20</td><td>15.5</td><td>Regular</td><td>0.12639886</td><td>Fruits and Vegetables</td><td>177.0028</td><td>OUT017</td><td>2007</td><td>null</td><td>Tier 2</td><td>Supermarket Type1</td><td>2479.4392</td></tr><tr><td>DRI25</td><td>19.6</td><td>Low Fat</td><td>0.033970195</td><td>Soft Drinks</td><td>55.1614</td><td>OUT045</td><td>2002</td><td>null</td><td>Tier 2</td><td>Supermarket Type1</td><td>1381.535</td></tr><tr><td>FDT28</td><td>13.3</td><td>Low Fat</td><td>0.063695084</td><td>Frozen Foods</td><td>151.0708</td><td>OUT045</td><td>2002</td><td>null</td><td>Tier 2</td><td>Supermarket Type1</td><td>1805.6496</td></tr><tr><td>FDG12</td><td>6.635</td><td>Regular</td><td>0.0</td><td>Baking Goods</td><td>121.3098</td><td>OUT045</td><td>2002</td><td>null</td><td>Tier 2</td><td>Supermarket Type1</td><td>2530.7058</td></tr></tbody></table></div>"
      ]
     },
     "metadata": {
      "application/vnd.databricks.v1+output": {
       "addedWidgets": {},
       "aggData": [],
       "aggError": "",
       "aggOverflow": false,
       "aggSchema": [],
       "aggSeriesLimitReached": false,
       "aggType": "",
       "arguments": {},
       "columnCustomDisplayInfos": {},
       "data": [
        [
         "FDH17",
         16.2,
         "Regular",
         0.016687114,
         "Frozen Foods",
         96.9726,
         "OUT045",
         2002,
         null,
         "Tier 2",
         "Supermarket Type1",
         1076.5986
        ],
        [
         "FDU28",
         19.2,
         "Regular",
         0.09444959,
         "Frozen Foods",
         187.8214,
         "OUT017",
         2007,
         null,
         "Tier 2",
         "Supermarket Type1",
         4710.535
        ],
        [
         "NCD06",
         13.0,
         "Low Fat",
         0.099887103,
         "Household",
         45.906,
         "OUT017",
         2007,
         null,
         "Tier 2",
         "Supermarket Type1",
         838.908
        ],
        [
         "FDO23",
         17.85,
         "Low Fat",
         0.0,
         "Breads",
         93.1436,
         "OUT045",
         2002,
         null,
         "Tier 2",
         "Supermarket Type1",
         2174.5028
        ],
        [
         "NCP05",
         19.6,
         "Low Fat",
         0.0,
         "Health and Hygiene",
         153.3024,
         "OUT045",
         2002,
         null,
         "Tier 2",
         "Supermarket Type1",
         2428.8384
        ],
        [
         "FDV49",
         10.0,
         "Low Fat",
         0.025879577,
         "Canned",
         265.2226,
         "OUT045",
         2002,
         null,
         "Tier 2",
         "Supermarket Type1",
         5815.0972
        ],
        [
         "FDA43",
         10.895,
         "Low Fat",
         0.065041581,
         "Fruits and Vegetables",
         196.3794,
         "OUT017",
         2007,
         null,
         "Tier 2",
         "Supermarket Type1",
         3121.2704
        ],
        [
         "NCP18",
         12.15,
         "Low Fat",
         0.028760013,
         "Household",
         151.4708,
         "OUT017",
         2007,
         null,
         "Tier 2",
         "Supermarket Type1",
         4815.0656
        ],
        [
         "NCX54",
         9.195,
         "Low Fat",
         0.048157338,
         "Household",
         106.1622,
         "OUT045",
         2002,
         null,
         "Tier 2",
         "Supermarket Type1",
         2117.244
        ],
        [
         "FDV27",
         7.97,
         "Regular",
         0.040071131,
         "Meat",
         87.3514,
         "OUT045",
         2002,
         null,
         "Tier 2",
         "Supermarket Type1",
         1062.6168
        ],
        [
         "FDZ03",
         13.65,
         "Regular",
         0.078946455,
         "Dairy",
         186.024,
         "OUT045",
         2002,
         null,
         "Tier 2",
         "Supermarket Type1",
         1118.544
        ],
        [
         "DRH37",
         17.6,
         "Low Fat",
         0.041700756,
         "Soft Drinks",
         164.8526,
         "OUT045",
         2002,
         null,
         "Tier 2",
         "Supermarket Type1",
         2302.3364
        ],
        [
         "FDH35",
         18.25,
         "Low Fat",
         0.0,
         "Starchy Foods",
         164.7526,
         "OUT045",
         2002,
         null,
         "Tier 2",
         "Supermarket Type1",
         4604.6728
        ],
        [
         "FDG02",
         7.855,
         "Low Fat",
         0.011324862,
         "Canned",
         189.6188,
         "OUT017",
         2007,
         null,
         "Tier 2",
         "Supermarket Type1",
         2285.0256
        ],
        [
         "FDL04",
         19.0,
         "Low Fat",
         0.112556507,
         "Frozen Foods",
         104.9622,
         "OUT017",
         2007,
         null,
         "Tier 2",
         "Supermarket Type1",
         1587.933
        ],
        [
         "FDV25",
         5.905,
         "Low Fat",
         0.0,
         "Canned",
         222.5456,
         "OUT045",
         2002,
         null,
         "Tier 2",
         "Supermarket Type1",
         5305.0944
        ],
        [
         "FDG20",
         15.5,
         "Regular",
         0.12639886,
         "Fruits and Vegetables",
         177.0028,
         "OUT017",
         2007,
         null,
         "Tier 2",
         "Supermarket Type1",
         2479.4392
        ],
        [
         "DRI25",
         19.6,
         "Low Fat",
         0.033970195,
         "Soft Drinks",
         55.1614,
         "OUT045",
         2002,
         null,
         "Tier 2",
         "Supermarket Type1",
         1381.535
        ],
        [
         "FDT28",
         13.3,
         "Low Fat",
         0.063695084,
         "Frozen Foods",
         151.0708,
         "OUT045",
         2002,
         null,
         "Tier 2",
         "Supermarket Type1",
         1805.6496
        ],
        [
         "FDG12",
         6.635,
         "Regular",
         0.0,
         "Baking Goods",
         121.3098,
         "OUT045",
         2002,
         null,
         "Tier 2",
         "Supermarket Type1",
         2530.7058
        ]
       ],
       "datasetInfos": [],
       "dbfsResultPath": null,
       "isJsonSchema": true,
       "metadata": {},
       "overflow": false,
       "plotOptions": {
        "customPlotOptions": {},
        "displayType": "table",
        "pivotAggregation": null,
        "pivotColumns": null,
        "xColumns": null,
        "yColumns": null
       },
       "removedWidgets": [],
       "schema": [
        {
         "metadata": "{}",
         "name": "Item_Identifier",
         "type": "\"string\""
        },
        {
         "metadata": "{}",
         "name": "Item_Weight",
         "type": "\"double\""
        },
        {
         "metadata": "{}",
         "name": "Item_Fat_Content",
         "type": "\"string\""
        },
        {
         "metadata": "{}",
         "name": "Item_Visibility",
         "type": "\"double\""
        },
        {
         "metadata": "{}",
         "name": "Item_Type",
         "type": "\"string\""
        },
        {
         "metadata": "{}",
         "name": "Item_MRP",
         "type": "\"double\""
        },
        {
         "metadata": "{}",
         "name": "Outlet_Identifier",
         "type": "\"string\""
        },
        {
         "metadata": "{}",
         "name": "Outlet_Establishment_Year",
         "type": "\"integer\""
        },
        {
         "metadata": "{}",
         "name": "Outlet_Size",
         "type": "\"string\""
        },
        {
         "metadata": "{}",
         "name": "Outlet_Location_Type",
         "type": "\"string\""
        },
        {
         "metadata": "{}",
         "name": "Outlet_Type",
         "type": "\"string\""
        },
        {
         "metadata": "{}",
         "name": "Item_Outlet_Sales",
         "type": "\"double\""
        }
       ],
       "type": "table"
      }
     },
     "output_type": "display_data"
    }
   ],
   "source": [
    "df.filter((col('Outlet_Size').isNull()) & (col('Outlet_Location_Type').isin('Tier 1','Tier 2'))).limit(20).display()\n"
   ]
  },
  {
   "cell_type": "code",
   "execution_count": 0,
   "metadata": {
    "application/vnd.databricks.v1+cell": {
     "cellMetadata": {
      "byteLimit": 2048000,
      "rowLimit": 10000
     },
     "inputWidgets": {},
     "nuid": "775e5e41-a625-49dc-9ace-61d5bb6185f2",
     "showTitle": false,
     "tableResultSettingsMap": {},
     "title": ""
    }
   },
   "outputs": [
    {
     "output_type": "display_data",
     "data": {
      "text/html": [
       "<style scoped>\n",
       "  .table-result-container {\n",
       "    max-height: 300px;\n",
       "    overflow: auto;\n",
       "  }\n",
       "  table, th, td {\n",
       "    border: 1px solid black;\n",
       "    border-collapse: collapse;\n",
       "  }\n",
       "  th, td {\n",
       "    padding: 5px;\n",
       "  }\n",
       "  th {\n",
       "    text-align: left;\n",
       "  }\n",
       "</style><div class='table-result-container'><table class='table-result'><thead style='background-color: white'><tr><th>Item_Identifier</th><th>Item_Weight</th><th>Item_Fat_Content</th><th>Item_Visibility</th><th>Item_Type</th><th>Item_MRP</th><th>Outlet_Identifier</th><th>Outlet_Establishment_Year</th><th>Outlet_Size</th><th>Outlet_Location_Type</th><th>Outlet_Type</th><th>Item_Outlet_Sales</th><th>new-column</th></tr></thead><tbody><tr><td>FDA15</td><td>9.3</td><td>Low Fat</td><td>0.016047301</td><td>Dairy</td><td>249.8092</td><td>OUT049</td><td>1999</td><td>Medium</td><td>Tier 1</td><td>Supermarket Type1</td><td>3735.138</td><td>flag</td></tr><tr><td>DRC01</td><td>5.92</td><td>Regular</td><td>0.019278216</td><td>Soft Drinks</td><td>48.2692</td><td>OUT018</td><td>2009</td><td>Medium</td><td>Tier 3</td><td>Supermarket Type2</td><td>443.4228</td><td>flag</td></tr><tr><td>FDN15</td><td>17.5</td><td>Low Fat</td><td>0.016760075</td><td>Meat</td><td>141.618</td><td>OUT049</td><td>1999</td><td>Medium</td><td>Tier 1</td><td>Supermarket Type1</td><td>2097.27</td><td>flag</td></tr><tr><td>FDX07</td><td>19.2</td><td>Regular</td><td>0.0</td><td>Fruits and Vegetables</td><td>182.095</td><td>OUT010</td><td>1998</td><td>null</td><td>Tier 3</td><td>Grocery Store</td><td>732.38</td><td>flag</td></tr><tr><td>NCD19</td><td>8.93</td><td>Low Fat</td><td>0.0</td><td>Household</td><td>53.8614</td><td>OUT013</td><td>1987</td><td>High</td><td>Tier 3</td><td>Supermarket Type1</td><td>994.7052</td><td>flag</td></tr><tr><td>FDP36</td><td>10.395</td><td>Regular</td><td>0.0</td><td>Baking Goods</td><td>51.4008</td><td>OUT018</td><td>2009</td><td>Medium</td><td>Tier 3</td><td>Supermarket Type2</td><td>556.6088</td><td>flag</td></tr><tr><td>FDO10</td><td>13.65</td><td>Regular</td><td>0.012741089</td><td>Snack Foods</td><td>57.6588</td><td>OUT013</td><td>1987</td><td>High</td><td>Tier 3</td><td>Supermarket Type1</td><td>343.5528</td><td>flag</td></tr><tr><td>FDP10</td><td>null</td><td>Low Fat</td><td>0.127469857</td><td>Snack Foods</td><td>107.7622</td><td>OUT027</td><td>1985</td><td>Medium</td><td>Tier 3</td><td>Supermarket Type3</td><td>4022.7636</td><td>flag</td></tr><tr><td>FDH17</td><td>16.2</td><td>Regular</td><td>0.016687114</td><td>Frozen Foods</td><td>96.9726</td><td>OUT045</td><td>2002</td><td>null</td><td>Tier 2</td><td>Supermarket Type1</td><td>1076.5986</td><td>flag</td></tr><tr><td>FDU28</td><td>19.2</td><td>Regular</td><td>0.09444959</td><td>Frozen Foods</td><td>187.8214</td><td>OUT017</td><td>2007</td><td>null</td><td>Tier 2</td><td>Supermarket Type1</td><td>4710.535</td><td>flag</td></tr><tr><td>FDY07</td><td>11.8</td><td>Low Fat</td><td>0.0</td><td>Fruits and Vegetables</td><td>45.5402</td><td>OUT049</td><td>1999</td><td>Medium</td><td>Tier 1</td><td>Supermarket Type1</td><td>1516.0266</td><td>flag</td></tr><tr><td>FDA03</td><td>18.5</td><td>Regular</td><td>0.045463773</td><td>Dairy</td><td>144.1102</td><td>OUT046</td><td>1997</td><td>Small</td><td>Tier 1</td><td>Supermarket Type1</td><td>2187.153</td><td>flag</td></tr><tr><td>FDX32</td><td>15.1</td><td>Regular</td><td>0.1000135</td><td>Fruits and Vegetables</td><td>145.4786</td><td>OUT049</td><td>1999</td><td>Medium</td><td>Tier 1</td><td>Supermarket Type1</td><td>1589.2646</td><td>flag</td></tr><tr><td>FDS46</td><td>17.6</td><td>Regular</td><td>0.047257328</td><td>Snack Foods</td><td>119.6782</td><td>OUT046</td><td>1997</td><td>Small</td><td>Tier 1</td><td>Supermarket Type1</td><td>2145.2076</td><td>flag</td></tr><tr><td>FDF32</td><td>16.35</td><td>Low Fat</td><td>0.0680243</td><td>Fruits and Vegetables</td><td>196.4426</td><td>OUT013</td><td>1987</td><td>High</td><td>Tier 3</td><td>Supermarket Type1</td><td>1977.426</td><td>flag</td></tr><tr><td>FDP49</td><td>9.0</td><td>Regular</td><td>0.069088961</td><td>Breakfast</td><td>56.3614</td><td>OUT046</td><td>1997</td><td>Small</td><td>Tier 1</td><td>Supermarket Type1</td><td>1547.3192</td><td>flag</td></tr><tr><td>NCB42</td><td>11.8</td><td>Low Fat</td><td>0.008596051</td><td>Health and Hygiene</td><td>115.3492</td><td>OUT018</td><td>2009</td><td>Medium</td><td>Tier 3</td><td>Supermarket Type2</td><td>1621.8888</td><td>flag</td></tr><tr><td>FDP49</td><td>9.0</td><td>Regular</td><td>0.069196376</td><td>Breakfast</td><td>54.3614</td><td>OUT049</td><td>1999</td><td>Medium</td><td>Tier 1</td><td>Supermarket Type1</td><td>718.3982</td><td>flag</td></tr><tr><td>DRI11</td><td>null</td><td>Low Fat</td><td>0.034237682</td><td>Hard Drinks</td><td>113.2834</td><td>OUT027</td><td>1985</td><td>Medium</td><td>Tier 3</td><td>Supermarket Type3</td><td>2303.668</td><td>flag</td></tr><tr><td>FDU02</td><td>13.35</td><td>Low Fat</td><td>0.10249212</td><td>Dairy</td><td>230.5352</td><td>OUT035</td><td>2004</td><td>Small</td><td>Tier 2</td><td>Supermarket Type1</td><td>2748.4224</td><td>flag</td></tr></tbody></table></div>"
      ]
     },
     "metadata": {
      "application/vnd.databricks.v1+output": {
       "addedWidgets": {},
       "aggData": [],
       "aggError": "",
       "aggOverflow": false,
       "aggSchema": [],
       "aggSeriesLimitReached": false,
       "aggType": "",
       "arguments": {},
       "columnCustomDisplayInfos": {},
       "data": [
        [
         "FDA15",
         9.3,
         "Low Fat",
         0.016047301,
         "Dairy",
         249.8092,
         "OUT049",
         1999,
         "Medium",
         "Tier 1",
         "Supermarket Type1",
         3735.138,
         "flag"
        ],
        [
         "DRC01",
         5.92,
         "Regular",
         0.019278216,
         "Soft Drinks",
         48.2692,
         "OUT018",
         2009,
         "Medium",
         "Tier 3",
         "Supermarket Type2",
         443.4228,
         "flag"
        ],
        [
         "FDN15",
         17.5,
         "Low Fat",
         0.016760075,
         "Meat",
         141.618,
         "OUT049",
         1999,
         "Medium",
         "Tier 1",
         "Supermarket Type1",
         2097.27,
         "flag"
        ],
        [
         "FDX07",
         19.2,
         "Regular",
         0.0,
         "Fruits and Vegetables",
         182.095,
         "OUT010",
         1998,
         null,
         "Tier 3",
         "Grocery Store",
         732.38,
         "flag"
        ],
        [
         "NCD19",
         8.93,
         "Low Fat",
         0.0,
         "Household",
         53.8614,
         "OUT013",
         1987,
         "High",
         "Tier 3",
         "Supermarket Type1",
         994.7052,
         "flag"
        ],
        [
         "FDP36",
         10.395,
         "Regular",
         0.0,
         "Baking Goods",
         51.4008,
         "OUT018",
         2009,
         "Medium",
         "Tier 3",
         "Supermarket Type2",
         556.6088,
         "flag"
        ],
        [
         "FDO10",
         13.65,
         "Regular",
         0.012741089,
         "Snack Foods",
         57.6588,
         "OUT013",
         1987,
         "High",
         "Tier 3",
         "Supermarket Type1",
         343.5528,
         "flag"
        ],
        [
         "FDP10",
         null,
         "Low Fat",
         0.127469857,
         "Snack Foods",
         107.7622,
         "OUT027",
         1985,
         "Medium",
         "Tier 3",
         "Supermarket Type3",
         4022.7636,
         "flag"
        ],
        [
         "FDH17",
         16.2,
         "Regular",
         0.016687114,
         "Frozen Foods",
         96.9726,
         "OUT045",
         2002,
         null,
         "Tier 2",
         "Supermarket Type1",
         1076.5986,
         "flag"
        ],
        [
         "FDU28",
         19.2,
         "Regular",
         0.09444959,
         "Frozen Foods",
         187.8214,
         "OUT017",
         2007,
         null,
         "Tier 2",
         "Supermarket Type1",
         4710.535,
         "flag"
        ],
        [
         "FDY07",
         11.8,
         "Low Fat",
         0.0,
         "Fruits and Vegetables",
         45.5402,
         "OUT049",
         1999,
         "Medium",
         "Tier 1",
         "Supermarket Type1",
         1516.0266,
         "flag"
        ],
        [
         "FDA03",
         18.5,
         "Regular",
         0.045463773,
         "Dairy",
         144.1102,
         "OUT046",
         1997,
         "Small",
         "Tier 1",
         "Supermarket Type1",
         2187.153,
         "flag"
        ],
        [
         "FDX32",
         15.1,
         "Regular",
         0.1000135,
         "Fruits and Vegetables",
         145.4786,
         "OUT049",
         1999,
         "Medium",
         "Tier 1",
         "Supermarket Type1",
         1589.2646,
         "flag"
        ],
        [
         "FDS46",
         17.6,
         "Regular",
         0.047257328,
         "Snack Foods",
         119.6782,
         "OUT046",
         1997,
         "Small",
         "Tier 1",
         "Supermarket Type1",
         2145.2076,
         "flag"
        ],
        [
         "FDF32",
         16.35,
         "Low Fat",
         0.0680243,
         "Fruits and Vegetables",
         196.4426,
         "OUT013",
         1987,
         "High",
         "Tier 3",
         "Supermarket Type1",
         1977.426,
         "flag"
        ],
        [
         "FDP49",
         9.0,
         "Regular",
         0.069088961,
         "Breakfast",
         56.3614,
         "OUT046",
         1997,
         "Small",
         "Tier 1",
         "Supermarket Type1",
         1547.3192,
         "flag"
        ],
        [
         "NCB42",
         11.8,
         "Low Fat",
         0.008596051,
         "Health and Hygiene",
         115.3492,
         "OUT018",
         2009,
         "Medium",
         "Tier 3",
         "Supermarket Type2",
         1621.8888,
         "flag"
        ],
        [
         "FDP49",
         9.0,
         "Regular",
         0.069196376,
         "Breakfast",
         54.3614,
         "OUT049",
         1999,
         "Medium",
         "Tier 1",
         "Supermarket Type1",
         718.3982,
         "flag"
        ],
        [
         "DRI11",
         null,
         "Low Fat",
         0.034237682,
         "Hard Drinks",
         113.2834,
         "OUT027",
         1985,
         "Medium",
         "Tier 3",
         "Supermarket Type3",
         2303.668,
         "flag"
        ],
        [
         "FDU02",
         13.35,
         "Low Fat",
         0.10249212,
         "Dairy",
         230.5352,
         "OUT035",
         2004,
         "Small",
         "Tier 2",
         "Supermarket Type1",
         2748.4224,
         "flag"
        ]
       ],
       "datasetInfos": [],
       "dbfsResultPath": null,
       "isJsonSchema": true,
       "metadata": {},
       "overflow": false,
       "plotOptions": {
        "customPlotOptions": {},
        "displayType": "table",
        "pivotAggregation": null,
        "pivotColumns": null,
        "xColumns": null,
        "yColumns": null
       },
       "removedWidgets": [],
       "schema": [
        {
         "metadata": "{}",
         "name": "Item_Identifier",
         "type": "\"string\""
        },
        {
         "metadata": "{}",
         "name": "Item_Weight",
         "type": "\"double\""
        },
        {
         "metadata": "{}",
         "name": "Item_Fat_Content",
         "type": "\"string\""
        },
        {
         "metadata": "{}",
         "name": "Item_Visibility",
         "type": "\"double\""
        },
        {
         "metadata": "{}",
         "name": "Item_Type",
         "type": "\"string\""
        },
        {
         "metadata": "{}",
         "name": "Item_MRP",
         "type": "\"double\""
        },
        {
         "metadata": "{}",
         "name": "Outlet_Identifier",
         "type": "\"string\""
        },
        {
         "metadata": "{}",
         "name": "Outlet_Establishment_Year",
         "type": "\"integer\""
        },
        {
         "metadata": "{}",
         "name": "Outlet_Size",
         "type": "\"string\""
        },
        {
         "metadata": "{}",
         "name": "Outlet_Location_Type",
         "type": "\"string\""
        },
        {
         "metadata": "{}",
         "name": "Outlet_Type",
         "type": "\"string\""
        },
        {
         "metadata": "{}",
         "name": "Item_Outlet_Sales",
         "type": "\"double\""
        },
        {
         "metadata": "{}",
         "name": "new-column",
         "type": "\"string\""
        }
       ],
       "type": "table"
      }
     },
     "output_type": "display_data"
    }
   ],
   "source": [
    "df.withColumn('new-column',lit('flag')).limit(20).display()"
   ]
  },
  {
   "cell_type": "code",
   "execution_count": 0,
   "metadata": {
    "application/vnd.databricks.v1+cell": {
     "cellMetadata": {
      "byteLimit": 2048000,
      "rowLimit": 10000
     },
     "inputWidgets": {},
     "nuid": "0f3f5400-2722-45bb-b0af-eb0f99073ca6",
     "showTitle": false,
     "tableResultSettingsMap": {},
     "title": ""
    }
   },
   "outputs": [
    {
     "output_type": "stream",
     "name": "stdout",
     "output_type": "stream",
     "text": [
      "Out[17]: DataFrame[Item_Identifier: string, Item_Weight: double, Item_Fat_Content: string, Item_Visibility: double, Item_Type: string, Item_MRP: double, Outlet_Identifier: string, Outlet_Establishment_Year: int, Outlet_Size: string, Outlet_Location_Type: string, Outlet_Type: string, Item_Outlet_Sales: double]"
     ]
    }
   ],
   "source": [
    "df.drop(col('new-column'))"
   ]
  },
  {
   "cell_type": "code",
   "execution_count": 0,
   "metadata": {
    "application/vnd.databricks.v1+cell": {
     "cellMetadata": {
      "byteLimit": 2048000,
      "rowLimit": 10000
     },
     "inputWidgets": {},
     "nuid": "98ae1708-fbac-43b4-9310-0ed1248bccd3",
     "showTitle": false,
     "tableResultSettingsMap": {},
     "title": ""
    }
   },
   "outputs": [
    {
     "output_type": "display_data",
     "data": {
      "text/html": [
       "<style scoped>\n",
       "  .table-result-container {\n",
       "    max-height: 300px;\n",
       "    overflow: auto;\n",
       "  }\n",
       "  table, th, td {\n",
       "    border: 1px solid black;\n",
       "    border-collapse: collapse;\n",
       "  }\n",
       "  th, td {\n",
       "    padding: 5px;\n",
       "  }\n",
       "  th {\n",
       "    text-align: left;\n",
       "  }\n",
       "</style><div class='table-result-container'><table class='table-result'><thead style='background-color: white'><tr><th>Item_Identifier</th><th>Item_Weight</th><th>Item_Fat_Content</th><th>Item_Visibility</th><th>Item_Type</th><th>Item_MRP</th><th>Outlet_Identifier</th><th>Outlet_Establishment_Year</th><th>Outlet_Size</th><th>Outlet_Location_Type</th><th>Outlet_Type</th><th>Item_Outlet_Sales</th></tr></thead><tbody><tr><td>FDA15</td><td>9.3</td><td>Low Fat</td><td>0.016047301</td><td>Dairy</td><td>249.8092</td><td>OUT049</td><td>1999</td><td>Medium</td><td>Tier 1</td><td>Supermarket Type1</td><td>3735.138</td></tr><tr><td>DRC01</td><td>5.92</td><td>Regular</td><td>0.019278216</td><td>Soft Drinks</td><td>48.2692</td><td>OUT018</td><td>2009</td><td>Medium</td><td>Tier 3</td><td>Supermarket Type2</td><td>443.4228</td></tr><tr><td>FDN15</td><td>17.5</td><td>Low Fat</td><td>0.016760075</td><td>Meat</td><td>141.618</td><td>OUT049</td><td>1999</td><td>Medium</td><td>Tier 1</td><td>Supermarket Type1</td><td>2097.27</td></tr><tr><td>FDX07</td><td>19.2</td><td>Regular</td><td>0.0</td><td>Fruits and Vegetables</td><td>182.095</td><td>OUT010</td><td>1998</td><td>null</td><td>Tier 3</td><td>Grocery Store</td><td>732.38</td></tr><tr><td>NCD19</td><td>8.93</td><td>Low Fat</td><td>0.0</td><td>Household</td><td>53.8614</td><td>OUT013</td><td>1987</td><td>High</td><td>Tier 3</td><td>Supermarket Type1</td><td>994.7052</td></tr><tr><td>FDP36</td><td>10.395</td><td>Regular</td><td>0.0</td><td>Baking Goods</td><td>51.4008</td><td>OUT018</td><td>2009</td><td>Medium</td><td>Tier 3</td><td>Supermarket Type2</td><td>556.6088</td></tr><tr><td>FDO10</td><td>13.65</td><td>Regular</td><td>0.012741089</td><td>Snack Foods</td><td>57.6588</td><td>OUT013</td><td>1987</td><td>High</td><td>Tier 3</td><td>Supermarket Type1</td><td>343.5528</td></tr><tr><td>FDP10</td><td>null</td><td>Low Fat</td><td>0.127469857</td><td>Snack Foods</td><td>107.7622</td><td>OUT027</td><td>1985</td><td>Medium</td><td>Tier 3</td><td>Supermarket Type3</td><td>4022.7636</td></tr><tr><td>FDH17</td><td>16.2</td><td>Regular</td><td>0.016687114</td><td>Frozen Foods</td><td>96.9726</td><td>OUT045</td><td>2002</td><td>null</td><td>Tier 2</td><td>Supermarket Type1</td><td>1076.5986</td></tr><tr><td>FDU28</td><td>19.2</td><td>Regular</td><td>0.09444959</td><td>Frozen Foods</td><td>187.8214</td><td>OUT017</td><td>2007</td><td>null</td><td>Tier 2</td><td>Supermarket Type1</td><td>4710.535</td></tr><tr><td>FDY07</td><td>11.8</td><td>Low Fat</td><td>0.0</td><td>Fruits and Vegetables</td><td>45.5402</td><td>OUT049</td><td>1999</td><td>Medium</td><td>Tier 1</td><td>Supermarket Type1</td><td>1516.0266</td></tr><tr><td>FDA03</td><td>18.5</td><td>Regular</td><td>0.045463773</td><td>Dairy</td><td>144.1102</td><td>OUT046</td><td>1997</td><td>Small</td><td>Tier 1</td><td>Supermarket Type1</td><td>2187.153</td></tr><tr><td>FDX32</td><td>15.1</td><td>Regular</td><td>0.1000135</td><td>Fruits and Vegetables</td><td>145.4786</td><td>OUT049</td><td>1999</td><td>Medium</td><td>Tier 1</td><td>Supermarket Type1</td><td>1589.2646</td></tr><tr><td>FDS46</td><td>17.6</td><td>Regular</td><td>0.047257328</td><td>Snack Foods</td><td>119.6782</td><td>OUT046</td><td>1997</td><td>Small</td><td>Tier 1</td><td>Supermarket Type1</td><td>2145.2076</td></tr><tr><td>FDF32</td><td>16.35</td><td>Low Fat</td><td>0.0680243</td><td>Fruits and Vegetables</td><td>196.4426</td><td>OUT013</td><td>1987</td><td>High</td><td>Tier 3</td><td>Supermarket Type1</td><td>1977.426</td></tr><tr><td>FDP49</td><td>9.0</td><td>Regular</td><td>0.069088961</td><td>Breakfast</td><td>56.3614</td><td>OUT046</td><td>1997</td><td>Small</td><td>Tier 1</td><td>Supermarket Type1</td><td>1547.3192</td></tr><tr><td>NCB42</td><td>11.8</td><td>Low Fat</td><td>0.008596051</td><td>Health and Hygiene</td><td>115.3492</td><td>OUT018</td><td>2009</td><td>Medium</td><td>Tier 3</td><td>Supermarket Type2</td><td>1621.8888</td></tr><tr><td>FDP49</td><td>9.0</td><td>Regular</td><td>0.069196376</td><td>Breakfast</td><td>54.3614</td><td>OUT049</td><td>1999</td><td>Medium</td><td>Tier 1</td><td>Supermarket Type1</td><td>718.3982</td></tr><tr><td>DRI11</td><td>null</td><td>Low Fat</td><td>0.034237682</td><td>Hard Drinks</td><td>113.2834</td><td>OUT027</td><td>1985</td><td>Medium</td><td>Tier 3</td><td>Supermarket Type3</td><td>2303.668</td></tr><tr><td>FDU02</td><td>13.35</td><td>Low Fat</td><td>0.10249212</td><td>Dairy</td><td>230.5352</td><td>OUT035</td><td>2004</td><td>Small</td><td>Tier 2</td><td>Supermarket Type1</td><td>2748.4224</td></tr></tbody></table></div>"
      ]
     },
     "metadata": {
      "application/vnd.databricks.v1+output": {
       "addedWidgets": {},
       "aggData": [],
       "aggError": "",
       "aggOverflow": false,
       "aggSchema": [],
       "aggSeriesLimitReached": false,
       "aggType": "",
       "arguments": {},
       "columnCustomDisplayInfos": {},
       "data": [
        [
         "FDA15",
         9.3,
         "Low Fat",
         0.016047301,
         "Dairy",
         249.8092,
         "OUT049",
         1999,
         "Medium",
         "Tier 1",
         "Supermarket Type1",
         3735.138
        ],
        [
         "DRC01",
         5.92,
         "Regular",
         0.019278216,
         "Soft Drinks",
         48.2692,
         "OUT018",
         2009,
         "Medium",
         "Tier 3",
         "Supermarket Type2",
         443.4228
        ],
        [
         "FDN15",
         17.5,
         "Low Fat",
         0.016760075,
         "Meat",
         141.618,
         "OUT049",
         1999,
         "Medium",
         "Tier 1",
         "Supermarket Type1",
         2097.27
        ],
        [
         "FDX07",
         19.2,
         "Regular",
         0.0,
         "Fruits and Vegetables",
         182.095,
         "OUT010",
         1998,
         null,
         "Tier 3",
         "Grocery Store",
         732.38
        ],
        [
         "NCD19",
         8.93,
         "Low Fat",
         0.0,
         "Household",
         53.8614,
         "OUT013",
         1987,
         "High",
         "Tier 3",
         "Supermarket Type1",
         994.7052
        ],
        [
         "FDP36",
         10.395,
         "Regular",
         0.0,
         "Baking Goods",
         51.4008,
         "OUT018",
         2009,
         "Medium",
         "Tier 3",
         "Supermarket Type2",
         556.6088
        ],
        [
         "FDO10",
         13.65,
         "Regular",
         0.012741089,
         "Snack Foods",
         57.6588,
         "OUT013",
         1987,
         "High",
         "Tier 3",
         "Supermarket Type1",
         343.5528
        ],
        [
         "FDP10",
         null,
         "Low Fat",
         0.127469857,
         "Snack Foods",
         107.7622,
         "OUT027",
         1985,
         "Medium",
         "Tier 3",
         "Supermarket Type3",
         4022.7636
        ],
        [
         "FDH17",
         16.2,
         "Regular",
         0.016687114,
         "Frozen Foods",
         96.9726,
         "OUT045",
         2002,
         null,
         "Tier 2",
         "Supermarket Type1",
         1076.5986
        ],
        [
         "FDU28",
         19.2,
         "Regular",
         0.09444959,
         "Frozen Foods",
         187.8214,
         "OUT017",
         2007,
         null,
         "Tier 2",
         "Supermarket Type1",
         4710.535
        ],
        [
         "FDY07",
         11.8,
         "Low Fat",
         0.0,
         "Fruits and Vegetables",
         45.5402,
         "OUT049",
         1999,
         "Medium",
         "Tier 1",
         "Supermarket Type1",
         1516.0266
        ],
        [
         "FDA03",
         18.5,
         "Regular",
         0.045463773,
         "Dairy",
         144.1102,
         "OUT046",
         1997,
         "Small",
         "Tier 1",
         "Supermarket Type1",
         2187.153
        ],
        [
         "FDX32",
         15.1,
         "Regular",
         0.1000135,
         "Fruits and Vegetables",
         145.4786,
         "OUT049",
         1999,
         "Medium",
         "Tier 1",
         "Supermarket Type1",
         1589.2646
        ],
        [
         "FDS46",
         17.6,
         "Regular",
         0.047257328,
         "Snack Foods",
         119.6782,
         "OUT046",
         1997,
         "Small",
         "Tier 1",
         "Supermarket Type1",
         2145.2076
        ],
        [
         "FDF32",
         16.35,
         "Low Fat",
         0.0680243,
         "Fruits and Vegetables",
         196.4426,
         "OUT013",
         1987,
         "High",
         "Tier 3",
         "Supermarket Type1",
         1977.426
        ],
        [
         "FDP49",
         9.0,
         "Regular",
         0.069088961,
         "Breakfast",
         56.3614,
         "OUT046",
         1997,
         "Small",
         "Tier 1",
         "Supermarket Type1",
         1547.3192
        ],
        [
         "NCB42",
         11.8,
         "Low Fat",
         0.008596051,
         "Health and Hygiene",
         115.3492,
         "OUT018",
         2009,
         "Medium",
         "Tier 3",
         "Supermarket Type2",
         1621.8888
        ],
        [
         "FDP49",
         9.0,
         "Regular",
         0.069196376,
         "Breakfast",
         54.3614,
         "OUT049",
         1999,
         "Medium",
         "Tier 1",
         "Supermarket Type1",
         718.3982
        ],
        [
         "DRI11",
         null,
         "Low Fat",
         0.034237682,
         "Hard Drinks",
         113.2834,
         "OUT027",
         1985,
         "Medium",
         "Tier 3",
         "Supermarket Type3",
         2303.668
        ],
        [
         "FDU02",
         13.35,
         "Low Fat",
         0.10249212,
         "Dairy",
         230.5352,
         "OUT035",
         2004,
         "Small",
         "Tier 2",
         "Supermarket Type1",
         2748.4224
        ]
       ],
       "datasetInfos": [],
       "dbfsResultPath": null,
       "isJsonSchema": true,
       "metadata": {},
       "overflow": false,
       "plotOptions": {
        "customPlotOptions": {},
        "displayType": "table",
        "pivotAggregation": null,
        "pivotColumns": null,
        "xColumns": null,
        "yColumns": null
       },
       "removedWidgets": [],
       "schema": [
        {
         "metadata": "{}",
         "name": "Item_Identifier",
         "type": "\"string\""
        },
        {
         "metadata": "{}",
         "name": "Item_Weight",
         "type": "\"double\""
        },
        {
         "metadata": "{}",
         "name": "Item_Fat_Content",
         "type": "\"string\""
        },
        {
         "metadata": "{}",
         "name": "Item_Visibility",
         "type": "\"double\""
        },
        {
         "metadata": "{}",
         "name": "Item_Type",
         "type": "\"string\""
        },
        {
         "metadata": "{}",
         "name": "Item_MRP",
         "type": "\"double\""
        },
        {
         "metadata": "{}",
         "name": "Outlet_Identifier",
         "type": "\"string\""
        },
        {
         "metadata": "{}",
         "name": "Outlet_Establishment_Year",
         "type": "\"integer\""
        },
        {
         "metadata": "{}",
         "name": "Outlet_Size",
         "type": "\"string\""
        },
        {
         "metadata": "{}",
         "name": "Outlet_Location_Type",
         "type": "\"string\""
        },
        {
         "metadata": "{}",
         "name": "Outlet_Type",
         "type": "\"string\""
        },
        {
         "metadata": "{}",
         "name": "Item_Outlet_Sales",
         "type": "\"double\""
        }
       ],
       "type": "table"
      }
     },
     "output_type": "display_data"
    }
   ],
   "source": [
    "display(df.limit(20))"
   ]
  },
  {
   "cell_type": "code",
   "execution_count": 0,
   "metadata": {
    "application/vnd.databricks.v1+cell": {
     "cellMetadata": {
      "byteLimit": 2048000,
      "rowLimit": 10000
     },
     "inputWidgets": {},
     "nuid": "e3522f26-c96f-4626-bea4-868716d1db2d",
     "showTitle": false,
     "tableResultSettingsMap": {},
     "title": ""
    }
   },
   "outputs": [
    {
     "output_type": "display_data",
     "data": {
      "text/html": [
       "<style scoped>\n",
       "  .table-result-container {\n",
       "    max-height: 300px;\n",
       "    overflow: auto;\n",
       "  }\n",
       "  table, th, td {\n",
       "    border: 1px solid black;\n",
       "    border-collapse: collapse;\n",
       "  }\n",
       "  th, td {\n",
       "    padding: 5px;\n",
       "  }\n",
       "  th {\n",
       "    text-align: left;\n",
       "  }\n",
       "</style><div class='table-result-container'><table class='table-result'><thead style='background-color: white'><tr><th>Item_Identifier</th><th>Item_Weight</th><th>Item_Fat_Content</th><th>Item_Visibility</th><th>Item_Type</th><th>Item_MRP</th><th>Outlet_Identifier</th><th>Outlet_Establishment_Year</th><th>Outlet_Size</th><th>Outlet_Location_Type</th><th>Outlet_Type</th><th>Item_Outlet_Sales</th></tr></thead><tbody><tr><td>FDA15</td><td>9.3</td><td>LF</td><td>0.016047301</td><td>Dairy</td><td>249.8092</td><td>OUT049</td><td>1999</td><td>Medium</td><td>Tier 1</td><td>Supermarket Type1</td><td>3735.138</td></tr><tr><td>DRC01</td><td>5.92</td><td>Reg</td><td>0.019278216</td><td>Soft Drinks</td><td>48.2692</td><td>OUT018</td><td>2009</td><td>Medium</td><td>Tier 3</td><td>Supermarket Type2</td><td>443.4228</td></tr><tr><td>FDN15</td><td>17.5</td><td>LF</td><td>0.016760075</td><td>Meat</td><td>141.618</td><td>OUT049</td><td>1999</td><td>Medium</td><td>Tier 1</td><td>Supermarket Type1</td><td>2097.27</td></tr><tr><td>FDX07</td><td>19.2</td><td>Reg</td><td>0.0</td><td>Fruits and Vegetables</td><td>182.095</td><td>OUT010</td><td>1998</td><td>null</td><td>Tier 3</td><td>Grocery Store</td><td>732.38</td></tr><tr><td>NCD19</td><td>8.93</td><td>LF</td><td>0.0</td><td>Household</td><td>53.8614</td><td>OUT013</td><td>1987</td><td>High</td><td>Tier 3</td><td>Supermarket Type1</td><td>994.7052</td></tr><tr><td>FDP36</td><td>10.395</td><td>Reg</td><td>0.0</td><td>Baking Goods</td><td>51.4008</td><td>OUT018</td><td>2009</td><td>Medium</td><td>Tier 3</td><td>Supermarket Type2</td><td>556.6088</td></tr><tr><td>FDO10</td><td>13.65</td><td>Reg</td><td>0.012741089</td><td>Snack Foods</td><td>57.6588</td><td>OUT013</td><td>1987</td><td>High</td><td>Tier 3</td><td>Supermarket Type1</td><td>343.5528</td></tr><tr><td>FDP10</td><td>null</td><td>LF</td><td>0.127469857</td><td>Snack Foods</td><td>107.7622</td><td>OUT027</td><td>1985</td><td>Medium</td><td>Tier 3</td><td>Supermarket Type3</td><td>4022.7636</td></tr><tr><td>FDH17</td><td>16.2</td><td>Reg</td><td>0.016687114</td><td>Frozen Foods</td><td>96.9726</td><td>OUT045</td><td>2002</td><td>null</td><td>Tier 2</td><td>Supermarket Type1</td><td>1076.5986</td></tr><tr><td>FDU28</td><td>19.2</td><td>Reg</td><td>0.09444959</td><td>Frozen Foods</td><td>187.8214</td><td>OUT017</td><td>2007</td><td>null</td><td>Tier 2</td><td>Supermarket Type1</td><td>4710.535</td></tr><tr><td>FDY07</td><td>11.8</td><td>LF</td><td>0.0</td><td>Fruits and Vegetables</td><td>45.5402</td><td>OUT049</td><td>1999</td><td>Medium</td><td>Tier 1</td><td>Supermarket Type1</td><td>1516.0266</td></tr><tr><td>FDA03</td><td>18.5</td><td>Reg</td><td>0.045463773</td><td>Dairy</td><td>144.1102</td><td>OUT046</td><td>1997</td><td>Small</td><td>Tier 1</td><td>Supermarket Type1</td><td>2187.153</td></tr><tr><td>FDX32</td><td>15.1</td><td>Reg</td><td>0.1000135</td><td>Fruits and Vegetables</td><td>145.4786</td><td>OUT049</td><td>1999</td><td>Medium</td><td>Tier 1</td><td>Supermarket Type1</td><td>1589.2646</td></tr><tr><td>FDS46</td><td>17.6</td><td>Reg</td><td>0.047257328</td><td>Snack Foods</td><td>119.6782</td><td>OUT046</td><td>1997</td><td>Small</td><td>Tier 1</td><td>Supermarket Type1</td><td>2145.2076</td></tr><tr><td>FDF32</td><td>16.35</td><td>LF</td><td>0.0680243</td><td>Fruits and Vegetables</td><td>196.4426</td><td>OUT013</td><td>1987</td><td>High</td><td>Tier 3</td><td>Supermarket Type1</td><td>1977.426</td></tr><tr><td>FDP49</td><td>9.0</td><td>Reg</td><td>0.069088961</td><td>Breakfast</td><td>56.3614</td><td>OUT046</td><td>1997</td><td>Small</td><td>Tier 1</td><td>Supermarket Type1</td><td>1547.3192</td></tr><tr><td>NCB42</td><td>11.8</td><td>LF</td><td>0.008596051</td><td>Health and Hygiene</td><td>115.3492</td><td>OUT018</td><td>2009</td><td>Medium</td><td>Tier 3</td><td>Supermarket Type2</td><td>1621.8888</td></tr><tr><td>FDP49</td><td>9.0</td><td>Reg</td><td>0.069196376</td><td>Breakfast</td><td>54.3614</td><td>OUT049</td><td>1999</td><td>Medium</td><td>Tier 1</td><td>Supermarket Type1</td><td>718.3982</td></tr><tr><td>DRI11</td><td>null</td><td>LF</td><td>0.034237682</td><td>Hard Drinks</td><td>113.2834</td><td>OUT027</td><td>1985</td><td>Medium</td><td>Tier 3</td><td>Supermarket Type3</td><td>2303.668</td></tr><tr><td>FDU02</td><td>13.35</td><td>LF</td><td>0.10249212</td><td>Dairy</td><td>230.5352</td><td>OUT035</td><td>2004</td><td>Small</td><td>Tier 2</td><td>Supermarket Type1</td><td>2748.4224</td></tr></tbody></table></div>"
      ]
     },
     "metadata": {
      "application/vnd.databricks.v1+output": {
       "addedWidgets": {},
       "aggData": [],
       "aggError": "",
       "aggOverflow": false,
       "aggSchema": [],
       "aggSeriesLimitReached": false,
       "aggType": "",
       "arguments": {},
       "columnCustomDisplayInfos": {},
       "data": [
        [
         "FDA15",
         9.3,
         "LF",
         0.016047301,
         "Dairy",
         249.8092,
         "OUT049",
         1999,
         "Medium",
         "Tier 1",
         "Supermarket Type1",
         3735.138
        ],
        [
         "DRC01",
         5.92,
         "Reg",
         0.019278216,
         "Soft Drinks",
         48.2692,
         "OUT018",
         2009,
         "Medium",
         "Tier 3",
         "Supermarket Type2",
         443.4228
        ],
        [
         "FDN15",
         17.5,
         "LF",
         0.016760075,
         "Meat",
         141.618,
         "OUT049",
         1999,
         "Medium",
         "Tier 1",
         "Supermarket Type1",
         2097.27
        ],
        [
         "FDX07",
         19.2,
         "Reg",
         0.0,
         "Fruits and Vegetables",
         182.095,
         "OUT010",
         1998,
         null,
         "Tier 3",
         "Grocery Store",
         732.38
        ],
        [
         "NCD19",
         8.93,
         "LF",
         0.0,
         "Household",
         53.8614,
         "OUT013",
         1987,
         "High",
         "Tier 3",
         "Supermarket Type1",
         994.7052
        ],
        [
         "FDP36",
         10.395,
         "Reg",
         0.0,
         "Baking Goods",
         51.4008,
         "OUT018",
         2009,
         "Medium",
         "Tier 3",
         "Supermarket Type2",
         556.6088
        ],
        [
         "FDO10",
         13.65,
         "Reg",
         0.012741089,
         "Snack Foods",
         57.6588,
         "OUT013",
         1987,
         "High",
         "Tier 3",
         "Supermarket Type1",
         343.5528
        ],
        [
         "FDP10",
         null,
         "LF",
         0.127469857,
         "Snack Foods",
         107.7622,
         "OUT027",
         1985,
         "Medium",
         "Tier 3",
         "Supermarket Type3",
         4022.7636
        ],
        [
         "FDH17",
         16.2,
         "Reg",
         0.016687114,
         "Frozen Foods",
         96.9726,
         "OUT045",
         2002,
         null,
         "Tier 2",
         "Supermarket Type1",
         1076.5986
        ],
        [
         "FDU28",
         19.2,
         "Reg",
         0.09444959,
         "Frozen Foods",
         187.8214,
         "OUT017",
         2007,
         null,
         "Tier 2",
         "Supermarket Type1",
         4710.535
        ],
        [
         "FDY07",
         11.8,
         "LF",
         0.0,
         "Fruits and Vegetables",
         45.5402,
         "OUT049",
         1999,
         "Medium",
         "Tier 1",
         "Supermarket Type1",
         1516.0266
        ],
        [
         "FDA03",
         18.5,
         "Reg",
         0.045463773,
         "Dairy",
         144.1102,
         "OUT046",
         1997,
         "Small",
         "Tier 1",
         "Supermarket Type1",
         2187.153
        ],
        [
         "FDX32",
         15.1,
         "Reg",
         0.1000135,
         "Fruits and Vegetables",
         145.4786,
         "OUT049",
         1999,
         "Medium",
         "Tier 1",
         "Supermarket Type1",
         1589.2646
        ],
        [
         "FDS46",
         17.6,
         "Reg",
         0.047257328,
         "Snack Foods",
         119.6782,
         "OUT046",
         1997,
         "Small",
         "Tier 1",
         "Supermarket Type1",
         2145.2076
        ],
        [
         "FDF32",
         16.35,
         "LF",
         0.0680243,
         "Fruits and Vegetables",
         196.4426,
         "OUT013",
         1987,
         "High",
         "Tier 3",
         "Supermarket Type1",
         1977.426
        ],
        [
         "FDP49",
         9.0,
         "Reg",
         0.069088961,
         "Breakfast",
         56.3614,
         "OUT046",
         1997,
         "Small",
         "Tier 1",
         "Supermarket Type1",
         1547.3192
        ],
        [
         "NCB42",
         11.8,
         "LF",
         0.008596051,
         "Health and Hygiene",
         115.3492,
         "OUT018",
         2009,
         "Medium",
         "Tier 3",
         "Supermarket Type2",
         1621.8888
        ],
        [
         "FDP49",
         9.0,
         "Reg",
         0.069196376,
         "Breakfast",
         54.3614,
         "OUT049",
         1999,
         "Medium",
         "Tier 1",
         "Supermarket Type1",
         718.3982
        ],
        [
         "DRI11",
         null,
         "LF",
         0.034237682,
         "Hard Drinks",
         113.2834,
         "OUT027",
         1985,
         "Medium",
         "Tier 3",
         "Supermarket Type3",
         2303.668
        ],
        [
         "FDU02",
         13.35,
         "LF",
         0.10249212,
         "Dairy",
         230.5352,
         "OUT035",
         2004,
         "Small",
         "Tier 2",
         "Supermarket Type1",
         2748.4224
        ]
       ],
       "datasetInfos": [],
       "dbfsResultPath": null,
       "isJsonSchema": true,
       "metadata": {},
       "overflow": false,
       "plotOptions": {
        "customPlotOptions": {},
        "displayType": "table",
        "pivotAggregation": null,
        "pivotColumns": null,
        "xColumns": null,
        "yColumns": null
       },
       "removedWidgets": [],
       "schema": [
        {
         "metadata": "{}",
         "name": "Item_Identifier",
         "type": "\"string\""
        },
        {
         "metadata": "{}",
         "name": "Item_Weight",
         "type": "\"double\""
        },
        {
         "metadata": "{}",
         "name": "Item_Fat_Content",
         "type": "\"string\""
        },
        {
         "metadata": "{}",
         "name": "Item_Visibility",
         "type": "\"double\""
        },
        {
         "metadata": "{}",
         "name": "Item_Type",
         "type": "\"string\""
        },
        {
         "metadata": "{}",
         "name": "Item_MRP",
         "type": "\"double\""
        },
        {
         "metadata": "{}",
         "name": "Outlet_Identifier",
         "type": "\"string\""
        },
        {
         "metadata": "{}",
         "name": "Outlet_Establishment_Year",
         "type": "\"integer\""
        },
        {
         "metadata": "{}",
         "name": "Outlet_Size",
         "type": "\"string\""
        },
        {
         "metadata": "{}",
         "name": "Outlet_Location_Type",
         "type": "\"string\""
        },
        {
         "metadata": "{}",
         "name": "Outlet_Type",
         "type": "\"string\""
        },
        {
         "metadata": "{}",
         "name": "Item_Outlet_Sales",
         "type": "\"double\""
        }
       ],
       "type": "table"
      }
     },
     "output_type": "display_data"
    }
   ],
   "source": [
    "df.withColumn('Item_Fat_Content',regexp_replace(col('Item_Fat_Content'),\"Regular\",'Reg'))\\\n",
    "           .withColumn('Item_Fat_Content',regexp_replace(col('Item_Fat_Content'),\"Low Fat\",'LF')).limit(20).display()"
   ]
  },
  {
   "cell_type": "code",
   "execution_count": 0,
   "metadata": {
    "application/vnd.databricks.v1+cell": {
     "cellMetadata": {
      "byteLimit": 2048000,
      "rowLimit": 10000
     },
     "inputWidgets": {},
     "nuid": "7c3417df-60c6-4c43-a8be-271310281c85",
     "showTitle": false,
     "tableResultSettingsMap": {},
     "title": ""
    }
   },
   "outputs": [
    {
     "output_type": "display_data",
     "data": {
      "text/html": [
       "<style scoped>\n",
       "  .table-result-container {\n",
       "    max-height: 300px;\n",
       "    overflow: auto;\n",
       "  }\n",
       "  table, th, td {\n",
       "    border: 1px solid black;\n",
       "    border-collapse: collapse;\n",
       "  }\n",
       "  th, td {\n",
       "    padding: 5px;\n",
       "  }\n",
       "  th {\n",
       "    text-align: left;\n",
       "  }\n",
       "</style><div class='table-result-container'><table class='table-result'><thead style='background-color: white'><tr><th>Item_Identifier</th><th>Item_Weight</th><th>Item_Fat_Content</th><th>Item_Visibility</th><th>Item_Type</th><th>Item_MRP</th><th>Outlet_Identifier</th><th>Outlet_Establishment_Year</th><th>Outlet_Size</th><th>Outlet_Location_Type</th><th>Outlet_Type</th><th>Item_Outlet_Sales</th><th>curr-date</th><th>week-after</th><th>datediff</th><th>veg_flag</th></tr></thead><tbody><tr><td>FDA15</td><td>9.3</td><td>Low Fat</td><td>0.016047301</td><td>Dairy</td><td>249.8092</td><td>OUT049</td><td>1999</td><td>Medium</td><td>Tier 1</td><td>Supermarket Type1</td><td>3735.138</td><td>05-00-2025</td><td>2025-02-12</td><td>7</td><td>veg</td></tr><tr><td>DRC01</td><td>5.92</td><td>Regular</td><td>0.019278216</td><td>Soft Drinks</td><td>48.2692</td><td>OUT018</td><td>2009</td><td>Medium</td><td>Tier 3</td><td>Supermarket Type2</td><td>443.4228</td><td>05-00-2025</td><td>2025-02-12</td><td>7</td><td>veg</td></tr><tr><td>FDN15</td><td>17.5</td><td>Low Fat</td><td>0.016760075</td><td>Meat</td><td>141.618</td><td>OUT049</td><td>1999</td><td>Medium</td><td>Tier 1</td><td>Supermarket Type1</td><td>2097.27</td><td>05-00-2025</td><td>2025-02-12</td><td>7</td><td>No-veg</td></tr><tr><td>NCD19</td><td>8.93</td><td>Low Fat</td><td>0.0</td><td>Household</td><td>53.8614</td><td>OUT013</td><td>1987</td><td>High</td><td>Tier 3</td><td>Supermarket Type1</td><td>994.7052</td><td>05-00-2025</td><td>2025-02-12</td><td>7</td><td>veg</td></tr><tr><td>FDP36</td><td>10.395</td><td>Regular</td><td>0.0</td><td>Baking Goods</td><td>51.4008</td><td>OUT018</td><td>2009</td><td>Medium</td><td>Tier 3</td><td>Supermarket Type2</td><td>556.6088</td><td>05-00-2025</td><td>2025-02-12</td><td>7</td><td>veg</td></tr><tr><td>FDO10</td><td>13.65</td><td>Regular</td><td>0.012741089</td><td>Snack Foods</td><td>57.6588</td><td>OUT013</td><td>1987</td><td>High</td><td>Tier 3</td><td>Supermarket Type1</td><td>343.5528</td><td>05-00-2025</td><td>2025-02-12</td><td>7</td><td>veg</td></tr><tr><td>FDY07</td><td>11.8</td><td>Low Fat</td><td>0.0</td><td>Fruits and Vegetables</td><td>45.5402</td><td>OUT049</td><td>1999</td><td>Medium</td><td>Tier 1</td><td>Supermarket Type1</td><td>1516.0266</td><td>05-00-2025</td><td>2025-02-12</td><td>7</td><td>veg</td></tr><tr><td>FDA03</td><td>18.5</td><td>Regular</td><td>0.045463773</td><td>Dairy</td><td>144.1102</td><td>OUT046</td><td>1997</td><td>Small</td><td>Tier 1</td><td>Supermarket Type1</td><td>2187.153</td><td>05-00-2025</td><td>2025-02-12</td><td>7</td><td>veg</td></tr><tr><td>FDX32</td><td>15.1</td><td>Regular</td><td>0.1000135</td><td>Fruits and Vegetables</td><td>145.4786</td><td>OUT049</td><td>1999</td><td>Medium</td><td>Tier 1</td><td>Supermarket Type1</td><td>1589.2646</td><td>05-00-2025</td><td>2025-02-12</td><td>7</td><td>veg</td></tr><tr><td>FDS46</td><td>17.6</td><td>Regular</td><td>0.047257328</td><td>Snack Foods</td><td>119.6782</td><td>OUT046</td><td>1997</td><td>Small</td><td>Tier 1</td><td>Supermarket Type1</td><td>2145.2076</td><td>05-00-2025</td><td>2025-02-12</td><td>7</td><td>veg</td></tr></tbody></table></div>"
      ]
     },
     "metadata": {
      "application/vnd.databricks.v1+output": {
       "addedWidgets": {},
       "aggData": [],
       "aggError": "",
       "aggOverflow": false,
       "aggSchema": [],
       "aggSeriesLimitReached": false,
       "aggType": "",
       "arguments": {},
       "columnCustomDisplayInfos": {},
       "data": [
        [
         "FDA15",
         9.3,
         "Low Fat",
         0.016047301,
         "Dairy",
         249.8092,
         "OUT049",
         1999,
         "Medium",
         "Tier 1",
         "Supermarket Type1",
         3735.138,
         "05-00-2025",
         "2025-02-12",
         7,
         "veg"
        ],
        [
         "DRC01",
         5.92,
         "Regular",
         0.019278216,
         "Soft Drinks",
         48.2692,
         "OUT018",
         2009,
         "Medium",
         "Tier 3",
         "Supermarket Type2",
         443.4228,
         "05-00-2025",
         "2025-02-12",
         7,
         "veg"
        ],
        [
         "FDN15",
         17.5,
         "Low Fat",
         0.016760075,
         "Meat",
         141.618,
         "OUT049",
         1999,
         "Medium",
         "Tier 1",
         "Supermarket Type1",
         2097.27,
         "05-00-2025",
         "2025-02-12",
         7,
         "No-veg"
        ],
        [
         "NCD19",
         8.93,
         "Low Fat",
         0.0,
         "Household",
         53.8614,
         "OUT013",
         1987,
         "High",
         "Tier 3",
         "Supermarket Type1",
         994.7052,
         "05-00-2025",
         "2025-02-12",
         7,
         "veg"
        ],
        [
         "FDP36",
         10.395,
         "Regular",
         0.0,
         "Baking Goods",
         51.4008,
         "OUT018",
         2009,
         "Medium",
         "Tier 3",
         "Supermarket Type2",
         556.6088,
         "05-00-2025",
         "2025-02-12",
         7,
         "veg"
        ],
        [
         "FDO10",
         13.65,
         "Regular",
         0.012741089,
         "Snack Foods",
         57.6588,
         "OUT013",
         1987,
         "High",
         "Tier 3",
         "Supermarket Type1",
         343.5528,
         "05-00-2025",
         "2025-02-12",
         7,
         "veg"
        ],
        [
         "FDY07",
         11.8,
         "Low Fat",
         0.0,
         "Fruits and Vegetables",
         45.5402,
         "OUT049",
         1999,
         "Medium",
         "Tier 1",
         "Supermarket Type1",
         1516.0266,
         "05-00-2025",
         "2025-02-12",
         7,
         "veg"
        ],
        [
         "FDA03",
         18.5,
         "Regular",
         0.045463773,
         "Dairy",
         144.1102,
         "OUT046",
         1997,
         "Small",
         "Tier 1",
         "Supermarket Type1",
         2187.153,
         "05-00-2025",
         "2025-02-12",
         7,
         "veg"
        ],
        [
         "FDX32",
         15.1,
         "Regular",
         0.1000135,
         "Fruits and Vegetables",
         145.4786,
         "OUT049",
         1999,
         "Medium",
         "Tier 1",
         "Supermarket Type1",
         1589.2646,
         "05-00-2025",
         "2025-02-12",
         7,
         "veg"
        ],
        [
         "FDS46",
         17.6,
         "Regular",
         0.047257328,
         "Snack Foods",
         119.6782,
         "OUT046",
         1997,
         "Small",
         "Tier 1",
         "Supermarket Type1",
         2145.2076,
         "05-00-2025",
         "2025-02-12",
         7,
         "veg"
        ]
       ],
       "datasetInfos": [],
       "dbfsResultPath": null,
       "isJsonSchema": true,
       "metadata": {},
       "overflow": false,
       "plotOptions": {
        "customPlotOptions": {},
        "displayType": "table",
        "pivotAggregation": null,
        "pivotColumns": null,
        "xColumns": null,
        "yColumns": null
       },
       "removedWidgets": [],
       "schema": [
        {
         "metadata": "{}",
         "name": "Item_Identifier",
         "type": "\"string\""
        },
        {
         "metadata": "{}",
         "name": "Item_Weight",
         "type": "\"double\""
        },
        {
         "metadata": "{}",
         "name": "Item_Fat_Content",
         "type": "\"string\""
        },
        {
         "metadata": "{}",
         "name": "Item_Visibility",
         "type": "\"double\""
        },
        {
         "metadata": "{}",
         "name": "Item_Type",
         "type": "\"string\""
        },
        {
         "metadata": "{}",
         "name": "Item_MRP",
         "type": "\"double\""
        },
        {
         "metadata": "{}",
         "name": "Outlet_Identifier",
         "type": "\"string\""
        },
        {
         "metadata": "{}",
         "name": "Outlet_Establishment_Year",
         "type": "\"integer\""
        },
        {
         "metadata": "{}",
         "name": "Outlet_Size",
         "type": "\"string\""
        },
        {
         "metadata": "{}",
         "name": "Outlet_Location_Type",
         "type": "\"string\""
        },
        {
         "metadata": "{}",
         "name": "Outlet_Type",
         "type": "\"string\""
        },
        {
         "metadata": "{}",
         "name": "Item_Outlet_Sales",
         "type": "\"double\""
        },
        {
         "metadata": "{}",
         "name": "curr-date",
         "type": "\"string\""
        },
        {
         "metadata": "{}",
         "name": "week-after",
         "type": "\"date\""
        },
        {
         "metadata": "{}",
         "name": "datediff",
         "type": "\"integer\""
        },
        {
         "metadata": "{}",
         "name": "veg_flag",
         "type": "\"string\""
        }
       ],
       "type": "table"
      }
     },
     "output_type": "display_data"
    }
   ],
   "source": [
    "df.dropna('any').limit(10).display()"
   ]
  },
  {
   "cell_type": "code",
   "execution_count": 0,
   "metadata": {
    "application/vnd.databricks.v1+cell": {
     "cellMetadata": {
      "byteLimit": 2048000,
      "rowLimit": 10000
     },
     "inputWidgets": {},
     "nuid": "060585e7-0dec-4c48-acf4-d295417ce85f",
     "showTitle": false,
     "tableResultSettingsMap": {},
     "title": ""
    }
   },
   "outputs": [
    {
     "output_type": "display_data",
     "data": {
      "text/html": [
       "<style scoped>\n",
       "  .table-result-container {\n",
       "    max-height: 300px;\n",
       "    overflow: auto;\n",
       "  }\n",
       "  table, th, td {\n",
       "    border: 1px solid black;\n",
       "    border-collapse: collapse;\n",
       "  }\n",
       "  th, td {\n",
       "    padding: 5px;\n",
       "  }\n",
       "  th {\n",
       "    text-align: left;\n",
       "  }\n",
       "</style><div class='table-result-container'><table class='table-result'><thead style='background-color: white'><tr><th>Item_Identifier</th><th>Item_Weight</th><th>Item_Fat_Content</th><th>Item_Visibility</th><th>Item_Type</th><th>Item_MRP</th><th>Outlet_Identifier</th><th>Outlet_Establishment_Year</th><th>Outlet_Size</th><th>Outlet_Location_Type</th><th>Outlet_Type</th><th>Item_Outlet_Sales</th><th>curr-date</th><th>week-after</th><th>datediff</th><th>veg_flag</th></tr></thead><tbody><tr><td>FDH17</td><td>16.2</td><td>Regular</td><td>0.016687114</td><td>Frozen Foods</td><td>96.9726</td><td>OUT045</td><td>2002</td><td>null</td><td>Tier 2</td><td>Supermarket Type1</td><td>1076.5986</td><td>05-00-2025</td><td>2025-02-12</td><td>7</td><td>veg</td></tr><tr><td>FDP49</td><td>9.0</td><td>Regular</td><td>0.069196376</td><td>Breakfast</td><td>54.3614</td><td>OUT049</td><td>1999</td><td>Medium</td><td>Tier 1</td><td>Supermarket Type1</td><td>718.3982</td><td>05-00-2025</td><td>2025-02-12</td><td>7</td><td>veg</td></tr><tr><td>FDP36</td><td>10.395</td><td>Regular</td><td>0.0</td><td>Baking Goods</td><td>51.4008</td><td>OUT018</td><td>2009</td><td>Medium</td><td>Tier 3</td><td>Supermarket Type2</td><td>556.6088</td><td>05-00-2025</td><td>2025-02-12</td><td>7</td><td>veg</td></tr><tr><td>FDA03</td><td>18.5</td><td>Regular</td><td>0.045463773</td><td>Dairy</td><td>144.1102</td><td>OUT046</td><td>1997</td><td>Small</td><td>Tier 1</td><td>Supermarket Type1</td><td>2187.153</td><td>05-00-2025</td><td>2025-02-12</td><td>7</td><td>veg</td></tr><tr><td>FDP49</td><td>9.0</td><td>Regular</td><td>0.069088961</td><td>Breakfast</td><td>56.3614</td><td>OUT046</td><td>1997</td><td>Small</td><td>Tier 1</td><td>Supermarket Type1</td><td>1547.3192</td><td>05-00-2025</td><td>2025-02-12</td><td>7</td><td>veg</td></tr><tr><td>FDU02</td><td>13.35</td><td>Low Fat</td><td>0.10249212</td><td>Dairy</td><td>230.5352</td><td>OUT035</td><td>2004</td><td>Small</td><td>Tier 2</td><td>Supermarket Type1</td><td>2748.4224</td><td>05-00-2025</td><td>2025-02-12</td><td>7</td><td>veg</td></tr><tr><td>FDF32</td><td>16.35</td><td>Low Fat</td><td>0.0680243</td><td>Fruits and Vegetables</td><td>196.4426</td><td>OUT013</td><td>1987</td><td>High</td><td>Tier 3</td><td>Supermarket Type1</td><td>1977.426</td><td>05-00-2025</td><td>2025-02-12</td><td>7</td><td>veg</td></tr><tr><td>NCB42</td><td>11.8</td><td>Low Fat</td><td>0.008596051</td><td>Health and Hygiene</td><td>115.3492</td><td>OUT018</td><td>2009</td><td>Medium</td><td>Tier 3</td><td>Supermarket Type2</td><td>1621.8888</td><td>05-00-2025</td><td>2025-02-12</td><td>7</td><td>veg</td></tr><tr><td>FDY07</td><td>11.8</td><td>Low Fat</td><td>0.0</td><td>Fruits and Vegetables</td><td>45.5402</td><td>OUT049</td><td>1999</td><td>Medium</td><td>Tier 1</td><td>Supermarket Type1</td><td>1516.0266</td><td>05-00-2025</td><td>2025-02-12</td><td>7</td><td>veg</td></tr><tr><td>FDS46</td><td>17.6</td><td>Regular</td><td>0.047257328</td><td>Snack Foods</td><td>119.6782</td><td>OUT046</td><td>1997</td><td>Small</td><td>Tier 1</td><td>Supermarket Type1</td><td>2145.2076</td><td>05-00-2025</td><td>2025-02-12</td><td>7</td><td>veg</td></tr><tr><td>DRI11</td><td>null</td><td>Low Fat</td><td>0.034237682</td><td>Hard Drinks</td><td>113.2834</td><td>OUT027</td><td>1985</td><td>Medium</td><td>Tier 3</td><td>Supermarket Type3</td><td>2303.668</td><td>05-00-2025</td><td>2025-02-12</td><td>7</td><td>veg</td></tr><tr><td>FDX32</td><td>15.1</td><td>Regular</td><td>0.1000135</td><td>Fruits and Vegetables</td><td>145.4786</td><td>OUT049</td><td>1999</td><td>Medium</td><td>Tier 1</td><td>Supermarket Type1</td><td>1589.2646</td><td>05-00-2025</td><td>2025-02-12</td><td>7</td><td>veg</td></tr><tr><td>NCD19</td><td>8.93</td><td>Low Fat</td><td>0.0</td><td>Household</td><td>53.8614</td><td>OUT013</td><td>1987</td><td>High</td><td>Tier 3</td><td>Supermarket Type1</td><td>994.7052</td><td>05-00-2025</td><td>2025-02-12</td><td>7</td><td>veg</td></tr><tr><td>FDU28</td><td>19.2</td><td>Regular</td><td>0.09444959</td><td>Frozen Foods</td><td>187.8214</td><td>OUT017</td><td>2007</td><td>null</td><td>Tier 2</td><td>Supermarket Type1</td><td>4710.535</td><td>05-00-2025</td><td>2025-02-12</td><td>7</td><td>veg</td></tr><tr><td>FDP10</td><td>null</td><td>Low Fat</td><td>0.127469857</td><td>Snack Foods</td><td>107.7622</td><td>OUT027</td><td>1985</td><td>Medium</td><td>Tier 3</td><td>Supermarket Type3</td><td>4022.7636</td><td>05-00-2025</td><td>2025-02-12</td><td>7</td><td>veg</td></tr><tr><td>FDO10</td><td>13.65</td><td>Regular</td><td>0.012741089</td><td>Snack Foods</td><td>57.6588</td><td>OUT013</td><td>1987</td><td>High</td><td>Tier 3</td><td>Supermarket Type1</td><td>343.5528</td><td>05-00-2025</td><td>2025-02-12</td><td>7</td><td>veg</td></tr><tr><td>DRC01</td><td>5.92</td><td>Regular</td><td>0.019278216</td><td>Soft Drinks</td><td>48.2692</td><td>OUT018</td><td>2009</td><td>Medium</td><td>Tier 3</td><td>Supermarket Type2</td><td>443.4228</td><td>05-00-2025</td><td>2025-02-12</td><td>7</td><td>veg</td></tr><tr><td>FDA15</td><td>9.3</td><td>Low Fat</td><td>0.016047301</td><td>Dairy</td><td>249.8092</td><td>OUT049</td><td>1999</td><td>Medium</td><td>Tier 1</td><td>Supermarket Type1</td><td>3735.138</td><td>05-00-2025</td><td>2025-02-12</td><td>7</td><td>veg</td></tr><tr><td>FDN15</td><td>17.5</td><td>Low Fat</td><td>0.016760075</td><td>Meat</td><td>141.618</td><td>OUT049</td><td>1999</td><td>Medium</td><td>Tier 1</td><td>Supermarket Type1</td><td>2097.27</td><td>05-00-2025</td><td>2025-02-12</td><td>7</td><td>No-veg</td></tr><tr><td>FDX07</td><td>19.2</td><td>Regular</td><td>0.0</td><td>Fruits and Vegetables</td><td>182.095</td><td>OUT010</td><td>1998</td><td>null</td><td>Tier 3</td><td>Grocery Store</td><td>732.38</td><td>05-00-2025</td><td>2025-02-12</td><td>7</td><td>veg</td></tr></tbody></table></div>"
      ]
     },
     "metadata": {
      "application/vnd.databricks.v1+output": {
       "addedWidgets": {},
       "aggData": [],
       "aggError": "",
       "aggOverflow": false,
       "aggSchema": [],
       "aggSeriesLimitReached": false,
       "aggType": "",
       "arguments": {},
       "columnCustomDisplayInfos": {},
       "data": [
        [
         "FDH17",
         16.2,
         "Regular",
         0.016687114,
         "Frozen Foods",
         96.9726,
         "OUT045",
         2002,
         null,
         "Tier 2",
         "Supermarket Type1",
         1076.5986,
         "05-00-2025",
         "2025-02-12",
         7,
         "veg"
        ],
        [
         "FDP49",
         9.0,
         "Regular",
         0.069196376,
         "Breakfast",
         54.3614,
         "OUT049",
         1999,
         "Medium",
         "Tier 1",
         "Supermarket Type1",
         718.3982,
         "05-00-2025",
         "2025-02-12",
         7,
         "veg"
        ],
        [
         "FDP36",
         10.395,
         "Regular",
         0.0,
         "Baking Goods",
         51.4008,
         "OUT018",
         2009,
         "Medium",
         "Tier 3",
         "Supermarket Type2",
         556.6088,
         "05-00-2025",
         "2025-02-12",
         7,
         "veg"
        ],
        [
         "FDA03",
         18.5,
         "Regular",
         0.045463773,
         "Dairy",
         144.1102,
         "OUT046",
         1997,
         "Small",
         "Tier 1",
         "Supermarket Type1",
         2187.153,
         "05-00-2025",
         "2025-02-12",
         7,
         "veg"
        ],
        [
         "FDP49",
         9.0,
         "Regular",
         0.069088961,
         "Breakfast",
         56.3614,
         "OUT046",
         1997,
         "Small",
         "Tier 1",
         "Supermarket Type1",
         1547.3192,
         "05-00-2025",
         "2025-02-12",
         7,
         "veg"
        ],
        [
         "FDU02",
         13.35,
         "Low Fat",
         0.10249212,
         "Dairy",
         230.5352,
         "OUT035",
         2004,
         "Small",
         "Tier 2",
         "Supermarket Type1",
         2748.4224,
         "05-00-2025",
         "2025-02-12",
         7,
         "veg"
        ],
        [
         "FDF32",
         16.35,
         "Low Fat",
         0.0680243,
         "Fruits and Vegetables",
         196.4426,
         "OUT013",
         1987,
         "High",
         "Tier 3",
         "Supermarket Type1",
         1977.426,
         "05-00-2025",
         "2025-02-12",
         7,
         "veg"
        ],
        [
         "NCB42",
         11.8,
         "Low Fat",
         0.008596051,
         "Health and Hygiene",
         115.3492,
         "OUT018",
         2009,
         "Medium",
         "Tier 3",
         "Supermarket Type2",
         1621.8888,
         "05-00-2025",
         "2025-02-12",
         7,
         "veg"
        ],
        [
         "FDY07",
         11.8,
         "Low Fat",
         0.0,
         "Fruits and Vegetables",
         45.5402,
         "OUT049",
         1999,
         "Medium",
         "Tier 1",
         "Supermarket Type1",
         1516.0266,
         "05-00-2025",
         "2025-02-12",
         7,
         "veg"
        ],
        [
         "FDS46",
         17.6,
         "Regular",
         0.047257328,
         "Snack Foods",
         119.6782,
         "OUT046",
         1997,
         "Small",
         "Tier 1",
         "Supermarket Type1",
         2145.2076,
         "05-00-2025",
         "2025-02-12",
         7,
         "veg"
        ],
        [
         "DRI11",
         null,
         "Low Fat",
         0.034237682,
         "Hard Drinks",
         113.2834,
         "OUT027",
         1985,
         "Medium",
         "Tier 3",
         "Supermarket Type3",
         2303.668,
         "05-00-2025",
         "2025-02-12",
         7,
         "veg"
        ],
        [
         "FDX32",
         15.1,
         "Regular",
         0.1000135,
         "Fruits and Vegetables",
         145.4786,
         "OUT049",
         1999,
         "Medium",
         "Tier 1",
         "Supermarket Type1",
         1589.2646,
         "05-00-2025",
         "2025-02-12",
         7,
         "veg"
        ],
        [
         "NCD19",
         8.93,
         "Low Fat",
         0.0,
         "Household",
         53.8614,
         "OUT013",
         1987,
         "High",
         "Tier 3",
         "Supermarket Type1",
         994.7052,
         "05-00-2025",
         "2025-02-12",
         7,
         "veg"
        ],
        [
         "FDU28",
         19.2,
         "Regular",
         0.09444959,
         "Frozen Foods",
         187.8214,
         "OUT017",
         2007,
         null,
         "Tier 2",
         "Supermarket Type1",
         4710.535,
         "05-00-2025",
         "2025-02-12",
         7,
         "veg"
        ],
        [
         "FDP10",
         null,
         "Low Fat",
         0.127469857,
         "Snack Foods",
         107.7622,
         "OUT027",
         1985,
         "Medium",
         "Tier 3",
         "Supermarket Type3",
         4022.7636,
         "05-00-2025",
         "2025-02-12",
         7,
         "veg"
        ],
        [
         "FDO10",
         13.65,
         "Regular",
         0.012741089,
         "Snack Foods",
         57.6588,
         "OUT013",
         1987,
         "High",
         "Tier 3",
         "Supermarket Type1",
         343.5528,
         "05-00-2025",
         "2025-02-12",
         7,
         "veg"
        ],
        [
         "DRC01",
         5.92,
         "Regular",
         0.019278216,
         "Soft Drinks",
         48.2692,
         "OUT018",
         2009,
         "Medium",
         "Tier 3",
         "Supermarket Type2",
         443.4228,
         "05-00-2025",
         "2025-02-12",
         7,
         "veg"
        ],
        [
         "FDA15",
         9.3,
         "Low Fat",
         0.016047301,
         "Dairy",
         249.8092,
         "OUT049",
         1999,
         "Medium",
         "Tier 1",
         "Supermarket Type1",
         3735.138,
         "05-00-2025",
         "2025-02-12",
         7,
         "veg"
        ],
        [
         "FDN15",
         17.5,
         "Low Fat",
         0.016760075,
         "Meat",
         141.618,
         "OUT049",
         1999,
         "Medium",
         "Tier 1",
         "Supermarket Type1",
         2097.27,
         "05-00-2025",
         "2025-02-12",
         7,
         "No-veg"
        ],
        [
         "FDX07",
         19.2,
         "Regular",
         0.0,
         "Fruits and Vegetables",
         182.095,
         "OUT010",
         1998,
         null,
         "Tier 3",
         "Grocery Store",
         732.38,
         "05-00-2025",
         "2025-02-12",
         7,
         "veg"
        ]
       ],
       "datasetInfos": [],
       "dbfsResultPath": null,
       "isJsonSchema": true,
       "metadata": {},
       "overflow": false,
       "plotOptions": {
        "customPlotOptions": {},
        "displayType": "table",
        "pivotAggregation": null,
        "pivotColumns": null,
        "xColumns": null,
        "yColumns": null
       },
       "removedWidgets": [],
       "schema": [
        {
         "metadata": "{}",
         "name": "Item_Identifier",
         "type": "\"string\""
        },
        {
         "metadata": "{}",
         "name": "Item_Weight",
         "type": "\"double\""
        },
        {
         "metadata": "{}",
         "name": "Item_Fat_Content",
         "type": "\"string\""
        },
        {
         "metadata": "{}",
         "name": "Item_Visibility",
         "type": "\"double\""
        },
        {
         "metadata": "{}",
         "name": "Item_Type",
         "type": "\"string\""
        },
        {
         "metadata": "{}",
         "name": "Item_MRP",
         "type": "\"double\""
        },
        {
         "metadata": "{}",
         "name": "Outlet_Identifier",
         "type": "\"string\""
        },
        {
         "metadata": "{}",
         "name": "Outlet_Establishment_Year",
         "type": "\"integer\""
        },
        {
         "metadata": "{}",
         "name": "Outlet_Size",
         "type": "\"string\""
        },
        {
         "metadata": "{}",
         "name": "Outlet_Location_Type",
         "type": "\"string\""
        },
        {
         "metadata": "{}",
         "name": "Outlet_Type",
         "type": "\"string\""
        },
        {
         "metadata": "{}",
         "name": "Item_Outlet_Sales",
         "type": "\"double\""
        },
        {
         "metadata": "{}",
         "name": "curr-date",
         "type": "\"string\""
        },
        {
         "metadata": "{}",
         "name": "week-after",
         "type": "\"date\""
        },
        {
         "metadata": "{}",
         "name": "datediff",
         "type": "\"integer\""
        },
        {
         "metadata": "{}",
         "name": "veg_flag",
         "type": "\"string\""
        }
       ],
       "type": "table"
      }
     },
     "output_type": "display_data"
    }
   ],
   "source": [
    "df.dropDuplicates().limit(20).display()"
   ]
  },
  {
   "cell_type": "code",
   "execution_count": 0,
   "metadata": {
    "application/vnd.databricks.v1+cell": {
     "cellMetadata": {
      "byteLimit": 2048000,
      "rowLimit": 10000
     },
     "inputWidgets": {},
     "nuid": "ae33ab59-d353-4dd7-8ac9-17f3c278070d",
     "showTitle": false,
     "tableResultSettingsMap": {},
     "title": ""
    }
   },
   "outputs": [
    {
     "output_type": "display_data",
     "data": {
      "text/html": [
       "<style scoped>\n",
       "  .table-result-container {\n",
       "    max-height: 300px;\n",
       "    overflow: auto;\n",
       "  }\n",
       "  table, th, td {\n",
       "    border: 1px solid black;\n",
       "    border-collapse: collapse;\n",
       "  }\n",
       "  th, td {\n",
       "    padding: 5px;\n",
       "  }\n",
       "  th {\n",
       "    text-align: left;\n",
       "  }\n",
       "</style><div class='table-result-container'><table class='table-result'><thead style='background-color: white'><tr><th>Item_Identifier</th><th>Item_Weight</th><th>Item_Fat_Content</th><th>Item_Visibility</th><th>Item_Type</th><th>Item_MRP</th><th>Outlet_Identifier</th><th>Outlet_Establishment_Year</th><th>Outlet_Size</th><th>Outlet_Location_Type</th><th>Outlet_Type</th><th>Item_Outlet_Sales</th></tr></thead><tbody><tr><td>FDP36</td><td>10.395</td><td>Regular</td><td>0.0</td><td>Baking Goods</td><td>51.4008</td><td>OUT018</td><td>2009</td><td>Medium</td><td>Tier 3</td><td>Supermarket Type2</td><td>556.6088</td></tr><tr><td>FDO23</td><td>17.85</td><td>Low Fat</td><td>0.0</td><td>Breads</td><td>93.1436</td><td>OUT045</td><td>2002</td><td>null</td><td>Tier 2</td><td>Supermarket Type1</td><td>2174.5028</td></tr><tr><td>FDP49</td><td>9.0</td><td>Regular</td><td>0.069088961</td><td>Breakfast</td><td>56.3614</td><td>OUT046</td><td>1997</td><td>Small</td><td>Tier 1</td><td>Supermarket Type1</td><td>1547.3192</td></tr><tr><td>FDC14</td><td>null</td><td>Regular</td><td>0.072221801</td><td>Canned</td><td>43.6454</td><td>OUT019</td><td>1985</td><td>Small</td><td>Tier 1</td><td>Grocery Store</td><td>125.8362</td></tr><tr><td>FDA15</td><td>9.3</td><td>Low Fat</td><td>0.016047301</td><td>Dairy</td><td>249.8092</td><td>OUT049</td><td>1999</td><td>Medium</td><td>Tier 1</td><td>Supermarket Type1</td><td>3735.138</td></tr><tr><td>FDH17</td><td>16.2</td><td>Regular</td><td>0.016687114</td><td>Frozen Foods</td><td>96.9726</td><td>OUT045</td><td>2002</td><td>null</td><td>Tier 2</td><td>Supermarket Type1</td><td>1076.5986</td></tr><tr><td>FDX07</td><td>19.2</td><td>Regular</td><td>0.0</td><td>Fruits and Vegetables</td><td>182.095</td><td>OUT010</td><td>1998</td><td>null</td><td>Tier 3</td><td>Grocery Store</td><td>732.38</td></tr><tr><td>DRI11</td><td>null</td><td>Low Fat</td><td>0.034237682</td><td>Hard Drinks</td><td>113.2834</td><td>OUT027</td><td>1985</td><td>Medium</td><td>Tier 3</td><td>Supermarket Type3</td><td>2303.668</td></tr><tr><td>NCB42</td><td>11.8</td><td>Low Fat</td><td>0.008596051</td><td>Health and Hygiene</td><td>115.3492</td><td>OUT018</td><td>2009</td><td>Medium</td><td>Tier 3</td><td>Supermarket Type2</td><td>1621.8888</td></tr><tr><td>NCD19</td><td>8.93</td><td>Low Fat</td><td>0.0</td><td>Household</td><td>53.8614</td><td>OUT013</td><td>1987</td><td>High</td><td>Tier 3</td><td>Supermarket Type1</td><td>994.7052</td></tr><tr><td>FDN15</td><td>17.5</td><td>Low Fat</td><td>0.016760075</td><td>Meat</td><td>141.618</td><td>OUT049</td><td>1999</td><td>Medium</td><td>Tier 1</td><td>Supermarket Type1</td><td>2097.27</td></tr><tr><td>NCN07</td><td>18.5</td><td>Low Fat</td><td>0.056816465</td><td>Others</td><td>132.1284</td><td>OUT010</td><td>1998</td><td>null</td><td>Tier 3</td><td>Grocery Store</td><td>263.6568</td></tr><tr><td>FDG33</td><td>null</td><td>Regular</td><td>0.13956116</td><td>Seafood</td><td>170.4764</td><td>OUT027</td><td>1985</td><td>Medium</td><td>Tier 3</td><td>Supermarket Type3</td><td>3435.528</td></tr><tr><td>FDO10</td><td>13.65</td><td>Regular</td><td>0.012741089</td><td>Snack Foods</td><td>57.6588</td><td>OUT013</td><td>1987</td><td>High</td><td>Tier 3</td><td>Supermarket Type1</td><td>343.5528</td></tr><tr><td>DRC01</td><td>5.92</td><td>Regular</td><td>0.019278216</td><td>Soft Drinks</td><td>48.2692</td><td>OUT018</td><td>2009</td><td>Medium</td><td>Tier 3</td><td>Supermarket Type2</td><td>443.4228</td></tr><tr><td>FDH35</td><td>18.25</td><td>Low Fat</td><td>0.0</td><td>Starchy Foods</td><td>164.7526</td><td>OUT045</td><td>2002</td><td>null</td><td>Tier 2</td><td>Supermarket Type1</td><td>4604.6728</td></tr></tbody></table></div>"
      ]
     },
     "metadata": {
      "application/vnd.databricks.v1+output": {
       "addedWidgets": {},
       "aggData": [],
       "aggError": "",
       "aggOverflow": false,
       "aggSchema": [],
       "aggSeriesLimitReached": false,
       "aggType": "",
       "arguments": {},
       "columnCustomDisplayInfos": {},
       "data": [
        [
         "FDP36",
         10.395,
         "Regular",
         0.0,
         "Baking Goods",
         51.4008,
         "OUT018",
         2009,
         "Medium",
         "Tier 3",
         "Supermarket Type2",
         556.6088
        ],
        [
         "FDO23",
         17.85,
         "Low Fat",
         0.0,
         "Breads",
         93.1436,
         "OUT045",
         2002,
         null,
         "Tier 2",
         "Supermarket Type1",
         2174.5028
        ],
        [
         "FDP49",
         9.0,
         "Regular",
         0.069088961,
         "Breakfast",
         56.3614,
         "OUT046",
         1997,
         "Small",
         "Tier 1",
         "Supermarket Type1",
         1547.3192
        ],
        [
         "FDC14",
         null,
         "Regular",
         0.072221801,
         "Canned",
         43.6454,
         "OUT019",
         1985,
         "Small",
         "Tier 1",
         "Grocery Store",
         125.8362
        ],
        [
         "FDA15",
         9.3,
         "Low Fat",
         0.016047301,
         "Dairy",
         249.8092,
         "OUT049",
         1999,
         "Medium",
         "Tier 1",
         "Supermarket Type1",
         3735.138
        ],
        [
         "FDH17",
         16.2,
         "Regular",
         0.016687114,
         "Frozen Foods",
         96.9726,
         "OUT045",
         2002,
         null,
         "Tier 2",
         "Supermarket Type1",
         1076.5986
        ],
        [
         "FDX07",
         19.2,
         "Regular",
         0.0,
         "Fruits and Vegetables",
         182.095,
         "OUT010",
         1998,
         null,
         "Tier 3",
         "Grocery Store",
         732.38
        ],
        [
         "DRI11",
         null,
         "Low Fat",
         0.034237682,
         "Hard Drinks",
         113.2834,
         "OUT027",
         1985,
         "Medium",
         "Tier 3",
         "Supermarket Type3",
         2303.668
        ],
        [
         "NCB42",
         11.8,
         "Low Fat",
         0.008596051,
         "Health and Hygiene",
         115.3492,
         "OUT018",
         2009,
         "Medium",
         "Tier 3",
         "Supermarket Type2",
         1621.8888
        ],
        [
         "NCD19",
         8.93,
         "Low Fat",
         0.0,
         "Household",
         53.8614,
         "OUT013",
         1987,
         "High",
         "Tier 3",
         "Supermarket Type1",
         994.7052
        ],
        [
         "FDN15",
         17.5,
         "Low Fat",
         0.016760075,
         "Meat",
         141.618,
         "OUT049",
         1999,
         "Medium",
         "Tier 1",
         "Supermarket Type1",
         2097.27
        ],
        [
         "NCN07",
         18.5,
         "Low Fat",
         0.056816465,
         "Others",
         132.1284,
         "OUT010",
         1998,
         null,
         "Tier 3",
         "Grocery Store",
         263.6568
        ],
        [
         "FDG33",
         null,
         "Regular",
         0.13956116,
         "Seafood",
         170.4764,
         "OUT027",
         1985,
         "Medium",
         "Tier 3",
         "Supermarket Type3",
         3435.528
        ],
        [
         "FDO10",
         13.65,
         "Regular",
         0.012741089,
         "Snack Foods",
         57.6588,
         "OUT013",
         1987,
         "High",
         "Tier 3",
         "Supermarket Type1",
         343.5528
        ],
        [
         "DRC01",
         5.92,
         "Regular",
         0.019278216,
         "Soft Drinks",
         48.2692,
         "OUT018",
         2009,
         "Medium",
         "Tier 3",
         "Supermarket Type2",
         443.4228
        ],
        [
         "FDH35",
         18.25,
         "Low Fat",
         0.0,
         "Starchy Foods",
         164.7526,
         "OUT045",
         2002,
         null,
         "Tier 2",
         "Supermarket Type1",
         4604.6728
        ]
       ],
       "datasetInfos": [],
       "dbfsResultPath": null,
       "isJsonSchema": true,
       "metadata": {},
       "overflow": false,
       "plotOptions": {
        "customPlotOptions": {},
        "displayType": "table",
        "pivotAggregation": null,
        "pivotColumns": null,
        "xColumns": null,
        "yColumns": null
       },
       "removedWidgets": [],
       "schema": [
        {
         "metadata": "{}",
         "name": "Item_Identifier",
         "type": "\"string\""
        },
        {
         "metadata": "{}",
         "name": "Item_Weight",
         "type": "\"double\""
        },
        {
         "metadata": "{}",
         "name": "Item_Fat_Content",
         "type": "\"string\""
        },
        {
         "metadata": "{}",
         "name": "Item_Visibility",
         "type": "\"double\""
        },
        {
         "metadata": "{}",
         "name": "Item_Type",
         "type": "\"string\""
        },
        {
         "metadata": "{}",
         "name": "Item_MRP",
         "type": "\"double\""
        },
        {
         "metadata": "{}",
         "name": "Outlet_Identifier",
         "type": "\"string\""
        },
        {
         "metadata": "{}",
         "name": "Outlet_Establishment_Year",
         "type": "\"integer\""
        },
        {
         "metadata": "{}",
         "name": "Outlet_Size",
         "type": "\"string\""
        },
        {
         "metadata": "{}",
         "name": "Outlet_Location_Type",
         "type": "\"string\""
        },
        {
         "metadata": "{}",
         "name": "Outlet_Type",
         "type": "\"string\""
        },
        {
         "metadata": "{}",
         "name": "Item_Outlet_Sales",
         "type": "\"double\""
        }
       ],
       "type": "table"
      }
     },
     "output_type": "display_data"
    }
   ],
   "source": [
    "df.drop_duplicates(subset=['Item_Type']).display()"
   ]
  },
  {
   "cell_type": "code",
   "execution_count": 0,
   "metadata": {
    "application/vnd.databricks.v1+cell": {
     "cellMetadata": {
      "byteLimit": 2048000,
      "rowLimit": 10000
     },
     "inputWidgets": {},
     "nuid": "81fd88cb-7b86-4eb9-a9d2-84d9e98c72ab",
     "showTitle": false,
     "tableResultSettingsMap": {},
     "title": ""
    }
   },
   "outputs": [
    {
     "output_type": "display_data",
     "data": {
      "text/html": [
       "<style scoped>\n",
       "  .table-result-container {\n",
       "    max-height: 300px;\n",
       "    overflow: auto;\n",
       "  }\n",
       "  table, th, td {\n",
       "    border: 1px solid black;\n",
       "    border-collapse: collapse;\n",
       "  }\n",
       "  th, td {\n",
       "    padding: 5px;\n",
       "  }\n",
       "  th {\n",
       "    text-align: left;\n",
       "  }\n",
       "</style><div class='table-result-container'><table class='table-result'><thead style='background-color: white'><tr><th>Item_Identifier</th><th>Item_Weight</th><th>Item_Fat_Content</th><th>Item_Visibility</th><th>Item_Type</th><th>Item_MRP</th><th>Outlet_Identifier</th><th>Outlet_Establishment_Year</th><th>Outlet_Size</th><th>Outlet_Location_Type</th><th>Outlet_Type</th><th>Item_Outlet_Sales</th><th>curr-date</th></tr></thead><tbody><tr><td>FDA15</td><td>9.3</td><td>Low Fat</td><td>0.016047301</td><td>Dairy</td><td>249.8092</td><td>OUT049</td><td>1999</td><td>Medium</td><td>Tier 1</td><td>Supermarket Type1</td><td>3735.138</td><td>2025-02-05</td></tr><tr><td>DRC01</td><td>5.92</td><td>Regular</td><td>0.019278216</td><td>Soft Drinks</td><td>48.2692</td><td>OUT018</td><td>2009</td><td>Medium</td><td>Tier 3</td><td>Supermarket Type2</td><td>443.4228</td><td>2025-02-05</td></tr><tr><td>FDN15</td><td>17.5</td><td>Low Fat</td><td>0.016760075</td><td>Meat</td><td>141.618</td><td>OUT049</td><td>1999</td><td>Medium</td><td>Tier 1</td><td>Supermarket Type1</td><td>2097.27</td><td>2025-02-05</td></tr><tr><td>FDX07</td><td>19.2</td><td>Regular</td><td>0.0</td><td>Fruits and Vegetables</td><td>182.095</td><td>OUT010</td><td>1998</td><td>null</td><td>Tier 3</td><td>Grocery Store</td><td>732.38</td><td>2025-02-05</td></tr><tr><td>NCD19</td><td>8.93</td><td>Low Fat</td><td>0.0</td><td>Household</td><td>53.8614</td><td>OUT013</td><td>1987</td><td>High</td><td>Tier 3</td><td>Supermarket Type1</td><td>994.7052</td><td>2025-02-05</td></tr><tr><td>FDP36</td><td>10.395</td><td>Regular</td><td>0.0</td><td>Baking Goods</td><td>51.4008</td><td>OUT018</td><td>2009</td><td>Medium</td><td>Tier 3</td><td>Supermarket Type2</td><td>556.6088</td><td>2025-02-05</td></tr><tr><td>FDO10</td><td>13.65</td><td>Regular</td><td>0.012741089</td><td>Snack Foods</td><td>57.6588</td><td>OUT013</td><td>1987</td><td>High</td><td>Tier 3</td><td>Supermarket Type1</td><td>343.5528</td><td>2025-02-05</td></tr><tr><td>FDP10</td><td>null</td><td>Low Fat</td><td>0.127469857</td><td>Snack Foods</td><td>107.7622</td><td>OUT027</td><td>1985</td><td>Medium</td><td>Tier 3</td><td>Supermarket Type3</td><td>4022.7636</td><td>2025-02-05</td></tr><tr><td>FDH17</td><td>16.2</td><td>Regular</td><td>0.016687114</td><td>Frozen Foods</td><td>96.9726</td><td>OUT045</td><td>2002</td><td>null</td><td>Tier 2</td><td>Supermarket Type1</td><td>1076.5986</td><td>2025-02-05</td></tr><tr><td>FDU28</td><td>19.2</td><td>Regular</td><td>0.09444959</td><td>Frozen Foods</td><td>187.8214</td><td>OUT017</td><td>2007</td><td>null</td><td>Tier 2</td><td>Supermarket Type1</td><td>4710.535</td><td>2025-02-05</td></tr><tr><td>FDY07</td><td>11.8</td><td>Low Fat</td><td>0.0</td><td>Fruits and Vegetables</td><td>45.5402</td><td>OUT049</td><td>1999</td><td>Medium</td><td>Tier 1</td><td>Supermarket Type1</td><td>1516.0266</td><td>2025-02-05</td></tr><tr><td>FDA03</td><td>18.5</td><td>Regular</td><td>0.045463773</td><td>Dairy</td><td>144.1102</td><td>OUT046</td><td>1997</td><td>Small</td><td>Tier 1</td><td>Supermarket Type1</td><td>2187.153</td><td>2025-02-05</td></tr><tr><td>FDX32</td><td>15.1</td><td>Regular</td><td>0.1000135</td><td>Fruits and Vegetables</td><td>145.4786</td><td>OUT049</td><td>1999</td><td>Medium</td><td>Tier 1</td><td>Supermarket Type1</td><td>1589.2646</td><td>2025-02-05</td></tr><tr><td>FDS46</td><td>17.6</td><td>Regular</td><td>0.047257328</td><td>Snack Foods</td><td>119.6782</td><td>OUT046</td><td>1997</td><td>Small</td><td>Tier 1</td><td>Supermarket Type1</td><td>2145.2076</td><td>2025-02-05</td></tr><tr><td>FDF32</td><td>16.35</td><td>Low Fat</td><td>0.0680243</td><td>Fruits and Vegetables</td><td>196.4426</td><td>OUT013</td><td>1987</td><td>High</td><td>Tier 3</td><td>Supermarket Type1</td><td>1977.426</td><td>2025-02-05</td></tr><tr><td>FDP49</td><td>9.0</td><td>Regular</td><td>0.069088961</td><td>Breakfast</td><td>56.3614</td><td>OUT046</td><td>1997</td><td>Small</td><td>Tier 1</td><td>Supermarket Type1</td><td>1547.3192</td><td>2025-02-05</td></tr><tr><td>NCB42</td><td>11.8</td><td>Low Fat</td><td>0.008596051</td><td>Health and Hygiene</td><td>115.3492</td><td>OUT018</td><td>2009</td><td>Medium</td><td>Tier 3</td><td>Supermarket Type2</td><td>1621.8888</td><td>2025-02-05</td></tr><tr><td>FDP49</td><td>9.0</td><td>Regular</td><td>0.069196376</td><td>Breakfast</td><td>54.3614</td><td>OUT049</td><td>1999</td><td>Medium</td><td>Tier 1</td><td>Supermarket Type1</td><td>718.3982</td><td>2025-02-05</td></tr><tr><td>DRI11</td><td>null</td><td>Low Fat</td><td>0.034237682</td><td>Hard Drinks</td><td>113.2834</td><td>OUT027</td><td>1985</td><td>Medium</td><td>Tier 3</td><td>Supermarket Type3</td><td>2303.668</td><td>2025-02-05</td></tr><tr><td>FDU02</td><td>13.35</td><td>Low Fat</td><td>0.10249212</td><td>Dairy</td><td>230.5352</td><td>OUT035</td><td>2004</td><td>Small</td><td>Tier 2</td><td>Supermarket Type1</td><td>2748.4224</td><td>2025-02-05</td></tr></tbody></table></div>"
      ]
     },
     "metadata": {
      "application/vnd.databricks.v1+output": {
       "addedWidgets": {},
       "aggData": [],
       "aggError": "",
       "aggOverflow": false,
       "aggSchema": [],
       "aggSeriesLimitReached": false,
       "aggType": "",
       "arguments": {},
       "columnCustomDisplayInfos": {},
       "data": [
        [
         "FDA15",
         9.3,
         "Low Fat",
         0.016047301,
         "Dairy",
         249.8092,
         "OUT049",
         1999,
         "Medium",
         "Tier 1",
         "Supermarket Type1",
         3735.138,
         "2025-02-05"
        ],
        [
         "DRC01",
         5.92,
         "Regular",
         0.019278216,
         "Soft Drinks",
         48.2692,
         "OUT018",
         2009,
         "Medium",
         "Tier 3",
         "Supermarket Type2",
         443.4228,
         "2025-02-05"
        ],
        [
         "FDN15",
         17.5,
         "Low Fat",
         0.016760075,
         "Meat",
         141.618,
         "OUT049",
         1999,
         "Medium",
         "Tier 1",
         "Supermarket Type1",
         2097.27,
         "2025-02-05"
        ],
        [
         "FDX07",
         19.2,
         "Regular",
         0.0,
         "Fruits and Vegetables",
         182.095,
         "OUT010",
         1998,
         null,
         "Tier 3",
         "Grocery Store",
         732.38,
         "2025-02-05"
        ],
        [
         "NCD19",
         8.93,
         "Low Fat",
         0.0,
         "Household",
         53.8614,
         "OUT013",
         1987,
         "High",
         "Tier 3",
         "Supermarket Type1",
         994.7052,
         "2025-02-05"
        ],
        [
         "FDP36",
         10.395,
         "Regular",
         0.0,
         "Baking Goods",
         51.4008,
         "OUT018",
         2009,
         "Medium",
         "Tier 3",
         "Supermarket Type2",
         556.6088,
         "2025-02-05"
        ],
        [
         "FDO10",
         13.65,
         "Regular",
         0.012741089,
         "Snack Foods",
         57.6588,
         "OUT013",
         1987,
         "High",
         "Tier 3",
         "Supermarket Type1",
         343.5528,
         "2025-02-05"
        ],
        [
         "FDP10",
         null,
         "Low Fat",
         0.127469857,
         "Snack Foods",
         107.7622,
         "OUT027",
         1985,
         "Medium",
         "Tier 3",
         "Supermarket Type3",
         4022.7636,
         "2025-02-05"
        ],
        [
         "FDH17",
         16.2,
         "Regular",
         0.016687114,
         "Frozen Foods",
         96.9726,
         "OUT045",
         2002,
         null,
         "Tier 2",
         "Supermarket Type1",
         1076.5986,
         "2025-02-05"
        ],
        [
         "FDU28",
         19.2,
         "Regular",
         0.09444959,
         "Frozen Foods",
         187.8214,
         "OUT017",
         2007,
         null,
         "Tier 2",
         "Supermarket Type1",
         4710.535,
         "2025-02-05"
        ],
        [
         "FDY07",
         11.8,
         "Low Fat",
         0.0,
         "Fruits and Vegetables",
         45.5402,
         "OUT049",
         1999,
         "Medium",
         "Tier 1",
         "Supermarket Type1",
         1516.0266,
         "2025-02-05"
        ],
        [
         "FDA03",
         18.5,
         "Regular",
         0.045463773,
         "Dairy",
         144.1102,
         "OUT046",
         1997,
         "Small",
         "Tier 1",
         "Supermarket Type1",
         2187.153,
         "2025-02-05"
        ],
        [
         "FDX32",
         15.1,
         "Regular",
         0.1000135,
         "Fruits and Vegetables",
         145.4786,
         "OUT049",
         1999,
         "Medium",
         "Tier 1",
         "Supermarket Type1",
         1589.2646,
         "2025-02-05"
        ],
        [
         "FDS46",
         17.6,
         "Regular",
         0.047257328,
         "Snack Foods",
         119.6782,
         "OUT046",
         1997,
         "Small",
         "Tier 1",
         "Supermarket Type1",
         2145.2076,
         "2025-02-05"
        ],
        [
         "FDF32",
         16.35,
         "Low Fat",
         0.0680243,
         "Fruits and Vegetables",
         196.4426,
         "OUT013",
         1987,
         "High",
         "Tier 3",
         "Supermarket Type1",
         1977.426,
         "2025-02-05"
        ],
        [
         "FDP49",
         9.0,
         "Regular",
         0.069088961,
         "Breakfast",
         56.3614,
         "OUT046",
         1997,
         "Small",
         "Tier 1",
         "Supermarket Type1",
         1547.3192,
         "2025-02-05"
        ],
        [
         "NCB42",
         11.8,
         "Low Fat",
         0.008596051,
         "Health and Hygiene",
         115.3492,
         "OUT018",
         2009,
         "Medium",
         "Tier 3",
         "Supermarket Type2",
         1621.8888,
         "2025-02-05"
        ],
        [
         "FDP49",
         9.0,
         "Regular",
         0.069196376,
         "Breakfast",
         54.3614,
         "OUT049",
         1999,
         "Medium",
         "Tier 1",
         "Supermarket Type1",
         718.3982,
         "2025-02-05"
        ],
        [
         "DRI11",
         null,
         "Low Fat",
         0.034237682,
         "Hard Drinks",
         113.2834,
         "OUT027",
         1985,
         "Medium",
         "Tier 3",
         "Supermarket Type3",
         2303.668,
         "2025-02-05"
        ],
        [
         "FDU02",
         13.35,
         "Low Fat",
         0.10249212,
         "Dairy",
         230.5352,
         "OUT035",
         2004,
         "Small",
         "Tier 2",
         "Supermarket Type1",
         2748.4224,
         "2025-02-05"
        ]
       ],
       "datasetInfos": [],
       "dbfsResultPath": null,
       "isJsonSchema": true,
       "metadata": {},
       "overflow": false,
       "plotOptions": {
        "customPlotOptions": {},
        "displayType": "table",
        "pivotAggregation": null,
        "pivotColumns": null,
        "xColumns": null,
        "yColumns": null
       },
       "removedWidgets": [],
       "schema": [
        {
         "metadata": "{}",
         "name": "Item_Identifier",
         "type": "\"string\""
        },
        {
         "metadata": "{}",
         "name": "Item_Weight",
         "type": "\"double\""
        },
        {
         "metadata": "{}",
         "name": "Item_Fat_Content",
         "type": "\"string\""
        },
        {
         "metadata": "{}",
         "name": "Item_Visibility",
         "type": "\"double\""
        },
        {
         "metadata": "{}",
         "name": "Item_Type",
         "type": "\"string\""
        },
        {
         "metadata": "{}",
         "name": "Item_MRP",
         "type": "\"double\""
        },
        {
         "metadata": "{}",
         "name": "Outlet_Identifier",
         "type": "\"string\""
        },
        {
         "metadata": "{}",
         "name": "Outlet_Establishment_Year",
         "type": "\"integer\""
        },
        {
         "metadata": "{}",
         "name": "Outlet_Size",
         "type": "\"string\""
        },
        {
         "metadata": "{}",
         "name": "Outlet_Location_Type",
         "type": "\"string\""
        },
        {
         "metadata": "{}",
         "name": "Outlet_Type",
         "type": "\"string\""
        },
        {
         "metadata": "{}",
         "name": "Item_Outlet_Sales",
         "type": "\"double\""
        },
        {
         "metadata": "{}",
         "name": "curr-date",
         "type": "\"date\""
        }
       ],
       "type": "table"
      }
     },
     "output_type": "display_data"
    }
   ],
   "source": [
    "df=df.withColumn('curr-date',current_date())\n",
    "display(df.limit(20))\n"
   ]
  },
  {
   "cell_type": "code",
   "execution_count": 0,
   "metadata": {
    "application/vnd.databricks.v1+cell": {
     "cellMetadata": {
      "byteLimit": 2048000,
      "rowLimit": 10000
     },
     "inputWidgets": {},
     "nuid": "2eeaaa37-4992-4853-8d00-c83bdafd60a7",
     "showTitle": false,
     "tableResultSettingsMap": {},
     "title": ""
    }
   },
   "outputs": [
    {
     "output_type": "display_data",
     "data": {
      "text/html": [
       "<style scoped>\n",
       "  .table-result-container {\n",
       "    max-height: 300px;\n",
       "    overflow: auto;\n",
       "  }\n",
       "  table, th, td {\n",
       "    border: 1px solid black;\n",
       "    border-collapse: collapse;\n",
       "  }\n",
       "  th, td {\n",
       "    padding: 5px;\n",
       "  }\n",
       "  th {\n",
       "    text-align: left;\n",
       "  }\n",
       "</style><div class='table-result-container'><table class='table-result'><thead style='background-color: white'><tr><th>Item_Identifier</th><th>Item_Weight</th><th>Item_Fat_Content</th><th>Item_Visibility</th><th>Item_Type</th><th>Item_MRP</th><th>Outlet_Identifier</th><th>Outlet_Establishment_Year</th><th>Outlet_Size</th><th>Outlet_Location_Type</th><th>Outlet_Type</th><th>Item_Outlet_Sales</th><th>curr-date</th><th>week-after</th></tr></thead><tbody><tr><td>FDA15</td><td>9.3</td><td>Low Fat</td><td>0.016047301</td><td>Dairy</td><td>249.8092</td><td>OUT049</td><td>1999</td><td>Medium</td><td>Tier 1</td><td>Supermarket Type1</td><td>3735.138</td><td>2025-02-05</td><td>2025-02-12</td></tr><tr><td>DRC01</td><td>5.92</td><td>Regular</td><td>0.019278216</td><td>Soft Drinks</td><td>48.2692</td><td>OUT018</td><td>2009</td><td>Medium</td><td>Tier 3</td><td>Supermarket Type2</td><td>443.4228</td><td>2025-02-05</td><td>2025-02-12</td></tr><tr><td>FDN15</td><td>17.5</td><td>Low Fat</td><td>0.016760075</td><td>Meat</td><td>141.618</td><td>OUT049</td><td>1999</td><td>Medium</td><td>Tier 1</td><td>Supermarket Type1</td><td>2097.27</td><td>2025-02-05</td><td>2025-02-12</td></tr><tr><td>FDX07</td><td>19.2</td><td>Regular</td><td>0.0</td><td>Fruits and Vegetables</td><td>182.095</td><td>OUT010</td><td>1998</td><td>null</td><td>Tier 3</td><td>Grocery Store</td><td>732.38</td><td>2025-02-05</td><td>2025-02-12</td></tr><tr><td>NCD19</td><td>8.93</td><td>Low Fat</td><td>0.0</td><td>Household</td><td>53.8614</td><td>OUT013</td><td>1987</td><td>High</td><td>Tier 3</td><td>Supermarket Type1</td><td>994.7052</td><td>2025-02-05</td><td>2025-02-12</td></tr><tr><td>FDP36</td><td>10.395</td><td>Regular</td><td>0.0</td><td>Baking Goods</td><td>51.4008</td><td>OUT018</td><td>2009</td><td>Medium</td><td>Tier 3</td><td>Supermarket Type2</td><td>556.6088</td><td>2025-02-05</td><td>2025-02-12</td></tr><tr><td>FDO10</td><td>13.65</td><td>Regular</td><td>0.012741089</td><td>Snack Foods</td><td>57.6588</td><td>OUT013</td><td>1987</td><td>High</td><td>Tier 3</td><td>Supermarket Type1</td><td>343.5528</td><td>2025-02-05</td><td>2025-02-12</td></tr><tr><td>FDP10</td><td>null</td><td>Low Fat</td><td>0.127469857</td><td>Snack Foods</td><td>107.7622</td><td>OUT027</td><td>1985</td><td>Medium</td><td>Tier 3</td><td>Supermarket Type3</td><td>4022.7636</td><td>2025-02-05</td><td>2025-02-12</td></tr><tr><td>FDH17</td><td>16.2</td><td>Regular</td><td>0.016687114</td><td>Frozen Foods</td><td>96.9726</td><td>OUT045</td><td>2002</td><td>null</td><td>Tier 2</td><td>Supermarket Type1</td><td>1076.5986</td><td>2025-02-05</td><td>2025-02-12</td></tr><tr><td>FDU28</td><td>19.2</td><td>Regular</td><td>0.09444959</td><td>Frozen Foods</td><td>187.8214</td><td>OUT017</td><td>2007</td><td>null</td><td>Tier 2</td><td>Supermarket Type1</td><td>4710.535</td><td>2025-02-05</td><td>2025-02-12</td></tr><tr><td>FDY07</td><td>11.8</td><td>Low Fat</td><td>0.0</td><td>Fruits and Vegetables</td><td>45.5402</td><td>OUT049</td><td>1999</td><td>Medium</td><td>Tier 1</td><td>Supermarket Type1</td><td>1516.0266</td><td>2025-02-05</td><td>2025-02-12</td></tr><tr><td>FDA03</td><td>18.5</td><td>Regular</td><td>0.045463773</td><td>Dairy</td><td>144.1102</td><td>OUT046</td><td>1997</td><td>Small</td><td>Tier 1</td><td>Supermarket Type1</td><td>2187.153</td><td>2025-02-05</td><td>2025-02-12</td></tr><tr><td>FDX32</td><td>15.1</td><td>Regular</td><td>0.1000135</td><td>Fruits and Vegetables</td><td>145.4786</td><td>OUT049</td><td>1999</td><td>Medium</td><td>Tier 1</td><td>Supermarket Type1</td><td>1589.2646</td><td>2025-02-05</td><td>2025-02-12</td></tr><tr><td>FDS46</td><td>17.6</td><td>Regular</td><td>0.047257328</td><td>Snack Foods</td><td>119.6782</td><td>OUT046</td><td>1997</td><td>Small</td><td>Tier 1</td><td>Supermarket Type1</td><td>2145.2076</td><td>2025-02-05</td><td>2025-02-12</td></tr><tr><td>FDF32</td><td>16.35</td><td>Low Fat</td><td>0.0680243</td><td>Fruits and Vegetables</td><td>196.4426</td><td>OUT013</td><td>1987</td><td>High</td><td>Tier 3</td><td>Supermarket Type1</td><td>1977.426</td><td>2025-02-05</td><td>2025-02-12</td></tr><tr><td>FDP49</td><td>9.0</td><td>Regular</td><td>0.069088961</td><td>Breakfast</td><td>56.3614</td><td>OUT046</td><td>1997</td><td>Small</td><td>Tier 1</td><td>Supermarket Type1</td><td>1547.3192</td><td>2025-02-05</td><td>2025-02-12</td></tr><tr><td>NCB42</td><td>11.8</td><td>Low Fat</td><td>0.008596051</td><td>Health and Hygiene</td><td>115.3492</td><td>OUT018</td><td>2009</td><td>Medium</td><td>Tier 3</td><td>Supermarket Type2</td><td>1621.8888</td><td>2025-02-05</td><td>2025-02-12</td></tr><tr><td>FDP49</td><td>9.0</td><td>Regular</td><td>0.069196376</td><td>Breakfast</td><td>54.3614</td><td>OUT049</td><td>1999</td><td>Medium</td><td>Tier 1</td><td>Supermarket Type1</td><td>718.3982</td><td>2025-02-05</td><td>2025-02-12</td></tr><tr><td>DRI11</td><td>null</td><td>Low Fat</td><td>0.034237682</td><td>Hard Drinks</td><td>113.2834</td><td>OUT027</td><td>1985</td><td>Medium</td><td>Tier 3</td><td>Supermarket Type3</td><td>2303.668</td><td>2025-02-05</td><td>2025-02-12</td></tr><tr><td>FDU02</td><td>13.35</td><td>Low Fat</td><td>0.10249212</td><td>Dairy</td><td>230.5352</td><td>OUT035</td><td>2004</td><td>Small</td><td>Tier 2</td><td>Supermarket Type1</td><td>2748.4224</td><td>2025-02-05</td><td>2025-02-12</td></tr></tbody></table></div>"
      ]
     },
     "metadata": {
      "application/vnd.databricks.v1+output": {
       "addedWidgets": {},
       "aggData": [],
       "aggError": "",
       "aggOverflow": false,
       "aggSchema": [],
       "aggSeriesLimitReached": false,
       "aggType": "",
       "arguments": {},
       "columnCustomDisplayInfos": {},
       "data": [
        [
         "FDA15",
         9.3,
         "Low Fat",
         0.016047301,
         "Dairy",
         249.8092,
         "OUT049",
         1999,
         "Medium",
         "Tier 1",
         "Supermarket Type1",
         3735.138,
         "2025-02-05",
         "2025-02-12"
        ],
        [
         "DRC01",
         5.92,
         "Regular",
         0.019278216,
         "Soft Drinks",
         48.2692,
         "OUT018",
         2009,
         "Medium",
         "Tier 3",
         "Supermarket Type2",
         443.4228,
         "2025-02-05",
         "2025-02-12"
        ],
        [
         "FDN15",
         17.5,
         "Low Fat",
         0.016760075,
         "Meat",
         141.618,
         "OUT049",
         1999,
         "Medium",
         "Tier 1",
         "Supermarket Type1",
         2097.27,
         "2025-02-05",
         "2025-02-12"
        ],
        [
         "FDX07",
         19.2,
         "Regular",
         0.0,
         "Fruits and Vegetables",
         182.095,
         "OUT010",
         1998,
         null,
         "Tier 3",
         "Grocery Store",
         732.38,
         "2025-02-05",
         "2025-02-12"
        ],
        [
         "NCD19",
         8.93,
         "Low Fat",
         0.0,
         "Household",
         53.8614,
         "OUT013",
         1987,
         "High",
         "Tier 3",
         "Supermarket Type1",
         994.7052,
         "2025-02-05",
         "2025-02-12"
        ],
        [
         "FDP36",
         10.395,
         "Regular",
         0.0,
         "Baking Goods",
         51.4008,
         "OUT018",
         2009,
         "Medium",
         "Tier 3",
         "Supermarket Type2",
         556.6088,
         "2025-02-05",
         "2025-02-12"
        ],
        [
         "FDO10",
         13.65,
         "Regular",
         0.012741089,
         "Snack Foods",
         57.6588,
         "OUT013",
         1987,
         "High",
         "Tier 3",
         "Supermarket Type1",
         343.5528,
         "2025-02-05",
         "2025-02-12"
        ],
        [
         "FDP10",
         null,
         "Low Fat",
         0.127469857,
         "Snack Foods",
         107.7622,
         "OUT027",
         1985,
         "Medium",
         "Tier 3",
         "Supermarket Type3",
         4022.7636,
         "2025-02-05",
         "2025-02-12"
        ],
        [
         "FDH17",
         16.2,
         "Regular",
         0.016687114,
         "Frozen Foods",
         96.9726,
         "OUT045",
         2002,
         null,
         "Tier 2",
         "Supermarket Type1",
         1076.5986,
         "2025-02-05",
         "2025-02-12"
        ],
        [
         "FDU28",
         19.2,
         "Regular",
         0.09444959,
         "Frozen Foods",
         187.8214,
         "OUT017",
         2007,
         null,
         "Tier 2",
         "Supermarket Type1",
         4710.535,
         "2025-02-05",
         "2025-02-12"
        ],
        [
         "FDY07",
         11.8,
         "Low Fat",
         0.0,
         "Fruits and Vegetables",
         45.5402,
         "OUT049",
         1999,
         "Medium",
         "Tier 1",
         "Supermarket Type1",
         1516.0266,
         "2025-02-05",
         "2025-02-12"
        ],
        [
         "FDA03",
         18.5,
         "Regular",
         0.045463773,
         "Dairy",
         144.1102,
         "OUT046",
         1997,
         "Small",
         "Tier 1",
         "Supermarket Type1",
         2187.153,
         "2025-02-05",
         "2025-02-12"
        ],
        [
         "FDX32",
         15.1,
         "Regular",
         0.1000135,
         "Fruits and Vegetables",
         145.4786,
         "OUT049",
         1999,
         "Medium",
         "Tier 1",
         "Supermarket Type1",
         1589.2646,
         "2025-02-05",
         "2025-02-12"
        ],
        [
         "FDS46",
         17.6,
         "Regular",
         0.047257328,
         "Snack Foods",
         119.6782,
         "OUT046",
         1997,
         "Small",
         "Tier 1",
         "Supermarket Type1",
         2145.2076,
         "2025-02-05",
         "2025-02-12"
        ],
        [
         "FDF32",
         16.35,
         "Low Fat",
         0.0680243,
         "Fruits and Vegetables",
         196.4426,
         "OUT013",
         1987,
         "High",
         "Tier 3",
         "Supermarket Type1",
         1977.426,
         "2025-02-05",
         "2025-02-12"
        ],
        [
         "FDP49",
         9.0,
         "Regular",
         0.069088961,
         "Breakfast",
         56.3614,
         "OUT046",
         1997,
         "Small",
         "Tier 1",
         "Supermarket Type1",
         1547.3192,
         "2025-02-05",
         "2025-02-12"
        ],
        [
         "NCB42",
         11.8,
         "Low Fat",
         0.008596051,
         "Health and Hygiene",
         115.3492,
         "OUT018",
         2009,
         "Medium",
         "Tier 3",
         "Supermarket Type2",
         1621.8888,
         "2025-02-05",
         "2025-02-12"
        ],
        [
         "FDP49",
         9.0,
         "Regular",
         0.069196376,
         "Breakfast",
         54.3614,
         "OUT049",
         1999,
         "Medium",
         "Tier 1",
         "Supermarket Type1",
         718.3982,
         "2025-02-05",
         "2025-02-12"
        ],
        [
         "DRI11",
         null,
         "Low Fat",
         0.034237682,
         "Hard Drinks",
         113.2834,
         "OUT027",
         1985,
         "Medium",
         "Tier 3",
         "Supermarket Type3",
         2303.668,
         "2025-02-05",
         "2025-02-12"
        ],
        [
         "FDU02",
         13.35,
         "Low Fat",
         0.10249212,
         "Dairy",
         230.5352,
         "OUT035",
         2004,
         "Small",
         "Tier 2",
         "Supermarket Type1",
         2748.4224,
         "2025-02-05",
         "2025-02-12"
        ]
       ],
       "datasetInfos": [],
       "dbfsResultPath": null,
       "isJsonSchema": true,
       "metadata": {},
       "overflow": false,
       "plotOptions": {
        "customPlotOptions": {},
        "displayType": "table",
        "pivotAggregation": null,
        "pivotColumns": null,
        "xColumns": null,
        "yColumns": null
       },
       "removedWidgets": [],
       "schema": [
        {
         "metadata": "{}",
         "name": "Item_Identifier",
         "type": "\"string\""
        },
        {
         "metadata": "{}",
         "name": "Item_Weight",
         "type": "\"double\""
        },
        {
         "metadata": "{}",
         "name": "Item_Fat_Content",
         "type": "\"string\""
        },
        {
         "metadata": "{}",
         "name": "Item_Visibility",
         "type": "\"double\""
        },
        {
         "metadata": "{}",
         "name": "Item_Type",
         "type": "\"string\""
        },
        {
         "metadata": "{}",
         "name": "Item_MRP",
         "type": "\"double\""
        },
        {
         "metadata": "{}",
         "name": "Outlet_Identifier",
         "type": "\"string\""
        },
        {
         "metadata": "{}",
         "name": "Outlet_Establishment_Year",
         "type": "\"integer\""
        },
        {
         "metadata": "{}",
         "name": "Outlet_Size",
         "type": "\"string\""
        },
        {
         "metadata": "{}",
         "name": "Outlet_Location_Type",
         "type": "\"string\""
        },
        {
         "metadata": "{}",
         "name": "Outlet_Type",
         "type": "\"string\""
        },
        {
         "metadata": "{}",
         "name": "Item_Outlet_Sales",
         "type": "\"double\""
        },
        {
         "metadata": "{}",
         "name": "curr-date",
         "type": "\"date\""
        },
        {
         "metadata": "{}",
         "name": "week-after",
         "type": "\"date\""
        }
       ],
       "type": "table"
      }
     },
     "output_type": "display_data"
    }
   ],
   "source": [
    "df=df.withColumn('week-after',date_add('curr-date',7))\n",
    "display(df.limit(20))"
   ]
  },
  {
   "cell_type": "code",
   "execution_count": 0,
   "metadata": {
    "application/vnd.databricks.v1+cell": {
     "cellMetadata": {
      "byteLimit": 2048000,
      "rowLimit": 10000
     },
     "inputWidgets": {},
     "nuid": "4104a432-044f-40f3-adae-17f8636f96dc",
     "showTitle": false,
     "tableResultSettingsMap": {},
     "title": ""
    }
   },
   "outputs": [
    {
     "output_type": "display_data",
     "data": {
      "text/html": [
       "<style scoped>\n",
       "  .table-result-container {\n",
       "    max-height: 300px;\n",
       "    overflow: auto;\n",
       "  }\n",
       "  table, th, td {\n",
       "    border: 1px solid black;\n",
       "    border-collapse: collapse;\n",
       "  }\n",
       "  th, td {\n",
       "    padding: 5px;\n",
       "  }\n",
       "  th {\n",
       "    text-align: left;\n",
       "  }\n",
       "</style><div class='table-result-container'><table class='table-result'><thead style='background-color: white'><tr><th>Item_Identifier</th><th>Item_Weight</th><th>Item_Fat_Content</th><th>Item_Visibility</th><th>Item_Type</th><th>Item_MRP</th><th>Outlet_Identifier</th><th>Outlet_Establishment_Year</th><th>Outlet_Size</th><th>Outlet_Location_Type</th><th>Outlet_Type</th><th>Item_Outlet_Sales</th><th>curr-date</th><th>week-after</th><th>datediff</th></tr></thead><tbody><tr><td>FDA15</td><td>9.3</td><td>Low Fat</td><td>0.016047301</td><td>Dairy</td><td>249.8092</td><td>OUT049</td><td>1999</td><td>Medium</td><td>Tier 1</td><td>Supermarket Type1</td><td>3735.138</td><td>2025-02-05</td><td>2025-02-12</td><td>7</td></tr><tr><td>DRC01</td><td>5.92</td><td>Regular</td><td>0.019278216</td><td>Soft Drinks</td><td>48.2692</td><td>OUT018</td><td>2009</td><td>Medium</td><td>Tier 3</td><td>Supermarket Type2</td><td>443.4228</td><td>2025-02-05</td><td>2025-02-12</td><td>7</td></tr><tr><td>FDN15</td><td>17.5</td><td>Low Fat</td><td>0.016760075</td><td>Meat</td><td>141.618</td><td>OUT049</td><td>1999</td><td>Medium</td><td>Tier 1</td><td>Supermarket Type1</td><td>2097.27</td><td>2025-02-05</td><td>2025-02-12</td><td>7</td></tr><tr><td>FDX07</td><td>19.2</td><td>Regular</td><td>0.0</td><td>Fruits and Vegetables</td><td>182.095</td><td>OUT010</td><td>1998</td><td>null</td><td>Tier 3</td><td>Grocery Store</td><td>732.38</td><td>2025-02-05</td><td>2025-02-12</td><td>7</td></tr><tr><td>NCD19</td><td>8.93</td><td>Low Fat</td><td>0.0</td><td>Household</td><td>53.8614</td><td>OUT013</td><td>1987</td><td>High</td><td>Tier 3</td><td>Supermarket Type1</td><td>994.7052</td><td>2025-02-05</td><td>2025-02-12</td><td>7</td></tr><tr><td>FDP36</td><td>10.395</td><td>Regular</td><td>0.0</td><td>Baking Goods</td><td>51.4008</td><td>OUT018</td><td>2009</td><td>Medium</td><td>Tier 3</td><td>Supermarket Type2</td><td>556.6088</td><td>2025-02-05</td><td>2025-02-12</td><td>7</td></tr><tr><td>FDO10</td><td>13.65</td><td>Regular</td><td>0.012741089</td><td>Snack Foods</td><td>57.6588</td><td>OUT013</td><td>1987</td><td>High</td><td>Tier 3</td><td>Supermarket Type1</td><td>343.5528</td><td>2025-02-05</td><td>2025-02-12</td><td>7</td></tr><tr><td>FDP10</td><td>null</td><td>Low Fat</td><td>0.127469857</td><td>Snack Foods</td><td>107.7622</td><td>OUT027</td><td>1985</td><td>Medium</td><td>Tier 3</td><td>Supermarket Type3</td><td>4022.7636</td><td>2025-02-05</td><td>2025-02-12</td><td>7</td></tr><tr><td>FDH17</td><td>16.2</td><td>Regular</td><td>0.016687114</td><td>Frozen Foods</td><td>96.9726</td><td>OUT045</td><td>2002</td><td>null</td><td>Tier 2</td><td>Supermarket Type1</td><td>1076.5986</td><td>2025-02-05</td><td>2025-02-12</td><td>7</td></tr><tr><td>FDU28</td><td>19.2</td><td>Regular</td><td>0.09444959</td><td>Frozen Foods</td><td>187.8214</td><td>OUT017</td><td>2007</td><td>null</td><td>Tier 2</td><td>Supermarket Type1</td><td>4710.535</td><td>2025-02-05</td><td>2025-02-12</td><td>7</td></tr><tr><td>FDY07</td><td>11.8</td><td>Low Fat</td><td>0.0</td><td>Fruits and Vegetables</td><td>45.5402</td><td>OUT049</td><td>1999</td><td>Medium</td><td>Tier 1</td><td>Supermarket Type1</td><td>1516.0266</td><td>2025-02-05</td><td>2025-02-12</td><td>7</td></tr><tr><td>FDA03</td><td>18.5</td><td>Regular</td><td>0.045463773</td><td>Dairy</td><td>144.1102</td><td>OUT046</td><td>1997</td><td>Small</td><td>Tier 1</td><td>Supermarket Type1</td><td>2187.153</td><td>2025-02-05</td><td>2025-02-12</td><td>7</td></tr><tr><td>FDX32</td><td>15.1</td><td>Regular</td><td>0.1000135</td><td>Fruits and Vegetables</td><td>145.4786</td><td>OUT049</td><td>1999</td><td>Medium</td><td>Tier 1</td><td>Supermarket Type1</td><td>1589.2646</td><td>2025-02-05</td><td>2025-02-12</td><td>7</td></tr><tr><td>FDS46</td><td>17.6</td><td>Regular</td><td>0.047257328</td><td>Snack Foods</td><td>119.6782</td><td>OUT046</td><td>1997</td><td>Small</td><td>Tier 1</td><td>Supermarket Type1</td><td>2145.2076</td><td>2025-02-05</td><td>2025-02-12</td><td>7</td></tr><tr><td>FDF32</td><td>16.35</td><td>Low Fat</td><td>0.0680243</td><td>Fruits and Vegetables</td><td>196.4426</td><td>OUT013</td><td>1987</td><td>High</td><td>Tier 3</td><td>Supermarket Type1</td><td>1977.426</td><td>2025-02-05</td><td>2025-02-12</td><td>7</td></tr><tr><td>FDP49</td><td>9.0</td><td>Regular</td><td>0.069088961</td><td>Breakfast</td><td>56.3614</td><td>OUT046</td><td>1997</td><td>Small</td><td>Tier 1</td><td>Supermarket Type1</td><td>1547.3192</td><td>2025-02-05</td><td>2025-02-12</td><td>7</td></tr><tr><td>NCB42</td><td>11.8</td><td>Low Fat</td><td>0.008596051</td><td>Health and Hygiene</td><td>115.3492</td><td>OUT018</td><td>2009</td><td>Medium</td><td>Tier 3</td><td>Supermarket Type2</td><td>1621.8888</td><td>2025-02-05</td><td>2025-02-12</td><td>7</td></tr><tr><td>FDP49</td><td>9.0</td><td>Regular</td><td>0.069196376</td><td>Breakfast</td><td>54.3614</td><td>OUT049</td><td>1999</td><td>Medium</td><td>Tier 1</td><td>Supermarket Type1</td><td>718.3982</td><td>2025-02-05</td><td>2025-02-12</td><td>7</td></tr><tr><td>DRI11</td><td>null</td><td>Low Fat</td><td>0.034237682</td><td>Hard Drinks</td><td>113.2834</td><td>OUT027</td><td>1985</td><td>Medium</td><td>Tier 3</td><td>Supermarket Type3</td><td>2303.668</td><td>2025-02-05</td><td>2025-02-12</td><td>7</td></tr><tr><td>FDU02</td><td>13.35</td><td>Low Fat</td><td>0.10249212</td><td>Dairy</td><td>230.5352</td><td>OUT035</td><td>2004</td><td>Small</td><td>Tier 2</td><td>Supermarket Type1</td><td>2748.4224</td><td>2025-02-05</td><td>2025-02-12</td><td>7</td></tr></tbody></table></div>"
      ]
     },
     "metadata": {
      "application/vnd.databricks.v1+output": {
       "addedWidgets": {},
       "aggData": [],
       "aggError": "",
       "aggOverflow": false,
       "aggSchema": [],
       "aggSeriesLimitReached": false,
       "aggType": "",
       "arguments": {},
       "columnCustomDisplayInfos": {},
       "data": [
        [
         "FDA15",
         9.3,
         "Low Fat",
         0.016047301,
         "Dairy",
         249.8092,
         "OUT049",
         1999,
         "Medium",
         "Tier 1",
         "Supermarket Type1",
         3735.138,
         "2025-02-05",
         "2025-02-12",
         7
        ],
        [
         "DRC01",
         5.92,
         "Regular",
         0.019278216,
         "Soft Drinks",
         48.2692,
         "OUT018",
         2009,
         "Medium",
         "Tier 3",
         "Supermarket Type2",
         443.4228,
         "2025-02-05",
         "2025-02-12",
         7
        ],
        [
         "FDN15",
         17.5,
         "Low Fat",
         0.016760075,
         "Meat",
         141.618,
         "OUT049",
         1999,
         "Medium",
         "Tier 1",
         "Supermarket Type1",
         2097.27,
         "2025-02-05",
         "2025-02-12",
         7
        ],
        [
         "FDX07",
         19.2,
         "Regular",
         0.0,
         "Fruits and Vegetables",
         182.095,
         "OUT010",
         1998,
         null,
         "Tier 3",
         "Grocery Store",
         732.38,
         "2025-02-05",
         "2025-02-12",
         7
        ],
        [
         "NCD19",
         8.93,
         "Low Fat",
         0.0,
         "Household",
         53.8614,
         "OUT013",
         1987,
         "High",
         "Tier 3",
         "Supermarket Type1",
         994.7052,
         "2025-02-05",
         "2025-02-12",
         7
        ],
        [
         "FDP36",
         10.395,
         "Regular",
         0.0,
         "Baking Goods",
         51.4008,
         "OUT018",
         2009,
         "Medium",
         "Tier 3",
         "Supermarket Type2",
         556.6088,
         "2025-02-05",
         "2025-02-12",
         7
        ],
        [
         "FDO10",
         13.65,
         "Regular",
         0.012741089,
         "Snack Foods",
         57.6588,
         "OUT013",
         1987,
         "High",
         "Tier 3",
         "Supermarket Type1",
         343.5528,
         "2025-02-05",
         "2025-02-12",
         7
        ],
        [
         "FDP10",
         null,
         "Low Fat",
         0.127469857,
         "Snack Foods",
         107.7622,
         "OUT027",
         1985,
         "Medium",
         "Tier 3",
         "Supermarket Type3",
         4022.7636,
         "2025-02-05",
         "2025-02-12",
         7
        ],
        [
         "FDH17",
         16.2,
         "Regular",
         0.016687114,
         "Frozen Foods",
         96.9726,
         "OUT045",
         2002,
         null,
         "Tier 2",
         "Supermarket Type1",
         1076.5986,
         "2025-02-05",
         "2025-02-12",
         7
        ],
        [
         "FDU28",
         19.2,
         "Regular",
         0.09444959,
         "Frozen Foods",
         187.8214,
         "OUT017",
         2007,
         null,
         "Tier 2",
         "Supermarket Type1",
         4710.535,
         "2025-02-05",
         "2025-02-12",
         7
        ],
        [
         "FDY07",
         11.8,
         "Low Fat",
         0.0,
         "Fruits and Vegetables",
         45.5402,
         "OUT049",
         1999,
         "Medium",
         "Tier 1",
         "Supermarket Type1",
         1516.0266,
         "2025-02-05",
         "2025-02-12",
         7
        ],
        [
         "FDA03",
         18.5,
         "Regular",
         0.045463773,
         "Dairy",
         144.1102,
         "OUT046",
         1997,
         "Small",
         "Tier 1",
         "Supermarket Type1",
         2187.153,
         "2025-02-05",
         "2025-02-12",
         7
        ],
        [
         "FDX32",
         15.1,
         "Regular",
         0.1000135,
         "Fruits and Vegetables",
         145.4786,
         "OUT049",
         1999,
         "Medium",
         "Tier 1",
         "Supermarket Type1",
         1589.2646,
         "2025-02-05",
         "2025-02-12",
         7
        ],
        [
         "FDS46",
         17.6,
         "Regular",
         0.047257328,
         "Snack Foods",
         119.6782,
         "OUT046",
         1997,
         "Small",
         "Tier 1",
         "Supermarket Type1",
         2145.2076,
         "2025-02-05",
         "2025-02-12",
         7
        ],
        [
         "FDF32",
         16.35,
         "Low Fat",
         0.0680243,
         "Fruits and Vegetables",
         196.4426,
         "OUT013",
         1987,
         "High",
         "Tier 3",
         "Supermarket Type1",
         1977.426,
         "2025-02-05",
         "2025-02-12",
         7
        ],
        [
         "FDP49",
         9.0,
         "Regular",
         0.069088961,
         "Breakfast",
         56.3614,
         "OUT046",
         1997,
         "Small",
         "Tier 1",
         "Supermarket Type1",
         1547.3192,
         "2025-02-05",
         "2025-02-12",
         7
        ],
        [
         "NCB42",
         11.8,
         "Low Fat",
         0.008596051,
         "Health and Hygiene",
         115.3492,
         "OUT018",
         2009,
         "Medium",
         "Tier 3",
         "Supermarket Type2",
         1621.8888,
         "2025-02-05",
         "2025-02-12",
         7
        ],
        [
         "FDP49",
         9.0,
         "Regular",
         0.069196376,
         "Breakfast",
         54.3614,
         "OUT049",
         1999,
         "Medium",
         "Tier 1",
         "Supermarket Type1",
         718.3982,
         "2025-02-05",
         "2025-02-12",
         7
        ],
        [
         "DRI11",
         null,
         "Low Fat",
         0.034237682,
         "Hard Drinks",
         113.2834,
         "OUT027",
         1985,
         "Medium",
         "Tier 3",
         "Supermarket Type3",
         2303.668,
         "2025-02-05",
         "2025-02-12",
         7
        ],
        [
         "FDU02",
         13.35,
         "Low Fat",
         0.10249212,
         "Dairy",
         230.5352,
         "OUT035",
         2004,
         "Small",
         "Tier 2",
         "Supermarket Type1",
         2748.4224,
         "2025-02-05",
         "2025-02-12",
         7
        ]
       ],
       "datasetInfos": [],
       "dbfsResultPath": null,
       "isJsonSchema": true,
       "metadata": {},
       "overflow": false,
       "plotOptions": {
        "customPlotOptions": {},
        "displayType": "table",
        "pivotAggregation": null,
        "pivotColumns": null,
        "xColumns": null,
        "yColumns": null
       },
       "removedWidgets": [],
       "schema": [
        {
         "metadata": "{}",
         "name": "Item_Identifier",
         "type": "\"string\""
        },
        {
         "metadata": "{}",
         "name": "Item_Weight",
         "type": "\"double\""
        },
        {
         "metadata": "{}",
         "name": "Item_Fat_Content",
         "type": "\"string\""
        },
        {
         "metadata": "{}",
         "name": "Item_Visibility",
         "type": "\"double\""
        },
        {
         "metadata": "{}",
         "name": "Item_Type",
         "type": "\"string\""
        },
        {
         "metadata": "{}",
         "name": "Item_MRP",
         "type": "\"double\""
        },
        {
         "metadata": "{}",
         "name": "Outlet_Identifier",
         "type": "\"string\""
        },
        {
         "metadata": "{}",
         "name": "Outlet_Establishment_Year",
         "type": "\"integer\""
        },
        {
         "metadata": "{}",
         "name": "Outlet_Size",
         "type": "\"string\""
        },
        {
         "metadata": "{}",
         "name": "Outlet_Location_Type",
         "type": "\"string\""
        },
        {
         "metadata": "{}",
         "name": "Outlet_Type",
         "type": "\"string\""
        },
        {
         "metadata": "{}",
         "name": "Item_Outlet_Sales",
         "type": "\"double\""
        },
        {
         "metadata": "{}",
         "name": "curr-date",
         "type": "\"date\""
        },
        {
         "metadata": "{}",
         "name": "week-after",
         "type": "\"date\""
        },
        {
         "metadata": "{}",
         "name": "datediff",
         "type": "\"integer\""
        }
       ],
       "type": "table"
      }
     },
     "output_type": "display_data"
    }
   ],
   "source": [
    "df=df.withColumn('datediff',datediff('week-after','curr-date'))\n",
    "display(df.limit(20))"
   ]
  },
  {
   "cell_type": "code",
   "execution_count": 0,
   "metadata": {
    "application/vnd.databricks.v1+cell": {
     "cellMetadata": {
      "byteLimit": 2048000,
      "rowLimit": 10000
     },
     "inputWidgets": {},
     "nuid": "3b5eaea0-4d41-4a08-b0a0-255e6c7249b7",
     "showTitle": false,
     "tableResultSettingsMap": {},
     "title": ""
    }
   },
   "outputs": [
    {
     "output_type": "display_data",
     "data": {
      "text/html": [
       "<style scoped>\n",
       "  .table-result-container {\n",
       "    max-height: 300px;\n",
       "    overflow: auto;\n",
       "  }\n",
       "  table, th, td {\n",
       "    border: 1px solid black;\n",
       "    border-collapse: collapse;\n",
       "  }\n",
       "  th, td {\n",
       "    padding: 5px;\n",
       "  }\n",
       "  th {\n",
       "    text-align: left;\n",
       "  }\n",
       "</style><div class='table-result-container'><table class='table-result'><thead style='background-color: white'><tr><th>Item_Identifier</th><th>Item_Weight</th><th>Item_Fat_Content</th><th>Item_Visibility</th><th>Item_Type</th><th>Item_MRP</th><th>Outlet_Identifier</th><th>Outlet_Establishment_Year</th><th>Outlet_Size</th><th>Outlet_Location_Type</th><th>Outlet_Type</th><th>Item_Outlet_Sales</th><th>curr-date</th><th>week-after</th><th>datediff</th></tr></thead><tbody><tr><td>FDA15</td><td>9.3</td><td>Low Fat</td><td>0.016047301</td><td>Dairy</td><td>249.8092</td><td>OUT049</td><td>1999</td><td>Medium</td><td>Tier 1</td><td>Supermarket Type1</td><td>3735.138</td><td>05-00-2025</td><td>2025-02-12</td><td>7</td></tr><tr><td>DRC01</td><td>5.92</td><td>Regular</td><td>0.019278216</td><td>Soft Drinks</td><td>48.2692</td><td>OUT018</td><td>2009</td><td>Medium</td><td>Tier 3</td><td>Supermarket Type2</td><td>443.4228</td><td>05-00-2025</td><td>2025-02-12</td><td>7</td></tr><tr><td>FDN15</td><td>17.5</td><td>Low Fat</td><td>0.016760075</td><td>Meat</td><td>141.618</td><td>OUT049</td><td>1999</td><td>Medium</td><td>Tier 1</td><td>Supermarket Type1</td><td>2097.27</td><td>05-00-2025</td><td>2025-02-12</td><td>7</td></tr><tr><td>FDX07</td><td>19.2</td><td>Regular</td><td>0.0</td><td>Fruits and Vegetables</td><td>182.095</td><td>OUT010</td><td>1998</td><td>null</td><td>Tier 3</td><td>Grocery Store</td><td>732.38</td><td>05-00-2025</td><td>2025-02-12</td><td>7</td></tr><tr><td>NCD19</td><td>8.93</td><td>Low Fat</td><td>0.0</td><td>Household</td><td>53.8614</td><td>OUT013</td><td>1987</td><td>High</td><td>Tier 3</td><td>Supermarket Type1</td><td>994.7052</td><td>05-00-2025</td><td>2025-02-12</td><td>7</td></tr><tr><td>FDP36</td><td>10.395</td><td>Regular</td><td>0.0</td><td>Baking Goods</td><td>51.4008</td><td>OUT018</td><td>2009</td><td>Medium</td><td>Tier 3</td><td>Supermarket Type2</td><td>556.6088</td><td>05-00-2025</td><td>2025-02-12</td><td>7</td></tr><tr><td>FDO10</td><td>13.65</td><td>Regular</td><td>0.012741089</td><td>Snack Foods</td><td>57.6588</td><td>OUT013</td><td>1987</td><td>High</td><td>Tier 3</td><td>Supermarket Type1</td><td>343.5528</td><td>05-00-2025</td><td>2025-02-12</td><td>7</td></tr><tr><td>FDP10</td><td>null</td><td>Low Fat</td><td>0.127469857</td><td>Snack Foods</td><td>107.7622</td><td>OUT027</td><td>1985</td><td>Medium</td><td>Tier 3</td><td>Supermarket Type3</td><td>4022.7636</td><td>05-00-2025</td><td>2025-02-12</td><td>7</td></tr><tr><td>FDH17</td><td>16.2</td><td>Regular</td><td>0.016687114</td><td>Frozen Foods</td><td>96.9726</td><td>OUT045</td><td>2002</td><td>null</td><td>Tier 2</td><td>Supermarket Type1</td><td>1076.5986</td><td>05-00-2025</td><td>2025-02-12</td><td>7</td></tr><tr><td>FDU28</td><td>19.2</td><td>Regular</td><td>0.09444959</td><td>Frozen Foods</td><td>187.8214</td><td>OUT017</td><td>2007</td><td>null</td><td>Tier 2</td><td>Supermarket Type1</td><td>4710.535</td><td>05-00-2025</td><td>2025-02-12</td><td>7</td></tr><tr><td>FDY07</td><td>11.8</td><td>Low Fat</td><td>0.0</td><td>Fruits and Vegetables</td><td>45.5402</td><td>OUT049</td><td>1999</td><td>Medium</td><td>Tier 1</td><td>Supermarket Type1</td><td>1516.0266</td><td>05-00-2025</td><td>2025-02-12</td><td>7</td></tr><tr><td>FDA03</td><td>18.5</td><td>Regular</td><td>0.045463773</td><td>Dairy</td><td>144.1102</td><td>OUT046</td><td>1997</td><td>Small</td><td>Tier 1</td><td>Supermarket Type1</td><td>2187.153</td><td>05-00-2025</td><td>2025-02-12</td><td>7</td></tr><tr><td>FDX32</td><td>15.1</td><td>Regular</td><td>0.1000135</td><td>Fruits and Vegetables</td><td>145.4786</td><td>OUT049</td><td>1999</td><td>Medium</td><td>Tier 1</td><td>Supermarket Type1</td><td>1589.2646</td><td>05-00-2025</td><td>2025-02-12</td><td>7</td></tr><tr><td>FDS46</td><td>17.6</td><td>Regular</td><td>0.047257328</td><td>Snack Foods</td><td>119.6782</td><td>OUT046</td><td>1997</td><td>Small</td><td>Tier 1</td><td>Supermarket Type1</td><td>2145.2076</td><td>05-00-2025</td><td>2025-02-12</td><td>7</td></tr><tr><td>FDF32</td><td>16.35</td><td>Low Fat</td><td>0.0680243</td><td>Fruits and Vegetables</td><td>196.4426</td><td>OUT013</td><td>1987</td><td>High</td><td>Tier 3</td><td>Supermarket Type1</td><td>1977.426</td><td>05-00-2025</td><td>2025-02-12</td><td>7</td></tr><tr><td>FDP49</td><td>9.0</td><td>Regular</td><td>0.069088961</td><td>Breakfast</td><td>56.3614</td><td>OUT046</td><td>1997</td><td>Small</td><td>Tier 1</td><td>Supermarket Type1</td><td>1547.3192</td><td>05-00-2025</td><td>2025-02-12</td><td>7</td></tr><tr><td>NCB42</td><td>11.8</td><td>Low Fat</td><td>0.008596051</td><td>Health and Hygiene</td><td>115.3492</td><td>OUT018</td><td>2009</td><td>Medium</td><td>Tier 3</td><td>Supermarket Type2</td><td>1621.8888</td><td>05-00-2025</td><td>2025-02-12</td><td>7</td></tr><tr><td>FDP49</td><td>9.0</td><td>Regular</td><td>0.069196376</td><td>Breakfast</td><td>54.3614</td><td>OUT049</td><td>1999</td><td>Medium</td><td>Tier 1</td><td>Supermarket Type1</td><td>718.3982</td><td>05-00-2025</td><td>2025-02-12</td><td>7</td></tr><tr><td>DRI11</td><td>null</td><td>Low Fat</td><td>0.034237682</td><td>Hard Drinks</td><td>113.2834</td><td>OUT027</td><td>1985</td><td>Medium</td><td>Tier 3</td><td>Supermarket Type3</td><td>2303.668</td><td>05-00-2025</td><td>2025-02-12</td><td>7</td></tr><tr><td>FDU02</td><td>13.35</td><td>Low Fat</td><td>0.10249212</td><td>Dairy</td><td>230.5352</td><td>OUT035</td><td>2004</td><td>Small</td><td>Tier 2</td><td>Supermarket Type1</td><td>2748.4224</td><td>05-00-2025</td><td>2025-02-12</td><td>7</td></tr></tbody></table></div>"
      ]
     },
     "metadata": {
      "application/vnd.databricks.v1+output": {
       "addedWidgets": {},
       "aggData": [],
       "aggError": "",
       "aggOverflow": false,
       "aggSchema": [],
       "aggSeriesLimitReached": false,
       "aggType": "",
       "arguments": {},
       "columnCustomDisplayInfos": {},
       "data": [
        [
         "FDA15",
         9.3,
         "Low Fat",
         0.016047301,
         "Dairy",
         249.8092,
         "OUT049",
         1999,
         "Medium",
         "Tier 1",
         "Supermarket Type1",
         3735.138,
         "05-00-2025",
         "2025-02-12",
         7
        ],
        [
         "DRC01",
         5.92,
         "Regular",
         0.019278216,
         "Soft Drinks",
         48.2692,
         "OUT018",
         2009,
         "Medium",
         "Tier 3",
         "Supermarket Type2",
         443.4228,
         "05-00-2025",
         "2025-02-12",
         7
        ],
        [
         "FDN15",
         17.5,
         "Low Fat",
         0.016760075,
         "Meat",
         141.618,
         "OUT049",
         1999,
         "Medium",
         "Tier 1",
         "Supermarket Type1",
         2097.27,
         "05-00-2025",
         "2025-02-12",
         7
        ],
        [
         "FDX07",
         19.2,
         "Regular",
         0.0,
         "Fruits and Vegetables",
         182.095,
         "OUT010",
         1998,
         null,
         "Tier 3",
         "Grocery Store",
         732.38,
         "05-00-2025",
         "2025-02-12",
         7
        ],
        [
         "NCD19",
         8.93,
         "Low Fat",
         0.0,
         "Household",
         53.8614,
         "OUT013",
         1987,
         "High",
         "Tier 3",
         "Supermarket Type1",
         994.7052,
         "05-00-2025",
         "2025-02-12",
         7
        ],
        [
         "FDP36",
         10.395,
         "Regular",
         0.0,
         "Baking Goods",
         51.4008,
         "OUT018",
         2009,
         "Medium",
         "Tier 3",
         "Supermarket Type2",
         556.6088,
         "05-00-2025",
         "2025-02-12",
         7
        ],
        [
         "FDO10",
         13.65,
         "Regular",
         0.012741089,
         "Snack Foods",
         57.6588,
         "OUT013",
         1987,
         "High",
         "Tier 3",
         "Supermarket Type1",
         343.5528,
         "05-00-2025",
         "2025-02-12",
         7
        ],
        [
         "FDP10",
         null,
         "Low Fat",
         0.127469857,
         "Snack Foods",
         107.7622,
         "OUT027",
         1985,
         "Medium",
         "Tier 3",
         "Supermarket Type3",
         4022.7636,
         "05-00-2025",
         "2025-02-12",
         7
        ],
        [
         "FDH17",
         16.2,
         "Regular",
         0.016687114,
         "Frozen Foods",
         96.9726,
         "OUT045",
         2002,
         null,
         "Tier 2",
         "Supermarket Type1",
         1076.5986,
         "05-00-2025",
         "2025-02-12",
         7
        ],
        [
         "FDU28",
         19.2,
         "Regular",
         0.09444959,
         "Frozen Foods",
         187.8214,
         "OUT017",
         2007,
         null,
         "Tier 2",
         "Supermarket Type1",
         4710.535,
         "05-00-2025",
         "2025-02-12",
         7
        ],
        [
         "FDY07",
         11.8,
         "Low Fat",
         0.0,
         "Fruits and Vegetables",
         45.5402,
         "OUT049",
         1999,
         "Medium",
         "Tier 1",
         "Supermarket Type1",
         1516.0266,
         "05-00-2025",
         "2025-02-12",
         7
        ],
        [
         "FDA03",
         18.5,
         "Regular",
         0.045463773,
         "Dairy",
         144.1102,
         "OUT046",
         1997,
         "Small",
         "Tier 1",
         "Supermarket Type1",
         2187.153,
         "05-00-2025",
         "2025-02-12",
         7
        ],
        [
         "FDX32",
         15.1,
         "Regular",
         0.1000135,
         "Fruits and Vegetables",
         145.4786,
         "OUT049",
         1999,
         "Medium",
         "Tier 1",
         "Supermarket Type1",
         1589.2646,
         "05-00-2025",
         "2025-02-12",
         7
        ],
        [
         "FDS46",
         17.6,
         "Regular",
         0.047257328,
         "Snack Foods",
         119.6782,
         "OUT046",
         1997,
         "Small",
         "Tier 1",
         "Supermarket Type1",
         2145.2076,
         "05-00-2025",
         "2025-02-12",
         7
        ],
        [
         "FDF32",
         16.35,
         "Low Fat",
         0.0680243,
         "Fruits and Vegetables",
         196.4426,
         "OUT013",
         1987,
         "High",
         "Tier 3",
         "Supermarket Type1",
         1977.426,
         "05-00-2025",
         "2025-02-12",
         7
        ],
        [
         "FDP49",
         9.0,
         "Regular",
         0.069088961,
         "Breakfast",
         56.3614,
         "OUT046",
         1997,
         "Small",
         "Tier 1",
         "Supermarket Type1",
         1547.3192,
         "05-00-2025",
         "2025-02-12",
         7
        ],
        [
         "NCB42",
         11.8,
         "Low Fat",
         0.008596051,
         "Health and Hygiene",
         115.3492,
         "OUT018",
         2009,
         "Medium",
         "Tier 3",
         "Supermarket Type2",
         1621.8888,
         "05-00-2025",
         "2025-02-12",
         7
        ],
        [
         "FDP49",
         9.0,
         "Regular",
         0.069196376,
         "Breakfast",
         54.3614,
         "OUT049",
         1999,
         "Medium",
         "Tier 1",
         "Supermarket Type1",
         718.3982,
         "05-00-2025",
         "2025-02-12",
         7
        ],
        [
         "DRI11",
         null,
         "Low Fat",
         0.034237682,
         "Hard Drinks",
         113.2834,
         "OUT027",
         1985,
         "Medium",
         "Tier 3",
         "Supermarket Type3",
         2303.668,
         "05-00-2025",
         "2025-02-12",
         7
        ],
        [
         "FDU02",
         13.35,
         "Low Fat",
         0.10249212,
         "Dairy",
         230.5352,
         "OUT035",
         2004,
         "Small",
         "Tier 2",
         "Supermarket Type1",
         2748.4224,
         "05-00-2025",
         "2025-02-12",
         7
        ]
       ],
       "datasetInfos": [],
       "dbfsResultPath": null,
       "isJsonSchema": true,
       "metadata": {},
       "overflow": false,
       "plotOptions": {
        "customPlotOptions": {},
        "displayType": "table",
        "pivotAggregation": null,
        "pivotColumns": null,
        "xColumns": null,
        "yColumns": null
       },
       "removedWidgets": [],
       "schema": [
        {
         "metadata": "{}",
         "name": "Item_Identifier",
         "type": "\"string\""
        },
        {
         "metadata": "{}",
         "name": "Item_Weight",
         "type": "\"double\""
        },
        {
         "metadata": "{}",
         "name": "Item_Fat_Content",
         "type": "\"string\""
        },
        {
         "metadata": "{}",
         "name": "Item_Visibility",
         "type": "\"double\""
        },
        {
         "metadata": "{}",
         "name": "Item_Type",
         "type": "\"string\""
        },
        {
         "metadata": "{}",
         "name": "Item_MRP",
         "type": "\"double\""
        },
        {
         "metadata": "{}",
         "name": "Outlet_Identifier",
         "type": "\"string\""
        },
        {
         "metadata": "{}",
         "name": "Outlet_Establishment_Year",
         "type": "\"integer\""
        },
        {
         "metadata": "{}",
         "name": "Outlet_Size",
         "type": "\"string\""
        },
        {
         "metadata": "{}",
         "name": "Outlet_Location_Type",
         "type": "\"string\""
        },
        {
         "metadata": "{}",
         "name": "Outlet_Type",
         "type": "\"string\""
        },
        {
         "metadata": "{}",
         "name": "Item_Outlet_Sales",
         "type": "\"double\""
        },
        {
         "metadata": "{}",
         "name": "curr-date",
         "type": "\"string\""
        },
        {
         "metadata": "{}",
         "name": "week-after",
         "type": "\"date\""
        },
        {
         "metadata": "{}",
         "name": "datediff",
         "type": "\"integer\""
        }
       ],
       "type": "table"
      }
     },
     "output_type": "display_data"
    }
   ],
   "source": [
    "df=df.withColumn('curr-date',date_format('curr-date','dd-mm-yyyy'))\n",
    "display(df.limit(20))"
   ]
  },
  {
   "cell_type": "code",
   "execution_count": 0,
   "metadata": {
    "application/vnd.databricks.v1+cell": {
     "cellMetadata": {
      "byteLimit": 2048000,
      "rowLimit": 10000
     },
     "inputWidgets": {},
     "nuid": "1c7ff551-a006-4dd8-b192-1d0623cffd4a",
     "showTitle": false,
     "tableResultSettingsMap": {},
     "title": ""
    }
   },
   "outputs": [
    {
     "output_type": "display_data",
     "data": {
      "text/html": [
       "<style scoped>\n",
       "  .table-result-container {\n",
       "    max-height: 300px;\n",
       "    overflow: auto;\n",
       "  }\n",
       "  table, th, td {\n",
       "    border: 1px solid black;\n",
       "    border-collapse: collapse;\n",
       "  }\n",
       "  th, td {\n",
       "    padding: 5px;\n",
       "  }\n",
       "  th {\n",
       "    text-align: left;\n",
       "  }\n",
       "</style><div class='table-result-container'><table class='table-result'><thead style='background-color: white'><tr><th>Item_Type</th><th>sum(Item_MRP)</th></tr></thead><tbody><tr><td>Starchy Foods</td><td>21880.027399999995</td></tr><tr><td>Baking Goods</td><td>81894.73640000001</td></tr><tr><td>Breads</td><td>35379.11979999999</td></tr><tr><td>Fruits and Vegetables</td><td>178124.08099999998</td></tr><tr><td>Meat</td><td>59449.863799999956</td></tr><tr><td>Hard Drinks</td><td>29334.676599999995</td></tr><tr><td>Soft Drinks</td><td>58514.164999999964</td></tr><tr><td>Household</td><td>135976.52539999998</td></tr><tr><td>Breakfast</td><td>15596.6966</td></tr><tr><td>Dairy</td><td>101276.45959999996</td></tr><tr><td>Snack Foods</td><td>175433.92040000003</td></tr><tr><td>Others</td><td>22451.891600000006</td></tr><tr><td>Seafood</td><td>9077.870000000003</td></tr><tr><td>Canned</td><td>90706.7269999999</td></tr><tr><td>Frozen Foods</td><td>118558.88140000001</td></tr><tr><td>Health and Hygiene</td><td>68025.8388</td></tr></tbody></table></div>"
      ]
     },
     "metadata": {
      "application/vnd.databricks.v1+output": {
       "addedWidgets": {},
       "aggData": [],
       "aggError": "",
       "aggOverflow": false,
       "aggSchema": [],
       "aggSeriesLimitReached": false,
       "aggType": "",
       "arguments": {},
       "columnCustomDisplayInfos": {},
       "data": [
        [
         "Starchy Foods",
         21880.027399999995
        ],
        [
         "Baking Goods",
         81894.73640000001
        ],
        [
         "Breads",
         35379.11979999999
        ],
        [
         "Fruits and Vegetables",
         178124.08099999998
        ],
        [
         "Meat",
         59449.863799999956
        ],
        [
         "Hard Drinks",
         29334.676599999995
        ],
        [
         "Soft Drinks",
         58514.164999999964
        ],
        [
         "Household",
         135976.52539999998
        ],
        [
         "Breakfast",
         15596.6966
        ],
        [
         "Dairy",
         101276.45959999996
        ],
        [
         "Snack Foods",
         175433.92040000003
        ],
        [
         "Others",
         22451.891600000006
        ],
        [
         "Seafood",
         9077.870000000003
        ],
        [
         "Canned",
         90706.7269999999
        ],
        [
         "Frozen Foods",
         118558.88140000001
        ],
        [
         "Health and Hygiene",
         68025.8388
        ]
       ],
       "datasetInfos": [],
       "dbfsResultPath": null,
       "isJsonSchema": true,
       "metadata": {},
       "overflow": false,
       "plotOptions": {
        "customPlotOptions": {},
        "displayType": "table",
        "pivotAggregation": null,
        "pivotColumns": null,
        "xColumns": null,
        "yColumns": null
       },
       "removedWidgets": [],
       "schema": [
        {
         "metadata": "{}",
         "name": "Item_Type",
         "type": "\"string\""
        },
        {
         "metadata": "{}",
         "name": "sum(Item_MRP)",
         "type": "\"double\""
        }
       ],
       "type": "table"
      }
     },
     "output_type": "display_data"
    }
   ],
   "source": [
    "gd=df.groupBy('Item_Type').agg(sum('Item_MRP'))\n",
    "display(gd.limit(20))"
   ]
  },
  {
   "cell_type": "code",
   "execution_count": 0,
   "metadata": {
    "application/vnd.databricks.v1+cell": {
     "cellMetadata": {
      "byteLimit": 2048000,
      "rowLimit": 10000
     },
     "inputWidgets": {},
     "nuid": "13da84cf-febf-4557-9af7-3b418ecec82e",
     "showTitle": false,
     "tableResultSettingsMap": {},
     "title": ""
    }
   },
   "outputs": [
    {
     "output_type": "display_data",
     "data": {
      "text/html": [
       "<style scoped>\n",
       "  .table-result-container {\n",
       "    max-height: 300px;\n",
       "    overflow: auto;\n",
       "  }\n",
       "  table, th, td {\n",
       "    border: 1px solid black;\n",
       "    border-collapse: collapse;\n",
       "  }\n",
       "  th, td {\n",
       "    padding: 5px;\n",
       "  }\n",
       "  th {\n",
       "    text-align: left;\n",
       "  }\n",
       "</style><div class='table-result-container'><table class='table-result'><thead style='background-color: white'><tr><th>Item_Type</th><th>avg(Item_MRP)</th></tr></thead><tbody><tr><td>Starchy Foods</td><td>147.83802297297294</td></tr><tr><td>Baking Goods</td><td>126.38076604938273</td></tr><tr><td>Breads</td><td>140.9526685258964</td></tr><tr><td>Fruits and Vegetables</td><td>144.58123457792206</td></tr><tr><td>Meat</td><td>139.88203247058814</td></tr><tr><td>Hard Drinks</td><td>137.07792803738315</td></tr><tr><td>Soft Drinks</td><td>131.49250561797746</td></tr><tr><td>Household</td><td>149.42475318681318</td></tr><tr><td>Breakfast</td><td>141.78815090909092</td></tr><tr><td>Dairy</td><td>148.49920762463336</td></tr><tr><td>Snack Foods</td><td>146.19493366666669</td></tr><tr><td>Others</td><td>132.85142958579885</td></tr><tr><td>Seafood</td><td>141.84171875000004</td></tr><tr><td>Canned</td><td>139.76383204930647</td></tr><tr><td>Frozen Foods</td><td>138.50336612149533</td></tr><tr><td>Health and Hygiene</td><td>130.81892076923077</td></tr></tbody></table></div>"
      ]
     },
     "metadata": {
      "application/vnd.databricks.v1+output": {
       "addedWidgets": {},
       "aggData": [],
       "aggError": "",
       "aggOverflow": false,
       "aggSchema": [],
       "aggSeriesLimitReached": false,
       "aggType": "",
       "arguments": {},
       "columnCustomDisplayInfos": {},
       "data": [
        [
         "Starchy Foods",
         147.83802297297294
        ],
        [
         "Baking Goods",
         126.38076604938273
        ],
        [
         "Breads",
         140.9526685258964
        ],
        [
         "Fruits and Vegetables",
         144.58123457792206
        ],
        [
         "Meat",
         139.88203247058814
        ],
        [
         "Hard Drinks",
         137.07792803738315
        ],
        [
         "Soft Drinks",
         131.49250561797746
        ],
        [
         "Household",
         149.42475318681318
        ],
        [
         "Breakfast",
         141.78815090909092
        ],
        [
         "Dairy",
         148.49920762463336
        ],
        [
         "Snack Foods",
         146.19493366666669
        ],
        [
         "Others",
         132.85142958579885
        ],
        [
         "Seafood",
         141.84171875000004
        ],
        [
         "Canned",
         139.76383204930647
        ],
        [
         "Frozen Foods",
         138.50336612149533
        ],
        [
         "Health and Hygiene",
         130.81892076923077
        ]
       ],
       "datasetInfos": [],
       "dbfsResultPath": null,
       "isJsonSchema": true,
       "metadata": {},
       "overflow": false,
       "plotOptions": {
        "customPlotOptions": {},
        "displayType": "table",
        "pivotAggregation": null,
        "pivotColumns": null,
        "xColumns": null,
        "yColumns": null
       },
       "removedWidgets": [],
       "schema": [
        {
         "metadata": "{}",
         "name": "Item_Type",
         "type": "\"string\""
        },
        {
         "metadata": "{}",
         "name": "avg(Item_MRP)",
         "type": "\"double\""
        }
       ],
       "type": "table"
      }
     },
     "output_type": "display_data"
    }
   ],
   "source": [
    "gd=df.groupBy('Item_Type').agg(avg('Item_MRP'))\n",
    "display(gd.limit(20))"
   ]
  },
  {
   "cell_type": "code",
   "execution_count": 0,
   "metadata": {
    "application/vnd.databricks.v1+cell": {
     "cellMetadata": {
      "byteLimit": 2048000,
      "rowLimit": 10000
     },
     "inputWidgets": {},
     "nuid": "9a594c74-3805-4cc3-b331-8ff2a82f9f0f",
     "showTitle": false,
     "tableResultSettingsMap": {},
     "title": ""
    }
   },
   "outputs": [
    {
     "output_type": "display_data",
     "data": {
      "text/html": [
       "<style scoped>\n",
       "  .table-result-container {\n",
       "    max-height: 300px;\n",
       "    overflow: auto;\n",
       "  }\n",
       "  table, th, td {\n",
       "    border: 1px solid black;\n",
       "    border-collapse: collapse;\n",
       "  }\n",
       "  th, td {\n",
       "    padding: 5px;\n",
       "  }\n",
       "  th {\n",
       "    text-align: left;\n",
       "  }\n",
       "</style><div class='table-result-container'><table class='table-result'><thead style='background-color: white'><tr><th>Item_Type</th><th>Outlet_Size</th><th>sum(Item_MRP)</th></tr></thead><tbody><tr><td>Starchy Foods</td><td>Medium</td><td>7124.136199999997</td></tr><tr><td>Fruits and Vegetables</td><td>Medium</td><td>59047.217200000014</td></tr><tr><td>Starchy Foods</td><td>null</td><td>6040.6402</td></tr><tr><td>Breads</td><td>null</td><td>10011.5004</td></tr><tr><td>Baking Goods</td><td>null</td><td>23433.838799999994</td></tr><tr><td>Fruits and Vegetables</td><td>null</td><td>49758.730999999985</td></tr><tr><td>Frozen Foods</td><td>High</td><td>12588.291000000001</td></tr><tr><td>Soft Drinks</td><td>High</td><td>6456.165199999999</td></tr><tr><td>Breakfast</td><td>Small</td><td>3917.0407999999998</td></tr><tr><td>Meat</td><td>Medium</td><td>20326.45059999999</td></tr><tr><td>Fruits and Vegetables</td><td>High</td><td>20671.34759999999</td></tr><tr><td>Meat</td><td>High</td><td>5627.036400000002</td></tr><tr><td>Baking Goods</td><td>High</td><td>9431.749199999998</td></tr><tr><td>Household</td><td>Medium</td><td>42688.57439999998</td></tr><tr><td>Meat</td><td>null</td><td>16158.166000000005</td></tr><tr><td>Hard Drinks</td><td>null</td><td>8869.577199999998</td></tr><tr><td>Hard Drinks</td><td>Small</td><td>6487.9392</td></tr><tr><td>Soft Drinks</td><td>null</td><td>17745.318000000003</td></tr><tr><td>Household</td><td>null</td><td>38567.78840000001</td></tr><tr><td>Dairy</td><td>High</td><td>12280.733799999996</td></tr></tbody></table></div>"
      ]
     },
     "metadata": {
      "application/vnd.databricks.v1+output": {
       "addedWidgets": {},
       "aggData": [],
       "aggError": "",
       "aggOverflow": false,
       "aggSchema": [],
       "aggSeriesLimitReached": false,
       "aggType": "",
       "arguments": {},
       "columnCustomDisplayInfos": {},
       "data": [
        [
         "Starchy Foods",
         "Medium",
         7124.136199999997
        ],
        [
         "Fruits and Vegetables",
         "Medium",
         59047.217200000014
        ],
        [
         "Starchy Foods",
         null,
         6040.6402
        ],
        [
         "Breads",
         null,
         10011.5004
        ],
        [
         "Baking Goods",
         null,
         23433.838799999994
        ],
        [
         "Fruits and Vegetables",
         null,
         49758.730999999985
        ],
        [
         "Frozen Foods",
         "High",
         12588.291000000001
        ],
        [
         "Soft Drinks",
         "High",
         6456.165199999999
        ],
        [
         "Breakfast",
         "Small",
         3917.0407999999998
        ],
        [
         "Meat",
         "Medium",
         20326.45059999999
        ],
        [
         "Fruits and Vegetables",
         "High",
         20671.34759999999
        ],
        [
         "Meat",
         "High",
         5627.036400000002
        ],
        [
         "Baking Goods",
         "High",
         9431.749199999998
        ],
        [
         "Household",
         "Medium",
         42688.57439999998
        ],
        [
         "Meat",
         null,
         16158.166000000005
        ],
        [
         "Hard Drinks",
         null,
         8869.577199999998
        ],
        [
         "Hard Drinks",
         "Small",
         6487.9392
        ],
        [
         "Soft Drinks",
         null,
         17745.318000000003
        ],
        [
         "Household",
         null,
         38567.78840000001
        ],
        [
         "Dairy",
         "High",
         12280.733799999996
        ]
       ],
       "datasetInfos": [],
       "dbfsResultPath": null,
       "isJsonSchema": true,
       "metadata": {},
       "overflow": false,
       "plotOptions": {
        "customPlotOptions": {},
        "displayType": "table",
        "pivotAggregation": null,
        "pivotColumns": null,
        "xColumns": null,
        "yColumns": null
       },
       "removedWidgets": [],
       "schema": [
        {
         "metadata": "{}",
         "name": "Item_Type",
         "type": "\"string\""
        },
        {
         "metadata": "{}",
         "name": "Outlet_Size",
         "type": "\"string\""
        },
        {
         "metadata": "{}",
         "name": "sum(Item_MRP)",
         "type": "\"double\""
        }
       ],
       "type": "table"
      }
     },
     "output_type": "display_data"
    }
   ],
   "source": [
    "gd=df.groupBy('Item_Type','Outlet_Size').agg(sum('Item_MRP'))\n",
    "display(gd.limit(20))"
   ]
  },
  {
   "cell_type": "code",
   "execution_count": 0,
   "metadata": {
    "application/vnd.databricks.v1+cell": {
     "cellMetadata": {
      "byteLimit": 2048000,
      "rowLimit": 10000
     },
     "inputWidgets": {},
     "nuid": "e000fe36-d20b-4047-bd54-eb71fdfec879",
     "showTitle": false,
     "tableResultSettingsMap": {},
     "title": ""
    }
   },
   "outputs": [
    {
     "output_type": "display_data",
     "data": {
      "text/html": [
       "<style scoped>\n",
       "  .table-result-container {\n",
       "    max-height: 300px;\n",
       "    overflow: auto;\n",
       "  }\n",
       "  table, th, td {\n",
       "    border: 1px solid black;\n",
       "    border-collapse: collapse;\n",
       "  }\n",
       "  th, td {\n",
       "    padding: 5px;\n",
       "  }\n",
       "  th {\n",
       "    text-align: left;\n",
       "  }\n",
       "</style><div class='table-result-container'><table class='table-result'><thead style='background-color: white'><tr><th>Item_Type</th><th>Outlet_Size</th><th>sum-of-mrp</th><th>avg-of-mrp</th></tr></thead><tbody><tr><td>Starchy Foods</td><td>Medium</td><td>7124.136199999997</td><td>148.4195041666666</td></tr><tr><td>Fruits and Vegetables</td><td>Medium</td><td>59047.217200000014</td><td>142.9714702179177</td></tr><tr><td>Starchy Foods</td><td>null</td><td>6040.6402</td><td>140.48000465116277</td></tr><tr><td>Breads</td><td>null</td><td>10011.5004</td><td>139.04861666666667</td></tr><tr><td>Baking Goods</td><td>null</td><td>23433.838799999994</td><td>126.66939891891889</td></tr><tr><td>Fruits and Vegetables</td><td>null</td><td>49758.730999999985</td><td>142.57516045845267</td></tr><tr><td>Frozen Foods</td><td>High</td><td>12588.291000000001</td><td>136.82925</td></tr><tr><td>Soft Drinks</td><td>High</td><td>6456.165199999999</td><td>131.75847346938772</td></tr><tr><td>Breakfast</td><td>Small</td><td>3917.0407999999998</td><td>130.56802666666667</td></tr><tr><td>Meat</td><td>Medium</td><td>20326.45059999999</td><td>136.41913154362408</td></tr><tr><td>Fruits and Vegetables</td><td>High</td><td>20671.34759999999</td><td>145.57287042253515</td></tr><tr><td>Meat</td><td>High</td><td>5627.036400000002</td><td>137.2447902439025</td></tr><tr><td>Baking Goods</td><td>High</td><td>9431.749199999998</td><td>129.20204383561642</td></tr><tr><td>Household</td><td>Medium</td><td>42688.57439999998</td><td>147.71133010380618</td></tr><tr><td>Meat</td><td>null</td><td>16158.166000000005</td><td>139.29453448275865</td></tr><tr><td>Hard Drinks</td><td>null</td><td>8869.577199999998</td><td>134.3875333333333</td></tr><tr><td>Hard Drinks</td><td>Small</td><td>6487.9392</td><td>129.758784</td></tr><tr><td>Soft Drinks</td><td>null</td><td>17745.318000000003</td><td>133.42344360902257</td></tr><tr><td>Household</td><td>null</td><td>38567.78840000001</td><td>147.76930421455944</td></tr><tr><td>Dairy</td><td>High</td><td>12280.733799999996</td><td>153.50917249999995</td></tr><tr><td>Snack Foods</td><td>Small</td><td>48357.88520000003</td><td>144.35189611940308</td></tr><tr><td>Others</td><td>Medium</td><td>6647.481400000001</td><td>127.83618076923078</td></tr><tr><td>Others</td><td>Small</td><td>7583.906599999998</td><td>137.88921090909088</td></tr><tr><td>Snack Foods</td><td>Medium</td><td>60701.911599999985</td><td>148.77919509803917</td></tr><tr><td>Household</td><td>Small</td><td>39569.11779999999</td><td>153.9654389105058</td></tr><tr><td>Breakfast</td><td>null</td><td>4918.927800000001</td><td>158.6750903225807</td></tr><tr><td>Canned</td><td>Medium</td><td>29973.092599999996</td><td>138.12485069124423</td></tr><tr><td>Breads</td><td>High</td><td>3343.974</td><td>133.75896</td></tr><tr><td>Dairy</td><td>null</td><td>27723.535800000005</td><td>149.0512677419355</td></tr><tr><td>Household</td><td>High</td><td>15151.044799999994</td><td>147.09752233009704</td></tr><tr><td>Snack Foods</td><td>null</td><td>48143.23779999995</td><td>145.0097524096384</td></tr><tr><td>Canned</td><td>High</td><td>8803.776</td><td>135.4427076923077</td></tr><tr><td>Breads</td><td>Small</td><td>10332.179200000002</td><td>145.5236507042254</td></tr><tr><td>Others</td><td>null</td><td>6099.277800000001</td><td>132.59299565217393</td></tr><tr><td>Baking Goods</td><td>Medium</td><td>25614.249399999997</td><td>126.17856847290639</td></tr><tr><td>Hard Drinks</td><td>High</td><td>3264.3329999999996</td><td>141.9275217391304</td></tr><tr><td>Health and Hygiene</td><td>Medium</td><td>21879.317000000003</td><td>128.70186470588237</td></tr><tr><td>Soft Drinks</td><td>Medium</td><td>17572.946399999997</td><td>128.2696817518248</td></tr><tr><td>Health and Hygiene</td><td>High</td><td>8241.7698</td><td>135.11098032786884</td></tr><tr><td>Snack Foods</td><td>High</td><td>18230.885799999993</td><td>145.84708639999994</td></tr><tr><td>Seafood</td><td>null</td><td>2559.9036</td><td>142.21686666666668</td></tr><tr><td>Dairy</td><td>Medium</td><td>32375.65400000001</td><td>148.51217431192666</td></tr><tr><td>Breakfast</td><td>Medium</td><td>4843.3504</td><td>134.53751111111112</td></tr><tr><td>Hard Drinks</td><td>Medium</td><td>10712.827199999996</td><td>142.83769599999994</td></tr><tr><td>Starchy Foods</td><td>Small</td><td>5710.266599999999</td><td>150.2701736842105</td></tr><tr><td>Baking Goods</td><td>Small</td><td>23414.89900000001</td><td>125.21336363636368</td></tr><tr><td>Canned</td><td>Small</td><td>26893.836000000003</td><td>142.29542857142857</td></tr><tr><td>Fruits and Vegetables</td><td>Small</td><td>48646.785199999984</td><td>148.31336951219507</td></tr><tr><td>Breads</td><td>Medium</td><td>11691.4662</td><td>140.8610385542169</td></tr><tr><td>Seafood</td><td>High</td><td>674.3212000000001</td><td>134.86424000000002</td></tr><tr><td>Starchy Foods</td><td>High</td><td>3004.9844000000003</td><td>158.15707368421053</td></tr><tr><td>Seafood</td><td>Small</td><td>2885.6351999999997</td><td>144.28176</td></tr><tr><td>Canned</td><td>null</td><td>25036.022400000005</td><td>140.65181123595508</td></tr><tr><td>Seafood</td><td>Medium</td><td>2958.0099999999993</td><td>140.857619047619</td></tr><tr><td>Soft Drinks</td><td>Small</td><td>16739.735400000005</td><td>132.8550428571429</td></tr><tr><td>Frozen Foods</td><td>Medium</td><td>38512.6222</td><td>140.55701532846714</td></tr><tr><td>Breakfast</td><td>High</td><td>1917.3776</td><td>147.49058461538462</td></tr><tr><td>Frozen Foods</td><td>null</td><td>33136.17080000001</td><td>137.49448464730293</td></tr><tr><td>Meat</td><td>Small</td><td>17338.2108</td><td>145.69925042016808</td></tr><tr><td>Dairy</td><td>Small</td><td>28896.536000000004</td><td>145.94210101010103</td></tr><tr><td>Health and Hygiene</td><td>null</td><td>19975.663200000003</td><td>130.55989019607844</td></tr><tr><td>Health and Hygiene</td><td>Small</td><td>17929.08879999999</td><td>131.83153529411757</td></tr><tr><td>Others</td><td>High</td><td>2121.2258</td><td>132.5766125</td></tr><tr><td>Frozen Foods</td><td>Small</td><td>34321.79739999998</td><td>137.83854377510033</td></tr></tbody></table></div>"
      ]
     },
     "metadata": {
      "application/vnd.databricks.v1+output": {
       "addedWidgets": {},
       "aggData": [],
       "aggError": "",
       "aggOverflow": false,
       "aggSchema": [],
       "aggSeriesLimitReached": false,
       "aggType": "",
       "arguments": {},
       "columnCustomDisplayInfos": {},
       "data": [
        [
         "Starchy Foods",
         "Medium",
         7124.136199999997,
         148.4195041666666
        ],
        [
         "Fruits and Vegetables",
         "Medium",
         59047.217200000014,
         142.9714702179177
        ],
        [
         "Starchy Foods",
         null,
         6040.6402,
         140.48000465116277
        ],
        [
         "Breads",
         null,
         10011.5004,
         139.04861666666667
        ],
        [
         "Baking Goods",
         null,
         23433.838799999994,
         126.66939891891889
        ],
        [
         "Fruits and Vegetables",
         null,
         49758.730999999985,
         142.57516045845267
        ],
        [
         "Frozen Foods",
         "High",
         12588.291000000001,
         136.82925
        ],
        [
         "Soft Drinks",
         "High",
         6456.165199999999,
         131.75847346938772
        ],
        [
         "Breakfast",
         "Small",
         3917.0407999999998,
         130.56802666666667
        ],
        [
         "Meat",
         "Medium",
         20326.45059999999,
         136.41913154362408
        ],
        [
         "Fruits and Vegetables",
         "High",
         20671.34759999999,
         145.57287042253515
        ],
        [
         "Meat",
         "High",
         5627.036400000002,
         137.2447902439025
        ],
        [
         "Baking Goods",
         "High",
         9431.749199999998,
         129.20204383561642
        ],
        [
         "Household",
         "Medium",
         42688.57439999998,
         147.71133010380618
        ],
        [
         "Meat",
         null,
         16158.166000000005,
         139.29453448275865
        ],
        [
         "Hard Drinks",
         null,
         8869.577199999998,
         134.3875333333333
        ],
        [
         "Hard Drinks",
         "Small",
         6487.9392,
         129.758784
        ],
        [
         "Soft Drinks",
         null,
         17745.318000000003,
         133.42344360902257
        ],
        [
         "Household",
         null,
         38567.78840000001,
         147.76930421455944
        ],
        [
         "Dairy",
         "High",
         12280.733799999996,
         153.50917249999995
        ],
        [
         "Snack Foods",
         "Small",
         48357.88520000003,
         144.35189611940308
        ],
        [
         "Others",
         "Medium",
         6647.481400000001,
         127.83618076923078
        ],
        [
         "Others",
         "Small",
         7583.906599999998,
         137.88921090909088
        ],
        [
         "Snack Foods",
         "Medium",
         60701.911599999985,
         148.77919509803917
        ],
        [
         "Household",
         "Small",
         39569.11779999999,
         153.9654389105058
        ],
        [
         "Breakfast",
         null,
         4918.927800000001,
         158.6750903225807
        ],
        [
         "Canned",
         "Medium",
         29973.092599999996,
         138.12485069124423
        ],
        [
         "Breads",
         "High",
         3343.974,
         133.75896
        ],
        [
         "Dairy",
         null,
         27723.535800000005,
         149.0512677419355
        ],
        [
         "Household",
         "High",
         15151.044799999994,
         147.09752233009704
        ],
        [
         "Snack Foods",
         null,
         48143.23779999995,
         145.0097524096384
        ],
        [
         "Canned",
         "High",
         8803.776,
         135.4427076923077
        ],
        [
         "Breads",
         "Small",
         10332.179200000002,
         145.5236507042254
        ],
        [
         "Others",
         null,
         6099.277800000001,
         132.59299565217393
        ],
        [
         "Baking Goods",
         "Medium",
         25614.249399999997,
         126.17856847290639
        ],
        [
         "Hard Drinks",
         "High",
         3264.3329999999996,
         141.9275217391304
        ],
        [
         "Health and Hygiene",
         "Medium",
         21879.317000000003,
         128.70186470588237
        ],
        [
         "Soft Drinks",
         "Medium",
         17572.946399999997,
         128.2696817518248
        ],
        [
         "Health and Hygiene",
         "High",
         8241.7698,
         135.11098032786884
        ],
        [
         "Snack Foods",
         "High",
         18230.885799999993,
         145.84708639999994
        ],
        [
         "Seafood",
         null,
         2559.9036,
         142.21686666666668
        ],
        [
         "Dairy",
         "Medium",
         32375.65400000001,
         148.51217431192666
        ],
        [
         "Breakfast",
         "Medium",
         4843.3504,
         134.53751111111112
        ],
        [
         "Hard Drinks",
         "Medium",
         10712.827199999996,
         142.83769599999994
        ],
        [
         "Starchy Foods",
         "Small",
         5710.266599999999,
         150.2701736842105
        ],
        [
         "Baking Goods",
         "Small",
         23414.89900000001,
         125.21336363636368
        ],
        [
         "Canned",
         "Small",
         26893.836000000003,
         142.29542857142857
        ],
        [
         "Fruits and Vegetables",
         "Small",
         48646.785199999984,
         148.31336951219507
        ],
        [
         "Breads",
         "Medium",
         11691.4662,
         140.8610385542169
        ],
        [
         "Seafood",
         "High",
         674.3212000000001,
         134.86424000000002
        ],
        [
         "Starchy Foods",
         "High",
         3004.9844000000003,
         158.15707368421053
        ],
        [
         "Seafood",
         "Small",
         2885.6351999999997,
         144.28176
        ],
        [
         "Canned",
         null,
         25036.022400000005,
         140.65181123595508
        ],
        [
         "Seafood",
         "Medium",
         2958.0099999999993,
         140.857619047619
        ],
        [
         "Soft Drinks",
         "Small",
         16739.735400000005,
         132.8550428571429
        ],
        [
         "Frozen Foods",
         "Medium",
         38512.6222,
         140.55701532846714
        ],
        [
         "Breakfast",
         "High",
         1917.3776,
         147.49058461538462
        ],
        [
         "Frozen Foods",
         null,
         33136.17080000001,
         137.49448464730293
        ],
        [
         "Meat",
         "Small",
         17338.2108,
         145.69925042016808
        ],
        [
         "Dairy",
         "Small",
         28896.536000000004,
         145.94210101010103
        ],
        [
         "Health and Hygiene",
         null,
         19975.663200000003,
         130.55989019607844
        ],
        [
         "Health and Hygiene",
         "Small",
         17929.08879999999,
         131.83153529411757
        ],
        [
         "Others",
         "High",
         2121.2258,
         132.5766125
        ],
        [
         "Frozen Foods",
         "Small",
         34321.79739999998,
         137.83854377510033
        ]
       ],
       "datasetInfos": [],
       "dbfsResultPath": null,
       "isJsonSchema": true,
       "metadata": {},
       "overflow": false,
       "plotOptions": {
        "customPlotOptions": {},
        "displayType": "table",
        "pivotAggregation": null,
        "pivotColumns": null,
        "xColumns": null,
        "yColumns": null
       },
       "removedWidgets": [],
       "schema": [
        {
         "metadata": "{}",
         "name": "Item_Type",
         "type": "\"string\""
        },
        {
         "metadata": "{}",
         "name": "Outlet_Size",
         "type": "\"string\""
        },
        {
         "metadata": "{}",
         "name": "sum-of-mrp",
         "type": "\"double\""
        },
        {
         "metadata": "{}",
         "name": "avg-of-mrp",
         "type": "\"double\""
        }
       ],
       "type": "table"
      }
     },
     "output_type": "display_data"
    }
   ],
   "source": [
    "gd=df.groupBy('Item_Type','Outlet_Size').agg(sum('Item_MRP').alias('sum-of-mrp'),avg('Item_MRP').alias('avg-of-mrp'))\n",
    "gd.display()"
   ]
  },
  {
   "cell_type": "code",
   "execution_count": 0,
   "metadata": {
    "application/vnd.databricks.v1+cell": {
     "cellMetadata": {
      "byteLimit": 2048000,
      "rowLimit": 10000
     },
     "inputWidgets": {},
     "nuid": "ef937c3d-3606-4f75-b79c-ffac74d4bcf6",
     "showTitle": false,
     "tableResultSettingsMap": {},
     "title": ""
    }
   },
   "outputs": [
    {
     "output_type": "display_data",
     "data": {
      "text/html": [
       "<style scoped>\n",
       "  .table-result-container {\n",
       "    max-height: 300px;\n",
       "    overflow: auto;\n",
       "  }\n",
       "  table, th, td {\n",
       "    border: 1px solid black;\n",
       "    border-collapse: collapse;\n",
       "  }\n",
       "  th, td {\n",
       "    padding: 5px;\n",
       "  }\n",
       "  th {\n",
       "    text-align: left;\n",
       "  }\n",
       "</style><div class='table-result-container'><table class='table-result'><thead style='background-color: white'><tr><th>Item_Identifier</th><th>Item_Weight</th><th>Item_Fat_Content</th><th>Item_Visibility</th><th>Item_Type</th><th>Item_MRP</th><th>Outlet_Identifier</th><th>Outlet_Establishment_Year</th><th>Outlet_Size</th><th>Outlet_Location_Type</th><th>Outlet_Type</th><th>Item_Outlet_Sales</th><th>curr-date</th><th>week-after</th><th>datediff</th><th>veg_flag</th></tr></thead><tbody><tr><td>FDA15</td><td>9.3</td><td>Low Fat</td><td>0.016047301</td><td>Dairy</td><td>249.8092</td><td>OUT049</td><td>1999</td><td>Medium</td><td>Tier 1</td><td>Supermarket Type1</td><td>3735.138</td><td>05-00-2025</td><td>2025-02-12</td><td>7</td><td>veg</td></tr><tr><td>DRC01</td><td>5.92</td><td>Regular</td><td>0.019278216</td><td>Soft Drinks</td><td>48.2692</td><td>OUT018</td><td>2009</td><td>Medium</td><td>Tier 3</td><td>Supermarket Type2</td><td>443.4228</td><td>05-00-2025</td><td>2025-02-12</td><td>7</td><td>veg</td></tr><tr><td>FDN15</td><td>17.5</td><td>Low Fat</td><td>0.016760075</td><td>Meat</td><td>141.618</td><td>OUT049</td><td>1999</td><td>Medium</td><td>Tier 1</td><td>Supermarket Type1</td><td>2097.27</td><td>05-00-2025</td><td>2025-02-12</td><td>7</td><td>No-veg</td></tr><tr><td>FDX07</td><td>19.2</td><td>Regular</td><td>0.0</td><td>Fruits and Vegetables</td><td>182.095</td><td>OUT010</td><td>1998</td><td>null</td><td>Tier 3</td><td>Grocery Store</td><td>732.38</td><td>05-00-2025</td><td>2025-02-12</td><td>7</td><td>veg</td></tr><tr><td>NCD19</td><td>8.93</td><td>Low Fat</td><td>0.0</td><td>Household</td><td>53.8614</td><td>OUT013</td><td>1987</td><td>High</td><td>Tier 3</td><td>Supermarket Type1</td><td>994.7052</td><td>05-00-2025</td><td>2025-02-12</td><td>7</td><td>veg</td></tr><tr><td>FDP36</td><td>10.395</td><td>Regular</td><td>0.0</td><td>Baking Goods</td><td>51.4008</td><td>OUT018</td><td>2009</td><td>Medium</td><td>Tier 3</td><td>Supermarket Type2</td><td>556.6088</td><td>05-00-2025</td><td>2025-02-12</td><td>7</td><td>veg</td></tr><tr><td>FDO10</td><td>13.65</td><td>Regular</td><td>0.012741089</td><td>Snack Foods</td><td>57.6588</td><td>OUT013</td><td>1987</td><td>High</td><td>Tier 3</td><td>Supermarket Type1</td><td>343.5528</td><td>05-00-2025</td><td>2025-02-12</td><td>7</td><td>veg</td></tr><tr><td>FDP10</td><td>null</td><td>Low Fat</td><td>0.127469857</td><td>Snack Foods</td><td>107.7622</td><td>OUT027</td><td>1985</td><td>Medium</td><td>Tier 3</td><td>Supermarket Type3</td><td>4022.7636</td><td>05-00-2025</td><td>2025-02-12</td><td>7</td><td>veg</td></tr><tr><td>FDH17</td><td>16.2</td><td>Regular</td><td>0.016687114</td><td>Frozen Foods</td><td>96.9726</td><td>OUT045</td><td>2002</td><td>null</td><td>Tier 2</td><td>Supermarket Type1</td><td>1076.5986</td><td>05-00-2025</td><td>2025-02-12</td><td>7</td><td>veg</td></tr><tr><td>FDU28</td><td>19.2</td><td>Regular</td><td>0.09444959</td><td>Frozen Foods</td><td>187.8214</td><td>OUT017</td><td>2007</td><td>null</td><td>Tier 2</td><td>Supermarket Type1</td><td>4710.535</td><td>05-00-2025</td><td>2025-02-12</td><td>7</td><td>veg</td></tr><tr><td>FDY07</td><td>11.8</td><td>Low Fat</td><td>0.0</td><td>Fruits and Vegetables</td><td>45.5402</td><td>OUT049</td><td>1999</td><td>Medium</td><td>Tier 1</td><td>Supermarket Type1</td><td>1516.0266</td><td>05-00-2025</td><td>2025-02-12</td><td>7</td><td>veg</td></tr><tr><td>FDA03</td><td>18.5</td><td>Regular</td><td>0.045463773</td><td>Dairy</td><td>144.1102</td><td>OUT046</td><td>1997</td><td>Small</td><td>Tier 1</td><td>Supermarket Type1</td><td>2187.153</td><td>05-00-2025</td><td>2025-02-12</td><td>7</td><td>veg</td></tr><tr><td>FDX32</td><td>15.1</td><td>Regular</td><td>0.1000135</td><td>Fruits and Vegetables</td><td>145.4786</td><td>OUT049</td><td>1999</td><td>Medium</td><td>Tier 1</td><td>Supermarket Type1</td><td>1589.2646</td><td>05-00-2025</td><td>2025-02-12</td><td>7</td><td>veg</td></tr><tr><td>FDS46</td><td>17.6</td><td>Regular</td><td>0.047257328</td><td>Snack Foods</td><td>119.6782</td><td>OUT046</td><td>1997</td><td>Small</td><td>Tier 1</td><td>Supermarket Type1</td><td>2145.2076</td><td>05-00-2025</td><td>2025-02-12</td><td>7</td><td>veg</td></tr><tr><td>FDF32</td><td>16.35</td><td>Low Fat</td><td>0.0680243</td><td>Fruits and Vegetables</td><td>196.4426</td><td>OUT013</td><td>1987</td><td>High</td><td>Tier 3</td><td>Supermarket Type1</td><td>1977.426</td><td>05-00-2025</td><td>2025-02-12</td><td>7</td><td>veg</td></tr><tr><td>FDP49</td><td>9.0</td><td>Regular</td><td>0.069088961</td><td>Breakfast</td><td>56.3614</td><td>OUT046</td><td>1997</td><td>Small</td><td>Tier 1</td><td>Supermarket Type1</td><td>1547.3192</td><td>05-00-2025</td><td>2025-02-12</td><td>7</td><td>veg</td></tr><tr><td>NCB42</td><td>11.8</td><td>Low Fat</td><td>0.008596051</td><td>Health and Hygiene</td><td>115.3492</td><td>OUT018</td><td>2009</td><td>Medium</td><td>Tier 3</td><td>Supermarket Type2</td><td>1621.8888</td><td>05-00-2025</td><td>2025-02-12</td><td>7</td><td>veg</td></tr><tr><td>FDP49</td><td>9.0</td><td>Regular</td><td>0.069196376</td><td>Breakfast</td><td>54.3614</td><td>OUT049</td><td>1999</td><td>Medium</td><td>Tier 1</td><td>Supermarket Type1</td><td>718.3982</td><td>05-00-2025</td><td>2025-02-12</td><td>7</td><td>veg</td></tr><tr><td>DRI11</td><td>null</td><td>Low Fat</td><td>0.034237682</td><td>Hard Drinks</td><td>113.2834</td><td>OUT027</td><td>1985</td><td>Medium</td><td>Tier 3</td><td>Supermarket Type3</td><td>2303.668</td><td>05-00-2025</td><td>2025-02-12</td><td>7</td><td>veg</td></tr><tr><td>FDU02</td><td>13.35</td><td>Low Fat</td><td>0.10249212</td><td>Dairy</td><td>230.5352</td><td>OUT035</td><td>2004</td><td>Small</td><td>Tier 2</td><td>Supermarket Type1</td><td>2748.4224</td><td>05-00-2025</td><td>2025-02-12</td><td>7</td><td>veg</td></tr></tbody></table></div>"
      ]
     },
     "metadata": {
      "application/vnd.databricks.v1+output": {
       "addedWidgets": {},
       "aggData": [],
       "aggError": "",
       "aggOverflow": false,
       "aggSchema": [],
       "aggSeriesLimitReached": false,
       "aggType": "",
       "arguments": {},
       "columnCustomDisplayInfos": {},
       "data": [
        [
         "FDA15",
         9.3,
         "Low Fat",
         0.016047301,
         "Dairy",
         249.8092,
         "OUT049",
         1999,
         "Medium",
         "Tier 1",
         "Supermarket Type1",
         3735.138,
         "05-00-2025",
         "2025-02-12",
         7,
         "veg"
        ],
        [
         "DRC01",
         5.92,
         "Regular",
         0.019278216,
         "Soft Drinks",
         48.2692,
         "OUT018",
         2009,
         "Medium",
         "Tier 3",
         "Supermarket Type2",
         443.4228,
         "05-00-2025",
         "2025-02-12",
         7,
         "veg"
        ],
        [
         "FDN15",
         17.5,
         "Low Fat",
         0.016760075,
         "Meat",
         141.618,
         "OUT049",
         1999,
         "Medium",
         "Tier 1",
         "Supermarket Type1",
         2097.27,
         "05-00-2025",
         "2025-02-12",
         7,
         "No-veg"
        ],
        [
         "FDX07",
         19.2,
         "Regular",
         0.0,
         "Fruits and Vegetables",
         182.095,
         "OUT010",
         1998,
         null,
         "Tier 3",
         "Grocery Store",
         732.38,
         "05-00-2025",
         "2025-02-12",
         7,
         "veg"
        ],
        [
         "NCD19",
         8.93,
         "Low Fat",
         0.0,
         "Household",
         53.8614,
         "OUT013",
         1987,
         "High",
         "Tier 3",
         "Supermarket Type1",
         994.7052,
         "05-00-2025",
         "2025-02-12",
         7,
         "veg"
        ],
        [
         "FDP36",
         10.395,
         "Regular",
         0.0,
         "Baking Goods",
         51.4008,
         "OUT018",
         2009,
         "Medium",
         "Tier 3",
         "Supermarket Type2",
         556.6088,
         "05-00-2025",
         "2025-02-12",
         7,
         "veg"
        ],
        [
         "FDO10",
         13.65,
         "Regular",
         0.012741089,
         "Snack Foods",
         57.6588,
         "OUT013",
         1987,
         "High",
         "Tier 3",
         "Supermarket Type1",
         343.5528,
         "05-00-2025",
         "2025-02-12",
         7,
         "veg"
        ],
        [
         "FDP10",
         null,
         "Low Fat",
         0.127469857,
         "Snack Foods",
         107.7622,
         "OUT027",
         1985,
         "Medium",
         "Tier 3",
         "Supermarket Type3",
         4022.7636,
         "05-00-2025",
         "2025-02-12",
         7,
         "veg"
        ],
        [
         "FDH17",
         16.2,
         "Regular",
         0.016687114,
         "Frozen Foods",
         96.9726,
         "OUT045",
         2002,
         null,
         "Tier 2",
         "Supermarket Type1",
         1076.5986,
         "05-00-2025",
         "2025-02-12",
         7,
         "veg"
        ],
        [
         "FDU28",
         19.2,
         "Regular",
         0.09444959,
         "Frozen Foods",
         187.8214,
         "OUT017",
         2007,
         null,
         "Tier 2",
         "Supermarket Type1",
         4710.535,
         "05-00-2025",
         "2025-02-12",
         7,
         "veg"
        ],
        [
         "FDY07",
         11.8,
         "Low Fat",
         0.0,
         "Fruits and Vegetables",
         45.5402,
         "OUT049",
         1999,
         "Medium",
         "Tier 1",
         "Supermarket Type1",
         1516.0266,
         "05-00-2025",
         "2025-02-12",
         7,
         "veg"
        ],
        [
         "FDA03",
         18.5,
         "Regular",
         0.045463773,
         "Dairy",
         144.1102,
         "OUT046",
         1997,
         "Small",
         "Tier 1",
         "Supermarket Type1",
         2187.153,
         "05-00-2025",
         "2025-02-12",
         7,
         "veg"
        ],
        [
         "FDX32",
         15.1,
         "Regular",
         0.1000135,
         "Fruits and Vegetables",
         145.4786,
         "OUT049",
         1999,
         "Medium",
         "Tier 1",
         "Supermarket Type1",
         1589.2646,
         "05-00-2025",
         "2025-02-12",
         7,
         "veg"
        ],
        [
         "FDS46",
         17.6,
         "Regular",
         0.047257328,
         "Snack Foods",
         119.6782,
         "OUT046",
         1997,
         "Small",
         "Tier 1",
         "Supermarket Type1",
         2145.2076,
         "05-00-2025",
         "2025-02-12",
         7,
         "veg"
        ],
        [
         "FDF32",
         16.35,
         "Low Fat",
         0.0680243,
         "Fruits and Vegetables",
         196.4426,
         "OUT013",
         1987,
         "High",
         "Tier 3",
         "Supermarket Type1",
         1977.426,
         "05-00-2025",
         "2025-02-12",
         7,
         "veg"
        ],
        [
         "FDP49",
         9.0,
         "Regular",
         0.069088961,
         "Breakfast",
         56.3614,
         "OUT046",
         1997,
         "Small",
         "Tier 1",
         "Supermarket Type1",
         1547.3192,
         "05-00-2025",
         "2025-02-12",
         7,
         "veg"
        ],
        [
         "NCB42",
         11.8,
         "Low Fat",
         0.008596051,
         "Health and Hygiene",
         115.3492,
         "OUT018",
         2009,
         "Medium",
         "Tier 3",
         "Supermarket Type2",
         1621.8888,
         "05-00-2025",
         "2025-02-12",
         7,
         "veg"
        ],
        [
         "FDP49",
         9.0,
         "Regular",
         0.069196376,
         "Breakfast",
         54.3614,
         "OUT049",
         1999,
         "Medium",
         "Tier 1",
         "Supermarket Type1",
         718.3982,
         "05-00-2025",
         "2025-02-12",
         7,
         "veg"
        ],
        [
         "DRI11",
         null,
         "Low Fat",
         0.034237682,
         "Hard Drinks",
         113.2834,
         "OUT027",
         1985,
         "Medium",
         "Tier 3",
         "Supermarket Type3",
         2303.668,
         "05-00-2025",
         "2025-02-12",
         7,
         "veg"
        ],
        [
         "FDU02",
         13.35,
         "Low Fat",
         0.10249212,
         "Dairy",
         230.5352,
         "OUT035",
         2004,
         "Small",
         "Tier 2",
         "Supermarket Type1",
         2748.4224,
         "05-00-2025",
         "2025-02-12",
         7,
         "veg"
        ]
       ],
       "datasetInfos": [],
       "dbfsResultPath": null,
       "isJsonSchema": true,
       "metadata": {},
       "overflow": false,
       "plotOptions": {
        "customPlotOptions": {},
        "displayType": "table",
        "pivotAggregation": null,
        "pivotColumns": null,
        "xColumns": null,
        "yColumns": null
       },
       "removedWidgets": [],
       "schema": [
        {
         "metadata": "{}",
         "name": "Item_Identifier",
         "type": "\"string\""
        },
        {
         "metadata": "{}",
         "name": "Item_Weight",
         "type": "\"double\""
        },
        {
         "metadata": "{}",
         "name": "Item_Fat_Content",
         "type": "\"string\""
        },
        {
         "metadata": "{}",
         "name": "Item_Visibility",
         "type": "\"double\""
        },
        {
         "metadata": "{}",
         "name": "Item_Type",
         "type": "\"string\""
        },
        {
         "metadata": "{}",
         "name": "Item_MRP",
         "type": "\"double\""
        },
        {
         "metadata": "{}",
         "name": "Outlet_Identifier",
         "type": "\"string\""
        },
        {
         "metadata": "{}",
         "name": "Outlet_Establishment_Year",
         "type": "\"integer\""
        },
        {
         "metadata": "{}",
         "name": "Outlet_Size",
         "type": "\"string\""
        },
        {
         "metadata": "{}",
         "name": "Outlet_Location_Type",
         "type": "\"string\""
        },
        {
         "metadata": "{}",
         "name": "Outlet_Type",
         "type": "\"string\""
        },
        {
         "metadata": "{}",
         "name": "Item_Outlet_Sales",
         "type": "\"double\""
        },
        {
         "metadata": "{}",
         "name": "curr-date",
         "type": "\"string\""
        },
        {
         "metadata": "{}",
         "name": "week-after",
         "type": "\"date\""
        },
        {
         "metadata": "{}",
         "name": "datediff",
         "type": "\"integer\""
        },
        {
         "metadata": "{}",
         "name": "veg_flag",
         "type": "\"string\""
        }
       ],
       "type": "table"
      }
     },
     "output_type": "display_data"
    }
   ],
   "source": [
    "df=df.withColumn('veg_flag',when(col('Item_Type')=='Meat','No-veg').otherwise('veg'))\n",
    "display(df.limit(20))"
   ]
  },
  {
   "cell_type": "code",
   "execution_count": 0,
   "metadata": {
    "application/vnd.databricks.v1+cell": {
     "cellMetadata": {
      "byteLimit": 2048000,
      "rowLimit": 10000
     },
     "inputWidgets": {},
     "nuid": "9905020d-20d1-46e4-b918-1f222b617cd3",
     "showTitle": false,
     "tableResultSettingsMap": {},
     "title": ""
    }
   },
   "outputs": [
    {
     "output_type": "display_data",
     "data": {
      "text/html": [
       "<style scoped>\n",
       "  .table-result-container {\n",
       "    max-height: 300px;\n",
       "    overflow: auto;\n",
       "  }\n",
       "  table, th, td {\n",
       "    border: 1px solid black;\n",
       "    border-collapse: collapse;\n",
       "  }\n",
       "  th, td {\n",
       "    padding: 5px;\n",
       "  }\n",
       "  th {\n",
       "    text-align: left;\n",
       "  }\n",
       "</style><div class='table-result-container'><table class='table-result'><thead style='background-color: white'><tr><th>Item_Identifier</th><th>Item_Weight</th><th>Item_Fat_Content</th><th>Item_Visibility</th><th>Item_Type</th><th>Item_MRP</th><th>Outlet_Identifier</th><th>Outlet_Establishment_Year</th><th>Outlet_Size</th><th>Outlet_Location_Type</th><th>Outlet_Type</th><th>Item_Outlet_Sales</th><th>curr-date</th><th>week-after</th><th>datediff</th><th>veg_flag</th><th>veg_exp_flag</th></tr></thead><tbody><tr><td>FDA15</td><td>9.3</td><td>Low Fat</td><td>0.016047301</td><td>Dairy</td><td>249.8092</td><td>OUT049</td><td>1999</td><td>Medium</td><td>Tier 1</td><td>Supermarket Type1</td><td>3735.138</td><td>05-00-2025</td><td>2025-02-12</td><td>7</td><td>veg</td><td>veg-expensive</td></tr><tr><td>DRC01</td><td>5.92</td><td>Regular</td><td>0.019278216</td><td>Soft Drinks</td><td>48.2692</td><td>OUT018</td><td>2009</td><td>Medium</td><td>Tier 3</td><td>Supermarket Type2</td><td>443.4228</td><td>05-00-2025</td><td>2025-02-12</td><td>7</td><td>veg</td><td>veg-not-expensive</td></tr><tr><td>FDN15</td><td>17.5</td><td>Low Fat</td><td>0.016760075</td><td>Meat</td><td>141.618</td><td>OUT049</td><td>1999</td><td>Medium</td><td>Tier 1</td><td>Supermarket Type1</td><td>2097.27</td><td>05-00-2025</td><td>2025-02-12</td><td>7</td><td>No-veg</td><td>non-veg</td></tr><tr><td>FDX07</td><td>19.2</td><td>Regular</td><td>0.0</td><td>Fruits and Vegetables</td><td>182.095</td><td>OUT010</td><td>1998</td><td>null</td><td>Tier 3</td><td>Grocery Store</td><td>732.38</td><td>05-00-2025</td><td>2025-02-12</td><td>7</td><td>veg</td><td>veg-expensive</td></tr><tr><td>NCD19</td><td>8.93</td><td>Low Fat</td><td>0.0</td><td>Household</td><td>53.8614</td><td>OUT013</td><td>1987</td><td>High</td><td>Tier 3</td><td>Supermarket Type1</td><td>994.7052</td><td>05-00-2025</td><td>2025-02-12</td><td>7</td><td>veg</td><td>veg-not-expensive</td></tr><tr><td>FDP36</td><td>10.395</td><td>Regular</td><td>0.0</td><td>Baking Goods</td><td>51.4008</td><td>OUT018</td><td>2009</td><td>Medium</td><td>Tier 3</td><td>Supermarket Type2</td><td>556.6088</td><td>05-00-2025</td><td>2025-02-12</td><td>7</td><td>veg</td><td>veg-not-expensive</td></tr><tr><td>FDO10</td><td>13.65</td><td>Regular</td><td>0.012741089</td><td>Snack Foods</td><td>57.6588</td><td>OUT013</td><td>1987</td><td>High</td><td>Tier 3</td><td>Supermarket Type1</td><td>343.5528</td><td>05-00-2025</td><td>2025-02-12</td><td>7</td><td>veg</td><td>veg-not-expensive</td></tr><tr><td>FDP10</td><td>null</td><td>Low Fat</td><td>0.127469857</td><td>Snack Foods</td><td>107.7622</td><td>OUT027</td><td>1985</td><td>Medium</td><td>Tier 3</td><td>Supermarket Type3</td><td>4022.7636</td><td>05-00-2025</td><td>2025-02-12</td><td>7</td><td>veg</td><td>veg-expensive</td></tr><tr><td>FDH17</td><td>16.2</td><td>Regular</td><td>0.016687114</td><td>Frozen Foods</td><td>96.9726</td><td>OUT045</td><td>2002</td><td>null</td><td>Tier 2</td><td>Supermarket Type1</td><td>1076.5986</td><td>05-00-2025</td><td>2025-02-12</td><td>7</td><td>veg</td><td>veg-not-expensive</td></tr><tr><td>FDU28</td><td>19.2</td><td>Regular</td><td>0.09444959</td><td>Frozen Foods</td><td>187.8214</td><td>OUT017</td><td>2007</td><td>null</td><td>Tier 2</td><td>Supermarket Type1</td><td>4710.535</td><td>05-00-2025</td><td>2025-02-12</td><td>7</td><td>veg</td><td>veg-expensive</td></tr><tr><td>FDY07</td><td>11.8</td><td>Low Fat</td><td>0.0</td><td>Fruits and Vegetables</td><td>45.5402</td><td>OUT049</td><td>1999</td><td>Medium</td><td>Tier 1</td><td>Supermarket Type1</td><td>1516.0266</td><td>05-00-2025</td><td>2025-02-12</td><td>7</td><td>veg</td><td>veg-not-expensive</td></tr><tr><td>FDA03</td><td>18.5</td><td>Regular</td><td>0.045463773</td><td>Dairy</td><td>144.1102</td><td>OUT046</td><td>1997</td><td>Small</td><td>Tier 1</td><td>Supermarket Type1</td><td>2187.153</td><td>05-00-2025</td><td>2025-02-12</td><td>7</td><td>veg</td><td>veg-expensive</td></tr><tr><td>FDX32</td><td>15.1</td><td>Regular</td><td>0.1000135</td><td>Fruits and Vegetables</td><td>145.4786</td><td>OUT049</td><td>1999</td><td>Medium</td><td>Tier 1</td><td>Supermarket Type1</td><td>1589.2646</td><td>05-00-2025</td><td>2025-02-12</td><td>7</td><td>veg</td><td>veg-expensive</td></tr><tr><td>FDS46</td><td>17.6</td><td>Regular</td><td>0.047257328</td><td>Snack Foods</td><td>119.6782</td><td>OUT046</td><td>1997</td><td>Small</td><td>Tier 1</td><td>Supermarket Type1</td><td>2145.2076</td><td>05-00-2025</td><td>2025-02-12</td><td>7</td><td>veg</td><td>veg-expensive</td></tr><tr><td>FDF32</td><td>16.35</td><td>Low Fat</td><td>0.0680243</td><td>Fruits and Vegetables</td><td>196.4426</td><td>OUT013</td><td>1987</td><td>High</td><td>Tier 3</td><td>Supermarket Type1</td><td>1977.426</td><td>05-00-2025</td><td>2025-02-12</td><td>7</td><td>veg</td><td>veg-expensive</td></tr><tr><td>FDP49</td><td>9.0</td><td>Regular</td><td>0.069088961</td><td>Breakfast</td><td>56.3614</td><td>OUT046</td><td>1997</td><td>Small</td><td>Tier 1</td><td>Supermarket Type1</td><td>1547.3192</td><td>05-00-2025</td><td>2025-02-12</td><td>7</td><td>veg</td><td>veg-not-expensive</td></tr><tr><td>NCB42</td><td>11.8</td><td>Low Fat</td><td>0.008596051</td><td>Health and Hygiene</td><td>115.3492</td><td>OUT018</td><td>2009</td><td>Medium</td><td>Tier 3</td><td>Supermarket Type2</td><td>1621.8888</td><td>05-00-2025</td><td>2025-02-12</td><td>7</td><td>veg</td><td>veg-expensive</td></tr><tr><td>FDP49</td><td>9.0</td><td>Regular</td><td>0.069196376</td><td>Breakfast</td><td>54.3614</td><td>OUT049</td><td>1999</td><td>Medium</td><td>Tier 1</td><td>Supermarket Type1</td><td>718.3982</td><td>05-00-2025</td><td>2025-02-12</td><td>7</td><td>veg</td><td>veg-not-expensive</td></tr><tr><td>DRI11</td><td>null</td><td>Low Fat</td><td>0.034237682</td><td>Hard Drinks</td><td>113.2834</td><td>OUT027</td><td>1985</td><td>Medium</td><td>Tier 3</td><td>Supermarket Type3</td><td>2303.668</td><td>05-00-2025</td><td>2025-02-12</td><td>7</td><td>veg</td><td>veg-expensive</td></tr><tr><td>FDU02</td><td>13.35</td><td>Low Fat</td><td>0.10249212</td><td>Dairy</td><td>230.5352</td><td>OUT035</td><td>2004</td><td>Small</td><td>Tier 2</td><td>Supermarket Type1</td><td>2748.4224</td><td>05-00-2025</td><td>2025-02-12</td><td>7</td><td>veg</td><td>veg-expensive</td></tr></tbody></table></div>"
      ]
     },
     "metadata": {
      "application/vnd.databricks.v1+output": {
       "addedWidgets": {},
       "aggData": [],
       "aggError": "",
       "aggOverflow": false,
       "aggSchema": [],
       "aggSeriesLimitReached": false,
       "aggType": "",
       "arguments": {},
       "columnCustomDisplayInfos": {},
       "data": [
        [
         "FDA15",
         9.3,
         "Low Fat",
         0.016047301,
         "Dairy",
         249.8092,
         "OUT049",
         1999,
         "Medium",
         "Tier 1",
         "Supermarket Type1",
         3735.138,
         "05-00-2025",
         "2025-02-12",
         7,
         "veg",
         "veg-expensive"
        ],
        [
         "DRC01",
         5.92,
         "Regular",
         0.019278216,
         "Soft Drinks",
         48.2692,
         "OUT018",
         2009,
         "Medium",
         "Tier 3",
         "Supermarket Type2",
         443.4228,
         "05-00-2025",
         "2025-02-12",
         7,
         "veg",
         "veg-not-expensive"
        ],
        [
         "FDN15",
         17.5,
         "Low Fat",
         0.016760075,
         "Meat",
         141.618,
         "OUT049",
         1999,
         "Medium",
         "Tier 1",
         "Supermarket Type1",
         2097.27,
         "05-00-2025",
         "2025-02-12",
         7,
         "No-veg",
         "non-veg"
        ],
        [
         "FDX07",
         19.2,
         "Regular",
         0.0,
         "Fruits and Vegetables",
         182.095,
         "OUT010",
         1998,
         null,
         "Tier 3",
         "Grocery Store",
         732.38,
         "05-00-2025",
         "2025-02-12",
         7,
         "veg",
         "veg-expensive"
        ],
        [
         "NCD19",
         8.93,
         "Low Fat",
         0.0,
         "Household",
         53.8614,
         "OUT013",
         1987,
         "High",
         "Tier 3",
         "Supermarket Type1",
         994.7052,
         "05-00-2025",
         "2025-02-12",
         7,
         "veg",
         "veg-not-expensive"
        ],
        [
         "FDP36",
         10.395,
         "Regular",
         0.0,
         "Baking Goods",
         51.4008,
         "OUT018",
         2009,
         "Medium",
         "Tier 3",
         "Supermarket Type2",
         556.6088,
         "05-00-2025",
         "2025-02-12",
         7,
         "veg",
         "veg-not-expensive"
        ],
        [
         "FDO10",
         13.65,
         "Regular",
         0.012741089,
         "Snack Foods",
         57.6588,
         "OUT013",
         1987,
         "High",
         "Tier 3",
         "Supermarket Type1",
         343.5528,
         "05-00-2025",
         "2025-02-12",
         7,
         "veg",
         "veg-not-expensive"
        ],
        [
         "FDP10",
         null,
         "Low Fat",
         0.127469857,
         "Snack Foods",
         107.7622,
         "OUT027",
         1985,
         "Medium",
         "Tier 3",
         "Supermarket Type3",
         4022.7636,
         "05-00-2025",
         "2025-02-12",
         7,
         "veg",
         "veg-expensive"
        ],
        [
         "FDH17",
         16.2,
         "Regular",
         0.016687114,
         "Frozen Foods",
         96.9726,
         "OUT045",
         2002,
         null,
         "Tier 2",
         "Supermarket Type1",
         1076.5986,
         "05-00-2025",
         "2025-02-12",
         7,
         "veg",
         "veg-not-expensive"
        ],
        [
         "FDU28",
         19.2,
         "Regular",
         0.09444959,
         "Frozen Foods",
         187.8214,
         "OUT017",
         2007,
         null,
         "Tier 2",
         "Supermarket Type1",
         4710.535,
         "05-00-2025",
         "2025-02-12",
         7,
         "veg",
         "veg-expensive"
        ],
        [
         "FDY07",
         11.8,
         "Low Fat",
         0.0,
         "Fruits and Vegetables",
         45.5402,
         "OUT049",
         1999,
         "Medium",
         "Tier 1",
         "Supermarket Type1",
         1516.0266,
         "05-00-2025",
         "2025-02-12",
         7,
         "veg",
         "veg-not-expensive"
        ],
        [
         "FDA03",
         18.5,
         "Regular",
         0.045463773,
         "Dairy",
         144.1102,
         "OUT046",
         1997,
         "Small",
         "Tier 1",
         "Supermarket Type1",
         2187.153,
         "05-00-2025",
         "2025-02-12",
         7,
         "veg",
         "veg-expensive"
        ],
        [
         "FDX32",
         15.1,
         "Regular",
         0.1000135,
         "Fruits and Vegetables",
         145.4786,
         "OUT049",
         1999,
         "Medium",
         "Tier 1",
         "Supermarket Type1",
         1589.2646,
         "05-00-2025",
         "2025-02-12",
         7,
         "veg",
         "veg-expensive"
        ],
        [
         "FDS46",
         17.6,
         "Regular",
         0.047257328,
         "Snack Foods",
         119.6782,
         "OUT046",
         1997,
         "Small",
         "Tier 1",
         "Supermarket Type1",
         2145.2076,
         "05-00-2025",
         "2025-02-12",
         7,
         "veg",
         "veg-expensive"
        ],
        [
         "FDF32",
         16.35,
         "Low Fat",
         0.0680243,
         "Fruits and Vegetables",
         196.4426,
         "OUT013",
         1987,
         "High",
         "Tier 3",
         "Supermarket Type1",
         1977.426,
         "05-00-2025",
         "2025-02-12",
         7,
         "veg",
         "veg-expensive"
        ],
        [
         "FDP49",
         9.0,
         "Regular",
         0.069088961,
         "Breakfast",
         56.3614,
         "OUT046",
         1997,
         "Small",
         "Tier 1",
         "Supermarket Type1",
         1547.3192,
         "05-00-2025",
         "2025-02-12",
         7,
         "veg",
         "veg-not-expensive"
        ],
        [
         "NCB42",
         11.8,
         "Low Fat",
         0.008596051,
         "Health and Hygiene",
         115.3492,
         "OUT018",
         2009,
         "Medium",
         "Tier 3",
         "Supermarket Type2",
         1621.8888,
         "05-00-2025",
         "2025-02-12",
         7,
         "veg",
         "veg-expensive"
        ],
        [
         "FDP49",
         9.0,
         "Regular",
         0.069196376,
         "Breakfast",
         54.3614,
         "OUT049",
         1999,
         "Medium",
         "Tier 1",
         "Supermarket Type1",
         718.3982,
         "05-00-2025",
         "2025-02-12",
         7,
         "veg",
         "veg-not-expensive"
        ],
        [
         "DRI11",
         null,
         "Low Fat",
         0.034237682,
         "Hard Drinks",
         113.2834,
         "OUT027",
         1985,
         "Medium",
         "Tier 3",
         "Supermarket Type3",
         2303.668,
         "05-00-2025",
         "2025-02-12",
         7,
         "veg",
         "veg-expensive"
        ],
        [
         "FDU02",
         13.35,
         "Low Fat",
         0.10249212,
         "Dairy",
         230.5352,
         "OUT035",
         2004,
         "Small",
         "Tier 2",
         "Supermarket Type1",
         2748.4224,
         "05-00-2025",
         "2025-02-12",
         7,
         "veg",
         "veg-expensive"
        ]
       ],
       "datasetInfos": [],
       "dbfsResultPath": null,
       "isJsonSchema": true,
       "metadata": {},
       "overflow": false,
       "plotOptions": {
        "customPlotOptions": {},
        "displayType": "table",
        "pivotAggregation": null,
        "pivotColumns": null,
        "xColumns": null,
        "yColumns": null
       },
       "removedWidgets": [],
       "schema": [
        {
         "metadata": "{}",
         "name": "Item_Identifier",
         "type": "\"string\""
        },
        {
         "metadata": "{}",
         "name": "Item_Weight",
         "type": "\"double\""
        },
        {
         "metadata": "{}",
         "name": "Item_Fat_Content",
         "type": "\"string\""
        },
        {
         "metadata": "{}",
         "name": "Item_Visibility",
         "type": "\"double\""
        },
        {
         "metadata": "{}",
         "name": "Item_Type",
         "type": "\"string\""
        },
        {
         "metadata": "{}",
         "name": "Item_MRP",
         "type": "\"double\""
        },
        {
         "metadata": "{}",
         "name": "Outlet_Identifier",
         "type": "\"string\""
        },
        {
         "metadata": "{}",
         "name": "Outlet_Establishment_Year",
         "type": "\"integer\""
        },
        {
         "metadata": "{}",
         "name": "Outlet_Size",
         "type": "\"string\""
        },
        {
         "metadata": "{}",
         "name": "Outlet_Location_Type",
         "type": "\"string\""
        },
        {
         "metadata": "{}",
         "name": "Outlet_Type",
         "type": "\"string\""
        },
        {
         "metadata": "{}",
         "name": "Item_Outlet_Sales",
         "type": "\"double\""
        },
        {
         "metadata": "{}",
         "name": "curr-date",
         "type": "\"string\""
        },
        {
         "metadata": "{}",
         "name": "week-after",
         "type": "\"date\""
        },
        {
         "metadata": "{}",
         "name": "datediff",
         "type": "\"integer\""
        },
        {
         "metadata": "{}",
         "name": "veg_flag",
         "type": "\"string\""
        },
        {
         "metadata": "{}",
         "name": "veg_exp_flag",
         "type": "\"string\""
        }
       ],
       "type": "table"
      }
     },
     "output_type": "display_data"
    }
   ],
   "source": [
    "df.withColumn('veg_exp_flag',when(((col('veg_flag')=='veg') & (col('Item_MRP')<100)),'veg-not-expensive')\\\n",
    "                              .when((col('veg_flag')=='veg') & (col('Item_MRP')>100),'veg-expensive')\\\n",
    "                              .otherwise('non-veg')).limit(20).display()"
   ]
  },
  {
   "cell_type": "code",
   "execution_count": 0,
   "metadata": {
    "application/vnd.databricks.v1+cell": {
     "cellMetadata": {
      "byteLimit": 2048000,
      "rowLimit": 10000
     },
     "inputWidgets": {},
     "nuid": "d24743fd-942b-4c6e-84ad-6386e804e347",
     "showTitle": false,
     "tableResultSettingsMap": {},
     "title": ""
    }
   },
   "outputs": [],
   "source": []
  }
 ],
 "metadata": {
  "application/vnd.databricks.v1+notebook": {
   "computePreferences": null,
   "dashboards": [],
   "environmentMetadata": null,
   "language": "python",
   "notebookMetadata": {
    "pythonIndentUnit": 2
   },
   "notebookName": "bigdata",
   "widgets": {}
  }
 },
 "nbformat": 4,
 "nbformat_minor": 0
}
